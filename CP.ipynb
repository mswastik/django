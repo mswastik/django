{
  "nbformat": 4,
  "nbformat_minor": 0,
  "metadata": {
    "kernelspec": {
      "display_name": "Python 3",
      "language": "python",
      "name": "python3"
    },
    "language_info": {
      "codemirror_mode": {
        "name": "ipython",
        "version": 3
      },
      "file_extension": ".py",
      "mimetype": "text/x-python",
      "name": "python",
      "nbconvert_exporter": "python",
      "pygments_lexer": "ipython3",
      "version": "3.8.2"
    },
    "colab": {
      "name": "CP.ipynb",
      "provenance": []
    }
  },
  "cells": [
    {
      "cell_type": "code",
      "metadata": {
        "id": "ZAegf4MTD07x",
        "colab_type": "code",
        "colab": {
          "base_uri": "https://localhost:8080/",
          "height": 181
        },
        "outputId": "f9c499dd-1bbd-4133-fe48-eb9b6770af5c"
      },
      "source": [
        "!pip install ortools\n",
        "#!pip install dtale"
      ],
      "execution_count": 1,
      "outputs": [
        {
          "output_type": "stream",
          "text": [
            "Collecting ortools\n",
            "\u001b[?25l  Downloading https://files.pythonhosted.org/packages/6c/e9/57ee68e41e02b00836dbe61a4f9679c953623168dcca3a84e2cd16a3e9b2/ortools-7.8.7959-cp36-cp36m-manylinux1_x86_64.whl (32.7MB)\n",
            "\u001b[K     |████████████████████████████████| 32.7MB 121kB/s \n",
            "\u001b[?25hRequirement already satisfied: six>=1.10 in /usr/local/lib/python3.6/dist-packages (from ortools) (1.15.0)\n",
            "Requirement already satisfied: protobuf>=3.12.2 in /usr/local/lib/python3.6/dist-packages (from ortools) (3.12.4)\n",
            "Requirement already satisfied: setuptools in /usr/local/lib/python3.6/dist-packages (from protobuf>=3.12.2->ortools) (50.3.0)\n",
            "Installing collected packages: ortools\n",
            "Successfully installed ortools-7.8.7959\n"
          ],
          "name": "stdout"
        }
      ]
    },
    {
      "cell_type": "code",
      "metadata": {
        "id": "sG_LW15bCHKH",
        "colab_type": "code",
        "colab": {
          "base_uri": "https://localhost:8080/",
          "height": 179
        },
        "outputId": "8896477f-2bc9-4e8b-a8bf-3ce685c2cda8"
      },
      "source": [
        "import pandas as pd\n",
        "import numpy as np\n",
        "import collections\n",
        "from ortools.sat.python import cp_model\n",
        "# Clone the entire repo.\n",
        "!git clone -l -s https://github.com/mswastik/optimization.git cloned-repo\n",
        "%cd cloned-repo"
      ],
      "execution_count": 2,
      "outputs": [
        {
          "output_type": "stream",
          "text": [
            "Cloning into 'cloned-repo'...\n",
            "warning: --local is ignored\n",
            "remote: Enumerating objects: 167, done.\u001b[K\n",
            "remote: Counting objects: 100% (167/167), done.\u001b[K\n",
            "remote: Compressing objects: 100% (163/163), done.\u001b[K\n",
            "remote: Total 167 (delta 69), reused 0 (delta 0), pack-reused 0\u001b[K\n",
            "Receiving objects: 100% (167/167), 2.15 MiB | 2.40 MiB/s, done.\n",
            "Resolving deltas: 100% (69/69), done.\n",
            "/content/cloned-repo\n"
          ],
          "name": "stdout"
        }
      ]
    },
    {
      "cell_type": "code",
      "metadata": {
        "id": "nUhA6-OCCHKV",
        "colab_type": "code",
        "colab": {}
      },
      "source": [
        "#Importing Data\n",
        "df=pd.read_excel('orders1.xlsx')\n",
        "ma=pd.read_excel('item master.xlsx')\n",
        "bu=pd.read_excel('item master.xlsx',sheet_name='bulk')\n",
        "pa=pd.read_excel('item master.xlsx',sheet_name='packing')\n",
        "\n",
        "# Formating Data\n",
        "df = df[df['Line']=='Tmmthpkhti Limi']\n",
        "df = df[df['Plant']==1024]\n",
        "del df['Line']\n",
        "df['due'] = df['Dispatch Date'] - df['SO Date'].min()\n",
        "df['due'] = df['due'].dt.days\n",
        "df['sodate'] = df['SO Date'] - df['SO Date'].min()\n",
        "df['sodate'] = df['sodate'].dt.days\n",
        "df.reset_index(inplace=True,drop=True)\n",
        "df['Key']=df['SO'].astype('str')+df['FG Code']\n",
        "del df['Dispatch Date']\n",
        "del df['SO Date']\n",
        "del df['Description']\n",
        "del df['Customer']\n",
        "df['Order Qty'] = df[df['Order Qty']!=0]['Order Qty']\n",
        "df['Order Qty'] = df['Order Qty']*1000\n",
        "df=df[df['Key']!='17023287gd39000800iX']\n",
        "\n",
        "\n",
        "# Creating Parameter Data\n",
        "jobs =df['Key']\n",
        "op =[1,2,3,4]  # Ignore as of now\n",
        "mc = [1,2,3,4,5,6]\n",
        "#horizon = max(df[\"due\"])+900\n",
        "due = df.set_index('Key')\n",
        "dur=df[['Key','FG Code','Order Qty']]\n",
        "dur=dur.merge(pa[[\"FG Code\",\"Line\",\"Output\"]], on=\"FG Code\")\n",
        "dur['Output']=dur['Output']*100\n",
        "dur['duration']=dur['Order Qty']/dur['Output']\n",
        "dur['duration'] = dur['duration'].astype('float64').round(decimals = 2)\n",
        "dur.set_index(['Key','Line'],inplace=True)\n",
        "del dur['FG Code']\n",
        "dur['Output'].replace(0,1,inplace=True)\n",
        "df['Order Qty']=df['Order Qty'].fillna(0).astype('int')\n",
        "dur['duration']=dur['duration'].fillna(0).astype('int')\n",
        "dur['Output']=dur['Output'].fillna(0).astype('int')\n",
        "horizon = sum(dur['duration'])\n",
        "\n",
        "#Setup\n",
        "setup = pd.DataFrame(columns=('Key1','Key2','setup'))\n",
        "for i in df['Key']:\n",
        "  for k in df['Key']:\n",
        "    if df[df['Key']==i][\"FG Code\"].values[0]==df[df['Key']==k][\"FG Code\"].values[0]:\n",
        "      f = {'Key1':[i],\"Key2\":[k],\"setup\":[0]}\n",
        "    else:\n",
        "      f = {'Key1':[i],\"Key2\":[k],\"setup\":[4]}\n",
        "    f = pd.DataFrame(data=f)\n",
        "    setup = pd.concat([setup,f])\n",
        "setup.set_index(['Key1','Key2'],inplace=True)"
      ],
      "execution_count": 19,
      "outputs": []
    },
    {
      "cell_type": "code",
      "metadata": {
        "id": "2kluFz3V77yw",
        "colab_type": "code",
        "colab": {
          "base_uri": "https://localhost:8080/",
          "height": 35
        },
        "outputId": "495e1fe7-bd7e-47e5-bbfa-385ca3c9d483"
      },
      "source": [
        "model = cp_model.CpModel()\n",
        "task_type = collections.namedtuple('task_type', 'start end dur run1')\n",
        "mtj = collections.defaultdict(list)\n",
        "all_tasks = {}\n",
        "\n",
        "for j in jobs:\n",
        "  for m in mc:\n",
        "      suffix = '_%s_%i' % (j,m)\n",
        "      start = model.NewIntVar(0, horizon, \"start\"+suffix)\n",
        "      end = model.NewIntVar(0, horizon, \"end\"+suffix)\n",
        "      run1 = model.NewIntVar(0, dur['duration'].loc[(j,m)].item(), \"run\"+suffix)\n",
        "      duration = model.NewIntervalVar(start, run1, end, \"duration\"+suffix)\n",
        "      all_tasks[j, m] = task_type(start=start, end=end, dur= duration, run1=run1)\n",
        "      mtj[m].append(duration)\n",
        " \n",
        "for m in mc:\n",
        "  model.AddNoOverlap(mtj[m])\n",
        "'''  \n",
        "for i in jobs:\n",
        "  for m in mc:\n",
        "    model.Add(all_tasks[i, m].run1==all_tasks[i, m].end-all_tasks[i, m].start)\n",
        "'''\n",
        "\n",
        "#Sequence\n",
        "\n",
        "b={}\n",
        "for j in jobs:\n",
        "  for m in mc:\n",
        "    for i in jobs:\n",
        "      b[j,m,i] = model.NewBoolVar('selection')\n",
        "      #model.Add(all_tasks[j, m,i].run1>0).OnlyEnforceIf(b[j,m,i])\n",
        "      #model.Add(all_tasks[j, m,i].run1==0).OnlyEnforceIf(b[j,m,i].Not())\n",
        "      #model.Add(all_tasks[i, m].end==0).OnlyEnforceIf(b[i,m].Not())\n",
        "\n",
        "#[model.Add(sum(b[j,m,i] for i in jobs) == 1) for m in mc for j in jobs]\n",
        "\n",
        "com = {}\n",
        "for j in jobs:\n",
        "  tt= 0\n",
        "  for m in mc:\n",
        "    comp = all_tasks[j,m].run1*dur[\"Output\"].loc[(j,m)]\n",
        "    tt = tt + comp\n",
        "  com[j] = tt\n",
        "  model.Add(com[j]*10 >= df[df[\"Key\"]==j]['Order Qty'].values[0])\n",
        "\n",
        "'''\n",
        "a={}\n",
        "for i in jobs:\n",
        "  for m in mc:\n",
        "    if all_tasks[i,m].run1>0:\n",
        "      for k in jobs:\n",
        "        if k != i:\n",
        "          a[i,k,m] = model.NewBoolVar('previous')\n",
        "'''      \n",
        "for j in jobs:\n",
        "  for m in mc:\n",
        "    for i in jobs:\n",
        "      if j != i:\n",
        "        #model.AddBoolOr([a[i,k,m],a[k,i,m]])\n",
        "        model.Add(all_tasks[i, m].start >= all_tasks[j, m].end + setup.loc[(j,i)].values[0] - horizon*(1-b[j,m,i]))\n",
        "        #model.Add(all_tasks[j, m,i].start - all_tasks[j, m,i].end >= setup.loc[(i,k)].values[0]).OnlyEnforceIf(b[j,m,i].Not())\n",
        "\n",
        "'''\n",
        "com1 = {}\n",
        "for j in df['Key']:\n",
        "  tt= 0\n",
        "  for m in mc:\n",
        "    comp1 = (all_tasks[j,m].end - all_tasks[j,m].start)*dur[\"Output\"].loc[(j,m)]\n",
        "    tt = tt + comp1\n",
        "  com1[j] = tt\n",
        "  model.Add(com1[j]*10 <= df[df[\"Key\"]==j]['Order Qty'].values[0]+500)\n",
        "'''\n",
        "\n",
        "ck = model.NewIntVar(-horizon, horizon, 'dummy')\n",
        "model.AddMaxEquality(ck,[all_tasks[j,m].end for j in jobs for m in mc])\n",
        "\n",
        "model.Minimize(ck)\n",
        "solver = cp_model.CpSolver()\n",
        "solver.Solve(model)\n",
        "print(solver.StatusName(),solver.ObjectiveValue())"
      ],
      "execution_count": 66,
      "outputs": [
        {
          "output_type": "stream",
          "text": [
            "FEASIBLE 107.0\n"
          ],
          "name": "stdout"
        }
      ]
    },
    {
      "cell_type": "code",
      "metadata": {
        "id": "niO4NG7l8_7d",
        "colab_type": "code",
        "colab": {
          "base_uri": "https://localhost:8080/",
          "height": 755
        },
        "outputId": "45cf91b1-6b13-4a0c-eca3-2d0f21fbf3fe"
      },
      "source": [
        "ff=pd.DataFrame()\n",
        "for m in mc:\n",
        "  for j in jobs:\n",
        "    if solver.Value(all_tasks[j,m].run1)>0:\n",
        "      kk={'Key':j,'line':m,'start':solver.Value(all_tasks[j,m].start),\n",
        "          'run':solver.Value(all_tasks[j,m].run1),'end':solver.Value(all_tasks[j,m].end)}\n",
        "      ff=ff.append(kk,ignore_index=True)\n",
        "\n",
        "#Exploring Data\n",
        "!pip install dtale\n",
        "from dtale import show\n",
        "import dtale.app as dtale_app\n",
        "dtale_app.USE_COLAB = True\n",
        "show(ff,ignore_duplicate=True)"
      ],
      "execution_count": 65,
      "outputs": [
        {
          "output_type": "stream",
          "text": [
            "Requirement already satisfied: dtale in /usr/local/lib/python3.6/dist-packages (1.15.2)\n",
            "Requirement already satisfied: itsdangerous in /usr/local/lib/python3.6/dist-packages (from dtale) (1.1.0)\n",
            "Requirement already satisfied: xarray in /usr/local/lib/python3.6/dist-packages (from dtale) (0.15.1)\n",
            "Requirement already satisfied: dash>=1.5.0 in /usr/local/lib/python3.6/dist-packages (from dtale) (1.16.1)\n",
            "Requirement already satisfied: Flask-Compress in /usr/local/lib/python3.6/dist-packages (from dtale) (1.5.0)\n",
            "Requirement already satisfied: Flask>=1.0 in /usr/local/lib/python3.6/dist-packages (from dtale) (1.1.2)\n",
            "Requirement already satisfied: dash-bootstrap-components; python_version > \"3.0\" in /usr/local/lib/python3.6/dist-packages (from dtale) (0.10.6)\n",
            "Requirement already satisfied: requests in /usr/local/lib/python3.6/dist-packages (from dtale) (2.23.0)\n",
            "Requirement already satisfied: flask-ngrok; python_version > \"3.0\" in /usr/local/lib/python3.6/dist-packages (from dtale) (0.0.25)\n",
            "Requirement already satisfied: statsmodels in /usr/local/lib/python3.6/dist-packages (from dtale) (0.10.2)\n",
            "Requirement already satisfied: dash-colorscales in /usr/local/lib/python3.6/dist-packages (from dtale) (0.0.4)\n",
            "Requirement already satisfied: future>=0.14.0 in /usr/local/lib/python3.6/dist-packages (from dtale) (0.16.0)\n",
            "Requirement already satisfied: six in /usr/local/lib/python3.6/dist-packages (from dtale) (1.15.0)\n",
            "Requirement already satisfied: scipy in /usr/local/lib/python3.6/dist-packages (from dtale) (1.4.1)\n",
            "Requirement already satisfied: squarify in /usr/local/lib/python3.6/dist-packages (from dtale) (0.4.3)\n",
            "Requirement already satisfied: lz4; python_version > \"3.0\" in /usr/local/lib/python3.6/dist-packages (from dtale) (3.1.0)\n",
            "Requirement already satisfied: pandas in /usr/local/lib/python3.6/dist-packages (from dtale) (1.0.5)\n",
            "Requirement already satisfied: scikit-learn>='0.21.0 in /usr/local/lib/python3.6/dist-packages (from dtale) (0.22.2.post1)\n",
            "Requirement already satisfied: dash-daq in /usr/local/lib/python3.6/dist-packages (from dtale) (0.5.0)\n",
            "Requirement already satisfied: setuptools>=41.2 in /usr/local/lib/python3.6/dist-packages (from xarray->dtale) (50.3.0)\n",
            "Requirement already satisfied: numpy>=1.15 in /usr/local/lib/python3.6/dist-packages (from xarray->dtale) (1.18.5)\n",
            "Requirement already satisfied: dash-core-components==1.12.1 in /usr/local/lib/python3.6/dist-packages (from dash>=1.5.0->dtale) (1.12.1)\n",
            "Requirement already satisfied: dash-table==4.10.1 in /usr/local/lib/python3.6/dist-packages (from dash>=1.5.0->dtale) (4.10.1)\n",
            "Requirement already satisfied: dash-html-components==1.1.1 in /usr/local/lib/python3.6/dist-packages (from dash>=1.5.0->dtale) (1.1.1)\n",
            "Requirement already satisfied: dash-renderer==1.8.1 in /usr/local/lib/python3.6/dist-packages (from dash>=1.5.0->dtale) (1.8.1)\n",
            "Requirement already satisfied: plotly in /usr/local/lib/python3.6/dist-packages (from dash>=1.5.0->dtale) (4.4.1)\n",
            "Requirement already satisfied: brotli in /usr/local/lib/python3.6/dist-packages (from Flask-Compress->dtale) (1.0.9)\n",
            "Requirement already satisfied: click>=5.1 in /usr/local/lib/python3.6/dist-packages (from Flask>=1.0->dtale) (7.1.2)\n",
            "Requirement already satisfied: Werkzeug>=0.15 in /usr/local/lib/python3.6/dist-packages (from Flask>=1.0->dtale) (1.0.1)\n",
            "Requirement already satisfied: Jinja2>=2.10.1 in /usr/local/lib/python3.6/dist-packages (from Flask>=1.0->dtale) (2.11.2)\n",
            "Requirement already satisfied: urllib3!=1.25.0,!=1.25.1,<1.26,>=1.21.1 in /usr/local/lib/python3.6/dist-packages (from requests->dtale) (1.24.3)\n",
            "Requirement already satisfied: idna<3,>=2.5 in /usr/local/lib/python3.6/dist-packages (from requests->dtale) (2.10)\n",
            "Requirement already satisfied: certifi>=2017.4.17 in /usr/local/lib/python3.6/dist-packages (from requests->dtale) (2020.6.20)\n",
            "Requirement already satisfied: chardet<4,>=3.0.2 in /usr/local/lib/python3.6/dist-packages (from requests->dtale) (3.0.4)\n",
            "Requirement already satisfied: patsy>=0.4.0 in /usr/local/lib/python3.6/dist-packages (from statsmodels->dtale) (0.5.1)\n",
            "Requirement already satisfied: pytz>=2017.2 in /usr/local/lib/python3.6/dist-packages (from pandas->dtale) (2018.9)\n",
            "Requirement already satisfied: python-dateutil>=2.6.1 in /usr/local/lib/python3.6/dist-packages (from pandas->dtale) (2.8.1)\n",
            "Requirement already satisfied: joblib>=0.11 in /usr/local/lib/python3.6/dist-packages (from scikit-learn>='0.21.0->dtale) (0.16.0)\n",
            "Requirement already satisfied: retrying>=1.3.3 in /usr/local/lib/python3.6/dist-packages (from plotly->dash>=1.5.0->dtale) (1.3.3)\n",
            "Requirement already satisfied: MarkupSafe>=0.23 in /usr/local/lib/python3.6/dist-packages (from Jinja2>=2.10.1->Flask>=1.0->dtale) (1.1.1)\n"
          ],
          "name": "stdout"
        },
        {
          "output_type": "execute_result",
          "data": {
            "text/plain": [
              "https://olpgror6dv-496ff2e9c6d22116-40000-colab.googleusercontent.com/dtale/main/4"
            ]
          },
          "metadata": {
            "tags": []
          },
          "execution_count": 65
        }
      ]
    },
    {
      "cell_type": "markdown",
      "metadata": {
        "id": "EcrQOnfJgYxd",
        "colab_type": "text"
      },
      "source": [
        "**Indices**  \n",
        "j - job  \n",
        "m - machine  \n",
        "\n",
        "**Decision Variable**  \n",
        "$s_{j,m}$ - start time of job j at machine m  \n",
        "$e_{j,m}$ - end time of job j at machine m  \n",
        "$d_{j,m}$ - duration of job j at machine m  \n",
        "\n",
        "**Parameters**  \n",
        "H - Horizon  \n",
        "$d_j$ - delivery date of job j  \n",
        "$q_j$ - order qty of job j  \n",
        "$o_{j,m}$ - output per hour of job j at machine m  \n",
        "\n",
        "**Objective**  \n",
        "$ \\sum_{j} d_j - max(e_{j,m})  \\qquad \\forall m \\in mc$  \n",
        "\n",
        "**Constraints**  \n",
        "$ \\sum_m e_{j,m} < s_{i,m} or s_{j,m} > e_{i,m} \\qquad \\forall j,i \\in jobs$  \n",
        "$ \\sum_j o_{j,m} \\times d_{j,m} >= q_j \\qquad \\forall m \\in ma $\n"
      ]
    }
  ]
}
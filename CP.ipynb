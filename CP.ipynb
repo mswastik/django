{
  "nbformat": 4,
  "nbformat_minor": 0,
  "metadata": {
    "kernelspec": {
      "display_name": "Python 3",
      "language": "python",
      "name": "python3"
    },
    "language_info": {
      "codemirror_mode": {
        "name": "ipython",
        "version": 3
      },
      "file_extension": ".py",
      "mimetype": "text/x-python",
      "name": "python",
      "nbconvert_exporter": "python",
      "pygments_lexer": "ipython3",
      "version": "3.8.2"
    },
    "colab": {
      "name": "CP.ipynb",
      "provenance": []
    }
  },
  "cells": [
    {
      "cell_type": "code",
      "metadata": {
        "id": "ZAegf4MTD07x",
        "colab_type": "code",
        "colab": {}
      },
      "source": [
        "!pip install ortools\n",
        "#!pip install dtale"
      ],
      "execution_count": null,
      "outputs": []
    },
    {
      "cell_type": "code",
      "metadata": {
        "id": "sG_LW15bCHKH",
        "colab_type": "code",
        "colab": {}
      },
      "source": [
        "import pandas as pd\n",
        "import numpy as np\n",
        "#from ortools.sat.python import cp_model\n",
        "#from dtale import show\n",
        "#import dtale.app as dtale_app\n",
        "#dtale_app.USE_COLAB = True"
      ],
      "execution_count": null,
      "outputs": []
    },
    {
      "cell_type": "code",
      "metadata": {
        "id": "lKtWkvxcHkmA",
        "colab_type": "code",
        "colab": {
          "base_uri": "https://localhost:8080/",
          "height": 191
        },
        "outputId": "d1f94390-b7ba-488b-c874-71eff76de40b"
      },
      "source": [
        "# Clone the entire repo.\n",
        "!git clone -l -s https://github.com/mswastik/optimization.git cloned-repo\n",
        "%cd cloned-repo\n",
        "!ls"
      ],
      "execution_count": null,
      "outputs": [
        {
          "output_type": "stream",
          "text": [
            "Cloning into 'cloned-repo'...\n",
            "warning: --local is ignored\n",
            "remote: Enumerating objects: 44, done.\u001b[K\n",
            "remote: Counting objects:   2% (1/44)\u001b[K\rremote: Counting objects:   4% (2/44)\u001b[K\rremote: Counting objects:   6% (3/44)\u001b[K\rremote: Counting objects:   9% (4/44)\u001b[K\rremote: Counting objects:  11% (5/44)\u001b[K\rremote: Counting objects:  13% (6/44)\u001b[K\rremote: Counting objects:  15% (7/44)\u001b[K\rremote: Counting objects:  18% (8/44)\u001b[K\rremote: Counting objects:  20% (9/44)\u001b[K\rremote: Counting objects:  22% (10/44)\u001b[K\rremote: Counting objects:  25% (11/44)\u001b[K\rremote: Counting objects:  27% (12/44)\u001b[K\rremote: Counting objects:  29% (13/44)\u001b[K\rremote: Counting objects:  31% (14/44)\u001b[K\rremote: Counting objects:  34% (15/44)\u001b[K\rremote: Counting objects:  36% (16/44)\u001b[K\rremote: Counting objects:  38% (17/44)\u001b[K\rremote: Counting objects:  40% (18/44)\u001b[K\rremote: Counting objects:  43% (19/44)\u001b[K\rremote: Counting objects:  45% (20/44)\u001b[K\rremote: Counting objects:  47% (21/44)\u001b[K\rremote: Counting objects:  50% (22/44)\u001b[K\rremote: Counting objects:  52% (23/44)\u001b[K\rremote: Counting objects:  54% (24/44)\u001b[K\rremote: Counting objects:  56% (25/44)\u001b[K\rremote: Counting objects:  59% (26/44)\u001b[K\rremote: Counting objects:  61% (27/44)\u001b[K\rremote: Counting objects:  63% (28/44)\u001b[K\rremote: Counting objects:  65% (29/44)\u001b[K\rremote: Counting objects:  68% (30/44)\u001b[K\rremote: Counting objects:  70% (31/44)\u001b[K\rremote: Counting objects:  72% (32/44)\u001b[K\rremote: Counting objects:  75% (33/44)\u001b[K\rremote: Counting objects:  77% (34/44)\u001b[K\rremote: Counting objects:  79% (35/44)\u001b[K\rremote: Counting objects:  81% (36/44)\u001b[K\rremote: Counting objects:  84% (37/44)\u001b[K\rremote: Counting objects:  86% (38/44)\u001b[K\rremote: Counting objects:  88% (39/44)\u001b[K\rremote: Counting objects:  90% (40/44)\u001b[K\rremote: Counting objects:  93% (41/44)\u001b[K\rremote: Counting objects:  95% (42/44)\u001b[K\rremote: Counting objects:  97% (43/44)\u001b[K\rremote: Counting objects: 100% (44/44)\u001b[K\rremote: Counting objects: 100% (44/44), done.\u001b[K\n",
            "remote: Compressing objects:   2% (1/40)\u001b[K\rremote: Compressing objects:   5% (2/40)\u001b[K\rremote: Compressing objects:   7% (3/40)\u001b[K\rremote: Compressing objects:  10% (4/40)\u001b[K\rremote: Compressing objects:  12% (5/40)\u001b[K\rremote: Compressing objects:  15% (6/40)\u001b[K\rremote: Compressing objects:  17% (7/40)\u001b[K\rremote: Compressing objects:  20% (8/40)\u001b[K\rremote: Compressing objects:  22% (9/40)\u001b[K\rremote: Compressing objects:  25% (10/40)\u001b[K\rremote: Compressing objects:  27% (11/40)\u001b[K\rremote: Compressing objects:  30% (12/40)\u001b[K\rremote: Compressing objects:  32% (13/40)\u001b[K\rremote: Compressing objects:  35% (14/40)\u001b[K\rremote: Compressing objects:  37% (15/40)\u001b[K\rremote: Compressing objects:  40% (16/40)\u001b[K\rremote: Compressing objects:  42% (17/40)\u001b[K\rremote: Compressing objects:  45% (18/40)\u001b[K\rremote: Compressing objects:  47% (19/40)\u001b[K\rremote: Compressing objects:  50% (20/40)\u001b[K\rremote: Compressing objects:  52% (21/40)\u001b[K\rremote: Compressing objects:  55% (22/40)\u001b[K\rremote: Compressing objects:  57% (23/40)\u001b[K\rremote: Compressing objects:  60% (24/40)\u001b[K\rremote: Compressing objects:  62% (25/40)\u001b[K\rremote: Compressing objects:  65% (26/40)\u001b[K\rremote: Compressing objects:  67% (27/40)\u001b[K\rremote: Compressing objects:  70% (28/40)\u001b[K\rremote: Compressing objects:  72% (29/40)\u001b[K\rremote: Compressing objects:  75% (30/40)\u001b[K\rremote: Compressing objects:  77% (31/40)\u001b[K\rremote: Compressing objects:  80% (32/40)\u001b[K\rremote: Compressing objects:  82% (33/40)\u001b[K\rremote: Compressing objects:  85% (34/40)\u001b[K\rremote: Compressing objects:  87% (35/40)\u001b[K\rremote: Compressing objects:  90% (36/40)\u001b[K\rremote: Compressing objects:  92% (37/40)\u001b[K\rremote: Compressing objects:  95% (38/40)\u001b[K\rremote: Compressing objects:  97% (39/40)\u001b[K\rremote: Compressing objects: 100% (40/40)\u001b[K\rremote: Compressing objects: 100% (40/40), done.\u001b[K\n",
            "Unpacking objects:   2% (1/44)   \rUnpacking objects:   4% (2/44)   \rUnpacking objects:   6% (3/44)   \rUnpacking objects:   9% (4/44)   \rUnpacking objects:  11% (5/44)   \rUnpacking objects:  13% (6/44)   \rUnpacking objects:  15% (7/44)   \rUnpacking objects:  18% (8/44)   \rUnpacking objects:  20% (9/44)   \rUnpacking objects:  22% (10/44)   \rUnpacking objects:  25% (11/44)   \rUnpacking objects:  27% (12/44)   \rUnpacking objects:  29% (13/44)   \rUnpacking objects:  31% (14/44)   \rUnpacking objects:  34% (15/44)   \rUnpacking objects:  36% (16/44)   \rUnpacking objects:  38% (17/44)   \rUnpacking objects:  40% (18/44)   \rUnpacking objects:  43% (19/44)   \rUnpacking objects:  45% (20/44)   \rUnpacking objects:  47% (21/44)   \rUnpacking objects:  50% (22/44)   \rUnpacking objects:  52% (23/44)   \rUnpacking objects:  54% (24/44)   \rUnpacking objects:  56% (25/44)   \rUnpacking objects:  59% (26/44)   \rUnpacking objects:  61% (27/44)   \rUnpacking objects:  63% (28/44)   \rUnpacking objects:  65% (29/44)   \rUnpacking objects:  68% (30/44)   \rUnpacking objects:  70% (31/44)   \rUnpacking objects:  72% (32/44)   \rUnpacking objects:  75% (33/44)   \rUnpacking objects:  77% (34/44)   \rremote: Total 44 (delta 8), reused 0 (delta 0), pack-reused 0\u001b[K\n",
            "Unpacking objects:  79% (35/44)   \rUnpacking objects:  81% (36/44)   \rUnpacking objects:  84% (37/44)   \rUnpacking objects:  86% (38/44)   \rUnpacking objects:  88% (39/44)   \rUnpacking objects:  90% (40/44)   \rUnpacking objects:  93% (41/44)   \rUnpacking objects:  95% (42/44)   \rUnpacking objects:  97% (43/44)   \rUnpacking objects: 100% (44/44)   \rUnpacking objects: 100% (44/44), done.\n",
            "/content/cloned-repo\n",
            " CP.ipynb  'item master.xlsx'   orders.xlsx   README.md\n"
          ],
          "name": "stdout"
        }
      ]
    },
    {
      "cell_type": "code",
      "metadata": {
        "id": "6kU6ehn9IbPk",
        "colab_type": "code",
        "colab": {}
      },
      "source": [
        "df=pd.read_excel('orders.xlsx')"
      ],
      "execution_count": null,
      "outputs": []
    },
    {
      "cell_type": "code",
      "metadata": {
        "id": "nUhA6-OCCHKV",
        "colab_type": "code",
        "colab": {}
      },
      "source": [
        "df = df[df['Line']=='Tmmthpkhti Limi']\n",
        "df = df[df['Plant']==1024]\n",
        "del df['Line']\n",
        "df['due'] = df['Dispatch Date'] - df['SO Date'].min()\n",
        "df['due'] = df['due'].dt.days\n",
        "df['sodate'] = df['SO Date'] - df['SO Date'].min()\n",
        "df['sodate'] = df['sodate'].dt.days\n",
        "df.reset_index(inplace=True,drop=True)\n",
        "df['Key']=df['SO'].astype('str')+df['FG Code']"
      ],
      "execution_count": null,
      "outputs": []
    },
    {
      "cell_type": "code",
      "metadata": {
        "id": "2cwIiuCSCHKk",
        "colab_type": "code",
        "colab": {
          "base_uri": "https://localhost:8080/",
          "height": 35
        },
        "outputId": "ddcde5e2-7df1-4cf4-b7d6-09c566fd2d70"
      },
      "source": [
        "show(df,ignore_duplicate=True)"
      ],
      "execution_count": null,
      "outputs": [
        {
          "output_type": "execute_result",
          "data": {
            "text/plain": [
              "https://pi6pg94wws-496ff2e9c6d22116-40000-colab.googleusercontent.com/dtale/main/3"
            ]
          },
          "metadata": {
            "tags": []
          },
          "execution_count": 16
        }
      ]
    },
    {
      "cell_type": "code",
      "metadata": {
        "id": "APa7shfqJd6B",
        "colab_type": "code",
        "colab": {}
      },
      "source": [
        "del df['Dispatch Date']\n",
        "del df['SO Date']\n",
        "del df['Description']\n",
        "del df['Customer']"
      ],
      "execution_count": null,
      "outputs": []
    },
    {
      "cell_type": "code",
      "metadata": {
        "id": "OuVWzgmiAHVF",
        "colab_type": "code",
        "colab": {
          "base_uri": "https://localhost:8080/",
          "height": 419
        },
        "outputId": "61270882-0e07-4c8c-e9e9-d57f89a904c7"
      },
      "source": [
        "df"
      ],
      "execution_count": null,
      "outputs": [
        {
          "output_type": "execute_result",
          "data": {
            "text/html": [
              "<div>\n",
              "<style scoped>\n",
              "    .dataframe tbody tr th:only-of-type {\n",
              "        vertical-align: middle;\n",
              "    }\n",
              "\n",
              "    .dataframe tbody tr th {\n",
              "        vertical-align: top;\n",
              "    }\n",
              "\n",
              "    .dataframe thead th {\n",
              "        text-align: right;\n",
              "    }\n",
              "</style>\n",
              "<table border=\"1\" class=\"dataframe\">\n",
              "  <thead>\n",
              "    <tr style=\"text-align: right;\">\n",
              "      <th></th>\n",
              "      <th>SO</th>\n",
              "      <th>FG Code</th>\n",
              "      <th>Order Qty</th>\n",
              "      <th>Plant</th>\n",
              "      <th>due</th>\n",
              "      <th>sodate</th>\n",
              "      <th>Key</th>\n",
              "    </tr>\n",
              "  </thead>\n",
              "  <tbody>\n",
              "    <tr>\n",
              "      <th>0</th>\n",
              "      <td>17023287</td>\n",
              "      <td>gd29904300iX</td>\n",
              "      <td>486.0</td>\n",
              "      <td>1024</td>\n",
              "      <td>223</td>\n",
              "      <td>146</td>\n",
              "      <td>17023287gd29904300iX</td>\n",
              "    </tr>\n",
              "    <tr>\n",
              "      <th>1</th>\n",
              "      <td>17023287</td>\n",
              "      <td>gd29907800iX</td>\n",
              "      <td>216.0</td>\n",
              "      <td>1024</td>\n",
              "      <td>223</td>\n",
              "      <td>146</td>\n",
              "      <td>17023287gd29907800iX</td>\n",
              "    </tr>\n",
              "    <tr>\n",
              "      <th>2</th>\n",
              "      <td>17023287</td>\n",
              "      <td>gd39000800iX</td>\n",
              "      <td>360.0</td>\n",
              "      <td>1024</td>\n",
              "      <td>223</td>\n",
              "      <td>146</td>\n",
              "      <td>17023287gd39000800iX</td>\n",
              "    </tr>\n",
              "    <tr>\n",
              "      <th>3</th>\n",
              "      <td>17023287</td>\n",
              "      <td>gd55102400iX</td>\n",
              "      <td>180.0</td>\n",
              "      <td>1024</td>\n",
              "      <td>223</td>\n",
              "      <td>146</td>\n",
              "      <td>17023287gd55102400iX</td>\n",
              "    </tr>\n",
              "    <tr>\n",
              "      <th>4</th>\n",
              "      <td>17023572</td>\n",
              "      <td>gd43208500iX</td>\n",
              "      <td>756.0</td>\n",
              "      <td>1024</td>\n",
              "      <td>225</td>\n",
              "      <td>170</td>\n",
              "      <td>17023572gd43208500iX</td>\n",
              "    </tr>\n",
              "    <tr>\n",
              "      <th>...</th>\n",
              "      <td>...</td>\n",
              "      <td>...</td>\n",
              "      <td>...</td>\n",
              "      <td>...</td>\n",
              "      <td>...</td>\n",
              "      <td>...</td>\n",
              "      <td>...</td>\n",
              "    </tr>\n",
              "    <tr>\n",
              "      <th>191</th>\n",
              "      <td>17023468</td>\n",
              "      <td>gd28007800iX</td>\n",
              "      <td>336.0</td>\n",
              "      <td>1024</td>\n",
              "      <td>307</td>\n",
              "      <td>246</td>\n",
              "      <td>17023468gd28007800iX</td>\n",
              "    </tr>\n",
              "    <tr>\n",
              "      <th>192</th>\n",
              "      <td>17023468</td>\n",
              "      <td>gd28001700iX</td>\n",
              "      <td>640.0</td>\n",
              "      <td>1024</td>\n",
              "      <td>307</td>\n",
              "      <td>246</td>\n",
              "      <td>17023468gd28001700iX</td>\n",
              "    </tr>\n",
              "    <tr>\n",
              "      <th>193</th>\n",
              "      <td>17023833</td>\n",
              "      <td>gd55001700iX</td>\n",
              "      <td>320.0</td>\n",
              "      <td>1024</td>\n",
              "      <td>307</td>\n",
              "      <td>245</td>\n",
              "      <td>17023833gd55001700iX</td>\n",
              "    </tr>\n",
              "    <tr>\n",
              "      <th>194</th>\n",
              "      <td>17023833</td>\n",
              "      <td>gd55102400iX</td>\n",
              "      <td>360.0</td>\n",
              "      <td>1024</td>\n",
              "      <td>307</td>\n",
              "      <td>245</td>\n",
              "      <td>17023833gd55102400iX</td>\n",
              "    </tr>\n",
              "    <tr>\n",
              "      <th>195</th>\n",
              "      <td>17023833</td>\n",
              "      <td>gd30212200iX</td>\n",
              "      <td>720.0</td>\n",
              "      <td>1024</td>\n",
              "      <td>307</td>\n",
              "      <td>245</td>\n",
              "      <td>17023833gd30212200iX</td>\n",
              "    </tr>\n",
              "  </tbody>\n",
              "</table>\n",
              "<p>196 rows × 7 columns</p>\n",
              "</div>"
            ],
            "text/plain": [
              "           SO       FG Code  Order Qty  ...  due  sodate                   Key\n",
              "0    17023287  gd29904300iX      486.0  ...  223     146  17023287gd29904300iX\n",
              "1    17023287  gd29907800iX      216.0  ...  223     146  17023287gd29907800iX\n",
              "2    17023287  gd39000800iX      360.0  ...  223     146  17023287gd39000800iX\n",
              "3    17023287  gd55102400iX      180.0  ...  223     146  17023287gd55102400iX\n",
              "4    17023572  gd43208500iX      756.0  ...  225     170  17023572gd43208500iX\n",
              "..        ...           ...        ...  ...  ...     ...                   ...\n",
              "191  17023468  gd28007800iX      336.0  ...  307     246  17023468gd28007800iX\n",
              "192  17023468  gd28001700iX      640.0  ...  307     246  17023468gd28001700iX\n",
              "193  17023833  gd55001700iX      320.0  ...  307     245  17023833gd55001700iX\n",
              "194  17023833  gd55102400iX      360.0  ...  307     245  17023833gd55102400iX\n",
              "195  17023833  gd30212200iX      720.0  ...  307     245  17023833gd30212200iX\n",
              "\n",
              "[196 rows x 7 columns]"
            ]
          },
          "metadata": {
            "tags": []
          },
          "execution_count": 21
        }
      ]
    },
    {
      "cell_type": "code",
      "metadata": {
        "id": "e9P2C7qiDgjO",
        "colab_type": "code",
        "colab": {}
      },
      "source": [
        "ma=pd.read_excel('item master.xlsx')\n",
        "bu=pd.read_excel('item master.xlsx',sheet_name='bulk')\n",
        "pa=pd.read_excel('item master.xlsx',sheet_name='packing')"
      ],
      "execution_count": null,
      "outputs": []
    },
    {
      "cell_type": "code",
      "metadata": {
        "id": "wnTRb6CnJgka",
        "colab_type": "code",
        "colab": {}
      },
      "source": [
        "jobs =df['Key']\n",
        "op =[1,2,3,4]\n",
        "mc = [1,2,3,4,5,6]"
      ],
      "execution_count": null,
      "outputs": []
    },
    {
      "cell_type": "code",
      "metadata": {
        "id": "CYDmquJqPLRZ",
        "colab_type": "code",
        "colab": {}
      },
      "source": [
        "df2=df[['Key','FG Code','Order Qty']]\n",
        "df2=df2.merge(pa[[\"FG Code\",\"Line\",\"Output\"]], on=\"FG Code\")\n",
        "df2[\"duration\"]=df2[\"Order Qty\"]/df2[\"Output\"]\n",
        "del df2[\"Order Qty\"]"
      ],
      "execution_count": 20,
      "outputs": []
    },
    {
      "cell_type": "code",
      "metadata": {
        "id": "MODYkF5UHaYJ",
        "colab_type": "code",
        "colab": {}
      },
      "source": [
        "horizon = max(df[\"due\"])"
      ],
      "execution_count": null,
      "outputs": []
    },
    {
      "cell_type": "code",
      "metadata": {
        "id": "0vjdRQg3NvPS",
        "colab_type": "code",
        "colab": {}
      },
      "source": [
        "model = cp_model.CpModel()\n",
        "model.Minimize(delay)"
      ],
      "execution_count": null,
      "outputs": []
    },
    {
      "cell_type": "code",
      "metadata": {
        "id": "H-_Bgd_qIJIc",
        "colab_type": "code",
        "colab": {}
      },
      "source": [
        "delay = {}\n",
        "for j in jobs:\n",
        "    for m in mc:\n",
        "        suffix = '_%s_%i' % (j,m)\n",
        "        start = model.NewIntVar(0, horizon, \"start\"+suffix)\n",
        "        end = model.NewIntVar(0, horizon, \"end\"+suffix)\n",
        "        duration = model.newIntervalVar(start, duration[j,m], end, \"duration\"+suffix)\n",
        "        delay.append(abs(due[j]-end))"
      ],
      "execution_count": null,
      "outputs": []
    },
    {
      "cell_type": "code",
      "metadata": {
        "id": "3FjhcqtdbTud",
        "colab_type": "code",
        "colab": {}
      },
      "source": [
        "model.Minimize(delay)"
      ],
      "execution_count": null,
      "outputs": []
    },
    {
      "cell_type": "code",
      "metadata": {
        "id": "D8MChwDryyRL",
        "colab_type": "code",
        "colab": {}
      },
      "source": [
        "solver = cp_model.CpSolver()\n",
        "status = solver.Solve(model)"
      ],
      "execution_count": null,
      "outputs": []
    }
  ]
}
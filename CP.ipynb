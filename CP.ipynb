{
  "nbformat": 4,
  "nbformat_minor": 0,
  "metadata": {
    "kernelspec": {
      "display_name": "Python 3",
      "language": "python",
      "name": "python3"
    },
    "language_info": {
      "codemirror_mode": {
        "name": "ipython",
        "version": 3
      },
      "file_extension": ".py",
      "mimetype": "text/x-python",
      "name": "python",
      "nbconvert_exporter": "python",
      "pygments_lexer": "ipython3",
      "version": "3.8.2"
    },
    "colab": {
      "name": "CP.ipynb",
      "provenance": []
    }
  },
  "cells": [
    {
      "cell_type": "code",
      "metadata": {
        "id": "ZAegf4MTD07x",
        "colab_type": "code",
        "colab": {
          "base_uri": "https://localhost:8080/",
          "height": 181
        },
        "outputId": "e0c791bd-beb8-4ee8-b22b-03601f2864b1"
      },
      "source": [
        "!pip install ortools\n",
        "#!pip install dtale"
      ],
      "execution_count": 1,
      "outputs": [
        {
          "output_type": "stream",
          "text": [
            "Collecting ortools\n",
            "\u001b[?25l  Downloading https://files.pythonhosted.org/packages/6c/e9/57ee68e41e02b00836dbe61a4f9679c953623168dcca3a84e2cd16a3e9b2/ortools-7.8.7959-cp36-cp36m-manylinux1_x86_64.whl (32.7MB)\n",
            "\u001b[K     |████████████████████████████████| 32.7MB 120kB/s \n",
            "\u001b[?25hRequirement already satisfied: six>=1.10 in /usr/local/lib/python3.6/dist-packages (from ortools) (1.15.0)\n",
            "Requirement already satisfied: protobuf>=3.12.2 in /usr/local/lib/python3.6/dist-packages (from ortools) (3.12.4)\n",
            "Requirement already satisfied: setuptools in /usr/local/lib/python3.6/dist-packages (from protobuf>=3.12.2->ortools) (49.6.0)\n",
            "Installing collected packages: ortools\n",
            "Successfully installed ortools-7.8.7959\n"
          ],
          "name": "stdout"
        }
      ]
    },
    {
      "cell_type": "code",
      "metadata": {
        "id": "sG_LW15bCHKH",
        "colab_type": "code",
        "colab": {
          "base_uri": "https://localhost:8080/",
          "height": 179
        },
        "outputId": "9f14b170-f1b1-4e99-f86a-61a041e2392e"
      },
      "source": [
        "import pandas as pd\n",
        "import numpy as np\n",
        "import collections\n",
        "from ortools.sat.python import cp_model\n",
        "# Clone the entire repo.\n",
        "!git clone -l -s https://github.com/mswastik/optimization.git cloned-repo\n",
        "%cd cloned-repo"
      ],
      "execution_count": 32,
      "outputs": [
        {
          "output_type": "stream",
          "text": [
            "Cloning into 'cloned-repo'...\n",
            "warning: --local is ignored\n",
            "remote: Enumerating objects: 125, done.\u001b[K\n",
            "remote: Counting objects: 100% (125/125), done.\u001b[K\n",
            "remote: Compressing objects: 100% (121/121), done.\u001b[K\n",
            "remote: Total 125 (delta 41), reused 0 (delta 0), pack-reused 0\u001b[K\n",
            "Receiving objects: 100% (125/125), 2.12 MiB | 6.97 MiB/s, done.\n",
            "Resolving deltas: 100% (41/41), done.\n",
            "/content/cloned-repo/cloned-repo\n"
          ],
          "name": "stdout"
        }
      ]
    },
    {
      "cell_type": "code",
      "metadata": {
        "id": "nUhA6-OCCHKV",
        "colab_type": "code",
        "colab": {}
      },
      "source": [
        "#Importing Data\n",
        "df=pd.read_excel('orders1.xlsx')\n",
        "ma=pd.read_excel('item master.xlsx')\n",
        "bu=pd.read_excel('item master.xlsx',sheet_name='bulk')\n",
        "pa=pd.read_excel('item master.xlsx',sheet_name='packing')\n",
        "\n",
        "# Formating Data\n",
        "df = df[df['Line']=='Tmmthpkhti Limi']\n",
        "df = df[df['Plant']==1024]\n",
        "del df['Line']\n",
        "df['due'] = df['Dispatch Date'] - df['SO Date'].min()\n",
        "df['due'] = df['due'].dt.days\n",
        "df['sodate'] = df['SO Date'] - df['SO Date'].min()\n",
        "df['sodate'] = df['sodate'].dt.days\n",
        "df.reset_index(inplace=True,drop=True)\n",
        "df['Key']=df['SO'].astype('str')+df['FG Code']\n",
        "del df['Dispatch Date']\n",
        "del df['SO Date']\n",
        "del df['Description']\n",
        "del df['Customer']\n",
        "df['Order Qty'] = df[df['Order Qty']!=0]['Order Qty']\n",
        "df['Order Qty'] = df['Order Qty']*1000\n",
        "df=df[df['Key']!='17023287gd39000800iX']"
      ],
      "execution_count": 33,
      "outputs": []
    },
    {
      "cell_type": "code",
      "metadata": {
        "id": "wnTRb6CnJgka",
        "colab_type": "code",
        "colab": {}
      },
      "source": [
        "# Creating Parameter Data\n",
        "jobs =df['Key']\n",
        "op =[1,2,3,4]  # Ignore as of now\n",
        "mc = [1,2,3,4,5,6]\n",
        "#horizon = max(df[\"due\"])+900\n",
        "due = df.set_index('Key')\n",
        "dur=df[['Key','FG Code','Order Qty']]\n",
        "dur=dur.merge(pa[[\"FG Code\",\"Line\",\"Output\"]], on=\"FG Code\")\n",
        "#dur['Order Qty']=dur['Order Qty']*1000\n",
        "dur['Output']=dur['Output']*100\n",
        "dur['duration']=dur['Order Qty']/dur['Output']\n",
        "#dur.applymap(lambda x: math.trunc(x))\n",
        "#float( '%.2f'%(dur['duration']) )\n",
        "dur['duration'] = dur['duration'].astype('float64').round(decimals = 2)\n",
        "dur.set_index(['Key','Line'],inplace=True)\n",
        "del dur['FG Code']\n",
        "dur['Output'].replace(0,1,inplace=True)\n",
        "#dur['duration']=dur['duration']*100\n",
        "df['Order Qty']=df['Order Qty'].fillna(0).astype('int')\n",
        "dur['duration']=dur['duration'].fillna(0).astype('int')\n",
        "dur['Output']=dur['Output'].fillna(0).astype('int')\n",
        "horizon = max(dur['duration']*100)"
      ],
      "execution_count": 34,
      "outputs": []
    },
    {
      "cell_type": "code",
      "metadata": {
        "id": "nYDxWHnS6Z7Z",
        "colab_type": "code",
        "colab": {
          "base_uri": "https://localhost:8080/",
          "height": 35
        },
        "outputId": "fd40aa69-d702-4e91-c018-a4690c9dfb9e"
      },
      "source": [
        "#Testing\n",
        "dur['duration'].loc[('17023287gd29904300iX',1)]\n",
        "#dur"
      ],
      "execution_count": 31,
      "outputs": [
        {
          "output_type": "execute_result",
          "data": {
            "text/plain": [
              "216"
            ]
          },
          "metadata": {
            "tags": []
          },
          "execution_count": 31
        }
      ]
    },
    {
      "cell_type": "code",
      "metadata": {
        "id": "2kluFz3V77yw",
        "colab_type": "code",
        "colab": {
          "base_uri": "https://localhost:8080/",
          "height": 463
        },
        "outputId": "effd1e1c-1de1-48cb-97ba-169d2546d4c9"
      },
      "source": [
        "model = cp_model.CpModel()\n",
        "task_type = collections.namedtuple('task_type', 'start end duration run')\n",
        "mtj = collections.defaultdict(list)\n",
        "all_tasks = {}\n",
        "\n",
        "for j in jobs:\n",
        "  for m in mc:\n",
        "      suffix = '_%s_%i' % (j,m)\n",
        "      k=dur['duration'].loc[(j,m)]\n",
        "      start = model.NewIntVar(0, horizon, \"start\"+suffix)\n",
        "      end = model.NewIntVar(0, horizon, \"end\"+suffix)\n",
        "      run = model.NewIntVar(0, k, \"run\"+suffix)\n",
        "      duration = model.NewIntervalVar(start, run, end, \"duration\"+suffix)\n",
        "      all_tasks[j, m] = task_type(start=start, end=end, duration=duration, run=run)\n",
        "      mtj[m].append(duration)\n",
        " \n",
        "for m in mc:\n",
        "  model.AddNoOverlap(mtj[m])\n",
        "\n",
        "com = {}\n",
        "for j in jobs:\n",
        "  tt= 0\n",
        "  for m in mc:\n",
        "    comp = all_tasks[j,m].run*dur[\"Output\"].loc[(j,m)]\n",
        "    tt = tt + comp\n",
        "  com[j] = tt\n",
        "  model.Add(com[j]*10 >= df[df[\"Key\"]==j]['Order Qty'].values[0])\n",
        "'''\n",
        "#com1 = {}\n",
        "#for j in df['Key']:\n",
        "#  tt= 0\n",
        "#  for m in mc:\n",
        "#    comp1 = (all_tasks[j,m].end - all_tasks[j,m].start)*dur[\"Output\"].loc[(j,m)]\n",
        "#    tt = tt + comp1\n",
        "#  com1[j] = tt\n",
        "#  model.Add(com1[j]*10 <= df[df[\"Key\"]==j]['Order Qty'].values[0]+500)\n",
        "'''\n",
        "\n",
        "ck = model.NewIntVar(-horizon, horizon, 'dummy')\n",
        "model.AddMaxEquality(ck,[all_tasks[j,m].end for j in jobs for m in mc])\n",
        "\n",
        "model.Minimize(ck)\n",
        "solver = cp_model.CpSolver()\n",
        "solver.Solve(model)\n",
        "solver.StatusName()\n",
        "#solver.ObjectiveValue()"
      ],
      "execution_count": 37,
      "outputs": [
        {
          "output_type": "error",
          "ename": "TypeError",
          "evalue": "ignored",
          "traceback": [
            "\u001b[0;31m---------------------------------------------------------------------------\u001b[0m",
            "\u001b[0;31mTypeError\u001b[0m                                 Traceback (most recent call last)",
            "\u001b[0;32m<ipython-input-37-cba7a78f551e>\u001b[0m in \u001b[0;36m<module>\u001b[0;34m()\u001b[0m\n\u001b[1;32m     10\u001b[0m       \u001b[0mstart\u001b[0m \u001b[0;34m=\u001b[0m \u001b[0mmodel\u001b[0m\u001b[0;34m.\u001b[0m\u001b[0mNewIntVar\u001b[0m\u001b[0;34m(\u001b[0m\u001b[0;36m0\u001b[0m\u001b[0;34m,\u001b[0m \u001b[0mhorizon\u001b[0m\u001b[0;34m,\u001b[0m \u001b[0;34m\"start\"\u001b[0m\u001b[0;34m+\u001b[0m\u001b[0msuffix\u001b[0m\u001b[0;34m)\u001b[0m\u001b[0;34m\u001b[0m\u001b[0;34m\u001b[0m\u001b[0m\n\u001b[1;32m     11\u001b[0m       \u001b[0mend\u001b[0m \u001b[0;34m=\u001b[0m \u001b[0mmodel\u001b[0m\u001b[0;34m.\u001b[0m\u001b[0mNewIntVar\u001b[0m\u001b[0;34m(\u001b[0m\u001b[0;36m0\u001b[0m\u001b[0;34m,\u001b[0m \u001b[0mhorizon\u001b[0m\u001b[0;34m,\u001b[0m \u001b[0;34m\"end\"\u001b[0m\u001b[0;34m+\u001b[0m\u001b[0msuffix\u001b[0m\u001b[0;34m)\u001b[0m\u001b[0;34m\u001b[0m\u001b[0;34m\u001b[0m\u001b[0m\n\u001b[0;32m---> 12\u001b[0;31m       \u001b[0mrun\u001b[0m \u001b[0;34m=\u001b[0m \u001b[0mmodel\u001b[0m\u001b[0;34m.\u001b[0m\u001b[0mNewIntVar\u001b[0m\u001b[0;34m(\u001b[0m\u001b[0;36m0\u001b[0m\u001b[0;34m,\u001b[0m \u001b[0mk\u001b[0m\u001b[0;34m,\u001b[0m \u001b[0;34m\"run\"\u001b[0m\u001b[0;34m+\u001b[0m\u001b[0msuffix\u001b[0m\u001b[0;34m)\u001b[0m\u001b[0;34m\u001b[0m\u001b[0;34m\u001b[0m\u001b[0m\n\u001b[0m\u001b[1;32m     13\u001b[0m       \u001b[0mduration\u001b[0m \u001b[0;34m=\u001b[0m \u001b[0mmodel\u001b[0m\u001b[0;34m.\u001b[0m\u001b[0mNewIntervalVar\u001b[0m\u001b[0;34m(\u001b[0m\u001b[0mstart\u001b[0m\u001b[0;34m,\u001b[0m \u001b[0mrun\u001b[0m\u001b[0;34m,\u001b[0m \u001b[0mend\u001b[0m\u001b[0;34m,\u001b[0m \u001b[0;34m\"duration\"\u001b[0m\u001b[0;34m+\u001b[0m\u001b[0msuffix\u001b[0m\u001b[0;34m)\u001b[0m\u001b[0;34m\u001b[0m\u001b[0;34m\u001b[0m\u001b[0m\n\u001b[1;32m     14\u001b[0m       \u001b[0mall_tasks\u001b[0m\u001b[0;34m[\u001b[0m\u001b[0mj\u001b[0m\u001b[0;34m,\u001b[0m \u001b[0mm\u001b[0m\u001b[0;34m]\u001b[0m \u001b[0;34m=\u001b[0m \u001b[0mtask_type\u001b[0m\u001b[0;34m(\u001b[0m\u001b[0mstart\u001b[0m\u001b[0;34m=\u001b[0m\u001b[0mstart\u001b[0m\u001b[0;34m,\u001b[0m \u001b[0mend\u001b[0m\u001b[0;34m=\u001b[0m\u001b[0mend\u001b[0m\u001b[0;34m,\u001b[0m \u001b[0mduration\u001b[0m\u001b[0;34m=\u001b[0m\u001b[0mduration\u001b[0m\u001b[0;34m,\u001b[0m \u001b[0mrun\u001b[0m\u001b[0;34m=\u001b[0m\u001b[0mrun\u001b[0m\u001b[0;34m)\u001b[0m\u001b[0;34m\u001b[0m\u001b[0;34m\u001b[0m\u001b[0m\n",
            "\u001b[0;32m/usr/local/lib/python3.6/dist-packages/ortools/sat/python/cp_model.py\u001b[0m in \u001b[0;36mNewIntVar\u001b[0;34m(self, lb, ub, name)\u001b[0m\n\u001b[1;32m    711\u001b[0m     \"\"\"\n\u001b[1;32m    712\u001b[0m \u001b[0;34m\u001b[0m\u001b[0m\n\u001b[0;32m--> 713\u001b[0;31m         \u001b[0;32mreturn\u001b[0m \u001b[0mIntVar\u001b[0m\u001b[0;34m(\u001b[0m\u001b[0mself\u001b[0m\u001b[0;34m.\u001b[0m\u001b[0m__model\u001b[0m\u001b[0;34m,\u001b[0m \u001b[0mDomain\u001b[0m\u001b[0;34m(\u001b[0m\u001b[0mlb\u001b[0m\u001b[0;34m,\u001b[0m \u001b[0mub\u001b[0m\u001b[0;34m)\u001b[0m\u001b[0;34m,\u001b[0m \u001b[0mname\u001b[0m\u001b[0;34m)\u001b[0m\u001b[0;34m\u001b[0m\u001b[0;34m\u001b[0m\u001b[0m\n\u001b[0m\u001b[1;32m    714\u001b[0m \u001b[0;34m\u001b[0m\u001b[0m\n\u001b[1;32m    715\u001b[0m     \u001b[0;32mdef\u001b[0m \u001b[0mNewIntVarFromDomain\u001b[0m\u001b[0;34m(\u001b[0m\u001b[0mself\u001b[0m\u001b[0;34m,\u001b[0m \u001b[0mdomain\u001b[0m\u001b[0;34m,\u001b[0m \u001b[0mname\u001b[0m\u001b[0;34m)\u001b[0m\u001b[0;34m:\u001b[0m\u001b[0;34m\u001b[0m\u001b[0;34m\u001b[0m\u001b[0m\n",
            "\u001b[0;32m/usr/local/lib/python3.6/dist-packages/ortools/util/sorted_interval_list.py\u001b[0m in \u001b[0;36m__init__\u001b[0;34m(self, *args)\u001b[0m\n\u001b[1;32m    106\u001b[0m         \u001b[0mIf\u001b[0m \u001b[0mleft\u001b[0m \u001b[0;34m>\u001b[0m \u001b[0mright\u001b[0m\u001b[0;34m,\u001b[0m \u001b[0mthis\u001b[0m \u001b[0mwill\u001b[0m \u001b[0mresult\u001b[0m \u001b[0;32min\u001b[0m \u001b[0mthe\u001b[0m \u001b[0mempty\u001b[0m \u001b[0mdomain\u001b[0m\u001b[0;34m.\u001b[0m\u001b[0;34m\u001b[0m\u001b[0;34m\u001b[0m\u001b[0m\n\u001b[1;32m    107\u001b[0m         \"\"\"\n\u001b[0;32m--> 108\u001b[0;31m         \u001b[0m_sorted_interval_list\u001b[0m\u001b[0;34m.\u001b[0m\u001b[0mDomain_swiginit\u001b[0m\u001b[0;34m(\u001b[0m\u001b[0mself\u001b[0m\u001b[0;34m,\u001b[0m \u001b[0m_sorted_interval_list\u001b[0m\u001b[0;34m.\u001b[0m\u001b[0mnew_Domain\u001b[0m\u001b[0;34m(\u001b[0m\u001b[0;34m*\u001b[0m\u001b[0margs\u001b[0m\u001b[0;34m)\u001b[0m\u001b[0;34m)\u001b[0m\u001b[0;34m\u001b[0m\u001b[0;34m\u001b[0m\u001b[0m\n\u001b[0m\u001b[1;32m    109\u001b[0m \u001b[0;34m\u001b[0m\u001b[0m\n\u001b[1;32m    110\u001b[0m     \u001b[0;34m@\u001b[0m\u001b[0mstaticmethod\u001b[0m\u001b[0;34m\u001b[0m\u001b[0;34m\u001b[0m\u001b[0m\n",
            "\u001b[0;31mTypeError\u001b[0m: Wrong number or type of arguments for overloaded function 'new_Domain'.\n  Possible C/C++ prototypes are:\n    operations_research::Domain::Domain()\n    operations_research::Domain::Domain(int64)\n    operations_research::Domain::Domain(int64,int64)\n"
          ]
        }
      ]
    },
    {
      "cell_type": "code",
      "metadata": {
        "id": "r5RELoZFn13v",
        "colab_type": "code",
        "colab": {
          "base_uri": "https://localhost:8080/",
          "height": 35
        },
        "outputId": "67df3b5f-3add-41a9-f407-32b10a1bea89"
      },
      "source": [
        "run"
      ],
      "execution_count": 40,
      "outputs": [
        {
          "output_type": "execute_result",
          "data": {
            "text/plain": [
              "run_4501763335gC25020000UC_6(0..3600000)"
            ]
          },
          "metadata": {
            "tags": []
          },
          "execution_count": 40
        }
      ]
    },
    {
      "cell_type": "code",
      "metadata": {
        "id": "niO4NG7l8_7d",
        "colab_type": "code",
        "colab": {
          "base_uri": "https://localhost:8080/",
          "height": 1000
        },
        "outputId": "58fb9f9a-f8d1-4423-bde6-0ef0fa3906dd"
      },
      "source": [
        "st={}\n",
        "en={}\n",
        "for m in mc:\n",
        "  for j in jobs:\n",
        "    st[j,m]=solver.Value(all_tasks[j,m].start)\n",
        "    en[j,m]=solver.Value(all_tasks[j,m].end)\n",
        "    #dur[j,m]=solver.Value(all_tasks[j,m].duration)\n",
        "en"
      ],
      "execution_count": 7,
      "outputs": [
        {
          "output_type": "execute_result",
          "data": {
            "text/plain": [
              "{('17023287gd29904300iX', 1): 0,\n",
              " ('17023287gd29904300iX', 2): 0,\n",
              " ('17023287gd29904300iX', 3): 0,\n",
              " ('17023287gd29904300iX', 4): 0,\n",
              " ('17023287gd29904300iX', 5): 0,\n",
              " ('17023287gd29904300iX', 6): 0,\n",
              " ('17023287gd29907800iX', 1): 0,\n",
              " ('17023287gd29907800iX', 2): 0,\n",
              " ('17023287gd29907800iX', 3): 0,\n",
              " ('17023287gd29907800iX', 4): 0,\n",
              " ('17023287gd29907800iX', 5): 0,\n",
              " ('17023287gd29907800iX', 6): 0,\n",
              " ('17023287gd55102400iX', 1): 0,\n",
              " ('17023287gd55102400iX', 2): 0,\n",
              " ('17023287gd55102400iX', 3): 0,\n",
              " ('17023287gd55102400iX', 4): 0,\n",
              " ('17023287gd55102400iX', 5): 0,\n",
              " ('17023287gd55102400iX', 6): 0,\n",
              " ('17023335gd28001700iX', 1): 0,\n",
              " ('17023335gd28001700iX', 2): 0,\n",
              " ('17023335gd28001700iX', 3): 0,\n",
              " ('17023335gd28001700iX', 4): 0,\n",
              " ('17023335gd28001700iX', 5): 0,\n",
              " ('17023335gd28001700iX', 6): 0,\n",
              " ('17023335gd28013000iX', 1): 0,\n",
              " ('17023335gd28013000iX', 2): 0,\n",
              " ('17023335gd28013000iX', 3): 0,\n",
              " ('17023335gd28013000iX', 4): 0,\n",
              " ('17023335gd28013000iX', 5): 0,\n",
              " ('17023335gd28013000iX', 6): 0,\n",
              " ('17023335gd28018100iX', 1): 0,\n",
              " ('17023335gd28018100iX', 2): 0,\n",
              " ('17023335gd28018100iX', 3): 0,\n",
              " ('17023335gd28018100iX', 4): 0,\n",
              " ('17023335gd28018100iX', 5): 0,\n",
              " ('17023335gd28018100iX', 6): 0,\n",
              " ('17023335gd30212200iX', 1): 0,\n",
              " ('17023335gd30212200iX', 2): 0,\n",
              " ('17023335gd30212200iX', 3): 0,\n",
              " ('17023335gd30212200iX', 4): 0,\n",
              " ('17023335gd30212200iX', 5): 0,\n",
              " ('17023335gd30212200iX', 6): 0,\n",
              " ('17023439gd28311300iX', 1): 0,\n",
              " ('17023439gd28311300iX', 2): 0,\n",
              " ('17023439gd28311300iX', 3): 0,\n",
              " ('17023439gd28311300iX', 4): 0,\n",
              " ('17023439gd28311300iX', 5): 0,\n",
              " ('17023439gd28311300iX', 6): 0,\n",
              " ('17023440gd23010000gR', 1): 0,\n",
              " ('17023440gd23010000gR', 2): 0,\n",
              " ('17023440gd23010000gR', 3): 0,\n",
              " ('17023440gd23010000gR', 4): 0,\n",
              " ('17023440gd23010000gR', 5): 0,\n",
              " ('17023440gd23010000gR', 6): 0,\n",
              " ('17023572gd43208500iX', 1): 0,\n",
              " ('17023572gd43208500iX', 2): 0,\n",
              " ('17023572gd43208500iX', 3): 0,\n",
              " ('17023572gd43208500iX', 4): 0,\n",
              " ('17023572gd43208500iX', 5): 0,\n",
              " ('17023572gd43208500iX', 6): 0,\n",
              " ('17023636gd28001701iX', 1): 0,\n",
              " ('17023636gd28001701iX', 2): 0,\n",
              " ('17023636gd28001701iX', 3): 0,\n",
              " ('17023636gd28001701iX', 4): 0,\n",
              " ('17023636gd28001701iX', 5): 0,\n",
              " ('17023636gd28001701iX', 6): 0,\n",
              " ('17023636gd280043C0iX', 1): 0,\n",
              " ('17023636gd280043C0iX', 2): 0,\n",
              " ('17023636gd280043C0iX', 3): 0,\n",
              " ('17023636gd280043C0iX', 4): 0,\n",
              " ('17023636gd280043C0iX', 5): 0,\n",
              " ('17023636gd280043C0iX', 6): 0,\n",
              " ('17023637gd28001701iX', 1): 0,\n",
              " ('17023637gd28001701iX', 2): 0,\n",
              " ('17023637gd28001701iX', 3): 0,\n",
              " ('17023637gd28001701iX', 4): 0,\n",
              " ('17023637gd28001701iX', 5): 0,\n",
              " ('17023637gd28001701iX', 6): 0,\n",
              " ('17023637gd28002400iX', 1): 0,\n",
              " ('17023637gd28002400iX', 2): 0,\n",
              " ('17023637gd28002400iX', 3): 0,\n",
              " ('17023637gd28002400iX', 4): 0,\n",
              " ('17023637gd28002400iX', 5): 0,\n",
              " ('17023637gd28002400iX', 6): 0,\n",
              " ('4501763335gC25020000UC', 1): 0,\n",
              " ('4501763335gC25020000UC', 2): 0,\n",
              " ('4501763335gC25020000UC', 3): 0,\n",
              " ('4501763335gC25020000UC', 4): 0,\n",
              " ('4501763335gC25020000UC', 5): 0,\n",
              " ('4501763335gC25020000UC', 6): 0,\n",
              " ('4501763335gd23010000Ud', 1): 0,\n",
              " ('4501763335gd23010000Ud', 2): 0,\n",
              " ('4501763335gd23010000Ud', 3): 0,\n",
              " ('4501763335gd23010000Ud', 4): 0,\n",
              " ('4501763335gd23010000Ud', 5): 0,\n",
              " ('4501763335gd23010000Ud', 6): 0,\n",
              " ('4501763335gd251100C0Ud', 1): 0,\n",
              " ('4501763335gd251100C0Ud', 2): 0,\n",
              " ('4501763335gd251100C0Ud', 3): 0,\n",
              " ('4501763335gd251100C0Ud', 4): 0,\n",
              " ('4501763335gd251100C0Ud', 5): 0,\n",
              " ('4501763335gd251100C0Ud', 6): 0}"
            ]
          },
          "metadata": {
            "tags": []
          },
          "execution_count": 7
        }
      ]
    },
    {
      "cell_type": "code",
      "metadata": {
        "id": "UlRbBjJDGyMP",
        "colab_type": "code",
        "colab": {
          "base_uri": "https://localhost:8080/",
          "height": 1000
        },
        "outputId": "42e07546-ffd9-4e77-e092-51dc197f2296"
      },
      "source": [
        "en"
      ],
      "execution_count": null,
      "outputs": [
        {
          "output_type": "execute_result",
          "data": {
            "text/plain": [
              "{('17023287gd29904300iX', 1): 0,\n",
              " ('17023287gd29904300iX', 2): 0,\n",
              " ('17023287gd29904300iX', 3): 0,\n",
              " ('17023287gd29904300iX', 4): 0,\n",
              " ('17023287gd29904300iX', 5): 0,\n",
              " ('17023287gd29904300iX', 6): 0,\n",
              " ('17023287gd29907800iX', 1): 0,\n",
              " ('17023287gd29907800iX', 2): 0,\n",
              " ('17023287gd29907800iX', 3): 0,\n",
              " ('17023287gd29907800iX', 4): 0,\n",
              " ('17023287gd29907800iX', 5): 0,\n",
              " ('17023287gd29907800iX', 6): 0,\n",
              " ('17023287gd55102400iX', 1): 0,\n",
              " ('17023287gd55102400iX', 2): 0,\n",
              " ('17023287gd55102400iX', 3): 0,\n",
              " ('17023287gd55102400iX', 4): 0,\n",
              " ('17023287gd55102400iX', 5): 0,\n",
              " ('17023287gd55102400iX', 6): 0,\n",
              " ('17023335gd28001700iX', 1): 0,\n",
              " ('17023335gd28001700iX', 2): 0,\n",
              " ('17023335gd28001700iX', 3): 0,\n",
              " ('17023335gd28001700iX', 4): 0,\n",
              " ('17023335gd28001700iX', 5): 0,\n",
              " ('17023335gd28001700iX', 6): 0,\n",
              " ('17023335gd28013000iX', 1): 0,\n",
              " ('17023335gd28013000iX', 2): 0,\n",
              " ('17023335gd28013000iX', 3): 0,\n",
              " ('17023335gd28013000iX', 4): 0,\n",
              " ('17023335gd28013000iX', 5): 0,\n",
              " ('17023335gd28013000iX', 6): 0,\n",
              " ('17023335gd28018100iX', 1): 0,\n",
              " ('17023335gd28018100iX', 2): 0,\n",
              " ('17023335gd28018100iX', 3): 0,\n",
              " ('17023335gd28018100iX', 4): 0,\n",
              " ('17023335gd28018100iX', 5): 0,\n",
              " ('17023335gd28018100iX', 6): 0,\n",
              " ('17023335gd30212200iX', 1): 0,\n",
              " ('17023335gd30212200iX', 2): 0,\n",
              " ('17023335gd30212200iX', 3): 0,\n",
              " ('17023335gd30212200iX', 4): 0,\n",
              " ('17023335gd30212200iX', 5): 0,\n",
              " ('17023335gd30212200iX', 6): 0,\n",
              " ('17023439gd28311300iX', 1): 0,\n",
              " ('17023439gd28311300iX', 2): 0,\n",
              " ('17023439gd28311300iX', 3): 0,\n",
              " ('17023439gd28311300iX', 4): 0,\n",
              " ('17023439gd28311300iX', 5): 0,\n",
              " ('17023439gd28311300iX', 6): 0,\n",
              " ('17023440gd23010000gR', 1): 0,\n",
              " ('17023440gd23010000gR', 2): 0,\n",
              " ('17023440gd23010000gR', 3): 0,\n",
              " ('17023440gd23010000gR', 4): 0,\n",
              " ('17023440gd23010000gR', 5): 0,\n",
              " ('17023440gd23010000gR', 6): 0,\n",
              " ('17023572gd43208500iX', 1): 0,\n",
              " ('17023572gd43208500iX', 2): 0,\n",
              " ('17023572gd43208500iX', 3): 0,\n",
              " ('17023572gd43208500iX', 4): 0,\n",
              " ('17023572gd43208500iX', 5): 0,\n",
              " ('17023572gd43208500iX', 6): 0,\n",
              " ('17023636gd28001701iX', 1): 0,\n",
              " ('17023636gd28001701iX', 2): 0,\n",
              " ('17023636gd28001701iX', 3): 0,\n",
              " ('17023636gd28001701iX', 4): 0,\n",
              " ('17023636gd28001701iX', 5): 0,\n",
              " ('17023636gd28001701iX', 6): 0,\n",
              " ('17023636gd280043C0iX', 1): 0,\n",
              " ('17023636gd280043C0iX', 2): 0,\n",
              " ('17023636gd280043C0iX', 3): 0,\n",
              " ('17023636gd280043C0iX', 4): 0,\n",
              " ('17023636gd280043C0iX', 5): 0,\n",
              " ('17023636gd280043C0iX', 6): 0,\n",
              " ('17023637gd28001701iX', 1): 0,\n",
              " ('17023637gd28001701iX', 2): 0,\n",
              " ('17023637gd28001701iX', 3): 0,\n",
              " ('17023637gd28001701iX', 4): 0,\n",
              " ('17023637gd28001701iX', 5): 0,\n",
              " ('17023637gd28001701iX', 6): 0,\n",
              " ('17023637gd28002400iX', 1): 0,\n",
              " ('17023637gd28002400iX', 2): 0,\n",
              " ('17023637gd28002400iX', 3): 0,\n",
              " ('17023637gd28002400iX', 4): 0,\n",
              " ('17023637gd28002400iX', 5): 0,\n",
              " ('17023637gd28002400iX', 6): 0,\n",
              " ('4501763335gC25020000UC', 1): 0,\n",
              " ('4501763335gC25020000UC', 2): 0,\n",
              " ('4501763335gC25020000UC', 3): 0,\n",
              " ('4501763335gC25020000UC', 4): 0,\n",
              " ('4501763335gC25020000UC', 5): 0,\n",
              " ('4501763335gC25020000UC', 6): 0,\n",
              " ('4501763335gd23010000Ud', 1): 0,\n",
              " ('4501763335gd23010000Ud', 2): 0,\n",
              " ('4501763335gd23010000Ud', 3): 0,\n",
              " ('4501763335gd23010000Ud', 4): 0,\n",
              " ('4501763335gd23010000Ud', 5): 0,\n",
              " ('4501763335gd23010000Ud', 6): 0,\n",
              " ('4501763335gd251100C0Ud', 1): 0,\n",
              " ('4501763335gd251100C0Ud', 2): 0,\n",
              " ('4501763335gd251100C0Ud', 3): 0,\n",
              " ('4501763335gd251100C0Ud', 4): 0,\n",
              " ('4501763335gd251100C0Ud', 5): 0,\n",
              " ('4501763335gd251100C0Ud', 6): 0}"
            ]
          },
          "metadata": {
            "tags": []
          },
          "execution_count": 26
        }
      ]
    },
    {
      "cell_type": "code",
      "metadata": {
        "id": "Pk-0lBw-3c3g",
        "colab_type": "code",
        "colab": {
          "base_uri": "https://localhost:8080/",
          "height": 35
        },
        "outputId": "892db7d7-6006-485c-e305-8e9fd5b8a9dd"
      },
      "source": [
        "#Exploring Data\n",
        " \n",
        "from dtale import show\n",
        "import dtale.app as dtale_app\n",
        "dtale_app.USE_COLAB = True\n",
        "show(df)"
      ],
      "execution_count": null,
      "outputs": [
        {
          "output_type": "execute_result",
          "data": {
            "text/plain": [
              "https://n6ekujl3anh-496ff2e9c6d22116-40000-colab.googleusercontent.com/dtale/main/1"
            ]
          },
          "metadata": {
            "tags": []
          },
          "execution_count": 55
        }
      ]
    },
    {
      "cell_type": "code",
      "metadata": {
        "id": "H-_Bgd_qIJIc",
        "colab_type": "code",
        "colab": {
          "base_uri": "https://localhost:8080/",
          "height": 34
        },
        "outputId": "953ad537-193c-4cc9-aaf6-fad727176db2"
      },
      "source": [
        "model = cp_model.CpModel()\n",
        "task_type = collections.namedtuple('task_type', 'start end duration')\n",
        "mtj = collections.defaultdict(list)\n",
        "all_tasks = {}\n",
        "for m in mc:\n",
        "  for j in jobs:  \n",
        "      suffix = '_%s_%i' % (j,m)\n",
        "      start = model.NewIntVar(0, horizon, \"start\"+suffix)\n",
        "      end = model.NewIntVar(0, horizon, \"end\"+suffix)\n",
        "      duration = model.NewIntervalVar(start, dur['duration'].loc[(j,m)], end, \"duration\"+suffix)\n",
        "      all_tasks[(j, m)] = task_type(start=start, end=end, duration=duration)\n",
        "      mtj[m].append(duration)\n",
        "\n",
        "for m in mc:\n",
        "    #mjob=[]\n",
        "    #mtj[m] = mjob\n",
        "    model.AddNoOverlap(mtj[m])\n",
        "\n",
        "com = {}\n",
        "for j in df['Key']:\n",
        "  tt= 0\n",
        "  for m in mc:\n",
        "    #model.Add((all_tasks[(j, m)].end-all_tasks[(j, m)].start)*dur['Output'].loc[(j,m)] >= df[df[\"Key\"]==j]['Order Qty'].values[0])\n",
        "    comp = (all_tasks[(j,m)].end - all_tasks[(j,m)].start)*dur[\"Output\"].loc[(j,m)]\n",
        "    tt = tt + comp\n",
        "  com[j] = tt\n",
        "  model.Add(com[j] >= df[df[\"Key\"]==j]['Order Qty'].values[0])\n",
        "    # Remove 0 from packing output, it is causing error\n",
        "\n",
        "com1 = {}\n",
        "for j in df['Key']:\n",
        "  tt= 0\n",
        "  for m in mc:\n",
        "    #model.Add((all_tasks[(j, m)].end-all_tasks[(j, m)].start)*dur['Output'].loc[(j,m)] >= df[df[\"Key\"]==j]['Order Qty'].values[0])\n",
        "    comp1 = (all_tasks[(j,m)].end - all_tasks[(j,m)].start)*dur[\"Output\"].loc[(j,m)]\n",
        "    tt = tt + comp1\n",
        "  com1[j] = tt\n",
        "  model.Add(com1[j] <= df[df[\"Key\"]==j]['Order Qty'].values[0]+300)\n",
        "\n",
        "delay = 0\n",
        "for j in df['Key']:\n",
        "  dd=[]\n",
        "  for m in mc:\n",
        "    dd.append(due['due'].loc[j]-all_tasks[(j, m)].end)\n",
        "  delay += max(dd)\n",
        "\n",
        "dummy = model.NewIntVar(-horizon, horizon, 'dummy')\n",
        "#dummy=0\n",
        "model.Add(delay<=dummy)\n",
        "model.Add(-delay<=dummy)"
      ],
      "execution_count": null,
      "outputs": [
        {
          "output_type": "execute_result",
          "data": {
            "text/plain": [
              "<ortools.sat.python.cp_model.Constraint at 0x7fb1631f7a58>"
            ]
          },
          "metadata": {
            "tags": []
          },
          "execution_count": 18
        }
      ]
    },
    {
      "cell_type": "code",
      "metadata": {
        "id": "D8MChwDryyRL",
        "colab_type": "code",
        "colab": {
          "base_uri": "https://localhost:8080/",
          "height": 35
        },
        "outputId": "95b91688-16f1-4923-afbc-7dcc74f13e07"
      },
      "source": [
        "model.Minimize(dummy)\n",
        "solver = cp_model.CpSolver()\n",
        "solver.Solve(model)\n",
        "solver.StatusName()"
      ],
      "execution_count": null,
      "outputs": [
        {
          "output_type": "execute_result",
          "data": {
            "application/vnd.google.colaboratory.intrinsic+json": {
              "type": "string"
            },
            "text/plain": [
              "'INFEASIBLE'"
            ]
          },
          "metadata": {
            "tags": []
          },
          "execution_count": 19
        }
      ]
    },
    {
      "cell_type": "code",
      "metadata": {
        "id": "O0RuA86tb26o",
        "colab_type": "code",
        "colab": {
          "base_uri": "https://localhost:8080/",
          "height": 54
        },
        "outputId": "dc27fd3f-4a05-4cf1-865b-092a60c461de"
      },
      "source": [
        "delay"
      ],
      "execution_count": null,
      "outputs": [
        {
          "output_type": "execute_result",
          "data": {
            "text/plain": [
              "SumArray(SumArray(SumArray(SumArray(SumArray(SumArray(SumArray(SumArray(SumArray(SumArray(SumArray(SumArray(SumArray(SumArray(SumArray(SumArray(SumArray(SumArray(SumArray(SumArray(SumArray(SumArray(SumArray(SumArray(SumArray(SumArray(SumArray(SumArray(SumArray(SumArray(SumArray(SumArray(SumArray(SumArray(SumArray(SumArray(SumArray(SumArray(SumArray(SumArray(SumArray(SumArray(SumArray(SumArray(SumArray(SumArray(SumArray(SumArray(SumArray(SumArray(SumArray(SumArray(SumArray(SumArray(SumArray(SumArray(SumArray(SumArray(SumArray(SumArray(SumArray(SumArray(SumArray(SumArray(SumArray(SumArray(SumArray(SumArray(SumArray(SumArray(SumArray(SumArray(SumArray(SumArray(SumArray(SumArray(SumArray(SumArray(SumArray(SumArray(SumArray(SumArray(SumArray(SumArray(SumArray(SumArray(SumArray(SumArray(SumArray(SumArray(SumArray(SumArray(SumArray(SumArray(SumArray(SumArray(SumArray(SumArray(SumArray(SumArray(SumArray(SumArray(SumArray(SumArray(SumArray(SumArray(SumArray(SumArray(SumArray(SumArray(SumArray(SumArray(SumArray(SumArray(SumArray(SumArray(SumArray(SumArray(SumArray(SumArray(SumArray(SumArray(SumArray(SumArray(SumArray(SumArray(SumArray(SumArray(SumArray(SumArray(SumArray(SumArray(SumArray(SumArray(SumArray(SumArray(SumArray(SumArray(SumArray(SumArray(SumArray(SumArray(SumArray(SumArray(SumArray(SumArray(SumArray(SumArray(SumArray(SumArray(SumArray(SumArray(SumArray(SumArray(SumArray(SumArray(SumArray(SumArray(SumArray(SumArray(SumArray(SumArray(SumArray(SumArray(SumArray(SumArray(SumArray(SumArray(SumArray(SumArray(SumArray(SumArray(SumArray(SumArray(SumArray(SumArray(SumArray(SumArray(SumArray(SumArray(SumArray(SumArray(SumArray(SumArray(SumArray(ProductCst(end_17023287gd29904300iX_6(0..1207), -1), 223), 0), SumArray(ProductCst(end_17023287gd29907800iX_6(0..1207), -1), 223), 0), SumArray(ProductCst(end_17023287gd39000800iX_6(0..1207), -1), 223), 0), SumArray(ProductCst(end_17023287gd55102400iX_6(0..1207), -1), 223), 0), SumArray(ProductCst(end_17023572gd43208500iX_6(0..1207), -1), 225), 0), SumArray(ProductCst(end_17023636gd280043C0iX_6(0..1207), -1), 225), 0), SumArray(ProductCst(end_17023636gd28001701iX_6(0..1207), -1), 225), 0), SumArray(ProductCst(end_17023335gd28013000iX_6(0..1207), -1), 230), 0), SumArray(ProductCst(end_17023335gd28018100iX_6(0..1207), -1), 230), 0), SumArray(ProductCst(end_17023335gd28001700iX_6(0..1207), -1), 230), 0), SumArray(ProductCst(end_17023335gd30212200iX_6(0..1207), -1), 230), 0), SumArray(ProductCst(end_17023637gd28001701iX_6(0..1207), -1), 230), 0), SumArray(ProductCst(end_17023637gd28002400iX_6(0..1207), -1), 230), 0), SumArray(ProductCst(end_17023439gd28311300iX_6(0..1207), -1), 231), 0), SumArray(ProductCst(end_17023440gd23010000gR_6(0..1207), -1), 231), 0), SumArray(ProductCst(end_4501763335gd23010000Ud_6(0..1207), -1), 236), 0), SumArray(ProductCst(end_4501763335gd251100C0Ud_6(0..1207), -1), 236), 0), SumArray(ProductCst(end_4501763335gC25020000UC_6(0..1207), -1), 236), 0), SumArray(ProductCst(end_4501729973L4gd24312000iX_6(0..1207), -1), 236), 0), SumArray(ProductCst(end_4501729973L5gd24312000iX_6(0..1207), -1), 236), 0), SumArray(ProductCst(end_17023433gd280078C0iX_6(0..1207), -1), 237), 0), SumArray(ProductCst(end_17023433gd28001701iX_6(0..1207), -1), 237), 0), SumArray(ProductCst(end_17023446gd35312500iX_6(0..1207), -1), 237), 0), SumArray(ProductCst(end_17023083gd58609000iX_6(0..1207), -1), 238), 0), SumArray(ProductCst(end_17023083gd58616000iX_6(0..1207), -1), 238), 0), SumArray(ProductCst(end_17023083gd58816000iX_6(0..1207), -1), 238), 0), SumArray(ProductCst(end_17023083gd58802500iX_6(0..1207), -1), 238), 0), SumArray(ProductCst(end_17023083gd58602500iX_6(0..1207), -1), 238), 0), SumArray(ProductCst(end_17023083gd58809000iX_6(0..1207), -1), 238), 0), SumArray(ProductCst(end_17023083gd59017000iX_6(0..1207), -1), 238), 0), SumArray(ProductCst(end_17023083gd59002500iX_6(0..1207), -1), 238), 0), SumArray(ProductCst(end_17023083gd59413000iX_6(0..1207), -1), 238), 0), SumArray(ProductCst(end_17023083gd59402500iX_6(0..1207), -1), 238), 0), SumArray(ProductCst(end_17023083gd59202500iX_6(0..1207), -1), 238), 0), SumArray(ProductCst(end_17023083gd59216000iX_6(0..1207), -1), 238), 0), SumArray(ProductCst(end_17023340gd43208500iX_6(0..1207), -1), 238), 0), SumArray(ProductCst(end_17023340gd43002400iX_6(0..1207), -1), 238), 0), SumArray(ProductCst(end_17023340gd28002400iX_6(0..1207), -1), 238), 0), SumArray(ProductCst(end_17023340gd280043C0iX_6(0..1207), -1), 238), 0), SumArray(ProductCst(end_17023340gd30212200iX_6(0..1207), -1), 238), 0), SumArray(ProductCst(end_17023438gd84107500iX_6(0..1207), -1), 238), 0), SumArray(ProductCst(end_17023623gd27305000iX_6(0..1207), -1), 238), 0), SumArray(ProductCst(end_17023434gd55102400iX_6(0..1207), -1), 239), 0), SumArray(ProductCst(end_17023434gd29907800iX_6(0..1207), -1), 239), 0), SumArray(ProductCst(end_17023434gd29913000iX_6(0..1207), -1), 239), 0), SumArray(ProductCst(end_17023434gd29901700iX_6(0..1207), -1), 239), 0), SumArray(ProductCst(end_4501763908gC22110000UC_6(0..1207), -1), 242), 0), SumArray(ProductCst(end_kprplkmgd23010001dm_6(0..1207), -1), 242), 0), SumArray(ProductCst(end_kprplkmgd23020000iX_6(0..1207), -1), 242), 0), SumArray(ProductCst(end_kprplkmgC25010000dm_6(0..1207), -1), 242), 0), SumArray(ProductCst(end_kprplkmgC25015000dm_6(0..1207), -1), 242), 0), SumArray(ProductCst(end_kprplkmgC25020000dm_6(0..1207), -1), 242), 0), SumArray(ProductCst(end_17021922gd30518101iX_6(0..1207), -1), 244), 0), SumArray(ProductCst(end_17023435gd30212200iX_6(0..1207), -1), 244), 0), SumArray(ProductCst(end_17023435gd30004300iX_6(0..1207), -1), 244), 0), SumArray(ProductCst(end_17023435gd28018100iX_6(0..1207), -1), 244), 0), SumArray(ProductCst(end_17023435gd28004300iX_6(0..1207), -1), 244), 0), SumArray(ProductCst(end_17023634gd28002400iX_6(0..1207), -1), 245), 0), SumArray(ProductCst(end_17023634gd28001700iX_6(0..1207), -1), 245), 0), SumArray(ProductCst(end_17023634gd28007800iX_6(0..1207), -1), 245), 0), SumArray(ProductCst(end_17023635gd28001701iX_6(0..1207), -1), 245), 0), SumArray(ProductCst(end_17023635gd28004300iX_6(0..1207), -1), 245), 0), SumArray(ProductCst(end_17023635gd280043C0iX_6(0..1207), -1), 245), 0), SumArray(ProductCst(end_17023503gd30212200iX_6(0..1207), -1), 246), 0), SumArray(ProductCst(end_17023124gC22215001QT_6(0..1207), -1), 247), 0), SumArray(ProductCst(end_17023124gC22315001QT_6(0..1207), -1), 247), 0), SumArray(ProductCst(end_17023124gC22115001QT_6(0..1207), -1), 247), 0), SumArray(ProductCst(end_17023124gC22415001QT_6(0..1207), -1), 247), 0), SumArray(ProductCst(end_17023124gC22515001QT_6(0..1207), -1), 247), 0), SumArray(ProductCst(end_17022242gd83413100iXdC_6(0..1207), -1), 250), 0), SumArray(ProductCst(end_17023647L1gd28001701iX_6(0..1207), -1), 251), 0), SumArray(ProductCst(end_17023647L2gd28001701iX_6(0..1207), -1), 251), 0), SumArray(ProductCst(end_4501770199gC25010000Ud_6(0..1207), -1), 252), 0), SumArray(ProductCst(end_4501770199gC25020000UC_6(0..1207), -1), 252), 0), SumArray(ProductCst(end_17023678gd29907800iX_6(0..1207), -1), 253), 0), SumArray(ProductCst(end_17023678gd29902400iX_6(0..1207), -1), 253), 0), SumArray(ProductCst(end_17023678gd32702400iX_6(0..1207), -1), 253), 0), SumArray(ProductCst(end_17023678gd29913000iX_6(0..1207), -1), 253), 0), SumArray(ProductCst(end_17023678gd29901700iX_6(0..1207), -1), 253), 0), SumArray(ProductCst(end_17023633gd30212200iX_6(0..1207), -1), 254), 0), SumArray(ProductCst(end_17023633gd43208500iX_6(0..1207), -1), 254), 0), SumArray(ProductCst(end_17023641gd55001700iX_6(0..1207), -1), 254), 0), SumArray(ProductCst(end_17023641gd55102400iX_6(0..1207), -1), 254), 0), SumArray(ProductCst(end_17023641gd43208500iX_6(0..1207), -1), 254), 0), SumArray(ProductCst(end_17023641gd43213000iX_6(0..1207), -1), 254), 0), SumArray(ProductCst(end_17023643gd263100H0iX_6(0..1207), -1), 258), 0), SumArray(ProductCst(end_17023643gd261100I0CZ_6(0..1207), -1), 258), 0), SumArray(ProductCst(end_17023644gd34705000CZ_6(0..1207), -1), 258), 0), SumArray(ProductCst(end_17023648gd28001701iX_6(0..1207), -1), 258), 0), SumArray(ProductCst(end_17023679gd30212200iX_6(0..1207), -1), 258), 0), SumArray(ProductCst(end_17023679gd28001701iX_6(0..1207), -1), 258), 0), SumArray(ProductCst(end_17023679gd28013000iX_6(0..1207), -1), 258), 0), SumArray(ProductCst(end_4501729973L7gd24312000iX_6(0..1207), -1), 259), 0), SumArray(ProductCst(end_17023649gd280078C0iX_6(0..1207), -1), 261), 0), SumArray(ProductCst(end_17023651gd28018100iX_6(0..1207), -1), 265), 0), SumArray(ProductCst(end_17023652gd28007800iX_6(0..1207), -1), 265), 0), SumArray(ProductCst(end_17023652gd28001700iX_6(0..1207), -1), 265), 0), SumArray(ProductCst(end_17023652gd55001700iX_6(0..1207), -1), 265), 0), SumArray(ProductCst(end_17023652gd55102400iX_6(0..1207), -1), 265), 0), SumArray(ProductCst(end_17023652gd43202400iX_6(0..1207), -1), 265), 0), SumArray(ProductCst(end_17023646gd280043C0iX_6(0..1207), -1), 266), 0), SumArray(ProductCst(end_17023646gd28002400iX_6(0..1207), -1), 266), 0), SumArray(ProductCst(end_17023656gd58609000iX_6(0..1207), -1), 266), 0), SumArray(ProductCst(end_17023656gd58616000iX_6(0..1207), -1), 266), 0), SumArray(ProductCst(end_17023656gd58816000iX_6(0..1207), -1), 266), 0), SumArray(ProductCst(end_17023656gd58809000iX_6(0..1207), -1), 266), 0), SumArray(ProductCst(end_17023656gd59017000iX_6(0..1207), -1), 266), 0), SumArray(ProductCst(end_17023656gd59413000iX_6(0..1207), -1), 266), 0), SumArray(ProductCst(end_17023656gd59216000iX_6(0..1207), -1), 266), 0), SumArray(ProductCst(end_4501729973L8gd24312000iX_6(0..1207), -1), 266), 0), SumArray(ProductCst(end_17023504gd30212200iX_6(0..1207), -1), 272), 0), SumArray(ProductCst(end_17023505gd28004300iX_6(0..1207), -1), 272), 0), SumArray(ProductCst(end_17023505gd28001701iX_6(0..1207), -1), 272), 0), SumArray(ProductCst(end_17023506gd28002400iX_6(0..1207), -1), 272), 0), SumArray(ProductCst(end_17023506gd28001701iX_6(0..1207), -1), 272), 0), SumArray(ProductCst(end_17023508gd26802400iX_6(0..1207), -1), 272), 0), SumArray(ProductCst(end_dky19plkmgd23010001dm_6(0..1207), -1), 272), 0), SumArray(ProductCst(end_dky19plkmgd23020000iX_6(0..1207), -1), 272), 0), SumArray(ProductCst(end_dky19plkmgC25010000dm_6(0..1207), -1), 272), 0), SumArray(ProductCst(end_dky19plkmgC25015000dm_6(0..1207), -1), 272), 0), SumArray(ProductCst(end_dky19plkmgC25020000dm_6(0..1207), -1), 272), 0), SumArray(ProductCst(end_17023507gd29904300iX_6(0..1207), -1), 273), 0), SumArray(ProductCst(end_17023507gd39000800iX_6(0..1207), -1), 273), 0), SumArray(ProductCst(end_17023507gd29907800iX_6(0..1207), -1), 273), 0), SumArray(ProductCst(end_4501729973L10gd24312000iX_6(0..1207), -1), 273), 0), SumArray(ProductCst(end_17023772gd33147300iX_6(0..1207), -1), 274), 0), SumArray(ProductCst(end_4501717192gC22310000UC_6(0..1207), -1), 277), 0), SumArray(ProductCst(end_17023457gd28004300iX_6(0..1207), -1), 279), 0), SumArray(ProductCst(end_17023457gd280078C0iX_6(0..1207), -1), 279), 0), SumArray(ProductCst(end_17023457gd28001700iX_6(0..1207), -1), 279), 0), SumArray(ProductCst(end_17023515gd60118101iX_6(0..1207), -1), 280), 0), SumArray(ProductCst(end_17023515gd60218101iX_6(0..1207), -1), 280), 0), SumArray(ProductCst(end_17023515gd60312200iX_6(0..1207), -1), 280), 0), SumArray(ProductCst(end_4501780248gd23010000Ud_6(0..1207), -1), 280), 0), SumArray(ProductCst(end_4501780248gd251100C0Ud_6(0..1207), -1), 280), 0), SumArray(ProductCst(end_4501780248gC25010000Ud_6(0..1207), -1), 280), 0), SumArray(ProductCst(end_4501780248gC25020000UC_6(0..1207), -1), 280), 0), SumArray(ProductCst(end_17023516gd53013300iX_6(0..1207), -1), 286), 0), SumArray(ProductCst(end_17023645gd51704000iX_6(0..1207), -1), 286), 0), SumArray(ProductCst(end_17023645gd51904000iX_6(0..1207), -1), 286), 0), SumArray(ProductCst(end_17023645gd51804000iX_6(0..1207), -1), 286), 0), SumArray(ProductCst(end_17023658gd58616000iX_6(0..1207), -1), 286), 0), SumArray(ProductCst(end_17023658gd58816000iX_6(0..1207), -1), 286), 0), SumArray(ProductCst(end_17023658gd58809000iX_6(0..1207), -1), 286), 0), SumArray(ProductCst(end_17023658gd59017000iX_6(0..1207), -1), 286), 0), SumArray(ProductCst(end_17023658gd59413000iX_6(0..1207), -1), 286), 0), SumArray(ProductCst(end_17023658gd59216000iX_6(0..1207), -1), 286), 0), SumArray(ProductCst(end_17023668gd280043C0iX_6(0..1207), -1), 286), 0), SumArray(ProductCst(end_17023668gd28013000iX_6(0..1207), -1), 286), 0), SumArray(ProductCst(end_17023668gd43213000iX_6(0..1207), -1), 286), 0), SumArray(ProductCst(end_17023668gd28001700iX_6(0..1207), -1), 286), 0), SumArray(ProductCst(end_17023669gd55001700iX_6(0..1207), -1), 289), 0), SumArray(ProductCst(end_17023669gd55102400iX_6(0..1207), -1), 289), 0), SumArray(ProductCst(end_17023669gd30212200iX_6(0..1207), -1), 289), 0), SumArray(ProductCst(end_17023466gd246100g0gJ_6(0..1207), -1), 290), 0), SumArray(ProductCst(end_17023466gd34110000gJ_6(0..1207), -1), 290), 0), SumArray(ProductCst(end_17023466gd34310000gJ_6(0..1207), -1), 290), 0), SumArray(ProductCst(end_17023466gd34210000gJ_6(0..1207), -1), 290), 0), SumArray(ProductCst(end_4501729973L9gd24312000iX_6(0..1207), -1), 290), 0), SumArray(ProductCst(end_17023535gd262100W0iX_6(0..1207), -1), 293), 0), SumArray(ProductCst(end_17023535gd263100H0iX_6(0..1207), -1), 293), 0), SumArray(ProductCst(end_17023881gd50012500iX_6(0..1207), -1), 293), 0), SumArray(ProductCst(end_17023825gd29904300iX_6(0..1207), -1), 294), 0), SumArray(ProductCst(end_17023825gd29902400iX_6(0..1207), -1), 294), 0), SumArray(ProductCst(end_17023825gd39000800iX_6(0..1207), -1), 294), 0), SumArray(ProductCst(end_17023923gd28004300iX_6(0..1207), -1), 294), 0), SumArray(ProductCst(end_17023923gd30212200iX_6(0..1207), -1), 294), 0), SumArray(ProductCst(end_17023975gd35112500iX_6(0..1207), -1), 294), 0), SumArray(ProductCst(end_17023975gd57812500iX_6(0..1207), -1), 294), 0), SumArray(ProductCst(end_17023534gd28001701iX_6(0..1207), -1), 301), 0), SumArray(ProductCst(end_Jum19plkmgd23005001dm_6(0..1207), -1), 303), 0), SumArray(ProductCst(end_Jum19plkmgd23010001dm_6(0..1207), -1), 303), 0), SumArray(ProductCst(end_Jum19plkmgd23020000iX_6(0..1207), -1), 303), 0), SumArray(ProductCst(end_Jum19plkmgC25005000dm_6(0..1207), -1), 303), 0), SumArray(ProductCst(end_Jum19plkmgC25010000dm_6(0..1207), -1), 303), 0), SumArray(ProductCst(end_Jum19plkmgC25015000dm_6(0..1207), -1), 303), 0), SumArray(ProductCst(end_Jum19plkmgC25020000dm_6(0..1207), -1), 303), 0), SumArray(ProductCst(end_4501729973L12gd24312000iX_6(0..1207), -1), 304), 0), SumArray(ProductCst(end_17023468gd280078C0iX_6(0..1207), -1), 307), 0), SumArray(ProductCst(end_17023468gd28007800iX_6(0..1207), -1), 307), 0), SumArray(ProductCst(end_17023468gd28001700iX_6(0..1207), -1), 307), 0), SumArray(ProductCst(end_17023833gd55001700iX_6(0..1207), -1), 307), 0), SumArray(ProductCst(end_17023833gd55102400iX_6(0..1207), -1), 307), 0), SumArray(ProductCst(end_17023833gd30212200iX_6(0..1207), -1), 307), 0)"
            ]
          },
          "metadata": {
            "tags": []
          },
          "execution_count": 21
        }
      ]
    },
    {
      "cell_type": "markdown",
      "metadata": {
        "id": "EcrQOnfJgYxd",
        "colab_type": "text"
      },
      "source": [
        "**Indices**  \n",
        "j - job  \n",
        "m - machine  \n",
        "\n",
        "**Decision Variable**  \n",
        "$s_{j,m}$ - start time of job j at machine m  \n",
        "$e_{j,m}$ - end time of job j at machine m  \n",
        "$d_{j,m}$ - duration of job j at machine m  \n",
        "\n",
        "**Parameters**  \n",
        "H - Horizon  \n",
        "$d_j$ - delivery date of job j  \n",
        "$q_j$ - order qty of job j  \n",
        "$o_{j,m}$ - output per hour of job j at machine m  \n",
        "\n",
        "**Objective**  \n",
        "$ \\sum_{j} d_j - max(e_{j,m})  \\qquad \\forall m \\in mc$  \n",
        "\n",
        "**Constraints**  \n",
        "$ \\sum_m e_{j,m} < s_{i,m} or s_{j,m} > e_{i,m} \\qquad \\forall j,i \\in jobs$  \n",
        "$ \\sum_j o_{j,m} \\times d_{j,m} >= q_j \\qquad \\forall m \\in ma $\n"
      ]
    }
  ]
}
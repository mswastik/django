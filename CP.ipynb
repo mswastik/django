{
  "nbformat": 4,
  "nbformat_minor": 0,
  "metadata": {
    "kernelspec": {
      "display_name": "Python 3",
      "language": "python",
      "name": "python3"
    },
    "language_info": {
      "codemirror_mode": {
        "name": "ipython",
        "version": 3
      },
      "file_extension": ".py",
      "mimetype": "text/x-python",
      "name": "python",
      "nbconvert_exporter": "python",
      "pygments_lexer": "ipython3",
      "version": "3.8.2"
    },
    "colab": {
      "name": "CP.ipynb",
      "provenance": []
    }
  },
  "cells": [
    {
      "cell_type": "code",
      "metadata": {
        "id": "ZAegf4MTD07x",
        "colab_type": "code",
        "colab": {
          "base_uri": "https://localhost:8080/",
          "height": 1000
        },
        "outputId": "c01a2c1b-c15c-4bca-82d5-293a37bd59dd"
      },
      "source": [
        "!pip install ortools\n",
        "!pip install dtale"
      ],
      "execution_count": 2,
      "outputs": [
        {
          "output_type": "stream",
          "text": [
            "Collecting ortools\n",
            "\u001b[?25l  Downloading https://files.pythonhosted.org/packages/6c/e9/57ee68e41e02b00836dbe61a4f9679c953623168dcca3a84e2cd16a3e9b2/ortools-7.8.7959-cp36-cp36m-manylinux1_x86_64.whl (32.7MB)\n",
            "\u001b[K     |████████████████████████████████| 32.7MB 104kB/s \n",
            "\u001b[?25hRequirement already satisfied: protobuf>=3.12.2 in /usr/local/lib/python3.6/dist-packages (from ortools) (3.12.4)\n",
            "Requirement already satisfied: six>=1.10 in /usr/local/lib/python3.6/dist-packages (from ortools) (1.15.0)\n",
            "Requirement already satisfied: setuptools in /usr/local/lib/python3.6/dist-packages (from protobuf>=3.12.2->ortools) (49.2.0)\n",
            "Installing collected packages: ortools\n",
            "Successfully installed ortools-7.8.7959\n",
            "Collecting dtale\n",
            "\u001b[?25l  Downloading https://files.pythonhosted.org/packages/bc/ac/59e8a6268ba75640990c9055a82bb86bdbe5d9b96cf0778200228a468023/dtale-1.13.0-py2.py3-none-any.whl (7.6MB)\n",
            "\u001b[K     |████████████████████████████████| 7.6MB 5.4MB/s \n",
            "\u001b[?25hCollecting dash-bootstrap-components\n",
            "\u001b[?25l  Downloading https://files.pythonhosted.org/packages/da/09/9f100586edd1605409c9be8a8d1eabd5cfd1b4a7b842e2761e9c44eedd89/dash-bootstrap-components-0.10.3.tar.gz (107kB)\n",
            "\u001b[K     |████████████████████████████████| 112kB 45.7MB/s \n",
            "\u001b[?25h  Installing build dependencies ... \u001b[?25l\u001b[?25hdone\n",
            "  Getting requirements to build wheel ... \u001b[?25l\u001b[?25hdone\n",
            "    Preparing wheel metadata ... \u001b[?25l\u001b[?25hdone\n",
            "Collecting Flask-Compress\n",
            "  Downloading https://files.pythonhosted.org/packages/a0/96/cd684c1ffe97b513303b5bfd4bbfb4114c5f4a5ea8a737af6fd813273df8/Flask-Compress-1.5.0.tar.gz\n",
            "Collecting dash-colorscales\n",
            "\u001b[?25l  Downloading https://files.pythonhosted.org/packages/d5/24/de9318acd52989d77135a8497c8be536442b725473684ed4e1ab999b2051/dash_colorscales-0.0.4.tar.gz (62kB)\n",
            "\u001b[K     |████████████████████████████████| 71kB 7.8MB/s \n",
            "\u001b[?25hRequirement already satisfied: six in /usr/local/lib/python3.6/dist-packages (from dtale) (1.15.0)\n",
            "Collecting dash>=1.5.0\n",
            "\u001b[?25l  Downloading https://files.pythonhosted.org/packages/1d/d1/191ad32bd9e6d10b2fc0f5d31e9e6a85fdb2642088658f75817d67bdeaea/dash-1.14.0.tar.gz (70kB)\n",
            "\u001b[K     |████████████████████████████████| 71kB 7.6MB/s \n",
            "\u001b[?25hRequirement already satisfied: scipy in /usr/local/lib/python3.6/dist-packages (from dtale) (1.4.1)\n",
            "Requirement already satisfied: statsmodels in /usr/local/lib/python3.6/dist-packages (from dtale) (0.10.2)\n",
            "Collecting lz4; python_version > \"3.0\"\n",
            "\u001b[?25l  Downloading https://files.pythonhosted.org/packages/15/6a/ea95dd9a9957143636cfad5037637abec91016b9bde519d3edf4708e3d83/lz4-3.1.0-cp36-cp36m-manylinux2010_x86_64.whl (1.8MB)\n",
            "\u001b[K     |████████████████████████████████| 1.8MB 41.6MB/s \n",
            "\u001b[?25hCollecting flask-ngrok; python_version > \"3.0\"\n",
            "  Downloading https://files.pythonhosted.org/packages/af/6c/f54cb686ad1129e27d125d182f90f52b32f284e6c8df58c1bae54fa1adbc/flask_ngrok-0.0.25-py3-none-any.whl\n",
            "Requirement already satisfied: future>=0.14.0 in /usr/local/lib/python3.6/dist-packages (from dtale) (0.16.0)\n",
            "Requirement already satisfied: requests in /usr/local/lib/python3.6/dist-packages (from dtale) (2.23.0)\n",
            "Requirement already satisfied: xarray in /usr/local/lib/python3.6/dist-packages (from dtale) (0.15.1)\n",
            "Collecting dash-daq\n",
            "\u001b[?25l  Downloading https://files.pythonhosted.org/packages/16/c1/9c6adfc3646990965a5b2ca073f579cc9c09d15553fcfcd83aefd1255494/dash_daq-0.5.0.tar.gz (642kB)\n",
            "\u001b[K     |████████████████████████████████| 645kB 42.2MB/s \n",
            "\u001b[?25hRequirement already satisfied: pandas in /usr/local/lib/python3.6/dist-packages (from dtale) (1.0.5)\n",
            "Requirement already satisfied: itsdangerous in /usr/local/lib/python3.6/dist-packages (from dtale) (1.1.0)\n",
            "Requirement already satisfied: scikit-learn>='0.21.0 in /usr/local/lib/python3.6/dist-packages (from dtale) (0.22.2.post1)\n",
            "Requirement already satisfied: Flask>=1.0 in /usr/local/lib/python3.6/dist-packages (from dtale) (1.1.2)\n",
            "Collecting brotli\n",
            "\u001b[?25l  Downloading https://files.pythonhosted.org/packages/f4/68/60a220454dc5083c6d59b41aa90bb1c96fad62a0abf3a33e0ef64b38638a/Brotli-1.0.7-cp36-cp36m-manylinux1_x86_64.whl (352kB)\n",
            "\u001b[K     |████████████████████████████████| 358kB 38.6MB/s \n",
            "\u001b[?25hRequirement already satisfied: plotly in /usr/local/lib/python3.6/dist-packages (from dash>=1.5.0->dtale) (4.4.1)\n",
            "Collecting dash_renderer==1.6.0\n",
            "\u001b[?25l  Downloading https://files.pythonhosted.org/packages/da/a6/ddbcd01c638a2c235bfe13fd75155b344c7b7ab1c6466fe6d46b159897ad/dash_renderer-1.6.0.tar.gz (1.2MB)\n",
            "\u001b[K     |████████████████████████████████| 1.2MB 44.1MB/s \n",
            "\u001b[?25hCollecting dash-core-components==1.10.2\n",
            "\u001b[?25l  Downloading https://files.pythonhosted.org/packages/ee/74/f961bb01aa015b76c60045cf8ad5d9eb2279656f4483b42750ec3b925c9c/dash_core_components-1.10.2.tar.gz (3.4MB)\n",
            "\u001b[K     |████████████████████████████████| 3.4MB 39.2MB/s \n",
            "\u001b[?25hCollecting dash-html-components==1.0.3\n",
            "\u001b[?25l  Downloading https://files.pythonhosted.org/packages/da/20/46714ae501ccf16e5e37ca160c06e27347d19889687454168730e6744cdc/dash_html_components-1.0.3.tar.gz (187kB)\n",
            "\u001b[K     |████████████████████████████████| 194kB 47.0MB/s \n",
            "\u001b[?25hCollecting dash-table==4.9.0\n",
            "\u001b[?25l  Downloading https://files.pythonhosted.org/packages/54/9f/11347b397b840b67481f6ecadefb64de0b57d199752d5e182161a4217f1d/dash_table-4.9.0.tar.gz (1.8MB)\n",
            "\u001b[K     |████████████████████████████████| 1.8MB 35.7MB/s \n",
            "\u001b[?25hRequirement already satisfied: numpy>=1.13.3 in /usr/local/lib/python3.6/dist-packages (from scipy->dtale) (1.18.5)\n",
            "Requirement already satisfied: patsy>=0.4.0 in /usr/local/lib/python3.6/dist-packages (from statsmodels->dtale) (0.5.1)\n",
            "Requirement already satisfied: urllib3!=1.25.0,!=1.25.1,<1.26,>=1.21.1 in /usr/local/lib/python3.6/dist-packages (from requests->dtale) (1.24.3)\n",
            "Requirement already satisfied: idna<3,>=2.5 in /usr/local/lib/python3.6/dist-packages (from requests->dtale) (2.10)\n",
            "Requirement already satisfied: certifi>=2017.4.17 in /usr/local/lib/python3.6/dist-packages (from requests->dtale) (2020.6.20)\n",
            "Requirement already satisfied: chardet<4,>=3.0.2 in /usr/local/lib/python3.6/dist-packages (from requests->dtale) (3.0.4)\n",
            "Requirement already satisfied: setuptools>=41.2 in /usr/local/lib/python3.6/dist-packages (from xarray->dtale) (49.2.0)\n",
            "Requirement already satisfied: pytz>=2017.2 in /usr/local/lib/python3.6/dist-packages (from pandas->dtale) (2018.9)\n",
            "Requirement already satisfied: python-dateutil>=2.6.1 in /usr/local/lib/python3.6/dist-packages (from pandas->dtale) (2.8.1)\n",
            "Requirement already satisfied: joblib>=0.11 in /usr/local/lib/python3.6/dist-packages (from scikit-learn>='0.21.0->dtale) (0.16.0)\n",
            "Requirement already satisfied: Jinja2>=2.10.1 in /usr/local/lib/python3.6/dist-packages (from Flask>=1.0->dtale) (2.11.2)\n",
            "Requirement already satisfied: Werkzeug>=0.15 in /usr/local/lib/python3.6/dist-packages (from Flask>=1.0->dtale) (1.0.1)\n",
            "Requirement already satisfied: click>=5.1 in /usr/local/lib/python3.6/dist-packages (from Flask>=1.0->dtale) (7.1.2)\n",
            "Requirement already satisfied: retrying>=1.3.3 in /usr/local/lib/python3.6/dist-packages (from plotly->dash>=1.5.0->dtale) (1.3.3)\n",
            "Requirement already satisfied: MarkupSafe>=0.23 in /usr/local/lib/python3.6/dist-packages (from Jinja2>=2.10.1->Flask>=1.0->dtale) (1.1.1)\n",
            "Building wheels for collected packages: dash-bootstrap-components\n",
            "  Building wheel for dash-bootstrap-components (PEP 517) ... \u001b[?25l\u001b[?25hdone\n",
            "  Created wheel for dash-bootstrap-components: filename=dash_bootstrap_components-0.10.3-cp36-none-any.whl size=179484 sha256=b25ae1ed556c1d4fb4081bb22845157e108879cdb5863aa5cffce140cbea685a\n",
            "  Stored in directory: /root/.cache/pip/wheels/c0/96/96/1900eafa8fba572ad4f539891d37e37a480c0b045bf92df243\n",
            "Successfully built dash-bootstrap-components\n",
            "Building wheels for collected packages: Flask-Compress, dash-colorscales, dash, dash-daq, dash-renderer, dash-core-components, dash-html-components, dash-table\n",
            "  Building wheel for Flask-Compress (setup.py) ... \u001b[?25l\u001b[?25hdone\n",
            "  Created wheel for Flask-Compress: filename=Flask_Compress-1.5.0-cp36-none-any.whl size=5273 sha256=eb26a87334ae6b88145c68d0f4c5acbc79686dcd25a9f5d92afbbef53236ad57\n",
            "  Stored in directory: /root/.cache/pip/wheels/f7/e9/e4/5afc286be7c87461375e33152558415dfeb0c8f5af3b50e742\n",
            "  Building wheel for dash-colorscales (setup.py) ... \u001b[?25l\u001b[?25hdone\n",
            "  Created wheel for dash-colorscales: filename=dash_colorscales-0.0.4-cp36-none-any.whl size=62599 sha256=3f4324abeaecf4b553c108b892d3c9f271b1d1e7a713448eb6cff1bcc523ecf1\n",
            "  Stored in directory: /root/.cache/pip/wheels/0e/4a/1c/3490cfe6a59299b06917af6626a969c8fb7caead39b2d74cf2\n",
            "  Building wheel for dash (setup.py) ... \u001b[?25l\u001b[?25hdone\n",
            "  Created wheel for dash: filename=dash-1.14.0-cp36-none-any.whl size=80129 sha256=fd495396b132a3ef29d82c95e46a5c523d4ed5848762f9efb55a611e7e421a16\n",
            "  Stored in directory: /root/.cache/pip/wheels/1d/54/0b/e846f762d47e8abc9234419822d013dfb2ccf957b48e411dc6\n",
            "  Building wheel for dash-daq (setup.py) ... \u001b[?25l\u001b[?25hdone\n",
            "  Created wheel for dash-daq: filename=dash_daq-0.5.0-cp36-none-any.whl size=669704 sha256=fb9fbc8eb5f01f2e7587f54110cc1bf5f27effa174bc8ceb8d2e98c56f843b7e\n",
            "  Stored in directory: /root/.cache/pip/wheels/1c/9c/f7/84731716eaa9fc952cdbdd1f87df3ca9b8805c317c609efcd6\n",
            "  Building wheel for dash-renderer (setup.py) ... \u001b[?25l\u001b[?25hdone\n",
            "  Created wheel for dash-renderer: filename=dash_renderer-1.6.0-cp36-none-any.whl size=1182221 sha256=c9ee051bbfccf4098f58105ca5ea8f2b7622e37f7e458280494baa763285de2d\n",
            "  Stored in directory: /root/.cache/pip/wheels/2a/de/21/8774fe1ae2271c4747c55c5bcd3e914302a7a6e55a77d866f2\n",
            "  Building wheel for dash-core-components (setup.py) ... \u001b[?25l\u001b[?25hdone\n",
            "  Created wheel for dash-core-components: filename=dash_core_components-1.10.2-cp36-none-any.whl size=3457324 sha256=c2a3cd400cf7bc267c6c6b7054eaedf09b5fefd2384e18d8a1e095db3d7d611f\n",
            "  Stored in directory: /root/.cache/pip/wheels/2a/38/71/0c7e350a8280f6c94a2024a4d16ba905dd2a86ed2aa4a093e3\n",
            "  Building wheel for dash-html-components (setup.py) ... \u001b[?25l\u001b[?25hdone\n",
            "  Created wheel for dash-html-components: filename=dash_html_components-1.0.3-cp36-none-any.whl size=427303 sha256=d2d654252d0053d69662106138b4241a29163abf5d31e5263191ff5c72105dae\n",
            "  Stored in directory: /root/.cache/pip/wheels/22/c0/79/ef4c2b20a23dc8457ae75c3da5f63163db213d86e13e00fe26\n",
            "  Building wheel for dash-table (setup.py) ... \u001b[?25l\u001b[?25hdone\n",
            "  Created wheel for dash-table: filename=dash_table-4.9.0-cp36-none-any.whl size=1780769 sha256=51c7bf095382afc52e1dd9a6705d60c394e980e9ed56f113dd765df0df984878\n",
            "  Stored in directory: /root/.cache/pip/wheels/f6/99/e4/a3af0a6f2d07ace02dd25984c08294d2749818c38f44d55338\n",
            "Successfully built Flask-Compress dash-colorscales dash dash-daq dash-renderer dash-core-components dash-html-components dash-table\n",
            "Installing collected packages: brotli, Flask-Compress, dash-renderer, dash-core-components, dash-html-components, dash-table, dash, dash-bootstrap-components, dash-colorscales, lz4, flask-ngrok, dash-daq, dtale\n",
            "Successfully installed Flask-Compress-1.5.0 brotli-1.0.7 dash-1.14.0 dash-bootstrap-components-0.10.3 dash-colorscales-0.0.4 dash-core-components-1.10.2 dash-daq-0.5.0 dash-html-components-1.0.3 dash-renderer-1.6.0 dash-table-4.9.0 dtale-1.13.0 flask-ngrok-0.0.25 lz4-3.1.0\n"
          ],
          "name": "stdout"
        }
      ]
    },
    {
      "cell_type": "code",
      "metadata": {
        "id": "sG_LW15bCHKH",
        "colab_type": "code",
        "colab": {}
      },
      "source": [
        "import pandas as pd\n",
        "import numpy as np\n",
        "from ortools.sat.python import cp_model\n",
        "from dtale import show\n",
        "import dtale.app as dtale_app\n",
        "dtale_app.USE_COLAB = True"
      ],
      "execution_count": 3,
      "outputs": []
    },
    {
      "cell_type": "code",
      "metadata": {
        "id": "lKtWkvxcHkmA",
        "colab_type": "code",
        "colab": {
          "base_uri": "https://localhost:8080/",
          "height": 176
        },
        "outputId": "37e11e85-c13d-48c9-9cbb-be8ed5981e47"
      },
      "source": [
        "# Clone the entire repo.\n",
        "!git clone -l -s https://github.com/mswastik/optimization.git cloned-repo\n",
        "%cd cloned-repo\n",
        "!ls"
      ],
      "execution_count": 9,
      "outputs": [
        {
          "output_type": "stream",
          "text": [
            "Cloning into 'cloned-repo'...\n",
            "warning: --local is ignored\n",
            "remote: Enumerating objects: 35, done.\u001b[K\n",
            "remote: Counting objects:   2% (1/35)\u001b[K\rremote: Counting objects:   5% (2/35)\u001b[K\rremote: Counting objects:   8% (3/35)\u001b[K\rremote: Counting objects:  11% (4/35)\u001b[K\rremote: Counting objects:  14% (5/35)\u001b[K\rremote: Counting objects:  17% (6/35)\u001b[K\rremote: Counting objects:  20% (7/35)\u001b[K\rremote: Counting objects:  22% (8/35)\u001b[K\rremote: Counting objects:  25% (9/35)\u001b[K\rremote: Counting objects:  28% (10/35)\u001b[K\rremote: Counting objects:  31% (11/35)\u001b[K\rremote: Counting objects:  34% (12/35)\u001b[K\rremote: Counting objects:  37% (13/35)\u001b[K\rremote: Counting objects:  40% (14/35)\u001b[K\rremote: Counting objects:  42% (15/35)\u001b[K\rremote: Counting objects:  45% (16/35)\u001b[K\rremote: Counting objects:  48% (17/35)\u001b[K\rremote: Counting objects:  51% (18/35)\u001b[K\rremote: Counting objects:  54% (19/35)\u001b[K\rremote: Counting objects:  57% (20/35)\u001b[K\rremote: Counting objects:  60% (21/35)\u001b[K\rremote: Counting objects:  62% (22/35)\u001b[K\rremote: Counting objects:  65% (23/35)\u001b[K\rremote: Counting objects:  68% (24/35)\u001b[K\rremote: Counting objects:  71% (25/35)\u001b[K\rremote: Counting objects:  74% (26/35)\u001b[K\rremote: Counting objects:  77% (27/35)\u001b[K\rremote: Counting objects:  80% (28/35)\u001b[K\rremote: Counting objects:  82% (29/35)\u001b[K\rremote: Counting objects:  85% (30/35)\u001b[K\rremote: Counting objects:  88% (31/35)\u001b[K\rremote: Counting objects:  91% (32/35)\u001b[K\rremote: Counting objects:  94% (33/35)\u001b[K\rremote: Counting objects:  97% (34/35)\u001b[K\rremote: Counting objects: 100% (35/35)\u001b[K\rremote: Counting objects: 100% (35/35), done.\u001b[K\n",
            "remote: Compressing objects: 100% (31/31), done.\u001b[K\n",
            "remote: Total 35 (delta 6), reused 0 (delta 0), pack-reused 0\u001b[K\n",
            "Unpacking objects: 100% (35/35), done.\n",
            "/content/cloned-repo/cloned-repo/cloned-repo\n",
            " CP.ipynb  'item master.xlsx'   orders.xlsx   README.md\n"
          ],
          "name": "stdout"
        }
      ]
    },
    {
      "cell_type": "code",
      "metadata": {
        "id": "6kU6ehn9IbPk",
        "colab_type": "code",
        "colab": {}
      },
      "source": [
        "df=pd.read_excel('orders.xlsx')"
      ],
      "execution_count": 13,
      "outputs": []
    },
    {
      "cell_type": "code",
      "metadata": {
        "id": "nUhA6-OCCHKV",
        "colab_type": "code",
        "colab": {}
      },
      "source": [
        "df = df[df['Line']=='Tmmthpkhti Limi']\n",
        "del df['Line']\n",
        "df['due'] = df['Dispatch Date'] - df['Dispatch Date'].min()\n",
        "df['due'] = df['due'].dt.days\n",
        "df.reset_index(inplace=True,drop=True)\n",
        "df['Key']=df['SO'].astype('str')+df['FG Code']"
      ],
      "execution_count": 14,
      "outputs": []
    },
    {
      "cell_type": "code",
      "metadata": {
        "id": "2cwIiuCSCHKk",
        "colab_type": "code",
        "colab": {
          "base_uri": "https://localhost:8080/",
          "height": 35
        },
        "outputId": "ddcde5e2-7df1-4cf4-b7d6-09c566fd2d70"
      },
      "source": [
        "show(df,ignore_duplicate=True)"
      ],
      "execution_count": null,
      "outputs": [
        {
          "output_type": "execute_result",
          "data": {
            "text/plain": [
              "https://pi6pg94wws-496ff2e9c6d22116-40000-colab.googleusercontent.com/dtale/main/3"
            ]
          },
          "metadata": {
            "tags": []
          },
          "execution_count": 16
        }
      ]
    },
    {
      "cell_type": "code",
      "metadata": {
        "id": "OuVWzgmiAHVF",
        "colab_type": "code",
        "colab": {
          "base_uri": "https://localhost:8080/",
          "height": 406
        },
        "outputId": "8670cd15-d005-448b-dd16-01fa9e2da3c0"
      },
      "source": [
        "df"
      ],
      "execution_count": 15,
      "outputs": [
        {
          "output_type": "execute_result",
          "data": {
            "text/html": [
              "<div>\n",
              "<style scoped>\n",
              "    .dataframe tbody tr th:only-of-type {\n",
              "        vertical-align: middle;\n",
              "    }\n",
              "\n",
              "    .dataframe tbody tr th {\n",
              "        vertical-align: top;\n",
              "    }\n",
              "\n",
              "    .dataframe thead th {\n",
              "        text-align: right;\n",
              "    }\n",
              "</style>\n",
              "<table border=\"1\" class=\"dataframe\">\n",
              "  <thead>\n",
              "    <tr style=\"text-align: right;\">\n",
              "      <th></th>\n",
              "      <th>SO</th>\n",
              "      <th>Customer</th>\n",
              "      <th>SO Date</th>\n",
              "      <th>Dispatch Date</th>\n",
              "      <th>FG Code</th>\n",
              "      <th>Order Qty</th>\n",
              "      <th>Description</th>\n",
              "      <th>Plant</th>\n",
              "      <th>due</th>\n",
              "      <th>Key</th>\n",
              "    </tr>\n",
              "  </thead>\n",
              "  <tbody>\n",
              "    <tr>\n",
              "      <th>0</th>\n",
              "      <td>17023287</td>\n",
              "      <td>mWI</td>\n",
              "      <td>2019-01-14</td>\n",
              "      <td>2019-04-01</td>\n",
              "      <td>gd29904300iX</td>\n",
              "      <td>486.0</td>\n",
              "      <td>grihhdimt glumridi Gil TPhT 43 G (1.5) m</td>\n",
              "      <td>1024</td>\n",
              "      <td>0</td>\n",
              "      <td>17023287gd29904300iX</td>\n",
              "    </tr>\n",
              "    <tr>\n",
              "      <th>1</th>\n",
              "      <td>17023287</td>\n",
              "      <td>mWI</td>\n",
              "      <td>2019-01-14</td>\n",
              "      <td>2019-04-01</td>\n",
              "      <td>gd29907800iX</td>\n",
              "      <td>216.0</td>\n",
              "      <td>grihhdimt glumridi Gil TPhT 78G- 2.75 mZ</td>\n",
              "      <td>1024</td>\n",
              "      <td>0</td>\n",
              "      <td>17023287gd29907800iX</td>\n",
              "    </tr>\n",
              "    <tr>\n",
              "      <th>2</th>\n",
              "      <td>17023287</td>\n",
              "      <td>mWI</td>\n",
              "      <td>2019-01-14</td>\n",
              "      <td>2019-04-01</td>\n",
              "      <td>gd39000800iX</td>\n",
              "      <td>360.0</td>\n",
              "      <td>grihhdimt kmtickvity gLd GiL TPhT 0.28mZ</td>\n",
              "      <td>1024</td>\n",
              "      <td>0</td>\n",
              "      <td>17023287gd39000800iX</td>\n",
              "    </tr>\n",
              "    <tr>\n",
              "      <th>3</th>\n",
              "      <td>17023287</td>\n",
              "      <td>mWI</td>\n",
              "      <td>2019-01-14</td>\n",
              "      <td>2019-04-01</td>\n",
              "      <td>gd55102400iX</td>\n",
              "      <td>180.0</td>\n",
              "      <td>didichmici Pridiud gld TPhT 24g-0.85 mZ</td>\n",
              "      <td>1024</td>\n",
              "      <td>0</td>\n",
              "      <td>17023287gd55102400iX</td>\n",
              "    </tr>\n",
              "    <tr>\n",
              "      <th>4</th>\n",
              "      <td>17023287</td>\n",
              "      <td>mWI</td>\n",
              "      <td>2019-01-14</td>\n",
              "      <td>2019-04-01</td>\n",
              "      <td>gd30805600iX</td>\n",
              "      <td>216.0</td>\n",
              "      <td>grihhdimt dimturi kdhihivi 56.7G-20Z-dk2</td>\n",
              "      <td>1025</td>\n",
              "      <td>0</td>\n",
              "      <td>17023287gd30805600iX</td>\n",
              "    </tr>\n",
              "    <tr>\n",
              "      <th>...</th>\n",
              "      <td>...</td>\n",
              "      <td>...</td>\n",
              "      <td>...</td>\n",
              "      <td>...</td>\n",
              "      <td>...</td>\n",
              "      <td>...</td>\n",
              "      <td>...</td>\n",
              "      <td>...</td>\n",
              "      <td>...</td>\n",
              "      <td>...</td>\n",
              "    </tr>\n",
              "    <tr>\n",
              "      <th>221</th>\n",
              "      <td>17023468</td>\n",
              "      <td>mWI</td>\n",
              "      <td>2019-04-24</td>\n",
              "      <td>2019-06-24</td>\n",
              "      <td>gd28001700iX</td>\n",
              "      <td>640.0</td>\n",
              "      <td>grihhdimt glumridi TPhT 17g (0.6) mZ</td>\n",
              "      <td>1024</td>\n",
              "      <td>84</td>\n",
              "      <td>17023468gd28001700iX</td>\n",
              "    </tr>\n",
              "    <tr>\n",
              "      <th>222</th>\n",
              "      <td>17023833</td>\n",
              "      <td>mWI</td>\n",
              "      <td>2019-04-23</td>\n",
              "      <td>2019-06-24</td>\n",
              "      <td>gd55001700iX</td>\n",
              "      <td>320.0</td>\n",
              "      <td>didichmici glumridi TPhT 17g-0.6 mZ</td>\n",
              "      <td>1024</td>\n",
              "      <td>84</td>\n",
              "      <td>17023833gd55001700iX</td>\n",
              "    </tr>\n",
              "    <tr>\n",
              "      <th>223</th>\n",
              "      <td>17023833</td>\n",
              "      <td>mWI</td>\n",
              "      <td>2019-04-23</td>\n",
              "      <td>2019-06-24</td>\n",
              "      <td>gd55102400iX</td>\n",
              "      <td>360.0</td>\n",
              "      <td>didichmici Pridiud gld TPhT 24g-0.85 mZ</td>\n",
              "      <td>1024</td>\n",
              "      <td>84</td>\n",
              "      <td>17023833gd55102400iX</td>\n",
              "    </tr>\n",
              "    <tr>\n",
              "      <th>224</th>\n",
              "      <td>17023833</td>\n",
              "      <td>mWI</td>\n",
              "      <td>2019-04-23</td>\n",
              "      <td>2019-06-24</td>\n",
              "      <td>gd30212200iX</td>\n",
              "      <td>720.0</td>\n",
              "      <td>grihhdimt himhitivi TPhT122G-4.3mz-TPh43</td>\n",
              "      <td>1024</td>\n",
              "      <td>84</td>\n",
              "      <td>17023833gd30212200iX</td>\n",
              "    </tr>\n",
              "    <tr>\n",
              "      <th>225</th>\n",
              "      <td>RdPJumw4</td>\n",
              "      <td>dmdihtic</td>\n",
              "      <td>2019-04-15</td>\n",
              "      <td>2019-06-30</td>\n",
              "      <td>gd05010k</td>\n",
              "      <td>1250.0</td>\n",
              "      <td>mdmdmh CRikd 100Gd (kRdY)</td>\n",
              "      <td>1025</td>\n",
              "      <td>90</td>\n",
              "      <td>RdPJumw4gd05010k</td>\n",
              "    </tr>\n",
              "  </tbody>\n",
              "</table>\n",
              "<p>226 rows × 10 columns</p>\n",
              "</div>"
            ],
            "text/plain": [
              "           SO  Customer    SO Date  ... Plant due                   Key\n",
              "0    17023287       mWI 2019-01-14  ...  1024   0  17023287gd29904300iX\n",
              "1    17023287       mWI 2019-01-14  ...  1024   0  17023287gd29907800iX\n",
              "2    17023287       mWI 2019-01-14  ...  1024   0  17023287gd39000800iX\n",
              "3    17023287       mWI 2019-01-14  ...  1024   0  17023287gd55102400iX\n",
              "4    17023287       mWI 2019-01-14  ...  1025   0  17023287gd30805600iX\n",
              "..        ...       ...        ...  ...   ...  ..                   ...\n",
              "221  17023468       mWI 2019-04-24  ...  1024  84  17023468gd28001700iX\n",
              "222  17023833       mWI 2019-04-23  ...  1024  84  17023833gd55001700iX\n",
              "223  17023833       mWI 2019-04-23  ...  1024  84  17023833gd55102400iX\n",
              "224  17023833       mWI 2019-04-23  ...  1024  84  17023833gd30212200iX\n",
              "225  RdPJumw4  dmdihtic 2019-04-15  ...  1025  90      RdPJumw4gd05010k\n",
              "\n",
              "[226 rows x 10 columns]"
            ]
          },
          "metadata": {
            "tags": []
          },
          "execution_count": 15
        }
      ]
    },
    {
      "cell_type": "code",
      "metadata": {
        "id": "wnTRb6CnJgka",
        "colab_type": "code",
        "colab": {}
      },
      "source": [
        "jobs =df['Key']\n",
        "op =[1,2,3,4]\n",
        "mc = [1,2,3,4,5,6]\n",
        "sodate = df['SO Date']- df['Dispatch Date'].min()\n",
        "sodate = sodate.dt.days\n",
        "deldate = df['due']\n",
        "\n"
      ],
      "execution_count": 16,
      "outputs": []
    },
    {
      "cell_type": "code",
      "metadata": {
        "id": "e9P2C7qiDgjO",
        "colab_type": "code",
        "colab": {
          "base_uri": "https://localhost:8080/",
          "height": 230
        },
        "outputId": "e56127c8-3e26-4710-c5be-be7e789ea3d2"
      },
      "source": [
        "sodate"
      ],
      "execution_count": 17,
      "outputs": [
        {
          "output_type": "execute_result",
          "data": {
            "text/plain": [
              "0     -77\n",
              "1     -77\n",
              "2     -77\n",
              "3     -77\n",
              "4     -77\n",
              "       ..\n",
              "221    23\n",
              "222    22\n",
              "223    22\n",
              "224    22\n",
              "225    14\n",
              "Name: SO Date, Length: 226, dtype: int64"
            ]
          },
          "metadata": {
            "tags": []
          },
          "execution_count": 17
        }
      ]
    }
  ]
}
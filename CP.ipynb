{
  "nbformat": 4,
  "nbformat_minor": 0,
  "metadata": {
    "kernelspec": {
      "display_name": "Python 3",
      "language": "python",
      "name": "python3"
    },
    "language_info": {
      "codemirror_mode": {
        "name": "ipython",
        "version": 3
      },
      "file_extension": ".py",
      "mimetype": "text/x-python",
      "name": "python",
      "nbconvert_exporter": "python",
      "pygments_lexer": "ipython3",
      "version": "3.8.2"
    },
    "colab": {
      "name": "CP.ipynb",
      "provenance": []
    }
  },
  "cells": [
    {
      "cell_type": "markdown",
      "metadata": {
        "id": "EcrQOnfJgYxd",
        "colab_type": "text"
      },
      "source": [
        "**Indices**  \n",
        "j - job  \n",
        "m - machine \n",
        "\n",
        "**Decision Variable**  \n",
        "$s_{j,m}$ - start time of job j at machine m  \n",
        "$e_{j,m}$ - end time of job j at machine m  \n",
        "$d_{j,m}$ - duration of job j at machine m  \n",
        "$b_{j,m}$ - machine m is selected for job j     \n",
        "$a_{j,i,m}$ - job i precedes job j at machine m \n",
        "\n",
        "**Parameters**  \n",
        "H - Horizon  \n",
        "$d_j$ - delivery date of job j  \n",
        "$q_j$ - order qty of job j  \n",
        "$o_{j,m}$ - output per hour of job j at machine m  \n",
        "$set_{i,j}$ - setup time between job i & j   \n",
        "\n",
        "\n",
        "**Objective** (Not implemented right now)  \n",
        "$ \\sum_{j} d_j - max(e_{j,m})  \\qquad \\forall m \\in mc$    \n",
        "\n",
        "\n",
        "**Constraints**  \n",
        "$ \\sum_m e_{j,m} < s_{i,m} or s_{j,m} > e_{i,m} \\qquad \\forall j,i \\in jobs$  \n",
        "$ \\sum_j o_{j,m} \\times d_{j,m} >= q_j \\qquad \\forall m \\in ma $    \n",
        "$ \\sum_m s_{i,m} >= e_{j,m} + set_{i,j} \\qquad if \\quad b_{j,m}=1, b_{i,m}=1, a_{j,i,m}=1 $  "
      ]
    },
    {
      "cell_type": "code",
      "metadata": {
        "id": "ZAegf4MTD07x",
        "colab_type": "code",
        "colab": {
          "base_uri": "https://localhost:8080/",
          "height": 89
        },
        "outputId": "da8ee8ef-226a-4429-ac4e-3beb8a98d680"
      },
      "source": [
        "!pip install ortools\n",
        "#!pip install dtale"
      ],
      "execution_count": 3,
      "outputs": [
        {
          "output_type": "stream",
          "text": [
            "Requirement already satisfied: ortools in /usr/local/lib/python3.6/dist-packages (7.8.7959)\n",
            "Requirement already satisfied: protobuf>=3.12.2 in /usr/local/lib/python3.6/dist-packages (from ortools) (3.12.4)\n",
            "Requirement already satisfied: six>=1.10 in /usr/local/lib/python3.6/dist-packages (from ortools) (1.15.0)\n",
            "Requirement already satisfied: setuptools in /usr/local/lib/python3.6/dist-packages (from protobuf>=3.12.2->ortools) (50.3.0)\n"
          ],
          "name": "stdout"
        }
      ]
    },
    {
      "cell_type": "code",
      "metadata": {
        "id": "sG_LW15bCHKH",
        "colab_type": "code",
        "colab": {
          "base_uri": "https://localhost:8080/",
          "height": 53
        },
        "outputId": "6c1f3081-36c8-409e-e7ca-9ad505813369"
      },
      "source": [
        "import pandas as pd\n",
        "import numpy as np\n",
        "import collections\n",
        "from ortools.sat.python import cp_model\n",
        "# Clone the entire repo.\n",
        "!git clone -l -s https://github.com/mswastik/optimization.git cloned-repo\n",
        "%cd cloned-repo"
      ],
      "execution_count": 4,
      "outputs": [
        {
          "output_type": "stream",
          "text": [
            "fatal: destination path 'cloned-repo' already exists and is not an empty directory.\n",
            "/content/cloned-repo\n"
          ],
          "name": "stdout"
        }
      ]
    },
    {
      "cell_type": "code",
      "metadata": {
        "id": "nUhA6-OCCHKV",
        "colab_type": "code",
        "colab": {}
      },
      "source": [
        "#Importing Data\n",
        "df=pd.read_excel('orders1.xlsx')\n",
        "ma=pd.read_excel('item master.xlsx')\n",
        "bu=pd.read_excel('item master.xlsx',sheet_name='bulk')\n",
        "pa=pd.read_excel('item master.xlsx',sheet_name='packing')\n",
        " \n",
        "# Formating Data\n",
        "df = df[df['Line']=='Tmmthpkhti Limi']\n",
        "df = df[df['Plant']==1024]\n",
        "del df['Line']\n",
        "df['due'] = df['Dispatch Date'] - df['SO Date'].min()\n",
        "df['due'] = df['due'].dt.days\n",
        "df['sodate'] = df['SO Date'] - df['SO Date'].min()\n",
        "df['sodate'] = df['sodate'].dt.days\n",
        "df.reset_index(inplace=True,drop=True)\n",
        "df['Key']=df['SO'].astype('str')+df['FG Code']\n",
        "del df['Dispatch Date']\n",
        "del df['SO Date']\n",
        "del df['Description']\n",
        "del df['Customer']\n",
        "df['Order Qty'] = df[df['Order Qty']!=0]['Order Qty']\n",
        "df['Order Qty'] = df['Order Qty']*1000\n",
        "df=df[df['Key']!='17023287gd39000800iX']\n",
        " \n",
        " \n",
        "# Creating Parameter Data\n",
        "jobs =df['Key']\n",
        "op =[1,2,3,4]  # Ignore as of now\n",
        "mc = [1,2,3,4,5,6]\n",
        "#horizon = max(df[\"due\"])+900\n",
        "due = df.set_index('Key')\n",
        "dur=df[['Key','FG Code','Order Qty']]\n",
        "dur=dur.merge(pa[[\"FG Code\",\"Line\",\"Output\"]], on=\"FG Code\")\n",
        "dur['Output']=dur['Output']*100\n",
        "dur['duration']=dur['Order Qty']/dur['Output']\n",
        "dur['duration'] = dur['duration'].astype('float64').round(decimals = 2)\n",
        "dur.set_index(['Key','Line'],inplace=True)\n",
        "del dur['FG Code']\n",
        "dur['Output'].replace(0,1,inplace=True)\n",
        "df['Order Qty']=df['Order Qty'].fillna(0).astype('int')\n",
        "dur['duration']=dur['duration'].fillna(0).astype('int')\n",
        "dur['Output']=dur['Output'].fillna(0).astype('int')\n",
        "horizon = sum(dur['duration'])\n",
        " \n",
        "#Setup\n",
        "setup = pd.DataFrame(columns=('Key1','Key2','setup'))\n",
        "for i in df['Key']:\n",
        "  for k in df['Key']:\n",
        "    if df[df['Key']==i][\"FG Code\"].values[0]==df[df['Key']==k][\"FG Code\"].values[0]:\n",
        "      f = {'Key1':[i],\"Key2\":[k],\"setup\":[0]}\n",
        "    else:\n",
        "      f = {'Key1':[i],\"Key2\":[k],\"setup\":[4]}\n",
        "    f = pd.DataFrame(data=f)\n",
        "    setup = pd.concat([setup,f])\n",
        "setup.set_index(['Key1','Key2'],inplace=True)"
      ],
      "execution_count": 5,
      "outputs": []
    },
    {
      "cell_type": "code",
      "metadata": {
        "id": "2kluFz3V77yw",
        "colab_type": "code",
        "colab": {
          "base_uri": "https://localhost:8080/",
          "height": 241
        },
        "outputId": "d4568e77-e56d-4c0d-eaed-0c7d353991d2"
      },
      "source": [
        "# Initialise model\n",
        "model = cp_model.CpModel()\n",
        "\n",
        "# Creating variables to store data\n",
        "task_type = collections.namedtuple('task_type', 'start end dur run1')\n",
        "mtj = collections.defaultdict(list)\n",
        "all_tasks = {}\n",
        " \n",
        "for j in jobs:\n",
        "  for m in mc:\n",
        "      suffix = '_%s_%i' % (j,m)\n",
        "      start = model.NewIntVar(0, horizon, \"start\"+suffix)\n",
        "      end = model.NewIntVar(0, horizon, \"end\"+suffix)\n",
        "      run1 = model.NewIntVar(0, dur['duration'].loc[(j,m)].item(), \"run\"+suffix)\n",
        "      duration = model.NewIntervalVar(start, run1, end, \"duration\"+suffix)\n",
        "      all_tasks[j, m] = task_type(start=start, end=end, dur= duration, run1=run1)\n",
        "      mtj[m].append(duration)\n",
        "\n",
        "# Selection variable to store whether machine is selected to process job\n",
        "b={}\n",
        "for j in jobs:\n",
        "  for m in mc:\n",
        "    b[j,m] = model.NewBoolVar('selection')\n",
        "    model.Add(all_tasks[j, m].run1>0).OnlyEnforceIf(b[j,m])\n",
        "    model.Add(all_tasks[j, m].run1==0).OnlyEnforceIf(b[j,m].Not())\n",
        "    #model.Add(all_tasks[i, m].end==0).OnlyEnforceIf(b[i,m].Not())\n",
        "\n",
        "# Variable to store sequence of jobs\n",
        "a={}\n",
        "for j in jobs:\n",
        "  for m in mc:\n",
        "    for i in jobs:\n",
        "      if j != i:\n",
        "        a[j,i,m] = model.NewBoolVar('sequence')\n",
        "        model.Add(all_tasks[i, m].start>all_tasks[j, m].start).OnlyEnforceIf(a[j,i,m])\n",
        "        model.Add(all_tasks[i, m].start<all_tasks[j, m].start).OnlyEnforceIf(a[j,i,m].Not())\n",
        "\n",
        "# Constraint: A machine can process only 1 job at a time \n",
        "for m in mc:\n",
        "  model.AddNoOverlap(mtj[m])\n",
        "\n",
        "# Constraint: Complete production of full order quantity\n",
        "com = {}\n",
        "for j in jobs:\n",
        "  tt= 0\n",
        "  for m in mc:\n",
        "    comp = all_tasks[j,m].run1*dur[\"Output\"].loc[(j,m)]\n",
        "    tt = tt + comp\n",
        "  com[j] = tt\n",
        "  model.Add(com[j]*10 >= df[df[\"Key\"]==j]['Order Qty'].values[0])\n",
        " \n",
        "# Constraint of Setup Time     \n",
        "for j in jobs:\n",
        "  for m in mc:\n",
        "    for i in jobs:\n",
        "      if j != i:\n",
        "        #model.AddBoolOr([a[j,i,m],a[i,j,m]])\n",
        "        model.Add(all_tasks[i, m].start >= all_tasks[j, m].end + setup.loc[(j,i)].values[0]).OnlyEnforceIf(a[j,i,m]).OnlyEnforceIf(b[j,m]).OnlyEnforceIf(b[i,m])\n",
        "        #model.Add(all_tasks[j, m].start >= all_tasks[i, m].end + setup.loc[(j,i)].values[0]).OnlyEnforceIf(a[,i,m].Not()).OnlyEnforceIf(b[j,m]).OnlyEnforceIf(b[i,m])\n",
        "\n",
        "#kk = model.NewIntVar(-horizon, horizon, 'dummy')\n",
        "gg={}\n",
        "#tt={}\n",
        "for j in jobs:\n",
        "  tt = due['due'].loc[j]- max([all_tasks[j,m].end for m in mc])\n",
        "  gg[j] = tt\n",
        "  #if tt<0:\n",
        "  #  gg[j] = -tt\n",
        "  #else:\n",
        "  #  gg[j] = tt\n",
        " \n",
        "model.Minimize(sum([gg[j] for j in jobs]))\n",
        "solver = cp_model.CpSolver()\n",
        "solver.Solve(model)\n",
        "print(solver.StatusName(),solver.ObjectiveValue())"
      ],
      "execution_count": 147,
      "outputs": [
        {
          "output_type": "error",
          "ename": "TypeError",
          "evalue": "ignored",
          "traceback": [
            "\u001b[0;31m---------------------------------------------------------------------------\u001b[0m",
            "\u001b[0;31mTypeError\u001b[0m                                 Traceback (most recent call last)",
            "\u001b[0;32m<ipython-input-147-9fd15babfc59>\u001b[0m in \u001b[0;36m<module>\u001b[0;34m()\u001b[0m\n\u001b[1;32m     63\u001b[0m \u001b[0;31m#tt={}\u001b[0m\u001b[0;34m\u001b[0m\u001b[0;34m\u001b[0m\u001b[0;34m\u001b[0m\u001b[0m\n\u001b[1;32m     64\u001b[0m \u001b[0;32mfor\u001b[0m \u001b[0mj\u001b[0m \u001b[0;32min\u001b[0m \u001b[0mjobs\u001b[0m\u001b[0;34m:\u001b[0m\u001b[0;34m\u001b[0m\u001b[0;34m\u001b[0m\u001b[0m\n\u001b[0;32m---> 65\u001b[0;31m   \u001b[0mtt\u001b[0m \u001b[0;34m=\u001b[0m \u001b[0;34m(\u001b[0m\u001b[0mdue\u001b[0m\u001b[0;34m[\u001b[0m\u001b[0;34m'due'\u001b[0m\u001b[0;34m]\u001b[0m\u001b[0;34m.\u001b[0m\u001b[0mloc\u001b[0m\u001b[0;34m[\u001b[0m\u001b[0mj\u001b[0m\u001b[0;34m]\u001b[0m\u001b[0;34m-\u001b[0m \u001b[0mmax\u001b[0m\u001b[0;34m(\u001b[0m\u001b[0;34m[\u001b[0m\u001b[0mall_tasks\u001b[0m\u001b[0;34m[\u001b[0m\u001b[0mj\u001b[0m\u001b[0;34m,\u001b[0m\u001b[0mm\u001b[0m\u001b[0;34m]\u001b[0m\u001b[0;34m.\u001b[0m\u001b[0mend\u001b[0m \u001b[0;32mfor\u001b[0m \u001b[0mm\u001b[0m \u001b[0;32min\u001b[0m \u001b[0mmc\u001b[0m\u001b[0;34m]\u001b[0m\u001b[0;34m)\u001b[0m\u001b[0;34m)\u001b[0m\u001b[0;34m**\u001b[0m\u001b[0;36m2\u001b[0m\u001b[0;34m\u001b[0m\u001b[0;34m\u001b[0m\u001b[0m\n\u001b[0m\u001b[1;32m     66\u001b[0m   \u001b[0mgg\u001b[0m\u001b[0;34m[\u001b[0m\u001b[0mj\u001b[0m\u001b[0;34m]\u001b[0m \u001b[0;34m=\u001b[0m \u001b[0mtt\u001b[0m\u001b[0;34m\u001b[0m\u001b[0;34m\u001b[0m\u001b[0m\n\u001b[1;32m     67\u001b[0m   \u001b[0;31m#if tt<0:\u001b[0m\u001b[0;34m\u001b[0m\u001b[0;34m\u001b[0m\u001b[0;34m\u001b[0m\u001b[0m\n",
            "\u001b[0;31mTypeError\u001b[0m: unsupported operand type(s) for ** or pow(): '_SumArray' and 'int'"
          ]
        }
      ]
    },
    {
      "cell_type": "code",
      "metadata": {
        "id": "niO4NG7l8_7d",
        "colab_type": "code",
        "colab": {
          "base_uri": "https://localhost:8080/",
          "height": 35
        },
        "outputId": "ffab39c4-d5f0-4844-c583-30c0336cabb0"
      },
      "source": [
        "ff=pd.DataFrame()\n",
        "for m in mc:\n",
        "  for j in jobs:\n",
        "    if solver.Value(all_tasks[j,m].run1)>0:\n",
        "      kk={'Job':j,'line':m,'start':solver.Value(all_tasks[j,m].start),\n",
        "          'run':solver.Value(all_tasks[j,m].run1),'end':solver.Value(all_tasks[j,m].end)}\n",
        "      ff=ff.append(kk,ignore_index=True)\n",
        " \n",
        "#Exploring Result (click on last link to view result)\n",
        "'''\n",
        "!pip install dtale\n",
        "from dtale import show\n",
        "import dtale.app as dtale_app\n",
        "dtale_app.USE_COLAB = True\n",
        "show(ff,ignore_duplicate=True)\n",
        "'''"
      ],
      "execution_count": 141,
      "outputs": [
        {
          "output_type": "execute_result",
          "data": {
            "application/vnd.google.colaboratory.intrinsic+json": {
              "type": "string"
            },
            "text/plain": [
              "'\\n!pip install dtale\\nfrom dtale import show\\nimport dtale.app as dtale_app\\ndtale_app.USE_COLAB = True\\nshow(ff,ignore_duplicate=True)\\n'"
            ]
          },
          "metadata": {
            "tags": []
          },
          "execution_count": 141
        }
      ]
    },
    {
      "cell_type": "code",
      "metadata": {
        "id": "PB_VzJO6kzRi",
        "colab_type": "code",
        "colab": {
          "base_uri": "https://localhost:8080/",
          "height": 55
        },
        "outputId": "532ebb27-19be-4ed2-9d0f-15daa300af89"
      },
      "source": [
        "tt"
      ],
      "execution_count": 148,
      "outputs": [
        {
          "output_type": "execute_result",
          "data": {
            "text/plain": [
              "SumArray(SumArray(SumArray(SumArray(SumArray(SumArray(ProductCst(run_4501763335gC25020000UC_1(0..2000), 100), 0), ProductCst(run_4501763335gC25020000UC_2(0..2000), 100), 0), ProductCst(run_4501763335gC25020000UC_3(0..2000), 100), 0), ProductCst(run_4501763335gC25020000UC_4(0..2000), 100), 0), ProductCst(run_4501763335gC25020000UC_5(0..2000), 100), 0), ProductCst(run_4501763335gC25020000UC_6(0..66), 3000), 0)"
            ]
          },
          "metadata": {
            "tags": []
          },
          "execution_count": 148
        }
      ]
    },
    {
      "cell_type": "code",
      "metadata": {
        "id": "8h8z9eyowbh1",
        "colab_type": "code",
        "colab": {
          "base_uri": "https://localhost:8080/",
          "height": 1000
        },
        "outputId": "f1a992db-20ab-4bf1-fbd2-39c2cf02ad5e"
      },
      "source": [
        "!pip install -U plotly\n",
        "import plotly.express as px\n",
        "import datetime\n",
        "fig=px.timeline(data_frame=ff, x_start=ff['start'].astype('datetime64[h]'),x_end=ff['end'].astype('datetime64[h]'),\n",
        "                facet_row='line',y='Job',height=1200,width=1200)\n",
        "fig.update_xaxes(dtick=14400000,tickformat=\"%d-%H\")\n",
        "#fig.update_yaxes(autorange=\"reversed\")"
      ],
      "execution_count": 142,
      "outputs": [
        {
          "output_type": "stream",
          "text": [
            "Requirement already up-to-date: plotly in /usr/local/lib/python3.6/dist-packages (4.10.0)\n",
            "Requirement already satisfied, skipping upgrade: six in /usr/local/lib/python3.6/dist-packages (from plotly) (1.15.0)\n",
            "Requirement already satisfied, skipping upgrade: retrying>=1.3.3 in /usr/local/lib/python3.6/dist-packages (from plotly) (1.3.3)\n"
          ],
          "name": "stdout"
        },
        {
          "output_type": "display_data",
          "data": {
            "text/html": [
              "<html>\n",
              "<head><meta charset=\"utf-8\" /></head>\n",
              "<body>\n",
              "    <div>            <script src=\"https://cdnjs.cloudflare.com/ajax/libs/mathjax/2.7.5/MathJax.js?config=TeX-AMS-MML_SVG\"></script><script type=\"text/javascript\">if (window.MathJax) {MathJax.Hub.Config({SVG: {font: \"STIX-Web\"}});}</script>                <script type=\"text/javascript\">window.PlotlyConfig = {MathJaxConfig: 'local'};</script>\n",
              "        <script src=\"https://cdn.plot.ly/plotly-latest.min.js\"></script>                <div id=\"f1e16e5b-da37-4474-998b-7705394d4d04\" class=\"plotly-graph-div\" style=\"height:1200px; width:1200px;\"></div>            <script type=\"text/javascript\">                                    window.PLOTLYENV=window.PLOTLYENV || {};                                    if (document.getElementById(\"f1e16e5b-da37-4474-998b-7705394d4d04\")) {                    Plotly.newPlot(                        \"f1e16e5b-da37-4474-998b-7705394d4d04\",                        [{\"alignmentgroup\": \"True\", \"base\": [\"1970-01-01T03:00:00\", \"1970-01-05T18:00:00\", \"1970-01-08T20:00:00\", \"1970-01-09T08:00:00\", \"1970-01-10T14:00:00\"], \"hovertemplate\": \"line=1.0<br>x_start=%{base}<br>x_end=%{x}<br>Job=%{y}<extra></extra>\", \"legendgroup\": \"\", \"marker\": {\"color\": \"#636efa\"}, \"name\": \"\", \"offsetgroup\": \"\", \"orientation\": \"h\", \"showlegend\": false, \"textposition\": \"auto\", \"type\": \"bar\", \"x\": [385200000.0, 252000000.0, 28800000.0, 86400000.0, 720000000.0], \"xaxis\": \"x6\", \"y\": [\"17023636gd280043C0iX\", \"17023636gd28001701iX\", \"17023335gd28013000iX\", \"17023440gd23010000gR\", \"4501763335gC25020000UC\"], \"yaxis\": \"y6\"}, {\"alignmentgroup\": \"True\", \"base\": [\"1970-01-07T19:00:00\", \"1970-01-01T00:00:00\", \"1970-01-05T15:00:00\"], \"hovertemplate\": \"line=2.0<br>x_start=%{base}<br>x_end=%{x}<br>Job=%{y}<extra></extra>\", \"legendgroup\": \"\", \"marker\": {\"color\": \"#636efa\"}, \"name\": \"\", \"offsetgroup\": \"\", \"orientation\": \"h\", \"showlegend\": false, \"textposition\": \"auto\", \"type\": \"bar\", \"x\": [68400000.0, 381600000.0, 165600000.0], \"xaxis\": \"x5\", \"y\": [\"17023572gd43208500iX\", \"17023335gd28001700iX\", \"17023637gd28002400iX\"], \"yaxis\": \"y5\"}, {\"alignmentgroup\": \"True\", \"base\": [\"1970-01-07T14:00:00\", \"1970-01-01T03:00:00\"], \"hovertemplate\": \"line=3.0<br>x_start=%{base}<br>x_end=%{x}<br>Job=%{y}<extra></extra>\", \"legendgroup\": \"\", \"marker\": {\"color\": \"#636efa\"}, \"name\": \"\", \"offsetgroup\": \"\", \"orientation\": \"h\", \"showlegend\": false, \"textposition\": \"auto\", \"type\": \"bar\", \"x\": [144000000.0, 540000000.0], \"xaxis\": \"x4\", \"y\": [\"17023287gd55102400iX\", \"17023637gd28001701iX\"], \"yaxis\": \"y4\"}, {\"alignmentgroup\": \"True\", \"base\": [\"1970-01-01T14:00:00\", \"1970-02-04T02:00:00\"], \"hovertemplate\": \"line=4.0<br>x_start=%{base}<br>x_end=%{x}<br>Job=%{y}<extra></extra>\", \"legendgroup\": \"\", \"marker\": {\"color\": \"#636efa\"}, \"name\": \"\", \"offsetgroup\": \"\", \"orientation\": \"h\", \"showlegend\": false, \"textposition\": \"auto\", \"type\": \"bar\", \"x\": [2880000000.0, 3600000.0], \"xaxis\": \"x3\", \"y\": [\"17023335gd28018100iX\", \"4501763335gd251100C0Ud\"], \"yaxis\": \"y3\"}, {\"alignmentgroup\": \"True\", \"base\": [\"1970-01-03T20:00:00\", \"1970-01-01T04:00:00\", \"1970-01-01T19:00:00\"], \"hovertemplate\": \"line=5.0<br>x_start=%{base}<br>x_end=%{x}<br>Job=%{y}<extra></extra>\", \"legendgroup\": \"\", \"marker\": {\"color\": \"#636efa\"}, \"name\": \"\", \"offsetgroup\": \"\", \"orientation\": \"h\", \"showlegend\": false, \"textposition\": \"auto\", \"type\": \"bar\", \"x\": [90000000.0, 39600000.0, 162000000.0], \"xaxis\": \"x2\", \"y\": [\"17023287gd29904300iX\", \"17023287gd29907800iX\", \"17023439gd28311300iX\"], \"yaxis\": \"y2\"}, {\"alignmentgroup\": \"True\", \"base\": [\"1970-01-01T02:00:00\", \"1970-01-01T23:00:00\", \"2134-07-25T14:00:00\"], \"hovertemplate\": \"line=6.0<br>x_start=%{base}<br>x_end=%{x}<br>Job=%{y}<extra></extra>\", \"legendgroup\": \"\", \"marker\": {\"color\": \"#636efa\"}, \"name\": \"\", \"offsetgroup\": \"\", \"orientation\": \"h\", \"showlegend\": false, \"textposition\": \"auto\", \"type\": \"bar\", \"x\": [36000000.0, 7200000.0, 129600000.0], \"xaxis\": \"x\", \"y\": [\"17023335gd30212200iX\", \"4501763335gd23010000Ud\", \"4501763335gd251100C0Ud\"], \"yaxis\": \"y\"}],                        {\"annotations\": [{\"font\": {}, \"showarrow\": false, \"text\": \"line=6.0\", \"textangle\": 90, \"x\": 0.98, \"xanchor\": \"left\", \"xref\": \"paper\", \"y\": 0.07083333333333333, \"yanchor\": \"middle\", \"yref\": \"paper\"}, {\"font\": {}, \"showarrow\": false, \"text\": \"line=5.0\", \"textangle\": 90, \"x\": 0.98, \"xanchor\": \"left\", \"xref\": \"paper\", \"y\": 0.2425, \"yanchor\": \"middle\", \"yref\": \"paper\"}, {\"font\": {}, \"showarrow\": false, \"text\": \"line=4.0\", \"textangle\": 90, \"x\": 0.98, \"xanchor\": \"left\", \"xref\": \"paper\", \"y\": 0.4141666666666667, \"yanchor\": \"middle\", \"yref\": \"paper\"}, {\"font\": {}, \"showarrow\": false, \"text\": \"line=3.0\", \"textangle\": 90, \"x\": 0.98, \"xanchor\": \"left\", \"xref\": \"paper\", \"y\": 0.5858333333333334, \"yanchor\": \"middle\", \"yref\": \"paper\"}, {\"font\": {}, \"showarrow\": false, \"text\": \"line=2.0\", \"textangle\": 90, \"x\": 0.98, \"xanchor\": \"left\", \"xref\": \"paper\", \"y\": 0.7575000000000001, \"yanchor\": \"middle\", \"yref\": \"paper\"}, {\"font\": {}, \"showarrow\": false, \"text\": \"line=1.0\", \"textangle\": 90, \"x\": 0.98, \"xanchor\": \"left\", \"xref\": \"paper\", \"y\": 0.9291666666666667, \"yanchor\": \"middle\", \"yref\": \"paper\"}], \"barmode\": \"overlay\", \"height\": 1200, \"legend\": {\"tracegroupgap\": 0}, \"margin\": {\"t\": 60}, \"template\": {\"data\": {\"bar\": [{\"error_x\": {\"color\": \"#2a3f5f\"}, \"error_y\": {\"color\": \"#2a3f5f\"}, \"marker\": {\"line\": {\"color\": \"#E5ECF6\", \"width\": 0.5}}, \"type\": \"bar\"}], \"barpolar\": [{\"marker\": {\"line\": {\"color\": \"#E5ECF6\", \"width\": 0.5}}, \"type\": \"barpolar\"}], \"carpet\": [{\"aaxis\": {\"endlinecolor\": \"#2a3f5f\", \"gridcolor\": \"white\", \"linecolor\": \"white\", \"minorgridcolor\": \"white\", \"startlinecolor\": \"#2a3f5f\"}, \"baxis\": {\"endlinecolor\": \"#2a3f5f\", \"gridcolor\": \"white\", \"linecolor\": \"white\", \"minorgridcolor\": \"white\", \"startlinecolor\": \"#2a3f5f\"}, \"type\": \"carpet\"}], \"choropleth\": [{\"colorbar\": {\"outlinewidth\": 0, \"ticks\": \"\"}, \"type\": \"choropleth\"}], \"contour\": [{\"colorbar\": {\"outlinewidth\": 0, \"ticks\": \"\"}, \"colorscale\": [[0.0, \"#0d0887\"], [0.1111111111111111, \"#46039f\"], [0.2222222222222222, \"#7201a8\"], [0.3333333333333333, \"#9c179e\"], [0.4444444444444444, \"#bd3786\"], [0.5555555555555556, \"#d8576b\"], [0.6666666666666666, \"#ed7953\"], [0.7777777777777778, \"#fb9f3a\"], [0.8888888888888888, \"#fdca26\"], [1.0, \"#f0f921\"]], \"type\": \"contour\"}], \"contourcarpet\": [{\"colorbar\": {\"outlinewidth\": 0, \"ticks\": \"\"}, \"type\": \"contourcarpet\"}], \"heatmap\": [{\"colorbar\": {\"outlinewidth\": 0, \"ticks\": \"\"}, \"colorscale\": [[0.0, \"#0d0887\"], [0.1111111111111111, \"#46039f\"], [0.2222222222222222, \"#7201a8\"], [0.3333333333333333, \"#9c179e\"], [0.4444444444444444, \"#bd3786\"], [0.5555555555555556, \"#d8576b\"], [0.6666666666666666, \"#ed7953\"], [0.7777777777777778, \"#fb9f3a\"], [0.8888888888888888, \"#fdca26\"], [1.0, \"#f0f921\"]], \"type\": \"heatmap\"}], \"heatmapgl\": [{\"colorbar\": {\"outlinewidth\": 0, \"ticks\": \"\"}, \"colorscale\": [[0.0, \"#0d0887\"], [0.1111111111111111, \"#46039f\"], [0.2222222222222222, \"#7201a8\"], [0.3333333333333333, \"#9c179e\"], [0.4444444444444444, \"#bd3786\"], [0.5555555555555556, \"#d8576b\"], [0.6666666666666666, \"#ed7953\"], [0.7777777777777778, \"#fb9f3a\"], [0.8888888888888888, \"#fdca26\"], [1.0, \"#f0f921\"]], \"type\": \"heatmapgl\"}], \"histogram\": [{\"marker\": {\"colorbar\": {\"outlinewidth\": 0, \"ticks\": \"\"}}, \"type\": \"histogram\"}], \"histogram2d\": [{\"colorbar\": {\"outlinewidth\": 0, \"ticks\": \"\"}, \"colorscale\": [[0.0, \"#0d0887\"], [0.1111111111111111, \"#46039f\"], [0.2222222222222222, \"#7201a8\"], [0.3333333333333333, \"#9c179e\"], [0.4444444444444444, \"#bd3786\"], [0.5555555555555556, \"#d8576b\"], [0.6666666666666666, \"#ed7953\"], [0.7777777777777778, \"#fb9f3a\"], [0.8888888888888888, \"#fdca26\"], [1.0, \"#f0f921\"]], \"type\": \"histogram2d\"}], \"histogram2dcontour\": [{\"colorbar\": {\"outlinewidth\": 0, \"ticks\": \"\"}, \"colorscale\": [[0.0, \"#0d0887\"], [0.1111111111111111, \"#46039f\"], [0.2222222222222222, \"#7201a8\"], [0.3333333333333333, \"#9c179e\"], [0.4444444444444444, \"#bd3786\"], [0.5555555555555556, \"#d8576b\"], [0.6666666666666666, \"#ed7953\"], [0.7777777777777778, \"#fb9f3a\"], [0.8888888888888888, \"#fdca26\"], [1.0, \"#f0f921\"]], \"type\": \"histogram2dcontour\"}], \"mesh3d\": [{\"colorbar\": {\"outlinewidth\": 0, \"ticks\": \"\"}, \"type\": \"mesh3d\"}], \"parcoords\": [{\"line\": {\"colorbar\": {\"outlinewidth\": 0, \"ticks\": \"\"}}, \"type\": \"parcoords\"}], \"pie\": [{\"automargin\": true, \"type\": \"pie\"}], \"scatter\": [{\"marker\": {\"colorbar\": {\"outlinewidth\": 0, \"ticks\": \"\"}}, \"type\": \"scatter\"}], \"scatter3d\": [{\"line\": {\"colorbar\": {\"outlinewidth\": 0, \"ticks\": \"\"}}, \"marker\": {\"colorbar\": {\"outlinewidth\": 0, \"ticks\": \"\"}}, \"type\": \"scatter3d\"}], \"scattercarpet\": [{\"marker\": {\"colorbar\": {\"outlinewidth\": 0, \"ticks\": \"\"}}, \"type\": \"scattercarpet\"}], \"scattergeo\": [{\"marker\": {\"colorbar\": {\"outlinewidth\": 0, \"ticks\": \"\"}}, \"type\": \"scattergeo\"}], \"scattergl\": [{\"marker\": {\"colorbar\": {\"outlinewidth\": 0, \"ticks\": \"\"}}, \"type\": \"scattergl\"}], \"scattermapbox\": [{\"marker\": {\"colorbar\": {\"outlinewidth\": 0, \"ticks\": \"\"}}, \"type\": \"scattermapbox\"}], \"scatterpolar\": [{\"marker\": {\"colorbar\": {\"outlinewidth\": 0, \"ticks\": \"\"}}, \"type\": \"scatterpolar\"}], \"scatterpolargl\": [{\"marker\": {\"colorbar\": {\"outlinewidth\": 0, \"ticks\": \"\"}}, \"type\": \"scatterpolargl\"}], \"scatterternary\": [{\"marker\": {\"colorbar\": {\"outlinewidth\": 0, \"ticks\": \"\"}}, \"type\": \"scatterternary\"}], \"surface\": [{\"colorbar\": {\"outlinewidth\": 0, \"ticks\": \"\"}, \"colorscale\": [[0.0, \"#0d0887\"], [0.1111111111111111, \"#46039f\"], [0.2222222222222222, \"#7201a8\"], [0.3333333333333333, \"#9c179e\"], [0.4444444444444444, \"#bd3786\"], [0.5555555555555556, \"#d8576b\"], [0.6666666666666666, \"#ed7953\"], [0.7777777777777778, \"#fb9f3a\"], [0.8888888888888888, \"#fdca26\"], [1.0, \"#f0f921\"]], \"type\": \"surface\"}], \"table\": [{\"cells\": {\"fill\": {\"color\": \"#EBF0F8\"}, \"line\": {\"color\": \"white\"}}, \"header\": {\"fill\": {\"color\": \"#C8D4E3\"}, \"line\": {\"color\": \"white\"}}, \"type\": \"table\"}]}, \"layout\": {\"annotationdefaults\": {\"arrowcolor\": \"#2a3f5f\", \"arrowhead\": 0, \"arrowwidth\": 1}, \"coloraxis\": {\"colorbar\": {\"outlinewidth\": 0, \"ticks\": \"\"}}, \"colorscale\": {\"diverging\": [[0, \"#8e0152\"], [0.1, \"#c51b7d\"], [0.2, \"#de77ae\"], [0.3, \"#f1b6da\"], [0.4, \"#fde0ef\"], [0.5, \"#f7f7f7\"], [0.6, \"#e6f5d0\"], [0.7, \"#b8e186\"], [0.8, \"#7fbc41\"], [0.9, \"#4d9221\"], [1, \"#276419\"]], \"sequential\": [[0.0, \"#0d0887\"], [0.1111111111111111, \"#46039f\"], [0.2222222222222222, \"#7201a8\"], [0.3333333333333333, \"#9c179e\"], [0.4444444444444444, \"#bd3786\"], [0.5555555555555556, \"#d8576b\"], [0.6666666666666666, \"#ed7953\"], [0.7777777777777778, \"#fb9f3a\"], [0.8888888888888888, \"#fdca26\"], [1.0, \"#f0f921\"]], \"sequentialminus\": [[0.0, \"#0d0887\"], [0.1111111111111111, \"#46039f\"], [0.2222222222222222, \"#7201a8\"], [0.3333333333333333, \"#9c179e\"], [0.4444444444444444, \"#bd3786\"], [0.5555555555555556, \"#d8576b\"], [0.6666666666666666, \"#ed7953\"], [0.7777777777777778, \"#fb9f3a\"], [0.8888888888888888, \"#fdca26\"], [1.0, \"#f0f921\"]]}, \"colorway\": [\"#636efa\", \"#EF553B\", \"#00cc96\", \"#ab63fa\", \"#FFA15A\", \"#19d3f3\", \"#FF6692\", \"#B6E880\", \"#FF97FF\", \"#FECB52\"], \"font\": {\"color\": \"#2a3f5f\"}, \"geo\": {\"bgcolor\": \"white\", \"lakecolor\": \"white\", \"landcolor\": \"#E5ECF6\", \"showlakes\": true, \"showland\": true, \"subunitcolor\": \"white\"}, \"hoverlabel\": {\"align\": \"left\"}, \"hovermode\": \"closest\", \"mapbox\": {\"style\": \"light\"}, \"paper_bgcolor\": \"white\", \"plot_bgcolor\": \"#E5ECF6\", \"polar\": {\"angularaxis\": {\"gridcolor\": \"white\", \"linecolor\": \"white\", \"ticks\": \"\"}, \"bgcolor\": \"#E5ECF6\", \"radialaxis\": {\"gridcolor\": \"white\", \"linecolor\": \"white\", \"ticks\": \"\"}}, \"scene\": {\"xaxis\": {\"backgroundcolor\": \"#E5ECF6\", \"gridcolor\": \"white\", \"gridwidth\": 2, \"linecolor\": \"white\", \"showbackground\": true, \"ticks\": \"\", \"zerolinecolor\": \"white\"}, \"yaxis\": {\"backgroundcolor\": \"#E5ECF6\", \"gridcolor\": \"white\", \"gridwidth\": 2, \"linecolor\": \"white\", \"showbackground\": true, \"ticks\": \"\", \"zerolinecolor\": \"white\"}, \"zaxis\": {\"backgroundcolor\": \"#E5ECF6\", \"gridcolor\": \"white\", \"gridwidth\": 2, \"linecolor\": \"white\", \"showbackground\": true, \"ticks\": \"\", \"zerolinecolor\": \"white\"}}, \"shapedefaults\": {\"line\": {\"color\": \"#2a3f5f\"}}, \"ternary\": {\"aaxis\": {\"gridcolor\": \"white\", \"linecolor\": \"white\", \"ticks\": \"\"}, \"baxis\": {\"gridcolor\": \"white\", \"linecolor\": \"white\", \"ticks\": \"\"}, \"bgcolor\": \"#E5ECF6\", \"caxis\": {\"gridcolor\": \"white\", \"linecolor\": \"white\", \"ticks\": \"\"}}, \"title\": {\"x\": 0.05}, \"xaxis\": {\"automargin\": true, \"gridcolor\": \"white\", \"linecolor\": \"white\", \"ticks\": \"\", \"title\": {\"standoff\": 15}, \"zerolinecolor\": \"white\", \"zerolinewidth\": 2}, \"yaxis\": {\"automargin\": true, \"gridcolor\": \"white\", \"linecolor\": \"white\", \"ticks\": \"\", \"title\": {\"standoff\": 15}, \"zerolinecolor\": \"white\", \"zerolinewidth\": 2}}}, \"width\": 1200, \"xaxis\": {\"anchor\": \"y\", \"domain\": [0.0, 0.98], \"dtick\": 14400000, \"tickformat\": \"%d-%H\", \"type\": \"date\"}, \"xaxis2\": {\"anchor\": \"y2\", \"domain\": [0.0, 0.98], \"dtick\": 14400000, \"matches\": \"x\", \"showticklabels\": false, \"tickformat\": \"%d-%H\", \"type\": \"date\"}, \"xaxis3\": {\"anchor\": \"y3\", \"domain\": [0.0, 0.98], \"dtick\": 14400000, \"matches\": \"x\", \"showticklabels\": false, \"tickformat\": \"%d-%H\", \"type\": \"date\"}, \"xaxis4\": {\"anchor\": \"y4\", \"domain\": [0.0, 0.98], \"dtick\": 14400000, \"matches\": \"x\", \"showticklabels\": false, \"tickformat\": \"%d-%H\", \"type\": \"date\"}, \"xaxis5\": {\"anchor\": \"y5\", \"domain\": [0.0, 0.98], \"dtick\": 14400000, \"matches\": \"x\", \"showticklabels\": false, \"tickformat\": \"%d-%H\", \"type\": \"date\"}, \"xaxis6\": {\"anchor\": \"y6\", \"domain\": [0.0, 0.98], \"dtick\": 14400000, \"matches\": \"x\", \"showticklabels\": false, \"tickformat\": \"%d-%H\", \"type\": \"date\"}, \"yaxis\": {\"anchor\": \"x\", \"domain\": [0.0, 0.14166666666666666], \"title\": {\"text\": \"Job\"}}, \"yaxis2\": {\"anchor\": \"x2\", \"domain\": [0.17166666666666666, 0.31333333333333335], \"matches\": \"y\", \"title\": {\"text\": \"Job\"}}, \"yaxis3\": {\"anchor\": \"x3\", \"domain\": [0.3433333333333333, 0.485], \"matches\": \"y\", \"title\": {\"text\": \"Job\"}}, \"yaxis4\": {\"anchor\": \"x4\", \"domain\": [0.515, 0.6566666666666667], \"matches\": \"y\", \"title\": {\"text\": \"Job\"}}, \"yaxis5\": {\"anchor\": \"x5\", \"domain\": [0.6866666666666666, 0.8283333333333334], \"matches\": \"y\", \"title\": {\"text\": \"Job\"}}, \"yaxis6\": {\"anchor\": \"x6\", \"domain\": [0.8583333333333333, 1.0], \"matches\": \"y\", \"title\": {\"text\": \"Job\"}}},                        {\"responsive\": true}                    ).then(function(){\n",
              "                            \n",
              "var gd = document.getElementById('f1e16e5b-da37-4474-998b-7705394d4d04');\n",
              "var x = new MutationObserver(function (mutations, observer) {{\n",
              "        var display = window.getComputedStyle(gd).display;\n",
              "        if (!display || display === 'none') {{\n",
              "            console.log([gd, 'removed!']);\n",
              "            Plotly.purge(gd);\n",
              "            observer.disconnect();\n",
              "        }}\n",
              "}});\n",
              "\n",
              "// Listen for the removal of the full notebook cells\n",
              "var notebookContainer = gd.closest('#notebook-container');\n",
              "if (notebookContainer) {{\n",
              "    x.observe(notebookContainer, {childList: true});\n",
              "}}\n",
              "\n",
              "// Listen for the clearing of the current output cell\n",
              "var outputEl = gd.closest('.output');\n",
              "if (outputEl) {{\n",
              "    x.observe(outputEl, {childList: true});\n",
              "}}\n",
              "\n",
              "                        })                };                            </script>        </div>\n",
              "</body>\n",
              "</html>"
            ]
          },
          "metadata": {
            "tags": []
          }
        }
      ]
    },
    {
      "cell_type": "code",
      "metadata": {
        "id": "D2dwvTF7GebQ",
        "colab_type": "code",
        "colab": {
          "base_uri": "https://localhost:8080/",
          "height": 881
        },
        "outputId": "7d1bfcaf-de05-4de6-dc98-31ae3c306e7b"
      },
      "source": [
        "print(model.ModelStats())"
      ],
      "execution_count": 143,
      "outputs": [
        {
          "output_type": "stream",
          "text": [
            "Optimization model '':\n",
            "#Variables: 2040 (17 in objective)\n",
            " - 1734 in [0,1]\n",
            " - 5 in [0,15]\n",
            " - 5 in [0,36]\n",
            " - 1 in [0,66]\n",
            " - 5 in [0,75]\n",
            " - 5 in [0,93]\n",
            " - 5 in [0,108]\n",
            " - 5 in [0,133]\n",
            " - 1 in [0,162]\n",
            " - 2 in [0,168]\n",
            " - 3 in [0,189]\n",
            " - 1 in [0,213]\n",
            " - 2 in [0,216]\n",
            " - 5 in [0,233]\n",
            " - 3 in [0,243]\n",
            " - 1 in [0,300]\n",
            " - 2 in [0,320]\n",
            " - 2 in [0,400]\n",
            " - 8 in [0,450]\n",
            " - 3 in [0,451]\n",
            " - 1 in [0,462]\n",
            " - 1 in [0,497]\n",
            " - 2 in [0,693]\n",
            " - 2 in [0,746]\n",
            " - 1 in [0,940]\n",
            " - 3 in [0,978]\n",
            " - 1 in [0,995]\n",
            " - 3 in [0,1054]\n",
            " - 6 in [0,1066]\n",
            " - 2 in [0,1493]\n",
            " - 5 in [0,2000]\n",
            " - 3 in [0,2108]\n",
            " - 1 in [0,2160]\n",
            " - 1 in [0,4500]\n",
            " - 1 in [0,5600]\n",
            " - 1 in [0,8000]\n",
            " - 1 in [0,8640]\n",
            " - 1 in [0,14000]\n",
            " - 1 in [0,15120]\n",
            " - 1 in [0,36000]\n",
            " - 204 in [0,1442570]\n",
            "#kInterval: 102\n",
            "#kLinear1: 204 (#enforced: 204)\n",
            "#kLinear2: 4896 (#enforced: 4896)\n",
            "#kLinearN: 17\n",
            "#kNoOverlap: 6\n"
          ],
          "name": "stdout"
        }
      ]
    },
    {
      "cell_type": "code",
      "metadata": {
        "id": "v8Aqv5gzdQyC",
        "colab_type": "code",
        "colab": {}
      },
      "source": [
        "import plotly.io as pio\n",
        "pio.renderers.default = \"colab\""
      ],
      "execution_count": 112,
      "outputs": []
    }
  ]
}
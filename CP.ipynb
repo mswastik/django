{
  "nbformat": 4,
  "nbformat_minor": 0,
  "metadata": {
    "kernelspec": {
      "display_name": "Python 3",
      "language": "python",
      "name": "python3"
    },
    "language_info": {
      "codemirror_mode": {
        "name": "ipython",
        "version": 3
      },
      "file_extension": ".py",
      "mimetype": "text/x-python",
      "name": "python",
      "nbconvert_exporter": "python",
      "pygments_lexer": "ipython3",
      "version": "3.8.2"
    },
    "colab": {
      "name": "CP.ipynb",
      "provenance": []
    }
  },
  "cells": [
    {
      "cell_type": "code",
      "metadata": {
        "id": "ZAegf4MTD07x",
        "colab_type": "code",
        "colab": {
          "base_uri": "https://localhost:8080/",
          "height": 174
        },
        "outputId": "2e1abb74-ddfd-49ee-a739-a6a4e1c56786"
      },
      "source": [
        "!pip install ortools\n",
        "#!pip install dtale"
      ],
      "execution_count": 1,
      "outputs": [
        {
          "output_type": "stream",
          "text": [
            "Collecting ortools\n",
            "\u001b[?25l  Downloading https://files.pythonhosted.org/packages/6c/e9/57ee68e41e02b00836dbe61a4f9679c953623168dcca3a84e2cd16a3e9b2/ortools-7.8.7959-cp36-cp36m-manylinux1_x86_64.whl (32.7MB)\n",
            "\u001b[K     |████████████████████████████████| 32.7MB 106kB/s \n",
            "\u001b[?25hRequirement already satisfied: six>=1.10 in /usr/local/lib/python3.6/dist-packages (from ortools) (1.15.0)\n",
            "Requirement already satisfied: protobuf>=3.12.2 in /usr/local/lib/python3.6/dist-packages (from ortools) (3.12.4)\n",
            "Requirement already satisfied: setuptools in /usr/local/lib/python3.6/dist-packages (from protobuf>=3.12.2->ortools) (50.3.0)\n",
            "Installing collected packages: ortools\n",
            "Successfully installed ortools-7.8.7959\n"
          ],
          "name": "stdout"
        }
      ]
    },
    {
      "cell_type": "code",
      "metadata": {
        "id": "sG_LW15bCHKH",
        "colab_type": "code",
        "colab": {
          "base_uri": "https://localhost:8080/",
          "height": 191
        },
        "outputId": "6c13acba-b48d-4e28-dd73-c1701a688844"
      },
      "source": [
        "import pandas as pd\n",
        "import numpy as np\n",
        "import collections\n",
        "from ortools.sat.python import cp_model\n",
        "# Clone the entire repo.\n",
        "!git clone -l -s https://github.com/mswastik/optimization.git cloned-repo\n",
        "%cd cloned-repo"
      ],
      "execution_count": 2,
      "outputs": [
        {
          "output_type": "stream",
          "text": [
            "Cloning into 'cloned-repo'...\n",
            "warning: --local is ignored\n",
            "remote: Enumerating objects: 176, done.\u001b[K\n",
            "remote: Counting objects: 100% (176/176), done.\u001b[K\n",
            "remote: Compressing objects: 100% (172/172), done.\u001b[K\n",
            "remote: Total 176 (delta 75), reused 0 (delta 0), pack-reused 0\u001b[K\n",
            "Receiving objects: 100% (176/176), 2.15 MiB | 5.53 MiB/s, done.\n",
            "Resolving deltas: 100% (75/75), done.\n",
            "/content/cloned-repo\n"
          ],
          "name": "stdout"
        }
      ]
    },
    {
      "cell_type": "code",
      "metadata": {
        "id": "nUhA6-OCCHKV",
        "colab_type": "code",
        "colab": {}
      },
      "source": [
        "#Importing Data\n",
        "df=pd.read_excel('orders1.xlsx')\n",
        "ma=pd.read_excel('item master.xlsx')\n",
        "bu=pd.read_excel('item master.xlsx',sheet_name='bulk')\n",
        "pa=pd.read_excel('item master.xlsx',sheet_name='packing')\n",
        " \n",
        "# Formating Data\n",
        "df = df[df['Line']=='Tmmthpkhti Limi']\n",
        "df = df[df['Plant']==1024]\n",
        "del df['Line']\n",
        "df['due'] = df['Dispatch Date'] - df['SO Date'].min()\n",
        "df['due'] = df['due'].dt.days\n",
        "df['sodate'] = df['SO Date'] - df['SO Date'].min()\n",
        "df['sodate'] = df['sodate'].dt.days\n",
        "df.reset_index(inplace=True,drop=True)\n",
        "df['Key']=df['SO'].astype('str')+df['FG Code']\n",
        "del df['Dispatch Date']\n",
        "del df['SO Date']\n",
        "del df['Description']\n",
        "del df['Customer']\n",
        "df['Order Qty'] = df[df['Order Qty']!=0]['Order Qty']\n",
        "df['Order Qty'] = df['Order Qty']*1000\n",
        "df=df[df['Key']!='17023287gd39000800iX']\n",
        " \n",
        " \n",
        "# Creating Parameter Data\n",
        "jobs =df['Key']\n",
        "op =[1,2,3,4]  # Ignore as of now\n",
        "mc = [1,2,3,4,5,6]\n",
        "#horizon = max(df[\"due\"])+900\n",
        "due = df.set_index('Key')\n",
        "dur=df[['Key','FG Code','Order Qty']]\n",
        "dur=dur.merge(pa[[\"FG Code\",\"Line\",\"Output\"]], on=\"FG Code\")\n",
        "dur['Output']=dur['Output']*100\n",
        "dur['duration']=dur['Order Qty']/dur['Output']\n",
        "dur['duration'] = dur['duration'].astype('float64').round(decimals = 2)\n",
        "dur.set_index(['Key','Line'],inplace=True)\n",
        "del dur['FG Code']\n",
        "dur['Output'].replace(0,1,inplace=True)\n",
        "df['Order Qty']=df['Order Qty'].fillna(0).astype('int')\n",
        "dur['duration']=dur['duration'].fillna(0).astype('int')\n",
        "dur['Output']=dur['Output'].fillna(0).astype('int')\n",
        "horizon = sum(dur['duration']*10)\n",
        " \n",
        "#Setup\n",
        "setup = pd.DataFrame(columns=('Key1','Key2','setup'))\n",
        "for i in df['Key']:\n",
        "  for k in df['Key']:\n",
        "    if df[df['Key']==i][\"FG Code\"].values[0]==df[df['Key']==k][\"FG Code\"].values[0]:\n",
        "      f = {'Key1':[i],\"Key2\":[k],\"setup\":[0]}\n",
        "    else:\n",
        "      f = {'Key1':[i],\"Key2\":[k],\"setup\":[4]}\n",
        "    f = pd.DataFrame(data=f)\n",
        "    setup = pd.concat([setup,f])\n",
        "setup.set_index(['Key1','Key2'],inplace=True)"
      ],
      "execution_count": 3,
      "outputs": []
    },
    {
      "cell_type": "code",
      "metadata": {
        "id": "2kluFz3V77yw",
        "colab_type": "code",
        "colab": {
          "base_uri": "https://localhost:8080/",
          "height": 34
        },
        "outputId": "d3279013-dc9a-4929-a052-87a5d3d1bd27"
      },
      "source": [
        "model = cp_model.CpModel()\n",
        "task_type = collections.namedtuple('task_type', 'start end dur run1')\n",
        "mtj = collections.defaultdict(list)\n",
        "all_tasks = {}\n",
        " \n",
        "for j in jobs:\n",
        "  for m in mc:\n",
        "      suffix = '_%s_%i' % (j,m)\n",
        "      start = model.NewIntVar(0, horizon, \"start\"+suffix)\n",
        "      end = model.NewIntVar(0, horizon, \"end\"+suffix)\n",
        "      run1 = model.NewIntVar(0, dur['duration'].loc[(j,m)].item(), \"run\"+suffix)\n",
        "      duration = model.NewIntervalVar(start, run1, end, \"duration\"+suffix)\n",
        "      all_tasks[j, m] = task_type(start=start, end=end, dur= duration, run1=run1)\n",
        "      mtj[m].append(duration)\n",
        " \n",
        "for m in mc:\n",
        "  model.AddNoOverlap(mtj[m])\n",
        "'''  \n",
        "for i in jobs:\n",
        "  for m in mc:\n",
        "    model.Add(all_tasks[i, m].run1==all_tasks[i, m].end-all_tasks[i, m].start)\n",
        "'''\n",
        " \n",
        "#Sequence\n",
        " \n",
        "b={}\n",
        "for j in jobs:\n",
        "  for m in mc:\n",
        "    for i in jobs:\n",
        "      b[j,m,i] = model.NewBoolVar('selection')\n",
        "      #model.Add(all_tasks[j, m,i].run1>0).OnlyEnforceIf(b[j,m,i])\n",
        "      #model.Add(all_tasks[j, m,i].run1==0).OnlyEnforceIf(b[j,m,i].Not())\n",
        "      #model.Add(all_tasks[i, m].end==0).OnlyEnforceIf(b[i,m].Not())\n",
        " \n",
        "#[model.Add(sum(b[j,m,i] for i in jobs) == 1) for m in mc for j in jobs]\n",
        " \n",
        "com = {}\n",
        "for j in jobs:\n",
        "  tt= 0\n",
        "  for m in mc:\n",
        "    comp = all_tasks[j,m].run1*dur[\"Output\"].loc[(j,m)]\n",
        "    tt = tt + comp\n",
        "  com[j] = tt\n",
        "  model.Add(com[j]*10 >= df[df[\"Key\"]==j]['Order Qty'].values[0])\n",
        " \n",
        " \n",
        "a={}\n",
        "for i in jobs:\n",
        "  for m in mc:\n",
        "    if all_tasks[i,m].run1>0:\n",
        "      for k in jobs:\n",
        "        if k != i:\n",
        "          a[i,k,m] = model.NewBoolVar('previous')\n",
        "     \n",
        "for j in jobs:\n",
        "  for m in mc:\n",
        "    for i in jobs:\n",
        "      if j != i:\n",
        "        model.AddBoolOr([a[j,i,m],a[i,j,m]])\n",
        "        model.Add(all_tasks[i, m].start >= all_tasks[j, m].end + setup.loc[(j,i)].values[0]).OnlyEnforceIf(a[j,i,m]).OnlyEnforceIf(b[j,m,i])\n",
        "        model.Add(all_tasks[j, m].start >= all_tasks[i, m].end + setup.loc[(j,i)].values[0]).OnlyEnforceIf(b[j,m,i]).OnlyEnforceIf(a[i,j,m])\n",
        " \n",
        "'''\n",
        "com1 = {}\n",
        "for j in df['Key']:\n",
        "  tt= 0\n",
        "  for m in mc:\n",
        "    comp1 = (all_tasks[j,m].end - all_tasks[j,m].start)*dur[\"Output\"].loc[(j,m)]\n",
        "    tt = tt + comp1\n",
        "  com1[j] = tt\n",
        "  model.Add(com1[j]*10 <= df[df[\"Key\"]==j]['Order Qty'].values[0]+500)\n",
        "'''\n",
        " \n",
        "ck = model.NewIntVar(-horizon, horizon, 'dummy')\n",
        "model.AddMaxEquality(ck,[all_tasks[j,m].end for j in jobs for m in mc])\n",
        " \n",
        "model.Minimize(ck)\n",
        "solver = cp_model.CpSolver()\n",
        "solver.Solve(model)\n",
        "print(solver.StatusName(),solver.ObjectiveValue())"
      ],
      "execution_count": 7,
      "outputs": [
        {
          "output_type": "stream",
          "text": [
            "FEASIBLE 102.0\n"
          ],
          "name": "stdout"
        }
      ]
    },
    {
      "cell_type": "code",
      "metadata": {
        "id": "niO4NG7l8_7d",
        "colab_type": "code",
        "colab": {
          "base_uri": "https://localhost:8080/",
          "height": 1000
        },
        "outputId": "7cdacfff-ecab-4b05-d005-d159cea13faa"
      },
      "source": [
        "ff=pd.DataFrame()\n",
        "for m in mc:\n",
        "  for j in jobs:\n",
        "    if solver.Value(all_tasks[j,m].run1)>0:\n",
        "      kk={'Key':j,'line':m,'start':solver.Value(all_tasks[j,m].start),\n",
        "          'run':solver.Value(all_tasks[j,m].run1),'end':solver.Value(all_tasks[j,m].end)}\n",
        "      ff=ff.append(kk,ignore_index=True)\n",
        " \n",
        "#Exploring Data\n",
        "!pip install dtale\n",
        "from dtale import show\n",
        "import dtale.app as dtale_app\n",
        "dtale_app.USE_COLAB = True\n",
        "show(ff,ignore_duplicate=True)"
      ],
      "execution_count": 6,
      "outputs": [
        {
          "output_type": "stream",
          "text": [
            "Collecting dtale\n",
            "\u001b[?25l  Downloading https://files.pythonhosted.org/packages/26/93/6ddef64868f4ef65683ce1997ff8e00283836b8dda41848deaf36c203b4f/dtale-1.15.2-py2.py3-none-any.whl (7.6MB)\n",
            "\u001b[K     |████████████████████████████████| 7.6MB 6.2MB/s \n",
            "\u001b[?25hRequirement already satisfied: itsdangerous in /usr/local/lib/python3.6/dist-packages (from dtale) (1.1.0)\n",
            "Collecting dash-colorscales\n",
            "\u001b[?25l  Downloading https://files.pythonhosted.org/packages/d5/24/de9318acd52989d77135a8497c8be536442b725473684ed4e1ab999b2051/dash_colorscales-0.0.4.tar.gz (62kB)\n",
            "\u001b[K     |████████████████████████████████| 71kB 7.1MB/s \n",
            "\u001b[?25hCollecting Flask-Compress\n",
            "  Downloading https://files.pythonhosted.org/packages/a0/96/cd684c1ffe97b513303b5bfd4bbfb4114c5f4a5ea8a737af6fd813273df8/Flask-Compress-1.5.0.tar.gz\n",
            "Collecting dash-daq\n",
            "\u001b[?25l  Downloading https://files.pythonhosted.org/packages/16/c1/9c6adfc3646990965a5b2ca073f579cc9c09d15553fcfcd83aefd1255494/dash_daq-0.5.0.tar.gz (642kB)\n",
            "\u001b[K     |████████████████████████████████| 645kB 42.4MB/s \n",
            "\u001b[?25hCollecting lz4; python_version > \"3.0\"\n",
            "\u001b[?25l  Downloading https://files.pythonhosted.org/packages/15/6a/ea95dd9a9957143636cfad5037637abec91016b9bde519d3edf4708e3d83/lz4-3.1.0-cp36-cp36m-manylinux2010_x86_64.whl (1.8MB)\n",
            "\u001b[K     |████████████████████████████████| 1.8MB 34.7MB/s \n",
            "\u001b[?25hRequirement already satisfied: future>=0.14.0 in /usr/local/lib/python3.6/dist-packages (from dtale) (0.16.0)\n",
            "Requirement already satisfied: requests in /usr/local/lib/python3.6/dist-packages (from dtale) (2.23.0)\n",
            "Collecting squarify\n",
            "  Downloading https://files.pythonhosted.org/packages/0b/2b/2e77c35326efec19819cd1d729540d4d235e6c2a3f37658288a363a67da5/squarify-0.4.3-py3-none-any.whl\n",
            "Requirement already satisfied: xarray in /usr/local/lib/python3.6/dist-packages (from dtale) (0.15.1)\n",
            "Collecting flask-ngrok; python_version > \"3.0\"\n",
            "  Downloading https://files.pythonhosted.org/packages/af/6c/f54cb686ad1129e27d125d182f90f52b32f284e6c8df58c1bae54fa1adbc/flask_ngrok-0.0.25-py3-none-any.whl\n",
            "Requirement already satisfied: Flask>=1.0 in /usr/local/lib/python3.6/dist-packages (from dtale) (1.1.2)\n",
            "Requirement already satisfied: pandas in /usr/local/lib/python3.6/dist-packages (from dtale) (1.0.5)\n",
            "Requirement already satisfied: statsmodels in /usr/local/lib/python3.6/dist-packages (from dtale) (0.10.2)\n",
            "Requirement already satisfied: scikit-learn>='0.21.0 in /usr/local/lib/python3.6/dist-packages (from dtale) (0.22.2.post1)\n",
            "Collecting dash>=1.5.0\n",
            "\u001b[?25l  Downloading https://files.pythonhosted.org/packages/d1/c2/0eb000c0a2f9e594c7f94c3234838e8f840b209dc8c5b2bc1ed0a9bc0f3c/dash-1.16.1.tar.gz (72kB)\n",
            "\u001b[K     |████████████████████████████████| 81kB 6.5MB/s \n",
            "\u001b[?25hRequirement already satisfied: six in /usr/local/lib/python3.6/dist-packages (from dtale) (1.15.0)\n",
            "Collecting dash-bootstrap-components; python_version > \"3.0\"\n",
            "\u001b[?25l  Downloading https://files.pythonhosted.org/packages/61/01/5da09fab6018f065d70237ffb429afe2a4c10ef6986662c62eedcc76d6e6/dash_bootstrap_components-0.10.6-py2.py3-none-any.whl (185kB)\n",
            "\u001b[K     |████████████████████████████████| 194kB 34.0MB/s \n",
            "\u001b[?25hRequirement already satisfied: scipy in /usr/local/lib/python3.6/dist-packages (from dtale) (1.4.1)\n",
            "Collecting brotli\n",
            "\u001b[?25l  Downloading https://files.pythonhosted.org/packages/b4/d3/7c98f05b7b9103e2f3a112ba42f269c798155b3e5404fb80bb8f823aaebe/Brotli-1.0.9-cp36-cp36m-manylinux1_x86_64.whl (357kB)\n",
            "\u001b[K     |████████████████████████████████| 358kB 45.7MB/s \n",
            "\u001b[?25hRequirement already satisfied: certifi>=2017.4.17 in /usr/local/lib/python3.6/dist-packages (from requests->dtale) (2020.6.20)\n",
            "Requirement already satisfied: urllib3!=1.25.0,!=1.25.1,<1.26,>=1.21.1 in /usr/local/lib/python3.6/dist-packages (from requests->dtale) (1.24.3)\n",
            "Requirement already satisfied: idna<3,>=2.5 in /usr/local/lib/python3.6/dist-packages (from requests->dtale) (2.10)\n",
            "Requirement already satisfied: chardet<4,>=3.0.2 in /usr/local/lib/python3.6/dist-packages (from requests->dtale) (3.0.4)\n",
            "Requirement already satisfied: numpy>=1.15 in /usr/local/lib/python3.6/dist-packages (from xarray->dtale) (1.18.5)\n",
            "Requirement already satisfied: setuptools>=41.2 in /usr/local/lib/python3.6/dist-packages (from xarray->dtale) (50.3.0)\n",
            "Requirement already satisfied: Werkzeug>=0.15 in /usr/local/lib/python3.6/dist-packages (from Flask>=1.0->dtale) (1.0.1)\n",
            "Requirement already satisfied: Jinja2>=2.10.1 in /usr/local/lib/python3.6/dist-packages (from Flask>=1.0->dtale) (2.11.2)\n",
            "Requirement already satisfied: click>=5.1 in /usr/local/lib/python3.6/dist-packages (from Flask>=1.0->dtale) (7.1.2)\n",
            "Requirement already satisfied: pytz>=2017.2 in /usr/local/lib/python3.6/dist-packages (from pandas->dtale) (2018.9)\n",
            "Requirement already satisfied: python-dateutil>=2.6.1 in /usr/local/lib/python3.6/dist-packages (from pandas->dtale) (2.8.1)\n",
            "Requirement already satisfied: patsy>=0.4.0 in /usr/local/lib/python3.6/dist-packages (from statsmodels->dtale) (0.5.1)\n",
            "Requirement already satisfied: joblib>=0.11 in /usr/local/lib/python3.6/dist-packages (from scikit-learn>='0.21.0->dtale) (0.16.0)\n",
            "Requirement already satisfied: plotly in /usr/local/lib/python3.6/dist-packages (from dash>=1.5.0->dtale) (4.4.1)\n",
            "Collecting dash_renderer==1.8.1\n",
            "\u001b[?25l  Downloading https://files.pythonhosted.org/packages/12/22/82e15ff57fd91bedd52583ee7e5968380a09b5a3003dd63361bfb67fdb54/dash_renderer-1.8.1.tar.gz (951kB)\n",
            "\u001b[K     |████████████████████████████████| 952kB 41.6MB/s \n",
            "\u001b[?25hCollecting dash-core-components==1.12.1\n",
            "\u001b[?25l  Downloading https://files.pythonhosted.org/packages/bb/9e/979263a03963d7ac70229ae9a9a118640dd3ef9b57c5d0c89d3d18f073e7/dash_core_components-1.12.1.tar.gz (3.4MB)\n",
            "\u001b[K     |████████████████████████████████| 3.4MB 36.7MB/s \n",
            "\u001b[?25hCollecting dash-html-components==1.1.1\n",
            "\u001b[?25l  Downloading https://files.pythonhosted.org/packages/02/ba/bb9427c62feb25bfbaf243894eeeb4e7c67a92b426ed0575a167100e436e/dash_html_components-1.1.1.tar.gz (188kB)\n",
            "\u001b[K     |████████████████████████████████| 194kB 46.3MB/s \n",
            "\u001b[?25hCollecting dash-table==4.10.1\n",
            "\u001b[?25l  Downloading https://files.pythonhosted.org/packages/a9/85/2408091d71af9af8c5ce6855730ff2e3e443ba8a667864e22f0881f4d785/dash_table-4.10.1.tar.gz (1.8MB)\n",
            "\u001b[K     |████████████████████████████████| 1.8MB 33.4MB/s \n",
            "\u001b[?25hRequirement already satisfied: MarkupSafe>=0.23 in /usr/local/lib/python3.6/dist-packages (from Jinja2>=2.10.1->Flask>=1.0->dtale) (1.1.1)\n",
            "Requirement already satisfied: retrying>=1.3.3 in /usr/local/lib/python3.6/dist-packages (from plotly->dash>=1.5.0->dtale) (1.3.3)\n",
            "Building wheels for collected packages: dash-colorscales, Flask-Compress, dash-daq, dash, dash-renderer, dash-core-components, dash-html-components, dash-table\n",
            "  Building wheel for dash-colorscales (setup.py) ... \u001b[?25l\u001b[?25hdone\n",
            "  Created wheel for dash-colorscales: filename=dash_colorscales-0.0.4-cp36-none-any.whl size=62599 sha256=04adfbe666dfff426b1020512ff4be2dff01f7c71bdab7f408e7a7396d8520bd\n",
            "  Stored in directory: /root/.cache/pip/wheels/0e/4a/1c/3490cfe6a59299b06917af6626a969c8fb7caead39b2d74cf2\n",
            "  Building wheel for Flask-Compress (setup.py) ... \u001b[?25l\u001b[?25hdone\n",
            "  Created wheel for Flask-Compress: filename=Flask_Compress-1.5.0-cp36-none-any.whl size=5272 sha256=7501b1a099981b2f58fb42a639f78e2495452071b00d3e1b1db66cd7ff0896ac\n",
            "  Stored in directory: /root/.cache/pip/wheels/f7/e9/e4/5afc286be7c87461375e33152558415dfeb0c8f5af3b50e742\n",
            "  Building wheel for dash-daq (setup.py) ... \u001b[?25l\u001b[?25hdone\n",
            "  Created wheel for dash-daq: filename=dash_daq-0.5.0-cp36-none-any.whl size=669704 sha256=745e76cf3ba947a96b7a695337e6fbb8a28d590dc0bc105bce03ad8322c337e9\n",
            "  Stored in directory: /root/.cache/pip/wheels/1c/9c/f7/84731716eaa9fc952cdbdd1f87df3ca9b8805c317c609efcd6\n",
            "  Building wheel for dash (setup.py) ... \u001b[?25l\u001b[?25hdone\n",
            "  Created wheel for dash: filename=dash-1.16.1-cp36-none-any.whl size=82320 sha256=7f6999bdec4dbd5981f959149b9628f3a5ea3b399203019589ae50737fa22e9b\n",
            "  Stored in directory: /root/.cache/pip/wheels/52/0c/98/a3842c450867b2aec8577ee1051bb94ad0f8fe62ed3f80c175\n",
            "  Building wheel for dash-renderer (setup.py) ... \u001b[?25l\u001b[?25hdone\n",
            "  Created wheel for dash-renderer: filename=dash_renderer-1.8.1-cp36-none-any.whl size=960253 sha256=b8183d1a92989ace6e89f009aa7b0ddfdc5929d5a595c8880ed34b6652e3fb9f\n",
            "  Stored in directory: /root/.cache/pip/wheels/5a/e6/52/22190c9e35ff7c8fa8ce90bd76ea22a94903ca84b95b1d6db2\n",
            "  Building wheel for dash-core-components (setup.py) ... \u001b[?25l\u001b[?25hdone\n",
            "  Created wheel for dash-core-components: filename=dash_core_components-1.12.1-cp36-none-any.whl size=3475396 sha256=e3168a2cf364b924161eac972d2c199da78221e45058c88d759be828b9720b52\n",
            "  Stored in directory: /root/.cache/pip/wheels/29/11/a0/0cf8183b6f7df4716bec25b0e089043cd161bb58accc6633a6\n",
            "  Building wheel for dash-html-components (setup.py) ... \u001b[?25l\u001b[?25hdone\n",
            "  Created wheel for dash-html-components: filename=dash_html_components-1.1.1-cp36-none-any.whl size=427894 sha256=10dc4164559cfd966da5470055489ff8408519975ea05837b613985eb9744512\n",
            "  Stored in directory: /root/.cache/pip/wheels/8d/01/46/78e4de185a8a4a2da8ba31da16c52170f036d4cebeeb6e07a2\n",
            "  Building wheel for dash-table (setup.py) ... \u001b[?25l\u001b[?25hdone\n",
            "  Created wheel for dash-table: filename=dash_table-4.10.1-cp36-none-any.whl size=1824995 sha256=ddefe152350c16e6599a90d05ef7575a32ca8dae512e1a03a2ca5c8eff2a421b\n",
            "  Stored in directory: /root/.cache/pip/wheels/3d/c2/fd/50a7ea0b9aef63cf3bf3c5fb22799b8ba9a97ea8f9b14b7124\n",
            "Successfully built dash-colorscales Flask-Compress dash-daq dash dash-renderer dash-core-components dash-html-components dash-table\n",
            "Installing collected packages: dash-colorscales, brotli, Flask-Compress, dash-renderer, dash-core-components, dash-html-components, dash-table, dash, dash-daq, lz4, squarify, flask-ngrok, dash-bootstrap-components, dtale\n",
            "Successfully installed Flask-Compress-1.5.0 brotli-1.0.9 dash-1.16.1 dash-bootstrap-components-0.10.6 dash-colorscales-0.0.4 dash-core-components-1.12.1 dash-daq-0.5.0 dash-html-components-1.1.1 dash-renderer-1.8.1 dash-table-4.10.1 dtale-1.15.2 flask-ngrok-0.0.25 lz4-3.1.0 squarify-0.4.3\n"
          ],
          "name": "stdout"
        },
        {
          "output_type": "execute_result",
          "data": {
            "text/plain": [
              "https://ypk46sxxn1-496ff2e9c6d22116-40000-colab.googleusercontent.com/dtale/main/1"
            ]
          },
          "metadata": {
            "tags": []
          },
          "execution_count": 6
        }
      ]
    },
    {
      "cell_type": "markdown",
      "metadata": {
        "id": "EcrQOnfJgYxd",
        "colab_type": "text"
      },
      "source": [
        "**Indices**  \n",
        "j - job  \n",
        "m - machine  \n",
        "\n",
        "**Decision Variable**  \n",
        "$s_{j,m}$ - start time of job j at machine m  \n",
        "$e_{j,m}$ - end time of job j at machine m  \n",
        "$d_{j,m}$ - duration of job j at machine m  \n",
        "\n",
        "**Parameters**  \n",
        "H - Horizon  \n",
        "$d_j$ - delivery date of job j  \n",
        "$q_j$ - order qty of job j  \n",
        "$o_{j,m}$ - output per hour of job j at machine m  \n",
        "\n",
        "**Objective**  \n",
        "$ \\sum_{j} d_j - max(e_{j,m})  \\qquad \\forall m \\in mc$  \n",
        "\n",
        "**Constraints**  \n",
        "$ \\sum_m e_{j,m} < s_{i,m} or s_{j,m} > e_{i,m} \\qquad \\forall j,i \\in jobs$  \n",
        "$ \\sum_j o_{j,m} \\times d_{j,m} >= q_j \\qquad \\forall m \\in ma $\n"
      ]
    }
  ]
}
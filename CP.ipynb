{
  "nbformat": 4,
  "nbformat_minor": 0,
  "metadata": {
    "kernelspec": {
      "display_name": "Python 3",
      "language": "python",
      "name": "python3"
    },
    "language_info": {
      "codemirror_mode": {
        "name": "ipython",
        "version": 3
      },
      "file_extension": ".py",
      "mimetype": "text/x-python",
      "name": "python",
      "nbconvert_exporter": "python",
      "pygments_lexer": "ipython3",
      "version": "3.8.2"
    },
    "colab": {
      "name": "CP.ipynb",
      "provenance": []
    }
  },
  "cells": [
    {
      "cell_type": "code",
      "metadata": {
        "id": "ZAegf4MTD07x",
        "colab_type": "code",
        "colab": {
          "base_uri": "https://localhost:8080/",
          "height": 89
        },
        "outputId": "cebcaff1-4afd-4bdb-8a43-6549e9d7a701"
      },
      "source": [
        "!pip install ortools\n",
        "#!pip install dtale"
      ],
      "execution_count": 22,
      "outputs": [
        {
          "output_type": "stream",
          "text": [
            "Requirement already satisfied: ortools in /usr/local/lib/python3.6/dist-packages (7.8.7959)\n",
            "Requirement already satisfied: six>=1.10 in /usr/local/lib/python3.6/dist-packages (from ortools) (1.15.0)\n",
            "Requirement already satisfied: protobuf>=3.12.2 in /usr/local/lib/python3.6/dist-packages (from ortools) (3.12.4)\n",
            "Requirement already satisfied: setuptools in /usr/local/lib/python3.6/dist-packages (from protobuf>=3.12.2->ortools) (49.6.0)\n"
          ],
          "name": "stdout"
        }
      ]
    },
    {
      "cell_type": "code",
      "metadata": {
        "id": "sG_LW15bCHKH",
        "colab_type": "code",
        "colab": {
          "base_uri": "https://localhost:8080/",
          "height": 179
        },
        "outputId": "0fa3a644-b9f8-4840-a944-335347ebce96"
      },
      "source": [
        "import pandas as pd\n",
        "import numpy as np\n",
        "import collections\n",
        "from ortools.sat.python import cp_model\n",
        "# Clone the entire repo.\n",
        "!git clone -l -s https://github.com/mswastik/optimization.git cloned-repo\n",
        "%cd cloned-repo"
      ],
      "execution_count": 23,
      "outputs": [
        {
          "output_type": "stream",
          "text": [
            "Cloning into 'cloned-repo'...\n",
            "warning: --local is ignored\n",
            "remote: Enumerating objects: 149, done.\u001b[K\n",
            "remote: Counting objects: 100% (149/149), done.\u001b[K\n",
            "remote: Compressing objects: 100% (145/145), done.\u001b[K\n",
            "remote: Total 149 (delta 57), reused 0 (delta 0), pack-reused 0\u001b[K\n",
            "Receiving objects: 100% (149/149), 2.14 MiB | 2.44 MiB/s, done.\n",
            "Resolving deltas: 100% (57/57), done.\n",
            "/content/cloned-repo/cloned-repo\n"
          ],
          "name": "stdout"
        }
      ]
    },
    {
      "cell_type": "code",
      "metadata": {
        "id": "nUhA6-OCCHKV",
        "colab_type": "code",
        "colab": {}
      },
      "source": [
        "#Importing Data\n",
        "df=pd.read_excel('orders1.xlsx')\n",
        "ma=pd.read_excel('item master.xlsx')\n",
        "bu=pd.read_excel('item master.xlsx',sheet_name='bulk')\n",
        "pa=pd.read_excel('item master.xlsx',sheet_name='packing')\n",
        "\n",
        "# Formating Data\n",
        "df = df[df['Line']=='Tmmthpkhti Limi']\n",
        "df = df[df['Plant']==1024]\n",
        "del df['Line']\n",
        "df['due'] = df['Dispatch Date'] - df['SO Date'].min()\n",
        "df['due'] = df['due'].dt.days\n",
        "df['sodate'] = df['SO Date'] - df['SO Date'].min()\n",
        "df['sodate'] = df['sodate'].dt.days\n",
        "df.reset_index(inplace=True,drop=True)\n",
        "df['Key']=df['SO'].astype('str')+df['FG Code']\n",
        "del df['Dispatch Date']\n",
        "del df['SO Date']\n",
        "del df['Description']\n",
        "del df['Customer']\n",
        "df['Order Qty'] = df[df['Order Qty']!=0]['Order Qty']\n",
        "df['Order Qty'] = df['Order Qty']*1000\n",
        "df=df[df['Key']!='17023287gd39000800iX']\n",
        "\n",
        "\n",
        "# Creating Parameter Data\n",
        "jobs =df['Key']\n",
        "op =[1,2,3,4]  # Ignore as of now\n",
        "mc = [1,2,3,4,5,6]\n",
        "#horizon = max(df[\"due\"])+900\n",
        "due = df.set_index('Key')\n",
        "dur=df[['Key','FG Code','Order Qty']]\n",
        "dur=dur.merge(pa[[\"FG Code\",\"Line\",\"Output\"]], on=\"FG Code\")\n",
        "dur['Output']=dur['Output']*100\n",
        "dur['duration']=dur['Order Qty']/dur['Output']\n",
        "dur['duration'] = dur['duration'].astype('float64').round(decimals = 2)\n",
        "dur.set_index(['Key','Line'],inplace=True)\n",
        "del dur['FG Code']\n",
        "dur['Output'].replace(0,1,inplace=True)\n",
        "df['Order Qty']=df['Order Qty'].fillna(0).astype('int')\n",
        "dur['duration']=dur['duration'].fillna(0).astype('int')\n",
        "dur['Output']=dur['Output'].fillna(0).astype('int')\n",
        "horizon = max(dur['duration']*100)"
      ],
      "execution_count": 24,
      "outputs": []
    },
    {
      "cell_type": "code",
      "metadata": {
        "id": "nYDxWHnS6Z7Z",
        "colab_type": "code",
        "colab": {}
      },
      "source": [
        "#Testing\n",
        "#dur['duration'].loc[('17023287gd29904300iX',1)]\n",
        "#dur\n",
        "setup = pd.DataFrame(columns=('Key1','Key2','setup'))\n",
        "for i in df['Key']:\n",
        "  for k in df['Key']:\n",
        "    if df[df['Key']==i][\"FG Code\"].values[0]==df[df['Key']==k][\"FG Code\"].values[0]:\n",
        "      f = {'Key1':[i],\"Key2\":[k],\"setup\":[0]}\n",
        "    else:\n",
        "      f = {'Key1':[i],\"Key2\":[k],\"setup\":[40]}\n",
        "    f = pd.DataFrame(data=f)\n",
        "    setup = pd.concat([setup,f])\n",
        "setup.set_index(['Key1','Key2'],inplace=True)"
      ],
      "execution_count": 25,
      "outputs": []
    },
    {
      "cell_type": "code",
      "metadata": {
        "id": "2kluFz3V77yw",
        "colab_type": "code",
        "colab": {
          "base_uri": "https://localhost:8080/",
          "height": 35
        },
        "outputId": "d584cf48-867d-46cb-9a06-e128a21575af"
      },
      "source": [
        "model = cp_model.CpModel()\n",
        "task_type = collections.namedtuple('task_type', 'start end run1')\n",
        "mtj = collections.defaultdict(list)\n",
        "all_tasks = {}\n",
        "\n",
        "for j in jobs:\n",
        "  for m in mc:\n",
        "    suffix = '_%s_%i' % (j,m)\n",
        "    start = model.NewIntVar(0, horizon, \"start\"+suffix)\n",
        "    end = model.NewIntVar(0, horizon, \"end\"+suffix)\n",
        "    run1 = model.NewIntVar(0, dur['duration'].loc[(j,m)].item(), \"run\"+suffix)\n",
        "    #duration = model.NewIntervalVar(start, run1, end, \"duration\"+suffix)\n",
        "    all_tasks[j, m] = task_type(start=start, end=end, run1=run1)\n",
        "    #mtj[m].append(duration)\n",
        " \n",
        "#for m in mc:\n",
        "#  model.AddNoOverlap(mtj[m])\n",
        "for i in jobs:\n",
        "  for m in mc:\n",
        "    model.Add(all_tasks[i, m].run1==all_tasks[i, m].end-all_tasks[i, m].start)\n",
        "\n",
        "\n",
        "com = {}\n",
        "for j in jobs:\n",
        "  tt= 0\n",
        "  for m in mc:\n",
        "    comp = all_tasks[j,m].run1*dur[\"Output\"].loc[(j,m)]\n",
        "    tt = tt + comp\n",
        "  com[j] = tt\n",
        "  model.Add(com[j]*10 >= df[df[\"Key\"]==j]['Order Qty'].values[0])\n",
        "\n",
        "\n",
        "a={}\n",
        "for i in jobs:\n",
        "  for m in mc:\n",
        "    if all_tasks[i,m].run1>0:\n",
        "      for k in jobs:\n",
        "        if k != i:\n",
        "          a[i,k,m] = model.NewBoolVar('previous')\n",
        "      \n",
        "for i in jobs:\n",
        "  for m in mc:\n",
        "    if all_tasks[i,m].run1>0:\n",
        "      for k in jobs:\n",
        "        if k != i:\n",
        "          model.AddBoolOr([a[i,k,m],a[k,i,m]])\n",
        "          model.Add(all_tasks[k, m].start - all_tasks[i, m].end >= setup.loc[(i,k)].values[0]).OnlyEnforceIf(a[i,k,m])\n",
        "          model.Add(all_tasks[i, m].start - all_tasks[k, m].end >= setup.loc[(i,k)].values[0]).OnlyEnforceIf(a[i,k,m].Not())\n",
        "\n",
        "'''\n",
        "com1 = {}\n",
        "for j in df['Key']:\n",
        "  tt= 0\n",
        "  for m in mc:\n",
        "    comp1 = (all_tasks[j,m].end - all_tasks[j,m].start)*dur[\"Output\"].loc[(j,m)]\n",
        "    tt = tt + comp1\n",
        "  com1[j] = tt\n",
        "  model.Add(com1[j]*10 <= df[df[\"Key\"]==j]['Order Qty'].values[0]+500)\n",
        "'''\n",
        "\n",
        "ck = model.NewIntVar(-horizon, horizon, 'dummy')\n",
        "model.AddMaxEquality(ck,[all_tasks[j,m].end for j in jobs for m in mc])\n",
        "\n",
        "model.Minimize(ck)\n",
        "solver = cp_model.CpSolver()\n",
        "solver.Solve(model)\n",
        "solver.StatusName()\n",
        "#solver.ObjectiveValue()"
      ],
      "execution_count": 26,
      "outputs": [
        {
          "output_type": "execute_result",
          "data": {
            "application/vnd.google.colaboratory.intrinsic+json": {
              "type": "string"
            },
            "text/plain": [
              "'FEASIBLE'"
            ]
          },
          "metadata": {
            "tags": []
          },
          "execution_count": 26
        }
      ]
    },
    {
      "cell_type": "code",
      "metadata": {
        "id": "niO4NG7l8_7d",
        "colab_type": "code",
        "colab": {}
      },
      "source": [
        "ff=pd.DataFrame()\n",
        "for m in mc:\n",
        "  for j in jobs:\n",
        "    kk={'Key':j,'line':m,'start':solver.Value(all_tasks[j,m].start),'run':solver.Value(all_tasks[j,m].run1),'end':solver.Value(all_tasks[j,m].end)}\n",
        "    ff=ff.append(kk,ignore_index=True)"
      ],
      "execution_count": 30,
      "outputs": []
    },
    {
      "cell_type": "code",
      "metadata": {
        "id": "UlRbBjJDGyMP",
        "colab_type": "code",
        "colab": {
          "base_uri": "https://localhost:8080/",
          "height": 419
        },
        "outputId": "31e658ad-e74d-4973-c299-a4cbbbd33101"
      },
      "source": [
        "ff"
      ],
      "execution_count": 31,
      "outputs": [
        {
          "output_type": "execute_result",
          "data": {
            "text/html": [
              "<div>\n",
              "<style scoped>\n",
              "    .dataframe tbody tr th:only-of-type {\n",
              "        vertical-align: middle;\n",
              "    }\n",
              "\n",
              "    .dataframe tbody tr th {\n",
              "        vertical-align: top;\n",
              "    }\n",
              "\n",
              "    .dataframe thead th {\n",
              "        text-align: right;\n",
              "    }\n",
              "</style>\n",
              "<table border=\"1\" class=\"dataframe\">\n",
              "  <thead>\n",
              "    <tr style=\"text-align: right;\">\n",
              "      <th></th>\n",
              "      <th>Key</th>\n",
              "      <th>end</th>\n",
              "      <th>line</th>\n",
              "      <th>run</th>\n",
              "      <th>start</th>\n",
              "    </tr>\n",
              "  </thead>\n",
              "  <tbody>\n",
              "    <tr>\n",
              "      <th>0</th>\n",
              "      <td>17023287gd29904300iX</td>\n",
              "      <td>40.0</td>\n",
              "      <td>1.0</td>\n",
              "      <td>0.0</td>\n",
              "      <td>40.0</td>\n",
              "    </tr>\n",
              "    <tr>\n",
              "      <th>1</th>\n",
              "      <td>17023287gd29907800iX</td>\n",
              "      <td>80.0</td>\n",
              "      <td>1.0</td>\n",
              "      <td>0.0</td>\n",
              "      <td>80.0</td>\n",
              "    </tr>\n",
              "    <tr>\n",
              "      <th>2</th>\n",
              "      <td>17023287gd55102400iX</td>\n",
              "      <td>400.0</td>\n",
              "      <td>1.0</td>\n",
              "      <td>0.0</td>\n",
              "      <td>400.0</td>\n",
              "    </tr>\n",
              "    <tr>\n",
              "      <th>3</th>\n",
              "      <td>17023572gd43208500iX</td>\n",
              "      <td>320.0</td>\n",
              "      <td>1.0</td>\n",
              "      <td>0.0</td>\n",
              "      <td>320.0</td>\n",
              "    </tr>\n",
              "    <tr>\n",
              "      <th>4</th>\n",
              "      <td>17023636gd280043C0iX</td>\n",
              "      <td>692.0</td>\n",
              "      <td>1.0</td>\n",
              "      <td>124.0</td>\n",
              "      <td>568.0</td>\n",
              "    </tr>\n",
              "    <tr>\n",
              "      <th>...</th>\n",
              "      <td>...</td>\n",
              "      <td>...</td>\n",
              "      <td>...</td>\n",
              "      <td>...</td>\n",
              "      <td>...</td>\n",
              "    </tr>\n",
              "    <tr>\n",
              "      <th>97</th>\n",
              "      <td>17023439gd28311300iX</td>\n",
              "      <td>85.0</td>\n",
              "      <td>6.0</td>\n",
              "      <td>5.0</td>\n",
              "      <td>80.0</td>\n",
              "    </tr>\n",
              "    <tr>\n",
              "      <th>98</th>\n",
              "      <td>17023440gd23010000gR</td>\n",
              "      <td>125.0</td>\n",
              "      <td>6.0</td>\n",
              "      <td>0.0</td>\n",
              "      <td>125.0</td>\n",
              "    </tr>\n",
              "    <tr>\n",
              "      <th>99</th>\n",
              "      <td>4501763335gd23010000Ud</td>\n",
              "      <td>408.0</td>\n",
              "      <td>6.0</td>\n",
              "      <td>0.0</td>\n",
              "      <td>408.0</td>\n",
              "    </tr>\n",
              "    <tr>\n",
              "      <th>100</th>\n",
              "      <td>4501763335gd251100C0Ud</td>\n",
              "      <td>368.0</td>\n",
              "      <td>6.0</td>\n",
              "      <td>0.0</td>\n",
              "      <td>368.0</td>\n",
              "    </tr>\n",
              "    <tr>\n",
              "      <th>101</th>\n",
              "      <td>4501763335gC25020000UC</td>\n",
              "      <td>288.0</td>\n",
              "      <td>6.0</td>\n",
              "      <td>3.0</td>\n",
              "      <td>285.0</td>\n",
              "    </tr>\n",
              "  </tbody>\n",
              "</table>\n",
              "<p>102 rows × 5 columns</p>\n",
              "</div>"
            ],
            "text/plain": [
              "                        Key    end  line    run  start\n",
              "0      17023287gd29904300iX   40.0   1.0    0.0   40.0\n",
              "1      17023287gd29907800iX   80.0   1.0    0.0   80.0\n",
              "2      17023287gd55102400iX  400.0   1.0    0.0  400.0\n",
              "3      17023572gd43208500iX  320.0   1.0    0.0  320.0\n",
              "4      17023636gd280043C0iX  692.0   1.0  124.0  568.0\n",
              "..                      ...    ...   ...    ...    ...\n",
              "97     17023439gd28311300iX   85.0   6.0    5.0   80.0\n",
              "98     17023440gd23010000gR  125.0   6.0    0.0  125.0\n",
              "99   4501763335gd23010000Ud  408.0   6.0    0.0  408.0\n",
              "100  4501763335gd251100C0Ud  368.0   6.0    0.0  368.0\n",
              "101  4501763335gC25020000UC  288.0   6.0    3.0  285.0\n",
              "\n",
              "[102 rows x 5 columns]"
            ]
          },
          "metadata": {
            "tags": []
          },
          "execution_count": 31
        }
      ]
    },
    {
      "cell_type": "code",
      "metadata": {
        "id": "Pk-0lBw-3c3g",
        "colab_type": "code",
        "colab": {
          "base_uri": "https://localhost:8080/",
          "height": 1000
        },
        "outputId": "ed6b4234-71f8-4ed5-d48d-026067af821f"
      },
      "source": [
        "#Exploring Data\n",
        "!pip install dtale\n",
        "from dtale import show\n",
        "import dtale.app as dtale_app\n",
        "dtale_app.USE_COLAB = True\n",
        "show(ff)"
      ],
      "execution_count": 33,
      "outputs": [
        {
          "output_type": "stream",
          "text": [
            "Collecting dtale\n",
            "\u001b[?25l  Downloading https://files.pythonhosted.org/packages/26/93/6ddef64868f4ef65683ce1997ff8e00283836b8dda41848deaf36c203b4f/dtale-1.15.2-py2.py3-none-any.whl (7.6MB)\n",
            "\u001b[K     |████████████████████████████████| 7.6MB 2.8MB/s \n",
            "\u001b[?25hRequirement already satisfied: future>=0.14.0 in /usr/local/lib/python3.6/dist-packages (from dtale) (0.16.0)\n",
            "Requirement already satisfied: itsdangerous in /usr/local/lib/python3.6/dist-packages (from dtale) (1.1.0)\n",
            "Requirement already satisfied: six in /usr/local/lib/python3.6/dist-packages (from dtale) (1.15.0)\n",
            "Collecting dash>=1.5.0\n",
            "\u001b[?25l  Downloading https://files.pythonhosted.org/packages/5c/b7/2a7697983d14763be9a757d4c72ef9371a8c882a87872b078bd3a0c6b8af/dash-1.16.0.tar.gz (72kB)\n",
            "\u001b[K     |████████████████████████████████| 81kB 8.7MB/s \n",
            "\u001b[?25hCollecting dash-colorscales\n",
            "\u001b[?25l  Downloading https://files.pythonhosted.org/packages/d5/24/de9318acd52989d77135a8497c8be536442b725473684ed4e1ab999b2051/dash_colorscales-0.0.4.tar.gz (62kB)\n",
            "\u001b[K     |████████████████████████████████| 71kB 8.7MB/s \n",
            "\u001b[?25hCollecting dash-bootstrap-components; python_version > \"3.0\"\n",
            "\u001b[?25l  Downloading https://files.pythonhosted.org/packages/61/01/5da09fab6018f065d70237ffb429afe2a4c10ef6986662c62eedcc76d6e6/dash_bootstrap_components-0.10.6-py2.py3-none-any.whl (185kB)\n",
            "\u001b[K     |████████████████████████████████| 194kB 47.0MB/s \n",
            "\u001b[?25hCollecting lz4; python_version > \"3.0\"\n",
            "\u001b[?25l  Downloading https://files.pythonhosted.org/packages/15/6a/ea95dd9a9957143636cfad5037637abec91016b9bde519d3edf4708e3d83/lz4-3.1.0-cp36-cp36m-manylinux2010_x86_64.whl (1.8MB)\n",
            "\u001b[K     |████████████████████████████████| 1.8MB 32.7MB/s \n",
            "\u001b[?25hRequirement already satisfied: requests in /usr/local/lib/python3.6/dist-packages (from dtale) (2.23.0)\n",
            "Requirement already satisfied: statsmodels in /usr/local/lib/python3.6/dist-packages (from dtale) (0.10.2)\n",
            "Collecting dash-daq\n",
            "\u001b[?25l  Downloading https://files.pythonhosted.org/packages/16/c1/9c6adfc3646990965a5b2ca073f579cc9c09d15553fcfcd83aefd1255494/dash_daq-0.5.0.tar.gz (642kB)\n",
            "\u001b[K     |████████████████████████████████| 645kB 45.1MB/s \n",
            "\u001b[?25hCollecting squarify\n",
            "  Downloading https://files.pythonhosted.org/packages/0b/2b/2e77c35326efec19819cd1d729540d4d235e6c2a3f37658288a363a67da5/squarify-0.4.3-py3-none-any.whl\n",
            "Collecting flask-ngrok; python_version > \"3.0\"\n",
            "  Downloading https://files.pythonhosted.org/packages/af/6c/f54cb686ad1129e27d125d182f90f52b32f284e6c8df58c1bae54fa1adbc/flask_ngrok-0.0.25-py3-none-any.whl\n",
            "Requirement already satisfied: Flask>=1.0 in /usr/local/lib/python3.6/dist-packages (from dtale) (1.1.2)\n",
            "Requirement already satisfied: scikit-learn>='0.21.0 in /usr/local/lib/python3.6/dist-packages (from dtale) (0.22.2.post1)\n",
            "Collecting Flask-Compress\n",
            "  Downloading https://files.pythonhosted.org/packages/a0/96/cd684c1ffe97b513303b5bfd4bbfb4114c5f4a5ea8a737af6fd813273df8/Flask-Compress-1.5.0.tar.gz\n",
            "Requirement already satisfied: scipy in /usr/local/lib/python3.6/dist-packages (from dtale) (1.4.1)\n",
            "Requirement already satisfied: xarray in /usr/local/lib/python3.6/dist-packages (from dtale) (0.15.1)\n",
            "Requirement already satisfied: pandas in /usr/local/lib/python3.6/dist-packages (from dtale) (1.0.5)\n",
            "Requirement already satisfied: plotly in /usr/local/lib/python3.6/dist-packages (from dash>=1.5.0->dtale) (4.4.1)\n",
            "Collecting dash_renderer==1.8.0\n",
            "\u001b[?25l  Downloading https://files.pythonhosted.org/packages/28/52/007f9dda12953d0bb8a19355b84c05eab794f965776b76e14642f7d84e06/dash_renderer-1.8.0.tar.gz (950kB)\n",
            "\u001b[K     |████████████████████████████████| 952kB 40.6MB/s \n",
            "\u001b[?25hCollecting dash-core-components==1.12.0\n",
            "\u001b[?25l  Downloading https://files.pythonhosted.org/packages/c2/4c/134f5ab245c86d9c61ec7e5f1ee4c6277e7fafa072793a38b06a9d377571/dash_core_components-1.12.0.tar.gz (3.4MB)\n",
            "\u001b[K     |████████████████████████████████| 3.4MB 52.1MB/s \n",
            "\u001b[?25hCollecting dash-html-components==1.1.1\n",
            "\u001b[?25l  Downloading https://files.pythonhosted.org/packages/02/ba/bb9427c62feb25bfbaf243894eeeb4e7c67a92b426ed0575a167100e436e/dash_html_components-1.1.1.tar.gz (188kB)\n",
            "\u001b[K     |████████████████████████████████| 194kB 38.8MB/s \n",
            "\u001b[?25hCollecting dash-table==4.10.1\n",
            "\u001b[?25l  Downloading https://files.pythonhosted.org/packages/a9/85/2408091d71af9af8c5ce6855730ff2e3e443ba8a667864e22f0881f4d785/dash_table-4.10.1.tar.gz (1.8MB)\n",
            "\u001b[K     |████████████████████████████████| 1.8MB 36.8MB/s \n",
            "\u001b[?25hRequirement already satisfied: idna<3,>=2.5 in /usr/local/lib/python3.6/dist-packages (from requests->dtale) (2.10)\n",
            "Requirement already satisfied: chardet<4,>=3.0.2 in /usr/local/lib/python3.6/dist-packages (from requests->dtale) (3.0.4)\n",
            "Requirement already satisfied: certifi>=2017.4.17 in /usr/local/lib/python3.6/dist-packages (from requests->dtale) (2020.6.20)\n",
            "Requirement already satisfied: urllib3!=1.25.0,!=1.25.1,<1.26,>=1.21.1 in /usr/local/lib/python3.6/dist-packages (from requests->dtale) (1.24.3)\n",
            "Requirement already satisfied: numpy>=1.11 in /usr/local/lib/python3.6/dist-packages (from statsmodels->dtale) (1.18.5)\n",
            "Requirement already satisfied: patsy>=0.4.0 in /usr/local/lib/python3.6/dist-packages (from statsmodels->dtale) (0.5.1)\n",
            "Requirement already satisfied: click>=5.1 in /usr/local/lib/python3.6/dist-packages (from Flask>=1.0->dtale) (7.1.2)\n",
            "Requirement already satisfied: Jinja2>=2.10.1 in /usr/local/lib/python3.6/dist-packages (from Flask>=1.0->dtale) (2.11.2)\n",
            "Requirement already satisfied: Werkzeug>=0.15 in /usr/local/lib/python3.6/dist-packages (from Flask>=1.0->dtale) (1.0.1)\n",
            "Requirement already satisfied: joblib>=0.11 in /usr/local/lib/python3.6/dist-packages (from scikit-learn>='0.21.0->dtale) (0.16.0)\n",
            "Collecting brotli\n",
            "\u001b[?25l  Downloading https://files.pythonhosted.org/packages/b4/d3/7c98f05b7b9103e2f3a112ba42f269c798155b3e5404fb80bb8f823aaebe/Brotli-1.0.9-cp36-cp36m-manylinux1_x86_64.whl (357kB)\n",
            "\u001b[K     |████████████████████████████████| 358kB 49.0MB/s \n",
            "\u001b[?25hRequirement already satisfied: setuptools>=41.2 in /usr/local/lib/python3.6/dist-packages (from xarray->dtale) (49.6.0)\n",
            "Requirement already satisfied: python-dateutil>=2.6.1 in /usr/local/lib/python3.6/dist-packages (from pandas->dtale) (2.8.1)\n",
            "Requirement already satisfied: pytz>=2017.2 in /usr/local/lib/python3.6/dist-packages (from pandas->dtale) (2018.9)\n",
            "Requirement already satisfied: retrying>=1.3.3 in /usr/local/lib/python3.6/dist-packages (from plotly->dash>=1.5.0->dtale) (1.3.3)\n",
            "Requirement already satisfied: MarkupSafe>=0.23 in /usr/local/lib/python3.6/dist-packages (from Jinja2>=2.10.1->Flask>=1.0->dtale) (1.1.1)\n",
            "Building wheels for collected packages: dash, dash-colorscales, dash-daq, Flask-Compress, dash-renderer, dash-core-components, dash-html-components, dash-table\n",
            "  Building wheel for dash (setup.py) ... \u001b[?25l\u001b[?25hdone\n",
            "  Created wheel for dash: filename=dash-1.16.0-cp36-none-any.whl size=82327 sha256=5a5417ea4f4ed63960cade68034c80b912e4633c27a68b06df02f59c073a7c0e\n",
            "  Stored in directory: /root/.cache/pip/wheels/5e/ee/63/1ba2ec6156da00e04457f46dd658a3f8c31247268eb62f93d0\n",
            "  Building wheel for dash-colorscales (setup.py) ... \u001b[?25l\u001b[?25hdone\n",
            "  Created wheel for dash-colorscales: filename=dash_colorscales-0.0.4-cp36-none-any.whl size=62599 sha256=86aac125b0d7f804db8ce52e25c3737f772aabeb6b30392ce371335b9a16b046\n",
            "  Stored in directory: /root/.cache/pip/wheels/0e/4a/1c/3490cfe6a59299b06917af6626a969c8fb7caead39b2d74cf2\n",
            "  Building wheel for dash-daq (setup.py) ... \u001b[?25l\u001b[?25hdone\n",
            "  Created wheel for dash-daq: filename=dash_daq-0.5.0-cp36-none-any.whl size=669704 sha256=db3cb3879962a7eb0294f55f879d537861ed8fd4499e1bf4e58de3b8d9912ae2\n",
            "  Stored in directory: /root/.cache/pip/wheels/1c/9c/f7/84731716eaa9fc952cdbdd1f87df3ca9b8805c317c609efcd6\n",
            "  Building wheel for Flask-Compress (setup.py) ... \u001b[?25l\u001b[?25hdone\n",
            "  Created wheel for Flask-Compress: filename=Flask_Compress-1.5.0-cp36-none-any.whl size=5272 sha256=2b0973ea23f301296f088d7f540febcd1aecb6839925952243c621929054af53\n",
            "  Stored in directory: /root/.cache/pip/wheels/f7/e9/e4/5afc286be7c87461375e33152558415dfeb0c8f5af3b50e742\n",
            "  Building wheel for dash-renderer (setup.py) ... \u001b[?25l\u001b[?25hdone\n",
            "  Created wheel for dash-renderer: filename=dash_renderer-1.8.0-cp36-none-any.whl size=959341 sha256=4dbff5784a0b8ee21a4d63fd02b2e0bcdcfd5e8f47436e13ed88484d5e87bad2\n",
            "  Stored in directory: /root/.cache/pip/wheels/9d/f4/59/c39e56740d76f30667176e7739ada961594bca5a183842154f\n",
            "  Building wheel for dash-core-components (setup.py) ... \u001b[?25l\u001b[?25hdone\n",
            "  Created wheel for dash-core-components: filename=dash_core_components-1.12.0-cp36-none-any.whl size=3478749 sha256=219ad9965f8f49ee7f30472e7921c72a98f5dcef44f950af5de477b00416f249\n",
            "  Stored in directory: /root/.cache/pip/wheels/43/b6/94/abdc9a6e9c036ec54c4f99bfbc69cbf7fb9b8a78b09f59a2b0\n",
            "  Building wheel for dash-html-components (setup.py) ... \u001b[?25l\u001b[?25hdone\n",
            "  Created wheel for dash-html-components: filename=dash_html_components-1.1.1-cp36-none-any.whl size=427894 sha256=52fa401696c59377f2ffa3f62f20b40826fbae79978811507ed471a904994295\n",
            "  Stored in directory: /root/.cache/pip/wheels/8d/01/46/78e4de185a8a4a2da8ba31da16c52170f036d4cebeeb6e07a2\n",
            "  Building wheel for dash-table (setup.py) ... \u001b[?25l\u001b[?25hdone\n",
            "  Created wheel for dash-table: filename=dash_table-4.10.1-cp36-none-any.whl size=1824995 sha256=6620d2192a837d021f554435b7efb951bfccaa493e55053ac448f63f9259b0ce\n",
            "  Stored in directory: /root/.cache/pip/wheels/3d/c2/fd/50a7ea0b9aef63cf3bf3c5fb22799b8ba9a97ea8f9b14b7124\n",
            "Successfully built dash dash-colorscales dash-daq Flask-Compress dash-renderer dash-core-components dash-html-components dash-table\n",
            "Installing collected packages: brotli, Flask-Compress, dash-renderer, dash-core-components, dash-html-components, dash-table, dash, dash-colorscales, dash-bootstrap-components, lz4, dash-daq, squarify, flask-ngrok, dtale\n",
            "Successfully installed Flask-Compress-1.5.0 brotli-1.0.9 dash-1.16.0 dash-bootstrap-components-0.10.6 dash-colorscales-0.0.4 dash-core-components-1.12.0 dash-daq-0.5.0 dash-html-components-1.1.1 dash-renderer-1.8.0 dash-table-4.10.1 dtale-1.15.2 flask-ngrok-0.0.25 lz4-3.1.0 squarify-0.4.3\n"
          ],
          "name": "stdout"
        },
        {
          "output_type": "execute_result",
          "data": {
            "text/plain": [
              "https://7ib8iv8151-496ff2e9c6d22116-40000-colab.googleusercontent.com/dtale/main/1"
            ]
          },
          "metadata": {
            "tags": []
          },
          "execution_count": 33
        }
      ]
    },
    {
      "cell_type": "code",
      "metadata": {
        "id": "D8MChwDryyRL",
        "colab_type": "code",
        "colab": {
          "base_uri": "https://localhost:8080/",
          "height": 35
        },
        "outputId": "95b91688-16f1-4923-afbc-7dcc74f13e07"
      },
      "source": [
        "model.Minimize(dummy)\n",
        "solver = cp_model.CpSolver()\n",
        "solver.Solve(model)\n",
        "solver.StatusName()"
      ],
      "execution_count": null,
      "outputs": [
        {
          "output_type": "execute_result",
          "data": {
            "application/vnd.google.colaboratory.intrinsic+json": {
              "type": "string"
            },
            "text/plain": [
              "'INFEASIBLE'"
            ]
          },
          "metadata": {
            "tags": []
          },
          "execution_count": 19
        }
      ]
    },
    {
      "cell_type": "code",
      "metadata": {
        "id": "O0RuA86tb26o",
        "colab_type": "code",
        "colab": {
          "base_uri": "https://localhost:8080/",
          "height": 54
        },
        "outputId": "dc27fd3f-4a05-4cf1-865b-092a60c461de"
      },
      "source": [
        "delay"
      ],
      "execution_count": null,
      "outputs": [
        {
          "output_type": "execute_result",
          "data": {
            "text/plain": [
              "SumArray(SumArray(SumArray(SumArray(SumArray(SumArray(SumArray(SumArray(SumArray(SumArray(SumArray(SumArray(SumArray(SumArray(SumArray(SumArray(SumArray(SumArray(SumArray(SumArray(SumArray(SumArray(SumArray(SumArray(SumArray(SumArray(SumArray(SumArray(SumArray(SumArray(SumArray(SumArray(SumArray(SumArray(SumArray(SumArray(SumArray(SumArray(SumArray(SumArray(SumArray(SumArray(SumArray(SumArray(SumArray(SumArray(SumArray(SumArray(SumArray(SumArray(SumArray(SumArray(SumArray(SumArray(SumArray(SumArray(SumArray(SumArray(SumArray(SumArray(SumArray(SumArray(SumArray(SumArray(SumArray(SumArray(SumArray(SumArray(SumArray(SumArray(SumArray(SumArray(SumArray(SumArray(SumArray(SumArray(SumArray(SumArray(SumArray(SumArray(SumArray(SumArray(SumArray(SumArray(SumArray(SumArray(SumArray(SumArray(SumArray(SumArray(SumArray(SumArray(SumArray(SumArray(SumArray(SumArray(SumArray(SumArray(SumArray(SumArray(SumArray(SumArray(SumArray(SumArray(SumArray(SumArray(SumArray(SumArray(SumArray(SumArray(SumArray(SumArray(SumArray(SumArray(SumArray(SumArray(SumArray(SumArray(SumArray(SumArray(SumArray(SumArray(SumArray(SumArray(SumArray(SumArray(SumArray(SumArray(SumArray(SumArray(SumArray(SumArray(SumArray(SumArray(SumArray(SumArray(SumArray(SumArray(SumArray(SumArray(SumArray(SumArray(SumArray(SumArray(SumArray(SumArray(SumArray(SumArray(SumArray(SumArray(SumArray(SumArray(SumArray(SumArray(SumArray(SumArray(SumArray(SumArray(SumArray(SumArray(SumArray(SumArray(SumArray(SumArray(SumArray(SumArray(SumArray(SumArray(SumArray(SumArray(SumArray(SumArray(SumArray(SumArray(SumArray(SumArray(SumArray(SumArray(SumArray(SumArray(SumArray(SumArray(SumArray(SumArray(SumArray(ProductCst(end_17023287gd29904300iX_6(0..1207), -1), 223), 0), SumArray(ProductCst(end_17023287gd29907800iX_6(0..1207), -1), 223), 0), SumArray(ProductCst(end_17023287gd39000800iX_6(0..1207), -1), 223), 0), SumArray(ProductCst(end_17023287gd55102400iX_6(0..1207), -1), 223), 0), SumArray(ProductCst(end_17023572gd43208500iX_6(0..1207), -1), 225), 0), SumArray(ProductCst(end_17023636gd280043C0iX_6(0..1207), -1), 225), 0), SumArray(ProductCst(end_17023636gd28001701iX_6(0..1207), -1), 225), 0), SumArray(ProductCst(end_17023335gd28013000iX_6(0..1207), -1), 230), 0), SumArray(ProductCst(end_17023335gd28018100iX_6(0..1207), -1), 230), 0), SumArray(ProductCst(end_17023335gd28001700iX_6(0..1207), -1), 230), 0), SumArray(ProductCst(end_17023335gd30212200iX_6(0..1207), -1), 230), 0), SumArray(ProductCst(end_17023637gd28001701iX_6(0..1207), -1), 230), 0), SumArray(ProductCst(end_17023637gd28002400iX_6(0..1207), -1), 230), 0), SumArray(ProductCst(end_17023439gd28311300iX_6(0..1207), -1), 231), 0), SumArray(ProductCst(end_17023440gd23010000gR_6(0..1207), -1), 231), 0), SumArray(ProductCst(end_4501763335gd23010000Ud_6(0..1207), -1), 236), 0), SumArray(ProductCst(end_4501763335gd251100C0Ud_6(0..1207), -1), 236), 0), SumArray(ProductCst(end_4501763335gC25020000UC_6(0..1207), -1), 236), 0), SumArray(ProductCst(end_4501729973L4gd24312000iX_6(0..1207), -1), 236), 0), SumArray(ProductCst(end_4501729973L5gd24312000iX_6(0..1207), -1), 236), 0), SumArray(ProductCst(end_17023433gd280078C0iX_6(0..1207), -1), 237), 0), SumArray(ProductCst(end_17023433gd28001701iX_6(0..1207), -1), 237), 0), SumArray(ProductCst(end_17023446gd35312500iX_6(0..1207), -1), 237), 0), SumArray(ProductCst(end_17023083gd58609000iX_6(0..1207), -1), 238), 0), SumArray(ProductCst(end_17023083gd58616000iX_6(0..1207), -1), 238), 0), SumArray(ProductCst(end_17023083gd58816000iX_6(0..1207), -1), 238), 0), SumArray(ProductCst(end_17023083gd58802500iX_6(0..1207), -1), 238), 0), SumArray(ProductCst(end_17023083gd58602500iX_6(0..1207), -1), 238), 0), SumArray(ProductCst(end_17023083gd58809000iX_6(0..1207), -1), 238), 0), SumArray(ProductCst(end_17023083gd59017000iX_6(0..1207), -1), 238), 0), SumArray(ProductCst(end_17023083gd59002500iX_6(0..1207), -1), 238), 0), SumArray(ProductCst(end_17023083gd59413000iX_6(0..1207), -1), 238), 0), SumArray(ProductCst(end_17023083gd59402500iX_6(0..1207), -1), 238), 0), SumArray(ProductCst(end_17023083gd59202500iX_6(0..1207), -1), 238), 0), SumArray(ProductCst(end_17023083gd59216000iX_6(0..1207), -1), 238), 0), SumArray(ProductCst(end_17023340gd43208500iX_6(0..1207), -1), 238), 0), SumArray(ProductCst(end_17023340gd43002400iX_6(0..1207), -1), 238), 0), SumArray(ProductCst(end_17023340gd28002400iX_6(0..1207), -1), 238), 0), SumArray(ProductCst(end_17023340gd280043C0iX_6(0..1207), -1), 238), 0), SumArray(ProductCst(end_17023340gd30212200iX_6(0..1207), -1), 238), 0), SumArray(ProductCst(end_17023438gd84107500iX_6(0..1207), -1), 238), 0), SumArray(ProductCst(end_17023623gd27305000iX_6(0..1207), -1), 238), 0), SumArray(ProductCst(end_17023434gd55102400iX_6(0..1207), -1), 239), 0), SumArray(ProductCst(end_17023434gd29907800iX_6(0..1207), -1), 239), 0), SumArray(ProductCst(end_17023434gd29913000iX_6(0..1207), -1), 239), 0), SumArray(ProductCst(end_17023434gd29901700iX_6(0..1207), -1), 239), 0), SumArray(ProductCst(end_4501763908gC22110000UC_6(0..1207), -1), 242), 0), SumArray(ProductCst(end_kprplkmgd23010001dm_6(0..1207), -1), 242), 0), SumArray(ProductCst(end_kprplkmgd23020000iX_6(0..1207), -1), 242), 0), SumArray(ProductCst(end_kprplkmgC25010000dm_6(0..1207), -1), 242), 0), SumArray(ProductCst(end_kprplkmgC25015000dm_6(0..1207), -1), 242), 0), SumArray(ProductCst(end_kprplkmgC25020000dm_6(0..1207), -1), 242), 0), SumArray(ProductCst(end_17021922gd30518101iX_6(0..1207), -1), 244), 0), SumArray(ProductCst(end_17023435gd30212200iX_6(0..1207), -1), 244), 0), SumArray(ProductCst(end_17023435gd30004300iX_6(0..1207), -1), 244), 0), SumArray(ProductCst(end_17023435gd28018100iX_6(0..1207), -1), 244), 0), SumArray(ProductCst(end_17023435gd28004300iX_6(0..1207), -1), 244), 0), SumArray(ProductCst(end_17023634gd28002400iX_6(0..1207), -1), 245), 0), SumArray(ProductCst(end_17023634gd28001700iX_6(0..1207), -1), 245), 0), SumArray(ProductCst(end_17023634gd28007800iX_6(0..1207), -1), 245), 0), SumArray(ProductCst(end_17023635gd28001701iX_6(0..1207), -1), 245), 0), SumArray(ProductCst(end_17023635gd28004300iX_6(0..1207), -1), 245), 0), SumArray(ProductCst(end_17023635gd280043C0iX_6(0..1207), -1), 245), 0), SumArray(ProductCst(end_17023503gd30212200iX_6(0..1207), -1), 246), 0), SumArray(ProductCst(end_17023124gC22215001QT_6(0..1207), -1), 247), 0), SumArray(ProductCst(end_17023124gC22315001QT_6(0..1207), -1), 247), 0), SumArray(ProductCst(end_17023124gC22115001QT_6(0..1207), -1), 247), 0), SumArray(ProductCst(end_17023124gC22415001QT_6(0..1207), -1), 247), 0), SumArray(ProductCst(end_17023124gC22515001QT_6(0..1207), -1), 247), 0), SumArray(ProductCst(end_17022242gd83413100iXdC_6(0..1207), -1), 250), 0), SumArray(ProductCst(end_17023647L1gd28001701iX_6(0..1207), -1), 251), 0), SumArray(ProductCst(end_17023647L2gd28001701iX_6(0..1207), -1), 251), 0), SumArray(ProductCst(end_4501770199gC25010000Ud_6(0..1207), -1), 252), 0), SumArray(ProductCst(end_4501770199gC25020000UC_6(0..1207), -1), 252), 0), SumArray(ProductCst(end_17023678gd29907800iX_6(0..1207), -1), 253), 0), SumArray(ProductCst(end_17023678gd29902400iX_6(0..1207), -1), 253), 0), SumArray(ProductCst(end_17023678gd32702400iX_6(0..1207), -1), 253), 0), SumArray(ProductCst(end_17023678gd29913000iX_6(0..1207), -1), 253), 0), SumArray(ProductCst(end_17023678gd29901700iX_6(0..1207), -1), 253), 0), SumArray(ProductCst(end_17023633gd30212200iX_6(0..1207), -1), 254), 0), SumArray(ProductCst(end_17023633gd43208500iX_6(0..1207), -1), 254), 0), SumArray(ProductCst(end_17023641gd55001700iX_6(0..1207), -1), 254), 0), SumArray(ProductCst(end_17023641gd55102400iX_6(0..1207), -1), 254), 0), SumArray(ProductCst(end_17023641gd43208500iX_6(0..1207), -1), 254), 0), SumArray(ProductCst(end_17023641gd43213000iX_6(0..1207), -1), 254), 0), SumArray(ProductCst(end_17023643gd263100H0iX_6(0..1207), -1), 258), 0), SumArray(ProductCst(end_17023643gd261100I0CZ_6(0..1207), -1), 258), 0), SumArray(ProductCst(end_17023644gd34705000CZ_6(0..1207), -1), 258), 0), SumArray(ProductCst(end_17023648gd28001701iX_6(0..1207), -1), 258), 0), SumArray(ProductCst(end_17023679gd30212200iX_6(0..1207), -1), 258), 0), SumArray(ProductCst(end_17023679gd28001701iX_6(0..1207), -1), 258), 0), SumArray(ProductCst(end_17023679gd28013000iX_6(0..1207), -1), 258), 0), SumArray(ProductCst(end_4501729973L7gd24312000iX_6(0..1207), -1), 259), 0), SumArray(ProductCst(end_17023649gd280078C0iX_6(0..1207), -1), 261), 0), SumArray(ProductCst(end_17023651gd28018100iX_6(0..1207), -1), 265), 0), SumArray(ProductCst(end_17023652gd28007800iX_6(0..1207), -1), 265), 0), SumArray(ProductCst(end_17023652gd28001700iX_6(0..1207), -1), 265), 0), SumArray(ProductCst(end_17023652gd55001700iX_6(0..1207), -1), 265), 0), SumArray(ProductCst(end_17023652gd55102400iX_6(0..1207), -1), 265), 0), SumArray(ProductCst(end_17023652gd43202400iX_6(0..1207), -1), 265), 0), SumArray(ProductCst(end_17023646gd280043C0iX_6(0..1207), -1), 266), 0), SumArray(ProductCst(end_17023646gd28002400iX_6(0..1207), -1), 266), 0), SumArray(ProductCst(end_17023656gd58609000iX_6(0..1207), -1), 266), 0), SumArray(ProductCst(end_17023656gd58616000iX_6(0..1207), -1), 266), 0), SumArray(ProductCst(end_17023656gd58816000iX_6(0..1207), -1), 266), 0), SumArray(ProductCst(end_17023656gd58809000iX_6(0..1207), -1), 266), 0), SumArray(ProductCst(end_17023656gd59017000iX_6(0..1207), -1), 266), 0), SumArray(ProductCst(end_17023656gd59413000iX_6(0..1207), -1), 266), 0), SumArray(ProductCst(end_17023656gd59216000iX_6(0..1207), -1), 266), 0), SumArray(ProductCst(end_4501729973L8gd24312000iX_6(0..1207), -1), 266), 0), SumArray(ProductCst(end_17023504gd30212200iX_6(0..1207), -1), 272), 0), SumArray(ProductCst(end_17023505gd28004300iX_6(0..1207), -1), 272), 0), SumArray(ProductCst(end_17023505gd28001701iX_6(0..1207), -1), 272), 0), SumArray(ProductCst(end_17023506gd28002400iX_6(0..1207), -1), 272), 0), SumArray(ProductCst(end_17023506gd28001701iX_6(0..1207), -1), 272), 0), SumArray(ProductCst(end_17023508gd26802400iX_6(0..1207), -1), 272), 0), SumArray(ProductCst(end_dky19plkmgd23010001dm_6(0..1207), -1), 272), 0), SumArray(ProductCst(end_dky19plkmgd23020000iX_6(0..1207), -1), 272), 0), SumArray(ProductCst(end_dky19plkmgC25010000dm_6(0..1207), -1), 272), 0), SumArray(ProductCst(end_dky19plkmgC25015000dm_6(0..1207), -1), 272), 0), SumArray(ProductCst(end_dky19plkmgC25020000dm_6(0..1207), -1), 272), 0), SumArray(ProductCst(end_17023507gd29904300iX_6(0..1207), -1), 273), 0), SumArray(ProductCst(end_17023507gd39000800iX_6(0..1207), -1), 273), 0), SumArray(ProductCst(end_17023507gd29907800iX_6(0..1207), -1), 273), 0), SumArray(ProductCst(end_4501729973L10gd24312000iX_6(0..1207), -1), 273), 0), SumArray(ProductCst(end_17023772gd33147300iX_6(0..1207), -1), 274), 0), SumArray(ProductCst(end_4501717192gC22310000UC_6(0..1207), -1), 277), 0), SumArray(ProductCst(end_17023457gd28004300iX_6(0..1207), -1), 279), 0), SumArray(ProductCst(end_17023457gd280078C0iX_6(0..1207), -1), 279), 0), SumArray(ProductCst(end_17023457gd28001700iX_6(0..1207), -1), 279), 0), SumArray(ProductCst(end_17023515gd60118101iX_6(0..1207), -1), 280), 0), SumArray(ProductCst(end_17023515gd60218101iX_6(0..1207), -1), 280), 0), SumArray(ProductCst(end_17023515gd60312200iX_6(0..1207), -1), 280), 0), SumArray(ProductCst(end_4501780248gd23010000Ud_6(0..1207), -1), 280), 0), SumArray(ProductCst(end_4501780248gd251100C0Ud_6(0..1207), -1), 280), 0), SumArray(ProductCst(end_4501780248gC25010000Ud_6(0..1207), -1), 280), 0), SumArray(ProductCst(end_4501780248gC25020000UC_6(0..1207), -1), 280), 0), SumArray(ProductCst(end_17023516gd53013300iX_6(0..1207), -1), 286), 0), SumArray(ProductCst(end_17023645gd51704000iX_6(0..1207), -1), 286), 0), SumArray(ProductCst(end_17023645gd51904000iX_6(0..1207), -1), 286), 0), SumArray(ProductCst(end_17023645gd51804000iX_6(0..1207), -1), 286), 0), SumArray(ProductCst(end_17023658gd58616000iX_6(0..1207), -1), 286), 0), SumArray(ProductCst(end_17023658gd58816000iX_6(0..1207), -1), 286), 0), SumArray(ProductCst(end_17023658gd58809000iX_6(0..1207), -1), 286), 0), SumArray(ProductCst(end_17023658gd59017000iX_6(0..1207), -1), 286), 0), SumArray(ProductCst(end_17023658gd59413000iX_6(0..1207), -1), 286), 0), SumArray(ProductCst(end_17023658gd59216000iX_6(0..1207), -1), 286), 0), SumArray(ProductCst(end_17023668gd280043C0iX_6(0..1207), -1), 286), 0), SumArray(ProductCst(end_17023668gd28013000iX_6(0..1207), -1), 286), 0), SumArray(ProductCst(end_17023668gd43213000iX_6(0..1207), -1), 286), 0), SumArray(ProductCst(end_17023668gd28001700iX_6(0..1207), -1), 286), 0), SumArray(ProductCst(end_17023669gd55001700iX_6(0..1207), -1), 289), 0), SumArray(ProductCst(end_17023669gd55102400iX_6(0..1207), -1), 289), 0), SumArray(ProductCst(end_17023669gd30212200iX_6(0..1207), -1), 289), 0), SumArray(ProductCst(end_17023466gd246100g0gJ_6(0..1207), -1), 290), 0), SumArray(ProductCst(end_17023466gd34110000gJ_6(0..1207), -1), 290), 0), SumArray(ProductCst(end_17023466gd34310000gJ_6(0..1207), -1), 290), 0), SumArray(ProductCst(end_17023466gd34210000gJ_6(0..1207), -1), 290), 0), SumArray(ProductCst(end_4501729973L9gd24312000iX_6(0..1207), -1), 290), 0), SumArray(ProductCst(end_17023535gd262100W0iX_6(0..1207), -1), 293), 0), SumArray(ProductCst(end_17023535gd263100H0iX_6(0..1207), -1), 293), 0), SumArray(ProductCst(end_17023881gd50012500iX_6(0..1207), -1), 293), 0), SumArray(ProductCst(end_17023825gd29904300iX_6(0..1207), -1), 294), 0), SumArray(ProductCst(end_17023825gd29902400iX_6(0..1207), -1), 294), 0), SumArray(ProductCst(end_17023825gd39000800iX_6(0..1207), -1), 294), 0), SumArray(ProductCst(end_17023923gd28004300iX_6(0..1207), -1), 294), 0), SumArray(ProductCst(end_17023923gd30212200iX_6(0..1207), -1), 294), 0), SumArray(ProductCst(end_17023975gd35112500iX_6(0..1207), -1), 294), 0), SumArray(ProductCst(end_17023975gd57812500iX_6(0..1207), -1), 294), 0), SumArray(ProductCst(end_17023534gd28001701iX_6(0..1207), -1), 301), 0), SumArray(ProductCst(end_Jum19plkmgd23005001dm_6(0..1207), -1), 303), 0), SumArray(ProductCst(end_Jum19plkmgd23010001dm_6(0..1207), -1), 303), 0), SumArray(ProductCst(end_Jum19plkmgd23020000iX_6(0..1207), -1), 303), 0), SumArray(ProductCst(end_Jum19plkmgC25005000dm_6(0..1207), -1), 303), 0), SumArray(ProductCst(end_Jum19plkmgC25010000dm_6(0..1207), -1), 303), 0), SumArray(ProductCst(end_Jum19plkmgC25015000dm_6(0..1207), -1), 303), 0), SumArray(ProductCst(end_Jum19plkmgC25020000dm_6(0..1207), -1), 303), 0), SumArray(ProductCst(end_4501729973L12gd24312000iX_6(0..1207), -1), 304), 0), SumArray(ProductCst(end_17023468gd280078C0iX_6(0..1207), -1), 307), 0), SumArray(ProductCst(end_17023468gd28007800iX_6(0..1207), -1), 307), 0), SumArray(ProductCst(end_17023468gd28001700iX_6(0..1207), -1), 307), 0), SumArray(ProductCst(end_17023833gd55001700iX_6(0..1207), -1), 307), 0), SumArray(ProductCst(end_17023833gd55102400iX_6(0..1207), -1), 307), 0), SumArray(ProductCst(end_17023833gd30212200iX_6(0..1207), -1), 307), 0)"
            ]
          },
          "metadata": {
            "tags": []
          },
          "execution_count": 21
        }
      ]
    },
    {
      "cell_type": "markdown",
      "metadata": {
        "id": "EcrQOnfJgYxd",
        "colab_type": "text"
      },
      "source": [
        "**Indices**  \n",
        "j - job  \n",
        "m - machine  \n",
        "\n",
        "**Decision Variable**  \n",
        "$s_{j,m}$ - start time of job j at machine m  \n",
        "$e_{j,m}$ - end time of job j at machine m  \n",
        "$d_{j,m}$ - duration of job j at machine m  \n",
        "\n",
        "**Parameters**  \n",
        "H - Horizon  \n",
        "$d_j$ - delivery date of job j  \n",
        "$q_j$ - order qty of job j  \n",
        "$o_{j,m}$ - output per hour of job j at machine m  \n",
        "\n",
        "**Objective**  \n",
        "$ \\sum_{j} d_j - max(e_{j,m})  \\qquad \\forall m \\in mc$  \n",
        "\n",
        "**Constraints**  \n",
        "$ \\sum_m e_{j,m} < s_{i,m} or s_{j,m} > e_{i,m} \\qquad \\forall j,i \\in jobs$  \n",
        "$ \\sum_j o_{j,m} \\times d_{j,m} >= q_j \\qquad \\forall m \\in ma $\n"
      ]
    }
  ]
}
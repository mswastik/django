{
  "nbformat": 4,
  "nbformat_minor": 0,
  "metadata": {
    "kernelspec": {
      "display_name": "Python 3",
      "language": "python",
      "name": "python3"
    },
    "language_info": {
      "codemirror_mode": {
        "name": "ipython",
        "version": 3
      },
      "file_extension": ".py",
      "mimetype": "text/x-python",
      "name": "python",
      "nbconvert_exporter": "python",
      "pygments_lexer": "ipython3",
      "version": "3.8.2"
    },
    "colab": {
      "name": "CP.ipynb",
      "provenance": []
    }
  },
  "cells": [
    {
      "cell_type": "code",
      "metadata": {
        "id": "ZAegf4MTD07x",
        "colab_type": "code",
        "colab": {
          "base_uri": "https://localhost:8080/",
          "height": 1000
        },
        "outputId": "c934c686-b521-4880-e794-659a22f8ce95"
      },
      "source": [
        "!pip install ortools\n",
        "!pip install dtale"
      ],
      "execution_count": 12,
      "outputs": [
        {
          "output_type": "stream",
          "text": [
            "Requirement already satisfied: ortools in /usr/local/lib/python3.6/dist-packages (7.8.7959)\n",
            "Requirement already satisfied: protobuf>=3.12.2 in /usr/local/lib/python3.6/dist-packages (from ortools) (3.12.4)\n",
            "Requirement already satisfied: six>=1.10 in /usr/local/lib/python3.6/dist-packages (from ortools) (1.15.0)\n",
            "Requirement already satisfied: setuptools in /usr/local/lib/python3.6/dist-packages (from protobuf>=3.12.2->ortools) (49.2.0)\n",
            "Collecting dtale\n",
            "\u001b[?25l  Downloading https://files.pythonhosted.org/packages/8c/f5/4d4ca5c877ff657984dae3572555fe331f05c8b7b73505b0eabdae1c3fd2/dtale-1.14.1-py2.py3-none-any.whl (7.6MB)\n",
            "\u001b[K     |████████████████████████████████| 7.6MB 1.5MB/s \n",
            "\u001b[?25hRequirement already satisfied: statsmodels in /usr/local/lib/python3.6/dist-packages (from dtale) (0.10.2)\n",
            "Collecting lz4; python_version > \"3.0\"\n",
            "\u001b[?25l  Downloading https://files.pythonhosted.org/packages/15/6a/ea95dd9a9957143636cfad5037637abec91016b9bde519d3edf4708e3d83/lz4-3.1.0-cp36-cp36m-manylinux2010_x86_64.whl (1.8MB)\n",
            "\u001b[K     |████████████████████████████████| 1.8MB 43.7MB/s \n",
            "\u001b[?25hRequirement already satisfied: xarray in /usr/local/lib/python3.6/dist-packages (from dtale) (0.15.1)\n",
            "Collecting flask-ngrok; python_version > \"3.0\"\n",
            "  Downloading https://files.pythonhosted.org/packages/af/6c/f54cb686ad1129e27d125d182f90f52b32f284e6c8df58c1bae54fa1adbc/flask_ngrok-0.0.25-py3-none-any.whl\n",
            "Requirement already satisfied: Flask>=1.0 in /usr/local/lib/python3.6/dist-packages (from dtale) (1.1.2)\n",
            "Collecting dash-colorscales\n",
            "\u001b[?25l  Downloading https://files.pythonhosted.org/packages/d5/24/de9318acd52989d77135a8497c8be536442b725473684ed4e1ab999b2051/dash_colorscales-0.0.4.tar.gz (62kB)\n",
            "\u001b[K     |████████████████████████████████| 71kB 8.2MB/s \n",
            "\u001b[?25hRequirement already satisfied: six in /usr/local/lib/python3.6/dist-packages (from dtale) (1.15.0)\n",
            "Collecting dash-bootstrap-components\n",
            "\u001b[?25l  Downloading https://files.pythonhosted.org/packages/d6/91/f44f6ea7fc062077c97e2671d58bf363a7552982abf72479c8dbb5699143/dash-bootstrap-components-0.10.5.tar.gz (108kB)\n",
            "\u001b[K     |████████████████████████████████| 112kB 39.4MB/s \n",
            "\u001b[?25h  Installing build dependencies ... \u001b[?25l\u001b[?25hdone\n",
            "  Getting requirements to build wheel ... \u001b[?25l\u001b[?25hdone\n",
            "    Preparing wheel metadata ... \u001b[?25l\u001b[?25hdone\n",
            "Requirement already satisfied: pandas in /usr/local/lib/python3.6/dist-packages (from dtale) (1.0.5)\n",
            "Requirement already satisfied: requests in /usr/local/lib/python3.6/dist-packages (from dtale) (2.23.0)\n",
            "Requirement already satisfied: itsdangerous in /usr/local/lib/python3.6/dist-packages (from dtale) (1.1.0)\n",
            "Requirement already satisfied: scikit-learn>='0.21.0 in /usr/local/lib/python3.6/dist-packages (from dtale) (0.22.2.post1)\n",
            "Collecting Flask-Compress\n",
            "  Downloading https://files.pythonhosted.org/packages/a0/96/cd684c1ffe97b513303b5bfd4bbfb4114c5f4a5ea8a737af6fd813273df8/Flask-Compress-1.5.0.tar.gz\n",
            "Requirement already satisfied: scipy in /usr/local/lib/python3.6/dist-packages (from dtale) (1.4.1)\n",
            "Requirement already satisfied: future>=0.14.0 in /usr/local/lib/python3.6/dist-packages (from dtale) (0.16.0)\n",
            "Collecting dash>=1.5.0\n",
            "\u001b[?25l  Downloading https://files.pythonhosted.org/packages/1d/d1/191ad32bd9e6d10b2fc0f5d31e9e6a85fdb2642088658f75817d67bdeaea/dash-1.14.0.tar.gz (70kB)\n",
            "\u001b[K     |████████████████████████████████| 71kB 7.5MB/s \n",
            "\u001b[?25hCollecting dash-daq\n",
            "\u001b[?25l  Downloading https://files.pythonhosted.org/packages/16/c1/9c6adfc3646990965a5b2ca073f579cc9c09d15553fcfcd83aefd1255494/dash_daq-0.5.0.tar.gz (642kB)\n",
            "\u001b[K     |████████████████████████████████| 645kB 42.8MB/s \n",
            "\u001b[?25hRequirement already satisfied: patsy>=0.4.0 in /usr/local/lib/python3.6/dist-packages (from statsmodels->dtale) (0.5.1)\n",
            "Requirement already satisfied: numpy>=1.11 in /usr/local/lib/python3.6/dist-packages (from statsmodels->dtale) (1.18.5)\n",
            "Requirement already satisfied: setuptools>=41.2 in /usr/local/lib/python3.6/dist-packages (from xarray->dtale) (49.2.0)\n",
            "Requirement already satisfied: Jinja2>=2.10.1 in /usr/local/lib/python3.6/dist-packages (from Flask>=1.0->dtale) (2.11.2)\n",
            "Requirement already satisfied: click>=5.1 in /usr/local/lib/python3.6/dist-packages (from Flask>=1.0->dtale) (7.1.2)\n",
            "Requirement already satisfied: Werkzeug>=0.15 in /usr/local/lib/python3.6/dist-packages (from Flask>=1.0->dtale) (1.0.1)\n",
            "Requirement already satisfied: python-dateutil>=2.6.1 in /usr/local/lib/python3.6/dist-packages (from pandas->dtale) (2.8.1)\n",
            "Requirement already satisfied: pytz>=2017.2 in /usr/local/lib/python3.6/dist-packages (from pandas->dtale) (2018.9)\n",
            "Requirement already satisfied: chardet<4,>=3.0.2 in /usr/local/lib/python3.6/dist-packages (from requests->dtale) (3.0.4)\n",
            "Requirement already satisfied: idna<3,>=2.5 in /usr/local/lib/python3.6/dist-packages (from requests->dtale) (2.10)\n",
            "Requirement already satisfied: urllib3!=1.25.0,!=1.25.1,<1.26,>=1.21.1 in /usr/local/lib/python3.6/dist-packages (from requests->dtale) (1.24.3)\n",
            "Requirement already satisfied: certifi>=2017.4.17 in /usr/local/lib/python3.6/dist-packages (from requests->dtale) (2020.6.20)\n",
            "Requirement already satisfied: joblib>=0.11 in /usr/local/lib/python3.6/dist-packages (from scikit-learn>='0.21.0->dtale) (0.16.0)\n",
            "Collecting brotli\n",
            "\u001b[?25l  Downloading https://files.pythonhosted.org/packages/f4/68/60a220454dc5083c6d59b41aa90bb1c96fad62a0abf3a33e0ef64b38638a/Brotli-1.0.7-cp36-cp36m-manylinux1_x86_64.whl (352kB)\n",
            "\u001b[K     |████████████████████████████████| 358kB 44.3MB/s \n",
            "\u001b[?25hRequirement already satisfied: plotly in /usr/local/lib/python3.6/dist-packages (from dash>=1.5.0->dtale) (4.4.1)\n",
            "Collecting dash_renderer==1.6.0\n",
            "\u001b[?25l  Downloading https://files.pythonhosted.org/packages/da/a6/ddbcd01c638a2c235bfe13fd75155b344c7b7ab1c6466fe6d46b159897ad/dash_renderer-1.6.0.tar.gz (1.2MB)\n",
            "\u001b[K     |████████████████████████████████| 1.2MB 45.3MB/s \n",
            "\u001b[?25hCollecting dash-core-components==1.10.2\n",
            "\u001b[?25l  Downloading https://files.pythonhosted.org/packages/ee/74/f961bb01aa015b76c60045cf8ad5d9eb2279656f4483b42750ec3b925c9c/dash_core_components-1.10.2.tar.gz (3.4MB)\n",
            "\u001b[K     |████████████████████████████████| 3.4MB 42.6MB/s \n",
            "\u001b[?25hCollecting dash-html-components==1.0.3\n",
            "\u001b[?25l  Downloading https://files.pythonhosted.org/packages/da/20/46714ae501ccf16e5e37ca160c06e27347d19889687454168730e6744cdc/dash_html_components-1.0.3.tar.gz (187kB)\n",
            "\u001b[K     |████████████████████████████████| 194kB 43.7MB/s \n",
            "\u001b[?25hCollecting dash-table==4.9.0\n",
            "\u001b[?25l  Downloading https://files.pythonhosted.org/packages/54/9f/11347b397b840b67481f6ecadefb64de0b57d199752d5e182161a4217f1d/dash_table-4.9.0.tar.gz (1.8MB)\n",
            "\u001b[K     |████████████████████████████████| 1.8MB 44.2MB/s \n",
            "\u001b[?25hRequirement already satisfied: MarkupSafe>=0.23 in /usr/local/lib/python3.6/dist-packages (from Jinja2>=2.10.1->Flask>=1.0->dtale) (1.1.1)\n",
            "Requirement already satisfied: retrying>=1.3.3 in /usr/local/lib/python3.6/dist-packages (from plotly->dash>=1.5.0->dtale) (1.3.3)\n",
            "Building wheels for collected packages: dash-bootstrap-components\n",
            "  Building wheel for dash-bootstrap-components (PEP 517) ... \u001b[?25l\u001b[?25hdone\n",
            "  Created wheel for dash-bootstrap-components: filename=dash_bootstrap_components-0.10.5-cp36-none-any.whl size=180066 sha256=23f9db71a4e09f1800b9fe5cf680ec136bd5812e4b04a3cc08b096f2388bcb68\n",
            "  Stored in directory: /root/.cache/pip/wheels/41/7a/35/3c7ab615003bb9dbfcced330982b5a42f0d3a4c02e317b46ac\n",
            "Successfully built dash-bootstrap-components\n",
            "Building wheels for collected packages: dash-colorscales, Flask-Compress, dash, dash-daq, dash-renderer, dash-core-components, dash-html-components, dash-table\n",
            "  Building wheel for dash-colorscales (setup.py) ... \u001b[?25l\u001b[?25hdone\n",
            "  Created wheel for dash-colorscales: filename=dash_colorscales-0.0.4-cp36-none-any.whl size=62599 sha256=11a76e0ee8d99c875d577ab1159e3c597f2dc22c608b6c1e7fdfce4c3943cfd0\n",
            "  Stored in directory: /root/.cache/pip/wheels/0e/4a/1c/3490cfe6a59299b06917af6626a969c8fb7caead39b2d74cf2\n",
            "  Building wheel for Flask-Compress (setup.py) ... \u001b[?25l\u001b[?25hdone\n",
            "  Created wheel for Flask-Compress: filename=Flask_Compress-1.5.0-cp36-none-any.whl size=5273 sha256=c677d58fb8cbfb0e62483473dbd5e2fecfec5bd7f2263368f7befe293e7b4047\n",
            "  Stored in directory: /root/.cache/pip/wheels/f7/e9/e4/5afc286be7c87461375e33152558415dfeb0c8f5af3b50e742\n",
            "  Building wheel for dash (setup.py) ... \u001b[?25l\u001b[?25hdone\n",
            "  Created wheel for dash: filename=dash-1.14.0-cp36-none-any.whl size=80129 sha256=9ae87459e8356aeb8772e567060675eeb24f2a462fc2b2d5534bd216e565e07c\n",
            "  Stored in directory: /root/.cache/pip/wheels/1d/54/0b/e846f762d47e8abc9234419822d013dfb2ccf957b48e411dc6\n",
            "  Building wheel for dash-daq (setup.py) ... \u001b[?25l\u001b[?25hdone\n",
            "  Created wheel for dash-daq: filename=dash_daq-0.5.0-cp36-none-any.whl size=669704 sha256=8924077fa5b91c51b5093e6417ff755327267bcf44d57502bb53b96e00563c89\n",
            "  Stored in directory: /root/.cache/pip/wheels/1c/9c/f7/84731716eaa9fc952cdbdd1f87df3ca9b8805c317c609efcd6\n",
            "  Building wheel for dash-renderer (setup.py) ... \u001b[?25l\u001b[?25hdone\n",
            "  Created wheel for dash-renderer: filename=dash_renderer-1.6.0-cp36-none-any.whl size=1182221 sha256=6b1a7bff09aed0ce284665625adf26303b2fa2a44a3595a16e89df3e653c9851\n",
            "  Stored in directory: /root/.cache/pip/wheels/2a/de/21/8774fe1ae2271c4747c55c5bcd3e914302a7a6e55a77d866f2\n",
            "  Building wheel for dash-core-components (setup.py) ... \u001b[?25l\u001b[?25hdone\n",
            "  Created wheel for dash-core-components: filename=dash_core_components-1.10.2-cp36-none-any.whl size=3457324 sha256=19d1cc2fd06c71108a9eaec75f36d5f4ebdf1ee9af8969b1648f86385ac3180a\n",
            "  Stored in directory: /root/.cache/pip/wheels/2a/38/71/0c7e350a8280f6c94a2024a4d16ba905dd2a86ed2aa4a093e3\n",
            "  Building wheel for dash-html-components (setup.py) ... \u001b[?25l\u001b[?25hdone\n",
            "  Created wheel for dash-html-components: filename=dash_html_components-1.0.3-cp36-none-any.whl size=427303 sha256=a4ffbd2cd5cefee533d3c0c2ed1d25e904674d14715451b768bcd6af53b8ebb8\n",
            "  Stored in directory: /root/.cache/pip/wheels/22/c0/79/ef4c2b20a23dc8457ae75c3da5f63163db213d86e13e00fe26\n",
            "  Building wheel for dash-table (setup.py) ... \u001b[?25l\u001b[?25hdone\n",
            "  Created wheel for dash-table: filename=dash_table-4.9.0-cp36-none-any.whl size=1780769 sha256=ef128d802257704a805e8a1141dbe77537d39cfe1422279bf765d5f38e20b340\n",
            "  Stored in directory: /root/.cache/pip/wheels/f6/99/e4/a3af0a6f2d07ace02dd25984c08294d2749818c38f44d55338\n",
            "Successfully built dash-colorscales Flask-Compress dash dash-daq dash-renderer dash-core-components dash-html-components dash-table\n",
            "Installing collected packages: lz4, flask-ngrok, dash-colorscales, brotli, Flask-Compress, dash-renderer, dash-core-components, dash-html-components, dash-table, dash, dash-bootstrap-components, dash-daq, dtale\n",
            "Successfully installed Flask-Compress-1.5.0 brotli-1.0.7 dash-1.14.0 dash-bootstrap-components-0.10.5 dash-colorscales-0.0.4 dash-core-components-1.10.2 dash-daq-0.5.0 dash-html-components-1.0.3 dash-renderer-1.6.0 dash-table-4.9.0 dtale-1.14.1 flask-ngrok-0.0.25 lz4-3.1.0\n"
          ],
          "name": "stdout"
        }
      ]
    },
    {
      "cell_type": "code",
      "metadata": {
        "id": "sG_LW15bCHKH",
        "colab_type": "code",
        "colab": {
          "base_uri": "https://localhost:8080/",
          "height": 161
        },
        "outputId": "b0bf01b2-d2bf-46a0-f918-2e66f210562c"
      },
      "source": [
        "import pandas as pd\n",
        "import numpy as np\n",
        "import collections\n",
        "#from ortools.sat.python import cp_model\n",
        "#from dtale import show\n",
        "#import dtale.app as dtale_app\n",
        "#dtale_app.USE_COLAB = True\n",
        "# Clone the entire repo.\n",
        "!git clone -l -s https://github.com/mswastik/optimization.git cloned-repo\n",
        "%cd cloned-repo"
      ],
      "execution_count": 37,
      "outputs": [
        {
          "output_type": "stream",
          "text": [
            "Cloning into 'cloned-repo'...\n",
            "warning: --local is ignored\n",
            "remote: Enumerating objects: 68, done.\u001b[K\n",
            "remote: Counting objects:   1% (1/68)\u001b[K\rremote: Counting objects:   2% (2/68)\u001b[K\rremote: Counting objects:   4% (3/68)\u001b[K\rremote: Counting objects:   5% (4/68)\u001b[K\rremote: Counting objects:   7% (5/68)\u001b[K\rremote: Counting objects:   8% (6/68)\u001b[K\rremote: Counting objects:  10% (7/68)\u001b[K\rremote: Counting objects:  11% (8/68)\u001b[K\rremote: Counting objects:  13% (9/68)\u001b[K\rremote: Counting objects:  14% (10/68)\u001b[K\rremote: Counting objects:  16% (11/68)\u001b[K\rremote: Counting objects:  17% (12/68)\u001b[K\rremote: Counting objects:  19% (13/68)\u001b[K\rremote: Counting objects:  20% (14/68)\u001b[K\rremote: Counting objects:  22% (15/68)\u001b[K\rremote: Counting objects:  23% (16/68)\u001b[K\rremote: Counting objects:  25% (17/68)\u001b[K\rremote: Counting objects:  26% (18/68)\u001b[K\rremote: Counting objects:  27% (19/68)\u001b[K\rremote: Counting objects:  29% (20/68)\u001b[K\rremote: Counting objects:  30% (21/68)\u001b[K\rremote: Counting objects:  32% (22/68)\u001b[K\rremote: Counting objects:  33% (23/68)\u001b[K\rremote: Counting objects:  35% (24/68)\u001b[K\rremote: Counting objects:  36% (25/68)\u001b[K\rremote: Counting objects:  38% (26/68)\u001b[K\rremote: Counting objects:  39% (27/68)\u001b[K\rremote: Counting objects:  41% (28/68)\u001b[K\rremote: Counting objects:  42% (29/68)\u001b[K\rremote: Counting objects:  44% (30/68)\u001b[K\rremote: Counting objects:  45% (31/68)\u001b[K\rremote: Counting objects:  47% (32/68)\u001b[K\rremote: Counting objects:  48% (33/68)\u001b[K\rremote: Counting objects:  50% (34/68)\u001b[K\rremote: Counting objects:  51% (35/68)\u001b[K\rremote: Counting objects:  52% (36/68)\u001b[K\rremote: Counting objects:  54% (37/68)\u001b[K\rremote: Counting objects:  55% (38/68)\u001b[K\rremote: Counting objects:  57% (39/68)\u001b[K\rremote: Counting objects:  58% (40/68)\u001b[K\rremote: Counting objects:  60% (41/68)\u001b[K\rremote: Counting objects:  61% (42/68)\u001b[K\rremote: Counting objects:  63% (43/68)\u001b[K\rremote: Counting objects:  64% (44/68)\u001b[K\rremote: Counting objects:  66% (45/68)\u001b[K\rremote: Counting objects:  67% (46/68)\u001b[K\rremote: Counting objects:  69% (47/68)\u001b[K\rremote: Counting objects:  70% (48/68)\u001b[K\rremote: Counting objects:  72% (49/68)\u001b[K\rremote: Counting objects:  73% (50/68)\u001b[K\rremote: Counting objects:  75% (51/68)\u001b[K\rremote: Counting objects:  76% (52/68)\u001b[K\rremote: Counting objects:  77% (53/68)\u001b[K\rremote: Counting objects:  79% (54/68)\u001b[K\rremote: Counting objects:  80% (55/68)\u001b[K\rremote: Counting objects:  82% (56/68)\u001b[K\rremote: Counting objects:  83% (57/68)\u001b[K\rremote: Counting objects:  85% (58/68)\u001b[K\rremote: Counting objects:  86% (59/68)\u001b[K\rremote: Counting objects:  88% (60/68)\u001b[K\rremote: Counting objects:  89% (61/68)\u001b[K\rremote: Counting objects:  91% (62/68)\u001b[K\rremote: Counting objects:  92% (63/68)\u001b[K\rremote: Counting objects:  94% (64/68)\u001b[K\rremote: Counting objects:  95% (65/68)\u001b[K\rremote: Counting objects:  97% (66/68)\u001b[K\rremote: Counting objects:  98% (67/68)\u001b[K\rremote: Counting objects: 100% (68/68)\u001b[K\rremote: Counting objects: 100% (68/68), done.\u001b[K\n",
            "remote: Compressing objects:   1% (1/64)\u001b[K\rremote: Compressing objects:   3% (2/64)\u001b[K\rremote: Compressing objects:   4% (3/64)\u001b[K\rremote: Compressing objects:   6% (4/64)\u001b[K\rremote: Compressing objects:   7% (5/64)\u001b[K\rremote: Compressing objects:   9% (6/64)\u001b[K\rremote: Compressing objects:  10% (7/64)\u001b[K\rremote: Compressing objects:  12% (8/64)\u001b[K\rremote: Compressing objects:  14% (9/64)\u001b[K\rremote: Compressing objects:  15% (10/64)\u001b[K\rremote: Compressing objects:  17% (11/64)\u001b[K\rremote: Compressing objects:  18% (12/64)\u001b[K\rremote: Compressing objects:  20% (13/64)\u001b[K\rremote: Compressing objects:  21% (14/64)\u001b[K\rremote: Compressing objects:  23% (15/64)\u001b[K\rremote: Compressing objects:  25% (16/64)\u001b[K\rremote: Compressing objects:  26% (17/64)\u001b[K\rremote: Compressing objects:  28% (18/64)\u001b[K\rremote: Compressing objects:  29% (19/64)\u001b[K\rremote: Compressing objects:  31% (20/64)\u001b[K\rremote: Compressing objects:  32% (21/64)\u001b[K\rremote: Compressing objects:  34% (22/64)\u001b[K\rremote: Compressing objects:  35% (23/64)\u001b[K\rremote: Compressing objects:  37% (24/64)\u001b[K\rremote: Compressing objects:  39% (25/64)\u001b[K\rremote: Compressing objects:  40% (26/64)\u001b[K\rremote: Compressing objects:  42% (27/64)\u001b[K\rremote: Compressing objects:  43% (28/64)\u001b[K\rremote: Compressing objects:  45% (29/64)\u001b[K\rremote: Compressing objects:  46% (30/64)\u001b[K\rremote: Compressing objects:  48% (31/64)\u001b[K\rremote: Compressing objects:  50% (32/64)\u001b[K\rremote: Compressing objects:  51% (33/64)\u001b[K\rremote: Compressing objects:  53% (34/64)\u001b[K\rremote: Compressing objects:  54% (35/64)\u001b[K\rremote: Compressing objects:  56% (36/64)\u001b[K\rremote: Compressing objects:  57% (37/64)\u001b[K\rremote: Compressing objects:  59% (38/64)\u001b[K\rremote: Compressing objects:  60% (39/64)\u001b[K\rremote: Compressing objects:  62% (40/64)\u001b[K\rremote: Compressing objects:  64% (41/64)\u001b[K\rremote: Compressing objects:  65% (42/64)\u001b[K\rremote: Compressing objects:  67% (43/64)\u001b[K\rremote: Compressing objects:  68% (44/64)\u001b[K\rremote: Compressing objects:  70% (45/64)\u001b[K\rremote: Compressing objects:  71% (46/64)\u001b[K\rremote: Compressing objects:  73% (47/64)\u001b[K\rremote: Compressing objects:  75% (48/64)\u001b[K\rremote: Compressing objects:  76% (49/64)\u001b[K\rremote: Compressing objects:  78% (50/64)\u001b[K\rremote: Compressing objects:  79% (51/64)\u001b[K\rremote: Compressing objects:  81% (52/64)\u001b[K\rremote: Compressing objects:  82% (53/64)\u001b[K\rremote: Compressing objects:  84% (54/64)\u001b[K\rremote: Compressing objects:  85% (55/64)\u001b[K\rremote: Compressing objects:  87% (56/64)\u001b[K\rremote: Compressing objects:  89% (57/64)\u001b[K\rremote: Compressing objects:  90% (58/64)\u001b[K\rremote: Compressing objects:  92% (59/64)\u001b[K\rremote: Compressing objects:  93% (60/64)\u001b[K\rremote: Compressing objects:  95% (61/64)\u001b[K\rremote: Compressing objects:  96% (62/64)\u001b[K\rremote: Compressing objects:  98% (63/64)\u001b[K\rremote: Compressing objects: 100% (64/64)\u001b[K\rremote: Compressing objects: 100% (64/64), done.\u001b[K\n",
            "Unpacking objects:   1% (1/68)   \rUnpacking objects:   2% (2/68)   \rUnpacking objects:   4% (3/68)   \rUnpacking objects:   5% (4/68)   \rUnpacking objects:   7% (5/68)   \rUnpacking objects:   8% (6/68)   \rUnpacking objects:  10% (7/68)   \rUnpacking objects:  11% (8/68)   \rUnpacking objects:  13% (9/68)   \rUnpacking objects:  14% (10/68)   \rUnpacking objects:  16% (11/68)   \rUnpacking objects:  17% (12/68)   \rUnpacking objects:  19% (13/68)   \rUnpacking objects:  20% (14/68)   \rUnpacking objects:  22% (15/68)   \rUnpacking objects:  23% (16/68)   \rUnpacking objects:  25% (17/68)   \rUnpacking objects:  26% (18/68)   \rUnpacking objects:  27% (19/68)   \rUnpacking objects:  29% (20/68)   \rUnpacking objects:  30% (21/68)   \rUnpacking objects:  32% (22/68)   \rUnpacking objects:  33% (23/68)   \rUnpacking objects:  35% (24/68)   \rUnpacking objects:  36% (25/68)   \rUnpacking objects:  38% (26/68)   \rUnpacking objects:  39% (27/68)   \rUnpacking objects:  41% (28/68)   \rUnpacking objects:  42% (29/68)   \rUnpacking objects:  44% (30/68)   \rUnpacking objects:  45% (31/68)   \rUnpacking objects:  47% (32/68)   \rUnpacking objects:  48% (33/68)   \rUnpacking objects:  50% (34/68)   \rUnpacking objects:  51% (35/68)   \rUnpacking objects:  52% (36/68)   \rUnpacking objects:  54% (37/68)   \rUnpacking objects:  55% (38/68)   \rUnpacking objects:  57% (39/68)   \rUnpacking objects:  58% (40/68)   \rUnpacking objects:  60% (41/68)   \rUnpacking objects:  61% (42/68)   \rUnpacking objects:  63% (43/68)   \rUnpacking objects:  64% (44/68)   \rUnpacking objects:  66% (45/68)   \rUnpacking objects:  67% (46/68)   \rUnpacking objects:  69% (47/68)   \rUnpacking objects:  70% (48/68)   \rUnpacking objects:  72% (49/68)   \rUnpacking objects:  73% (50/68)   \rUnpacking objects:  75% (51/68)   \rUnpacking objects:  76% (52/68)   \rUnpacking objects:  77% (53/68)   \rUnpacking objects:  79% (54/68)   \rUnpacking objects:  80% (55/68)   \rUnpacking objects:  82% (56/68)   \rUnpacking objects:  83% (57/68)   \rUnpacking objects:  85% (58/68)   \rremote: Total 68 (delta 17), reused 0 (delta 0), pack-reused 0\u001b[K\n",
            "Unpacking objects:  86% (59/68)   \rUnpacking objects:  88% (60/68)   \rUnpacking objects:  89% (61/68)   \rUnpacking objects:  91% (62/68)   \rUnpacking objects:  92% (63/68)   \rUnpacking objects:  94% (64/68)   \rUnpacking objects:  95% (65/68)   \rUnpacking objects:  97% (66/68)   \rUnpacking objects:  98% (67/68)   \rUnpacking objects: 100% (68/68)   \rUnpacking objects: 100% (68/68), done.\n",
            "/content/cloned-repo/cloned-repo\n"
          ],
          "name": "stdout"
        }
      ]
    },
    {
      "cell_type": "code",
      "metadata": {
        "id": "6kU6ehn9IbPk",
        "colab_type": "code",
        "colab": {}
      },
      "source": [
        "df=pd.read_excel('orders.xlsx')\n",
        "ma=pd.read_excel('item master.xlsx')\n",
        "bu=pd.read_excel('item master.xlsx',sheet_name='bulk')\n",
        "pa=pd.read_excel('item master.xlsx',sheet_name='packing')"
      ],
      "execution_count": 38,
      "outputs": []
    },
    {
      "cell_type": "code",
      "metadata": {
        "id": "nUhA6-OCCHKV",
        "colab_type": "code",
        "colab": {
          "base_uri": "https://localhost:8080/",
          "height": 419
        },
        "outputId": "f3f0deb3-92b4-4e79-ebdf-7713a047d5ff"
      },
      "source": [
        "df = df[df['Line']=='Tmmthpkhti Limi']\n",
        "df = df[df['Plant']==1024]\n",
        "del df['Line']\n",
        "df['due'] = df['Dispatch Date'] - df['SO Date'].min()\n",
        "df['due'] = df['due'].dt.days\n",
        "df['sodate'] = df['SO Date'] - df['SO Date'].min()\n",
        "df['sodate'] = df['sodate'].dt.days\n",
        "df.reset_index(inplace=True,drop=True)\n",
        "df['Key']=df['SO'].astype('str')+df['FG Code']\n",
        "del df['Dispatch Date']\n",
        "del df['SO Date']\n",
        "del df['Description']\n",
        "del df['Customer']\n",
        "df"
      ],
      "execution_count": 39,
      "outputs": [
        {
          "output_type": "execute_result",
          "data": {
            "text/html": [
              "<div>\n",
              "<style scoped>\n",
              "    .dataframe tbody tr th:only-of-type {\n",
              "        vertical-align: middle;\n",
              "    }\n",
              "\n",
              "    .dataframe tbody tr th {\n",
              "        vertical-align: top;\n",
              "    }\n",
              "\n",
              "    .dataframe thead th {\n",
              "        text-align: right;\n",
              "    }\n",
              "</style>\n",
              "<table border=\"1\" class=\"dataframe\">\n",
              "  <thead>\n",
              "    <tr style=\"text-align: right;\">\n",
              "      <th></th>\n",
              "      <th>SO</th>\n",
              "      <th>FG Code</th>\n",
              "      <th>Order Qty</th>\n",
              "      <th>Plant</th>\n",
              "      <th>due</th>\n",
              "      <th>sodate</th>\n",
              "      <th>Key</th>\n",
              "    </tr>\n",
              "  </thead>\n",
              "  <tbody>\n",
              "    <tr>\n",
              "      <th>0</th>\n",
              "      <td>17023287</td>\n",
              "      <td>gd29904300iX</td>\n",
              "      <td>486.0</td>\n",
              "      <td>1024</td>\n",
              "      <td>223</td>\n",
              "      <td>146</td>\n",
              "      <td>17023287gd29904300iX</td>\n",
              "    </tr>\n",
              "    <tr>\n",
              "      <th>1</th>\n",
              "      <td>17023287</td>\n",
              "      <td>gd29907800iX</td>\n",
              "      <td>216.0</td>\n",
              "      <td>1024</td>\n",
              "      <td>223</td>\n",
              "      <td>146</td>\n",
              "      <td>17023287gd29907800iX</td>\n",
              "    </tr>\n",
              "    <tr>\n",
              "      <th>2</th>\n",
              "      <td>17023287</td>\n",
              "      <td>gd39000800iX</td>\n",
              "      <td>360.0</td>\n",
              "      <td>1024</td>\n",
              "      <td>223</td>\n",
              "      <td>146</td>\n",
              "      <td>17023287gd39000800iX</td>\n",
              "    </tr>\n",
              "    <tr>\n",
              "      <th>3</th>\n",
              "      <td>17023287</td>\n",
              "      <td>gd55102400iX</td>\n",
              "      <td>180.0</td>\n",
              "      <td>1024</td>\n",
              "      <td>223</td>\n",
              "      <td>146</td>\n",
              "      <td>17023287gd55102400iX</td>\n",
              "    </tr>\n",
              "    <tr>\n",
              "      <th>4</th>\n",
              "      <td>17023572</td>\n",
              "      <td>gd43208500iX</td>\n",
              "      <td>756.0</td>\n",
              "      <td>1024</td>\n",
              "      <td>225</td>\n",
              "      <td>170</td>\n",
              "      <td>17023572gd43208500iX</td>\n",
              "    </tr>\n",
              "    <tr>\n",
              "      <th>...</th>\n",
              "      <td>...</td>\n",
              "      <td>...</td>\n",
              "      <td>...</td>\n",
              "      <td>...</td>\n",
              "      <td>...</td>\n",
              "      <td>...</td>\n",
              "      <td>...</td>\n",
              "    </tr>\n",
              "    <tr>\n",
              "      <th>179</th>\n",
              "      <td>17023468</td>\n",
              "      <td>gd28007800iX</td>\n",
              "      <td>336.0</td>\n",
              "      <td>1024</td>\n",
              "      <td>307</td>\n",
              "      <td>246</td>\n",
              "      <td>17023468gd28007800iX</td>\n",
              "    </tr>\n",
              "    <tr>\n",
              "      <th>180</th>\n",
              "      <td>17023468</td>\n",
              "      <td>gd28001700iX</td>\n",
              "      <td>640.0</td>\n",
              "      <td>1024</td>\n",
              "      <td>307</td>\n",
              "      <td>246</td>\n",
              "      <td>17023468gd28001700iX</td>\n",
              "    </tr>\n",
              "    <tr>\n",
              "      <th>181</th>\n",
              "      <td>17023833</td>\n",
              "      <td>gd55001700iX</td>\n",
              "      <td>320.0</td>\n",
              "      <td>1024</td>\n",
              "      <td>307</td>\n",
              "      <td>245</td>\n",
              "      <td>17023833gd55001700iX</td>\n",
              "    </tr>\n",
              "    <tr>\n",
              "      <th>182</th>\n",
              "      <td>17023833</td>\n",
              "      <td>gd55102400iX</td>\n",
              "      <td>360.0</td>\n",
              "      <td>1024</td>\n",
              "      <td>307</td>\n",
              "      <td>245</td>\n",
              "      <td>17023833gd55102400iX</td>\n",
              "    </tr>\n",
              "    <tr>\n",
              "      <th>183</th>\n",
              "      <td>17023833</td>\n",
              "      <td>gd30212200iX</td>\n",
              "      <td>720.0</td>\n",
              "      <td>1024</td>\n",
              "      <td>307</td>\n",
              "      <td>245</td>\n",
              "      <td>17023833gd30212200iX</td>\n",
              "    </tr>\n",
              "  </tbody>\n",
              "</table>\n",
              "<p>184 rows × 7 columns</p>\n",
              "</div>"
            ],
            "text/plain": [
              "           SO       FG Code  Order Qty  ...  due  sodate                   Key\n",
              "0    17023287  gd29904300iX      486.0  ...  223     146  17023287gd29904300iX\n",
              "1    17023287  gd29907800iX      216.0  ...  223     146  17023287gd29907800iX\n",
              "2    17023287  gd39000800iX      360.0  ...  223     146  17023287gd39000800iX\n",
              "3    17023287  gd55102400iX      180.0  ...  223     146  17023287gd55102400iX\n",
              "4    17023572  gd43208500iX      756.0  ...  225     170  17023572gd43208500iX\n",
              "..        ...           ...        ...  ...  ...     ...                   ...\n",
              "179  17023468  gd28007800iX      336.0  ...  307     246  17023468gd28007800iX\n",
              "180  17023468  gd28001700iX      640.0  ...  307     246  17023468gd28001700iX\n",
              "181  17023833  gd55001700iX      320.0  ...  307     245  17023833gd55001700iX\n",
              "182  17023833  gd55102400iX      360.0  ...  307     245  17023833gd55102400iX\n",
              "183  17023833  gd30212200iX      720.0  ...  307     245  17023833gd30212200iX\n",
              "\n",
              "[184 rows x 7 columns]"
            ]
          },
          "metadata": {
            "tags": []
          },
          "execution_count": 39
        }
      ]
    },
    {
      "cell_type": "code",
      "metadata": {
        "id": "xNZafNWgXMMY",
        "colab_type": "code",
        "colab": {}
      },
      "source": [
        "df=df[df['FG Code']!='gC25010000kg']\n",
        "df=df[df['FG Code']!='gC25020000kg']"
      ],
      "execution_count": 32,
      "outputs": []
    },
    {
      "cell_type": "code",
      "metadata": {
        "id": "wnTRb6CnJgka",
        "colab_type": "code",
        "colab": {}
      },
      "source": [
        "jobs =df['Key']\n",
        "op =[1,2,3,4]\n",
        "mc = [1,2,3,4,5,6]\n",
        "horizon = max(df[\"due\"])\n",
        "due = df.set_index('Key')"
      ],
      "execution_count": 40,
      "outputs": []
    },
    {
      "cell_type": "code",
      "metadata": {
        "id": "CYDmquJqPLRZ",
        "colab_type": "code",
        "colab": {}
      },
      "source": [
        "df2=df[['Key','FG Code','Order Qty']]\n",
        "df2=df2.merge(pa[[\"FG Code\",\"Line\",\"Output\"]], on=\"FG Code\")\n",
        "df2[\"duration\"]=df2[\"Order Qty\"]/df2[\"Output\"]\n",
        "del df2[\"Order Qty\"]\n",
        "df2.set_index(['Key','Line'],inplace=True)\n",
        "del df2['FG Code']\n",
        "del df2['Output']"
      ],
      "execution_count": 41,
      "outputs": []
    },
    {
      "cell_type": "code",
      "metadata": {
        "id": "Rltxdp-4E23B",
        "colab_type": "code",
        "colab": {}
      },
      "source": [
        "df2['duration']=df2['duration'].fillna(0).astype('int')"
      ],
      "execution_count": 42,
      "outputs": []
    },
    {
      "cell_type": "code",
      "metadata": {
        "id": "Pk-0lBw-3c3g",
        "colab_type": "code",
        "colab": {
          "base_uri": "https://localhost:8080/",
          "height": 35
        },
        "outputId": "9112f72c-4f05-49d0-9476-2710a2b02107"
      },
      "source": [
        "from dtale import show\n",
        "import dtale.app as dtale_app\n",
        "dtale_app.USE_COLAB = True\n",
        "#show(jobs)"
      ],
      "execution_count": 13,
      "outputs": [
        {
          "output_type": "execute_result",
          "data": {
            "text/plain": [
              "https://n6ekujl3anh-496ff2e9c6d22116-40000-colab.googleusercontent.com/dtale/main/1"
            ]
          },
          "metadata": {
            "tags": []
          },
          "execution_count": 13
        }
      ]
    },
    {
      "cell_type": "code",
      "metadata": {
        "id": "9AHze_OF4QxH",
        "colab_type": "code",
        "colab": {
          "base_uri": "https://localhost:8080/",
          "height": 35
        },
        "outputId": "d427a935-8847-4fe5-f4ca-b515504b6108"
      },
      "source": [
        "show(pa)"
      ],
      "execution_count": 15,
      "outputs": [
        {
          "output_type": "execute_result",
          "data": {
            "text/plain": [
              "https://n6ekujl3anh-496ff2e9c6d22116-40000-colab.googleusercontent.com/dtale/main/3"
            ]
          },
          "metadata": {
            "tags": []
          },
          "execution_count": 15
        }
      ]
    },
    {
      "cell_type": "code",
      "metadata": {
        "id": "i0hgaC8OM-Lz",
        "colab_type": "code",
        "colab": {
          "base_uri": "https://localhost:8080/",
          "height": 35
        },
        "outputId": "7f57c042-0e3e-4b27-e69c-f63f64ad2a7a"
      },
      "source": [
        "due['due'].loc['17023833gd30212200iX']"
      ],
      "execution_count": 15,
      "outputs": [
        {
          "output_type": "execute_result",
          "data": {
            "text/plain": [
              "307"
            ]
          },
          "metadata": {
            "tags": []
          },
          "execution_count": 15
        }
      ]
    },
    {
      "cell_type": "code",
      "metadata": {
        "id": "0vjdRQg3NvPS",
        "colab_type": "code",
        "colab": {}
      },
      "source": [
        "from ortools.sat.python import cp_model\n",
        "model = cp_model.CpModel()"
      ],
      "execution_count": 10,
      "outputs": []
    },
    {
      "cell_type": "code",
      "metadata": {
        "id": "H-_Bgd_qIJIc",
        "colab_type": "code",
        "colab": {}
      },
      "source": [
        "sch = dict.fromkeys([1,2,3,4,5,6],[])\n",
        "delay = []\n",
        "for j in jobs:\n",
        "    for m in mc:\n",
        "        suffix = '_%s_%i' % (j,m)\n",
        "        start = model.NewIntVar(0, horizon, \"start\"+suffix)\n",
        "        end = model.NewIntVar(0, horizon, \"end\"+suffix)\n",
        "        duration = model.NewIntervalVar(start, df2.loc[(j,m)].values[0], end, \"duration\"+suffix)\n",
        "        delay.append(due['due'].loc[j]-end)\n",
        "        sch[m].append(duration)"
      ],
      "execution_count": 52,
      "outputs": []
    },
    {
      "cell_type": "code",
      "metadata": {
        "id": "5rJEETaGbkoX",
        "colab_type": "code",
        "colab": {}
      },
      "source": [
        "sch.update?"
      ],
      "execution_count": 51,
      "outputs": []
    },
    {
      "cell_type": "code",
      "metadata": {
        "id": "7DuhvTjgAuRC",
        "colab_type": "code",
        "colab": {}
      },
      "source": [
        "for m in mc:\n",
        "        model.AddNoOverlap(sch[m])"
      ],
      "execution_count": 53,
      "outputs": []
    },
    {
      "cell_type": "code",
      "metadata": {
        "id": "3FjhcqtdbTud",
        "colab_type": "code",
        "colab": {
          "base_uri": "https://localhost:8080/",
          "height": 499
        },
        "outputId": "649606bf-b35b-4d23-b051-e597ad53dc5b"
      },
      "source": [
        "model.Minimize(delay)"
      ],
      "execution_count": 54,
      "outputs": [
        {
          "output_type": "error",
          "ename": "TypeError",
          "evalue": "ignored",
          "traceback": [
            "\u001b[0;31m---------------------------------------------------------------------------\u001b[0m",
            "\u001b[0;31mTypeError\u001b[0m                                 Traceback (most recent call last)",
            "\u001b[0;32m<ipython-input-54-c065dad5f2e8>\u001b[0m in \u001b[0;36m<module>\u001b[0;34m()\u001b[0m\n\u001b[0;32m----> 1\u001b[0;31m \u001b[0mmodel\u001b[0m\u001b[0;34m.\u001b[0m\u001b[0mMinimize\u001b[0m\u001b[0;34m(\u001b[0m\u001b[0mdelay\u001b[0m\u001b[0;34m)\u001b[0m\u001b[0;34m\u001b[0m\u001b[0;34m\u001b[0m\u001b[0m\n\u001b[0m",
            "\u001b[0;32m/usr/local/lib/python3.6/dist-packages/ortools/sat/python/cp_model.py\u001b[0m in \u001b[0;36mMinimize\u001b[0;34m(self, obj)\u001b[0m\n\u001b[1;32m   1471\u001b[0m     \u001b[0;32mdef\u001b[0m \u001b[0mMinimize\u001b[0m\u001b[0;34m(\u001b[0m\u001b[0mself\u001b[0m\u001b[0;34m,\u001b[0m \u001b[0mobj\u001b[0m\u001b[0;34m)\u001b[0m\u001b[0;34m:\u001b[0m\u001b[0;34m\u001b[0m\u001b[0;34m\u001b[0m\u001b[0m\n\u001b[1;32m   1472\u001b[0m         \u001b[0;34m\"\"\"Sets the objective of the model to minimize(obj).\"\"\"\u001b[0m\u001b[0;34m\u001b[0m\u001b[0;34m\u001b[0m\u001b[0m\n\u001b[0;32m-> 1473\u001b[0;31m         \u001b[0mself\u001b[0m\u001b[0;34m.\u001b[0m\u001b[0m_SetObjective\u001b[0m\u001b[0;34m(\u001b[0m\u001b[0mobj\u001b[0m\u001b[0;34m,\u001b[0m \u001b[0mminimize\u001b[0m\u001b[0;34m=\u001b[0m\u001b[0;32mTrue\u001b[0m\u001b[0;34m)\u001b[0m\u001b[0;34m\u001b[0m\u001b[0;34m\u001b[0m\u001b[0m\n\u001b[0m\u001b[1;32m   1474\u001b[0m \u001b[0;34m\u001b[0m\u001b[0m\n\u001b[1;32m   1475\u001b[0m     \u001b[0;32mdef\u001b[0m \u001b[0mMaximize\u001b[0m\u001b[0;34m(\u001b[0m\u001b[0mself\u001b[0m\u001b[0;34m,\u001b[0m \u001b[0mobj\u001b[0m\u001b[0;34m)\u001b[0m\u001b[0;34m:\u001b[0m\u001b[0;34m\u001b[0m\u001b[0;34m\u001b[0m\u001b[0m\n",
            "\u001b[0;32m/usr/local/lib/python3.6/dist-packages/ortools/sat/python/cp_model.py\u001b[0m in \u001b[0;36m_SetObjective\u001b[0;34m(self, obj, minimize)\u001b[0m\n\u001b[1;32m   1467\u001b[0m         \u001b[0;32melse\u001b[0m\u001b[0;34m:\u001b[0m\u001b[0;34m\u001b[0m\u001b[0;34m\u001b[0m\u001b[0m\n\u001b[1;32m   1468\u001b[0m             raise TypeError('TypeError: ' + str(obj) +\n\u001b[0;32m-> 1469\u001b[0;31m                             ' is not a valid objective')\n\u001b[0m\u001b[1;32m   1470\u001b[0m \u001b[0;34m\u001b[0m\u001b[0m\n\u001b[1;32m   1471\u001b[0m     \u001b[0;32mdef\u001b[0m \u001b[0mMinimize\u001b[0m\u001b[0;34m(\u001b[0m\u001b[0mself\u001b[0m\u001b[0;34m,\u001b[0m \u001b[0mobj\u001b[0m\u001b[0;34m)\u001b[0m\u001b[0;34m:\u001b[0m\u001b[0;34m\u001b[0m\u001b[0;34m\u001b[0m\u001b[0m\n",
            "\u001b[0;31mTypeError\u001b[0m: TypeError: [SumArray(ProductCst(end_17023287gd29904300iX_1(0..307), -1), 223), SumArray(ProductCst(end_17023287gd29904300iX_2(0..307), -1), 223), SumArray(ProductCst(end_17023287gd29904300iX_3(0..307), -1), 223), SumArray(ProductCst(end_17023287gd29904300iX_4(0..307), -1), 223), SumArray(ProductCst(end_17023287gd29904300iX_5(0..307), -1), 223), SumArray(ProductCst(end_17023287gd29904300iX_6(0..307), -1), 223), SumArray(ProductCst(end_17023287gd29907800iX_1(0..307), -1), 223), SumArray(ProductCst(end_17023287gd29907800iX_2(0..307), -1), 223), SumArray(ProductCst(end_17023287gd29907800iX_3(0..307), -1), 223), SumArray(ProductCst(end_17023287gd29907800iX_4(0..307), -1), 223), SumArray(ProductCst(end_17023287gd29907800iX_5(0..307), -1), 223), SumArray(ProductCst(end_17023287gd29907800iX_6(0..307), -1), 223), SumArray(ProductCst(end_17023287gd39000800iX_1(0..307), -1), 223), SumArray(ProductCst(end_17023287gd39000800iX_2(0..307), -1), 223), SumArray(ProductCst(end_17023287gd39000800iX_3(0..307), -1), 223), SumArray(ProductCst(end_17023287gd39000800iX_4(0..307), -1), 223), SumArray(ProductCst(end_17023287gd39000800iX_5(0..307), -1), 223), SumArray(ProductCst(end_17023287gd39000800iX_6(0..307), -1), 223), SumArray(ProductCst(end_17023287gd55102400iX_1(0..307), -1), 223), SumArray(ProductCst(end_17023287gd55102400iX_2(0..307), -1), 223), SumArray(ProductCst(end_17023287gd55102400iX_3(0..307), -1), 223), SumArray(ProductCst(end_17023287gd55102400iX_4(0..307), ..."
          ]
        }
      ]
    },
    {
      "cell_type": "code",
      "metadata": {
        "id": "D8MChwDryyRL",
        "colab_type": "code",
        "colab": {}
      },
      "source": [
        "solver = cp_model.CpSolver()\n",
        "status = solver.Solve(model)"
      ],
      "execution_count": null,
      "outputs": []
    }
  ]
}
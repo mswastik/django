{
  "nbformat": 4,
  "nbformat_minor": 0,
  "metadata": {
    "kernelspec": {
      "display_name": "Python 3",
      "language": "python",
      "name": "python3"
    },
    "language_info": {
      "codemirror_mode": {
        "name": "ipython",
        "version": 3
      },
      "file_extension": ".py",
      "mimetype": "text/x-python",
      "name": "python",
      "nbconvert_exporter": "python",
      "pygments_lexer": "ipython3",
      "version": "3.8.2"
    },
    "colab": {
      "name": "CP.ipynb",
      "provenance": []
    }
  },
  "cells": [
    {
      "cell_type": "code",
      "metadata": {
        "id": "ZAegf4MTD07x",
        "colab_type": "code",
        "colab": {
          "base_uri": "https://localhost:8080/",
          "height": 181
        },
        "outputId": "e0c6be24-9bcf-419d-cbac-f3e557487c30"
      },
      "source": [
        "!pip install ortools\n",
        "#!pip install dtale"
      ],
      "execution_count": 1,
      "outputs": [
        {
          "output_type": "stream",
          "text": [
            "Collecting ortools\n",
            "\u001b[?25l  Downloading https://files.pythonhosted.org/packages/6c/e9/57ee68e41e02b00836dbe61a4f9679c953623168dcca3a84e2cd16a3e9b2/ortools-7.8.7959-cp36-cp36m-manylinux1_x86_64.whl (32.7MB)\n",
            "\u001b[K     |████████████████████████████████| 32.7MB 120kB/s \n",
            "\u001b[?25hRequirement already satisfied: six>=1.10 in /usr/local/lib/python3.6/dist-packages (from ortools) (1.15.0)\n",
            "Requirement already satisfied: protobuf>=3.12.2 in /usr/local/lib/python3.6/dist-packages (from ortools) (3.12.4)\n",
            "Requirement already satisfied: setuptools in /usr/local/lib/python3.6/dist-packages (from protobuf>=3.12.2->ortools) (49.6.0)\n",
            "Installing collected packages: ortools\n",
            "Successfully installed ortools-7.8.7959\n"
          ],
          "name": "stdout"
        }
      ]
    },
    {
      "cell_type": "code",
      "metadata": {
        "id": "sG_LW15bCHKH",
        "colab_type": "code",
        "colab": {
          "base_uri": "https://localhost:8080/",
          "height": 179
        },
        "outputId": "8912a23a-32bf-445b-938e-fdeddcf3493e"
      },
      "source": [
        "import pandas as pd\n",
        "import numpy as np\n",
        "import collections\n",
        "# Clone the entire repo.\n",
        "!git clone -l -s https://github.com/mswastik/optimization.git cloned-repo\n",
        "%cd cloned-repo"
      ],
      "execution_count": 2,
      "outputs": [
        {
          "output_type": "stream",
          "text": [
            "Cloning into 'cloned-repo'...\n",
            "warning: --local is ignored\n",
            "remote: Enumerating objects: 110, done.\u001b[K\n",
            "remote: Counting objects: 100% (110/110), done.\u001b[K\n",
            "remote: Compressing objects: 100% (106/106), done.\u001b[K\n",
            "remote: Total 110 (delta 32), reused 0 (delta 0), pack-reused 0\u001b[K\n",
            "Receiving objects: 100% (110/110), 1.72 MiB | 7.52 MiB/s, done.\n",
            "Resolving deltas: 100% (32/32), done.\n",
            "/content/cloned-repo\n"
          ],
          "name": "stdout"
        }
      ]
    },
    {
      "cell_type": "code",
      "metadata": {
        "id": "nFml48h-seyq",
        "colab_type": "code",
        "colab": {}
      },
      "source": [
        "from decimal import *\n",
        "getcontext()\n",
        "getcontext().prec=2"
      ],
      "execution_count": 48,
      "outputs": []
    },
    {
      "cell_type": "code",
      "metadata": {
        "id": "6kU6ehn9IbPk",
        "colab_type": "code",
        "colab": {}
      },
      "source": [
        "#Importing Data\n",
        "df=pd.read_excel('orders1.xlsx')\n",
        "ma=pd.read_excel('item master.xlsx')\n",
        "bu=pd.read_excel('item master.xlsx',sheet_name='bulk')\n",
        "pa=pd.read_excel('item master.xlsx',sheet_name='packing')"
      ],
      "execution_count": 53,
      "outputs": []
    },
    {
      "cell_type": "code",
      "metadata": {
        "id": "nUhA6-OCCHKV",
        "colab_type": "code",
        "colab": {}
      },
      "source": [
        "# Formating Data\n",
        "df = df[df['Line']=='Tmmthpkhti Limi']\n",
        "df = df[df['Plant']==1024]\n",
        "del df['Line']\n",
        "df['due'] = df['Dispatch Date'] - df['SO Date'].min()\n",
        "df['due'] = df['due'].dt.days\n",
        "df['sodate'] = df['SO Date'] - df['SO Date'].min()\n",
        "df['sodate'] = df['sodate'].dt.days\n",
        "df.reset_index(inplace=True,drop=True)\n",
        "df['Key']=df['SO'].astype('str')+df['FG Code']\n",
        "del df['Dispatch Date']\n",
        "del df['SO Date']\n",
        "del df['Description']\n",
        "del df['Customer']\n",
        "df['Order Qty'] = df[df['Order Qty']!=0]['Order Qty']\n",
        "df=df[df['Key']!='17023287gd39000800iX']"
      ],
      "execution_count": 54,
      "outputs": []
    },
    {
      "cell_type": "code",
      "metadata": {
        "id": "wnTRb6CnJgka",
        "colab_type": "code",
        "colab": {
          "base_uri": "https://localhost:8080/",
          "height": 481
        },
        "outputId": "998b1c43-a629-4031-afb6-91dcbd62560c"
      },
      "source": [
        "# Creating Parameter Data\n",
        "jobs =df['Key']\n",
        "op =[1,2,3,4]  # Ignore as of now\n",
        "mc = [1,2,3,4,5,6]\n",
        "#horizon = max(df[\"due\"])+900\n",
        "due = df.set_index('Key')\n",
        "dur=df[['Key','FG Code','Order Qty']]\n",
        "dur=dur.merge(pa[[\"FG Code\",\"Line\",\"Output\"]], on=\"FG Code\")\n",
        "dur[\"Output\"] = dur['Output']\n",
        "dur[\"duration\"]=round(dur[\"Order Qty\"]/dur[\"Output\"],2)\n",
        "dur.set_index(['Key','Line'],inplace=True)\n",
        "del dur['FG Code']\n",
        "dur['Output'].replace(0,1,inplace=True)\n",
        "#df['Order Qty']=df['Order Qty'].fillna(0).astype('int')\n",
        "#dur['duration']=dur['duration'].fillna(0).astype('int')\n",
        "#dur['Output']=dur['Output'].fillna(0).astype('int')\n",
        "horizon = max(dur['duration'])+1000"
      ],
      "execution_count": 55,
      "outputs": [
        {
          "output_type": "error",
          "ename": "TypeError",
          "evalue": "ignored",
          "traceback": [
            "\u001b[0;31m---------------------------------------------------------------------------\u001b[0m",
            "\u001b[0;31mAttributeError\u001b[0m                            Traceback (most recent call last)",
            "\u001b[0;31mAttributeError\u001b[0m: 'float' object has no attribute 'rint'",
            "\nThe above exception was the direct cause of the following exception:\n",
            "\u001b[0;31mTypeError\u001b[0m                                 Traceback (most recent call last)",
            "\u001b[0;32m<ipython-input-55-a8e248b74fa9>\u001b[0m in \u001b[0;36m<module>\u001b[0;34m()\u001b[0m\n\u001b[1;32m      8\u001b[0m \u001b[0mdur\u001b[0m\u001b[0;34m=\u001b[0m\u001b[0mdur\u001b[0m\u001b[0;34m.\u001b[0m\u001b[0mmerge\u001b[0m\u001b[0;34m(\u001b[0m\u001b[0mpa\u001b[0m\u001b[0;34m[\u001b[0m\u001b[0;34m[\u001b[0m\u001b[0;34m\"FG Code\"\u001b[0m\u001b[0;34m,\u001b[0m\u001b[0;34m\"Line\"\u001b[0m\u001b[0;34m,\u001b[0m\u001b[0;34m\"Output\"\u001b[0m\u001b[0;34m]\u001b[0m\u001b[0;34m]\u001b[0m\u001b[0;34m,\u001b[0m \u001b[0mon\u001b[0m\u001b[0;34m=\u001b[0m\u001b[0;34m\"FG Code\"\u001b[0m\u001b[0;34m)\u001b[0m\u001b[0;34m\u001b[0m\u001b[0;34m\u001b[0m\u001b[0m\n\u001b[1;32m      9\u001b[0m \u001b[0mdur\u001b[0m\u001b[0;34m[\u001b[0m\u001b[0;34m\"Output\"\u001b[0m\u001b[0;34m]\u001b[0m \u001b[0;34m=\u001b[0m \u001b[0mdur\u001b[0m\u001b[0;34m[\u001b[0m\u001b[0;34m'Output'\u001b[0m\u001b[0;34m]\u001b[0m\u001b[0;34m\u001b[0m\u001b[0;34m\u001b[0m\u001b[0m\n\u001b[0;32m---> 10\u001b[0;31m \u001b[0mdur\u001b[0m\u001b[0;34m[\u001b[0m\u001b[0;34m\"duration\"\u001b[0m\u001b[0;34m]\u001b[0m\u001b[0;34m=\u001b[0m\u001b[0mround\u001b[0m\u001b[0;34m(\u001b[0m\u001b[0mdur\u001b[0m\u001b[0;34m[\u001b[0m\u001b[0;34m\"Order Qty\"\u001b[0m\u001b[0;34m]\u001b[0m\u001b[0;34m/\u001b[0m\u001b[0mdur\u001b[0m\u001b[0;34m[\u001b[0m\u001b[0;34m\"Output\"\u001b[0m\u001b[0;34m]\u001b[0m\u001b[0;34m,\u001b[0m\u001b[0;36m2\u001b[0m\u001b[0;34m)\u001b[0m\u001b[0;34m\u001b[0m\u001b[0;34m\u001b[0m\u001b[0m\n\u001b[0m\u001b[1;32m     11\u001b[0m \u001b[0mdur\u001b[0m\u001b[0;34m.\u001b[0m\u001b[0mset_index\u001b[0m\u001b[0;34m(\u001b[0m\u001b[0;34m[\u001b[0m\u001b[0;34m'Key'\u001b[0m\u001b[0;34m,\u001b[0m\u001b[0;34m'Line'\u001b[0m\u001b[0;34m]\u001b[0m\u001b[0;34m,\u001b[0m\u001b[0minplace\u001b[0m\u001b[0;34m=\u001b[0m\u001b[0;32mTrue\u001b[0m\u001b[0;34m)\u001b[0m\u001b[0;34m\u001b[0m\u001b[0;34m\u001b[0m\u001b[0m\n\u001b[1;32m     12\u001b[0m \u001b[0;32mdel\u001b[0m \u001b[0mdur\u001b[0m\u001b[0;34m[\u001b[0m\u001b[0;34m'FG Code'\u001b[0m\u001b[0;34m]\u001b[0m\u001b[0;34m\u001b[0m\u001b[0;34m\u001b[0m\u001b[0m\n",
            "\u001b[0;32m/usr/local/lib/python3.6/dist-packages/pandas/core/generic.py\u001b[0m in \u001b[0;36m__round__\u001b[0;34m(self, decimals)\u001b[0m\n\u001b[1;32m   1511\u001b[0m \u001b[0;34m\u001b[0m\u001b[0m\n\u001b[1;32m   1512\u001b[0m     \u001b[0;32mdef\u001b[0m \u001b[0m__round__\u001b[0m\u001b[0;34m(\u001b[0m\u001b[0mself\u001b[0m\u001b[0;34m:\u001b[0m \u001b[0mFrameOrSeries\u001b[0m\u001b[0;34m,\u001b[0m \u001b[0mdecimals\u001b[0m\u001b[0;34m:\u001b[0m \u001b[0mint\u001b[0m \u001b[0;34m=\u001b[0m \u001b[0;36m0\u001b[0m\u001b[0;34m)\u001b[0m \u001b[0;34m->\u001b[0m \u001b[0mFrameOrSeries\u001b[0m\u001b[0;34m:\u001b[0m\u001b[0;34m\u001b[0m\u001b[0;34m\u001b[0m\u001b[0m\n\u001b[0;32m-> 1513\u001b[0;31m         \u001b[0;32mreturn\u001b[0m \u001b[0mself\u001b[0m\u001b[0;34m.\u001b[0m\u001b[0mround\u001b[0m\u001b[0;34m(\u001b[0m\u001b[0mdecimals\u001b[0m\u001b[0;34m)\u001b[0m\u001b[0;34m\u001b[0m\u001b[0;34m\u001b[0m\u001b[0m\n\u001b[0m\u001b[1;32m   1514\u001b[0m \u001b[0;34m\u001b[0m\u001b[0m\n\u001b[1;32m   1515\u001b[0m     \u001b[0;31m# -------------------------------------------------------------------------\u001b[0m\u001b[0;34m\u001b[0m\u001b[0;34m\u001b[0m\u001b[0;34m\u001b[0m\u001b[0m\n",
            "\u001b[0;32m/usr/local/lib/python3.6/dist-packages/pandas/core/series.py\u001b[0m in \u001b[0;36mround\u001b[0;34m(self, decimals, *args, **kwargs)\u001b[0m\n\u001b[1;32m   2143\u001b[0m         \"\"\"\n\u001b[1;32m   2144\u001b[0m         \u001b[0mnv\u001b[0m\u001b[0;34m.\u001b[0m\u001b[0mvalidate_round\u001b[0m\u001b[0;34m(\u001b[0m\u001b[0margs\u001b[0m\u001b[0;34m,\u001b[0m \u001b[0mkwargs\u001b[0m\u001b[0;34m)\u001b[0m\u001b[0;34m\u001b[0m\u001b[0;34m\u001b[0m\u001b[0m\n\u001b[0;32m-> 2145\u001b[0;31m         \u001b[0mresult\u001b[0m \u001b[0;34m=\u001b[0m \u001b[0mcom\u001b[0m\u001b[0;34m.\u001b[0m\u001b[0mvalues_from_object\u001b[0m\u001b[0;34m(\u001b[0m\u001b[0mself\u001b[0m\u001b[0;34m)\u001b[0m\u001b[0;34m.\u001b[0m\u001b[0mround\u001b[0m\u001b[0;34m(\u001b[0m\u001b[0mdecimals\u001b[0m\u001b[0;34m)\u001b[0m\u001b[0;34m\u001b[0m\u001b[0;34m\u001b[0m\u001b[0m\n\u001b[0m\u001b[1;32m   2146\u001b[0m         \u001b[0mresult\u001b[0m \u001b[0;34m=\u001b[0m \u001b[0mself\u001b[0m\u001b[0;34m.\u001b[0m\u001b[0m_constructor\u001b[0m\u001b[0;34m(\u001b[0m\u001b[0mresult\u001b[0m\u001b[0;34m,\u001b[0m \u001b[0mindex\u001b[0m\u001b[0;34m=\u001b[0m\u001b[0mself\u001b[0m\u001b[0;34m.\u001b[0m\u001b[0mindex\u001b[0m\u001b[0;34m)\u001b[0m\u001b[0;34m.\u001b[0m\u001b[0m__finalize__\u001b[0m\u001b[0;34m(\u001b[0m\u001b[0mself\u001b[0m\u001b[0;34m)\u001b[0m\u001b[0;34m\u001b[0m\u001b[0;34m\u001b[0m\u001b[0m\n\u001b[1;32m   2147\u001b[0m \u001b[0;34m\u001b[0m\u001b[0m\n",
            "\u001b[0;31mTypeError\u001b[0m: loop of ufunc does not support argument 0 of type float which has no callable rint method"
          ]
        }
      ]
    },
    {
      "cell_type": "code",
      "metadata": {
        "id": "nYDxWHnS6Z7Z",
        "colab_type": "code",
        "colab": {
          "base_uri": "https://localhost:8080/",
          "height": 450
        },
        "outputId": "fb41a158-1f82-4671-f41c-c03a16cb9164"
      },
      "source": [
        "#Testing\n",
        "#dur['duration'].loc[('17023287gd29904300iX',1)]\n",
        "dur"
      ],
      "execution_count": 52,
      "outputs": [
        {
          "output_type": "execute_result",
          "data": {
            "text/html": [
              "<div>\n",
              "<style scoped>\n",
              "    .dataframe tbody tr th:only-of-type {\n",
              "        vertical-align: middle;\n",
              "    }\n",
              "\n",
              "    .dataframe tbody tr th {\n",
              "        vertical-align: top;\n",
              "    }\n",
              "\n",
              "    .dataframe thead th {\n",
              "        text-align: right;\n",
              "    }\n",
              "</style>\n",
              "<table border=\"1\" class=\"dataframe\">\n",
              "  <thead>\n",
              "    <tr style=\"text-align: right;\">\n",
              "      <th></th>\n",
              "      <th></th>\n",
              "      <th>Order Qty</th>\n",
              "      <th>Output</th>\n",
              "      <th>duration</th>\n",
              "    </tr>\n",
              "    <tr>\n",
              "      <th>Key</th>\n",
              "      <th>Line</th>\n",
              "      <th></th>\n",
              "      <th></th>\n",
              "      <th></th>\n",
              "    </tr>\n",
              "  </thead>\n",
              "  <tbody>\n",
              "    <tr>\n",
              "      <th rowspan=\"5\" valign=\"top\">17023287gd29904300iX</th>\n",
              "      <th>1</th>\n",
              "      <td>486.0</td>\n",
              "      <td>22.5</td>\n",
              "      <td>21.6</td>\n",
              "    </tr>\n",
              "    <tr>\n",
              "      <th>2</th>\n",
              "      <td>486.0</td>\n",
              "      <td>20.0</td>\n",
              "      <td>24.3</td>\n",
              "    </tr>\n",
              "    <tr>\n",
              "      <th>3</th>\n",
              "      <td>486.0</td>\n",
              "      <td>22.5</td>\n",
              "      <td>21.6</td>\n",
              "    </tr>\n",
              "    <tr>\n",
              "      <th>4</th>\n",
              "      <td>486.0</td>\n",
              "      <td>30.0</td>\n",
              "      <td>16.2</td>\n",
              "    </tr>\n",
              "    <tr>\n",
              "      <th>5</th>\n",
              "      <td>486.0</td>\n",
              "      <td>20.0</td>\n",
              "      <td>24.3</td>\n",
              "    </tr>\n",
              "    <tr>\n",
              "      <th>...</th>\n",
              "      <th>...</th>\n",
              "      <td>...</td>\n",
              "      <td>...</td>\n",
              "      <td>...</td>\n",
              "    </tr>\n",
              "    <tr>\n",
              "      <th rowspan=\"5\" valign=\"top\">4501763335gC25020000UC</th>\n",
              "      <th>2</th>\n",
              "      <td>200.0</td>\n",
              "      <td>1.0</td>\n",
              "      <td>200</td>\n",
              "    </tr>\n",
              "    <tr>\n",
              "      <th>3</th>\n",
              "      <td>200.0</td>\n",
              "      <td>1.0</td>\n",
              "      <td>200</td>\n",
              "    </tr>\n",
              "    <tr>\n",
              "      <th>4</th>\n",
              "      <td>200.0</td>\n",
              "      <td>1.0</td>\n",
              "      <td>200</td>\n",
              "    </tr>\n",
              "    <tr>\n",
              "      <th>5</th>\n",
              "      <td>200.0</td>\n",
              "      <td>1.0</td>\n",
              "      <td>200</td>\n",
              "    </tr>\n",
              "    <tr>\n",
              "      <th>6</th>\n",
              "      <td>200.0</td>\n",
              "      <td>30.0</td>\n",
              "      <td>6.66667</td>\n",
              "    </tr>\n",
              "  </tbody>\n",
              "</table>\n",
              "<p>102 rows × 3 columns</p>\n",
              "</div>"
            ],
            "text/plain": [
              "                             Order Qty  Output duration\n",
              "Key                    Line                            \n",
              "17023287gd29904300iX   1         486.0    22.5     21.6\n",
              "                       2         486.0    20.0     24.3\n",
              "                       3         486.0    22.5     21.6\n",
              "                       4         486.0    30.0     16.2\n",
              "                       5         486.0    20.0     24.3\n",
              "...                                ...     ...      ...\n",
              "4501763335gC25020000UC 2         200.0     1.0      200\n",
              "                       3         200.0     1.0      200\n",
              "                       4         200.0     1.0      200\n",
              "                       5         200.0     1.0      200\n",
              "                       6         200.0    30.0  6.66667\n",
              "\n",
              "[102 rows x 3 columns]"
            ]
          },
          "metadata": {
            "tags": []
          },
          "execution_count": 52
        }
      ]
    },
    {
      "cell_type": "code",
      "metadata": {
        "id": "0vjdRQg3NvPS",
        "colab_type": "code",
        "colab": {}
      },
      "source": [
        "from ortools.sat.python import cp_model"
      ],
      "execution_count": 6,
      "outputs": []
    },
    {
      "cell_type": "code",
      "metadata": {
        "id": "2kluFz3V77yw",
        "colab_type": "code",
        "colab": {
          "base_uri": "https://localhost:8080/",
          "height": 463
        },
        "outputId": "e232b458-4c5f-4b04-8743-8dc4ea21d314"
      },
      "source": [
        "model = cp_model.CpModel()\n",
        "task_type = collections.namedtuple('task_type', 'start end duration')\n",
        "mtj = collections.defaultdict(list)\n",
        "all_tasks = {}\n",
        "for m in mc:\n",
        "  for j in jobs:  \n",
        "      suffix = '_%s_%i' % (j,m)\n",
        "      start = model.NewIntVar(0, horizon, \"start\"+suffix)\n",
        "      end = model.NewIntVar(0, horizon, \"end\"+suffix)\n",
        "      duration = model.NewIntervalVar(start, dur['duration'].loc[(j,m)], end, \"duration\"+suffix)\n",
        "      all_tasks[j, m] = task_type(start=start, end=end, duration=duration)\n",
        "      mtj[m].append(duration)\n",
        "\n",
        "for m in mc:\n",
        "  model.AddNoOverlap(mtj[m])\n",
        "\n",
        "com = {}\n",
        "for j in jobs:\n",
        "  tt= 0\n",
        "  for m in mc:\n",
        "    comp = (all_tasks[j,m].end - all_tasks[j,m].start)*dur[\"Output\"].loc[(j,m)]\n",
        "    tt = tt + comp\n",
        "  com[j] = tt\n",
        "  model.Add(com[j] == df[df[\"Key\"]==j]['Order Qty'].values[0])\n",
        "\n",
        "#com1 = {}\n",
        "#for j in df['Key']:\n",
        "#  tt= 0\n",
        "#  for m in mc:\n",
        "#    comp1 = (all_tasks[j,m].end - all_tasks[j,m].start)*dur[\"Output\"].loc[(j,m)]\n",
        "#    tt = tt + comp1\n",
        "#  com1[j] = tt\n",
        "#  model.Add(com1[j] <= df[df[\"Key\"]==j]['Order Qty'].values[0]+500)\n",
        "\n",
        "ck = model.NewIntVar(-horizon, horizon, 'dummy')\n",
        "model.AddMaxEquality(ck,[all_tasks[j,m].end for j in jobs for m in mc])\n",
        "\n",
        "model.Minimize(ck)\n",
        "solver = cp_model.CpSolver()\n",
        "solver.Solve(model)\n",
        "solver.StatusName()\n",
        "#solver.ObjectiveValue()"
      ],
      "execution_count": 47,
      "outputs": [
        {
          "output_type": "error",
          "ename": "TypeError",
          "evalue": "ignored",
          "traceback": [
            "\u001b[0;31m---------------------------------------------------------------------------\u001b[0m",
            "\u001b[0;31mTypeError\u001b[0m                                 Traceback (most recent call last)",
            "\u001b[0;32m<ipython-input-47-6256aebb3687>\u001b[0m in \u001b[0;36m<module>\u001b[0;34m()\u001b[0m\n\u001b[1;32m      6\u001b[0m   \u001b[0;32mfor\u001b[0m \u001b[0mj\u001b[0m \u001b[0;32min\u001b[0m \u001b[0mjobs\u001b[0m\u001b[0;34m:\u001b[0m\u001b[0;34m\u001b[0m\u001b[0;34m\u001b[0m\u001b[0m\n\u001b[1;32m      7\u001b[0m       \u001b[0msuffix\u001b[0m \u001b[0;34m=\u001b[0m \u001b[0;34m'_%s_%i'\u001b[0m \u001b[0;34m%\u001b[0m \u001b[0;34m(\u001b[0m\u001b[0mj\u001b[0m\u001b[0;34m,\u001b[0m\u001b[0mm\u001b[0m\u001b[0;34m)\u001b[0m\u001b[0;34m\u001b[0m\u001b[0;34m\u001b[0m\u001b[0m\n\u001b[0;32m----> 8\u001b[0;31m       \u001b[0mstart\u001b[0m \u001b[0;34m=\u001b[0m \u001b[0mmodel\u001b[0m\u001b[0;34m.\u001b[0m\u001b[0mNewIntVar\u001b[0m\u001b[0;34m(\u001b[0m\u001b[0;36m0\u001b[0m\u001b[0;34m,\u001b[0m \u001b[0mhorizon\u001b[0m\u001b[0;34m,\u001b[0m \u001b[0;34m\"start\"\u001b[0m\u001b[0;34m+\u001b[0m\u001b[0msuffix\u001b[0m\u001b[0;34m)\u001b[0m\u001b[0;34m\u001b[0m\u001b[0;34m\u001b[0m\u001b[0m\n\u001b[0m\u001b[1;32m      9\u001b[0m       \u001b[0mend\u001b[0m \u001b[0;34m=\u001b[0m \u001b[0mmodel\u001b[0m\u001b[0;34m.\u001b[0m\u001b[0mNewIntVar\u001b[0m\u001b[0;34m(\u001b[0m\u001b[0;36m0\u001b[0m\u001b[0;34m,\u001b[0m \u001b[0mhorizon\u001b[0m\u001b[0;34m,\u001b[0m \u001b[0;34m\"end\"\u001b[0m\u001b[0;34m+\u001b[0m\u001b[0msuffix\u001b[0m\u001b[0;34m)\u001b[0m\u001b[0;34m\u001b[0m\u001b[0;34m\u001b[0m\u001b[0m\n\u001b[1;32m     10\u001b[0m       \u001b[0mduration\u001b[0m \u001b[0;34m=\u001b[0m \u001b[0mmodel\u001b[0m\u001b[0;34m.\u001b[0m\u001b[0mNewIntervalVar\u001b[0m\u001b[0;34m(\u001b[0m\u001b[0mstart\u001b[0m\u001b[0;34m,\u001b[0m \u001b[0mdur\u001b[0m\u001b[0;34m[\u001b[0m\u001b[0;34m'duration'\u001b[0m\u001b[0;34m]\u001b[0m\u001b[0;34m.\u001b[0m\u001b[0mloc\u001b[0m\u001b[0;34m[\u001b[0m\u001b[0;34m(\u001b[0m\u001b[0mj\u001b[0m\u001b[0;34m,\u001b[0m\u001b[0mm\u001b[0m\u001b[0;34m)\u001b[0m\u001b[0;34m]\u001b[0m\u001b[0;34m,\u001b[0m \u001b[0mend\u001b[0m\u001b[0;34m,\u001b[0m \u001b[0;34m\"duration\"\u001b[0m\u001b[0;34m+\u001b[0m\u001b[0msuffix\u001b[0m\u001b[0;34m)\u001b[0m\u001b[0;34m\u001b[0m\u001b[0;34m\u001b[0m\u001b[0m\n",
            "\u001b[0;32m/usr/local/lib/python3.6/dist-packages/ortools/sat/python/cp_model.py\u001b[0m in \u001b[0;36mNewIntVar\u001b[0;34m(self, lb, ub, name)\u001b[0m\n\u001b[1;32m    711\u001b[0m     \"\"\"\n\u001b[1;32m    712\u001b[0m \u001b[0;34m\u001b[0m\u001b[0m\n\u001b[0;32m--> 713\u001b[0;31m         \u001b[0;32mreturn\u001b[0m \u001b[0mIntVar\u001b[0m\u001b[0;34m(\u001b[0m\u001b[0mself\u001b[0m\u001b[0;34m.\u001b[0m\u001b[0m__model\u001b[0m\u001b[0;34m,\u001b[0m \u001b[0mDomain\u001b[0m\u001b[0;34m(\u001b[0m\u001b[0mlb\u001b[0m\u001b[0;34m,\u001b[0m \u001b[0mub\u001b[0m\u001b[0;34m)\u001b[0m\u001b[0;34m,\u001b[0m \u001b[0mname\u001b[0m\u001b[0;34m)\u001b[0m\u001b[0;34m\u001b[0m\u001b[0;34m\u001b[0m\u001b[0m\n\u001b[0m\u001b[1;32m    714\u001b[0m \u001b[0;34m\u001b[0m\u001b[0m\n\u001b[1;32m    715\u001b[0m     \u001b[0;32mdef\u001b[0m \u001b[0mNewIntVarFromDomain\u001b[0m\u001b[0;34m(\u001b[0m\u001b[0mself\u001b[0m\u001b[0;34m,\u001b[0m \u001b[0mdomain\u001b[0m\u001b[0;34m,\u001b[0m \u001b[0mname\u001b[0m\u001b[0;34m)\u001b[0m\u001b[0;34m:\u001b[0m\u001b[0;34m\u001b[0m\u001b[0;34m\u001b[0m\u001b[0m\n",
            "\u001b[0;32m/usr/local/lib/python3.6/dist-packages/ortools/util/sorted_interval_list.py\u001b[0m in \u001b[0;36m__init__\u001b[0;34m(self, *args)\u001b[0m\n\u001b[1;32m    106\u001b[0m         \u001b[0mIf\u001b[0m \u001b[0mleft\u001b[0m \u001b[0;34m>\u001b[0m \u001b[0mright\u001b[0m\u001b[0;34m,\u001b[0m \u001b[0mthis\u001b[0m \u001b[0mwill\u001b[0m \u001b[0mresult\u001b[0m \u001b[0;32min\u001b[0m \u001b[0mthe\u001b[0m \u001b[0mempty\u001b[0m \u001b[0mdomain\u001b[0m\u001b[0;34m.\u001b[0m\u001b[0;34m\u001b[0m\u001b[0;34m\u001b[0m\u001b[0m\n\u001b[1;32m    107\u001b[0m         \"\"\"\n\u001b[0;32m--> 108\u001b[0;31m         \u001b[0m_sorted_interval_list\u001b[0m\u001b[0;34m.\u001b[0m\u001b[0mDomain_swiginit\u001b[0m\u001b[0;34m(\u001b[0m\u001b[0mself\u001b[0m\u001b[0;34m,\u001b[0m \u001b[0m_sorted_interval_list\u001b[0m\u001b[0;34m.\u001b[0m\u001b[0mnew_Domain\u001b[0m\u001b[0;34m(\u001b[0m\u001b[0;34m*\u001b[0m\u001b[0margs\u001b[0m\u001b[0;34m)\u001b[0m\u001b[0;34m)\u001b[0m\u001b[0;34m\u001b[0m\u001b[0;34m\u001b[0m\u001b[0m\n\u001b[0m\u001b[1;32m    109\u001b[0m \u001b[0;34m\u001b[0m\u001b[0m\n\u001b[1;32m    110\u001b[0m     \u001b[0;34m@\u001b[0m\u001b[0mstaticmethod\u001b[0m\u001b[0;34m\u001b[0m\u001b[0;34m\u001b[0m\u001b[0m\n",
            "\u001b[0;31mTypeError\u001b[0m: Wrong number or type of arguments for overloaded function 'new_Domain'.\n  Possible C/C++ prototypes are:\n    operations_research::Domain::Domain()\n    operations_research::Domain::Domain(int64)\n    operations_research::Domain::Domain(int64,int64)\n"
          ]
        }
      ]
    },
    {
      "cell_type": "code",
      "metadata": {
        "id": "r5RELoZFn13v",
        "colab_type": "code",
        "colab": {
          "base_uri": "https://localhost:8080/",
          "height": 91
        },
        "outputId": "201e0e3b-db57-49df-e55c-3d47cd4fa1ac"
      },
      "source": [
        "com"
      ],
      "execution_count": 30,
      "outputs": [
        {
          "output_type": "execute_result",
          "data": {
            "text/plain": [
              "{'17023287gd29904300iX': SumArray(SumArray(SumArray(SumArray(SumArray(SumArray(ProductCst(SumArray(end_17023287gd29904300iX_1(0..11000), ProductCst(start_17023287gd29904300iX_1(0..11000), -1), 0), 22), 0), ProductCst(SumArray(end_17023287gd29904300iX_2(0..11000), ProductCst(start_17023287gd29904300iX_2(0..11000), -1), 0), 20), 0), ProductCst(SumArray(end_17023287gd29904300iX_3(0..11000), ProductCst(start_17023287gd29904300iX_3(0..11000), -1), 0), 22), 0), ProductCst(SumArray(end_17023287gd29904300iX_4(0..11000), ProductCst(start_17023287gd29904300iX_4(0..11000), -1), 0), 30), 0), ProductCst(SumArray(end_17023287gd29904300iX_5(0..11000), ProductCst(start_17023287gd29904300iX_5(0..11000), -1), 0), 20), 0), ProductCst(SumArray(end_17023287gd29904300iX_6(0..11000), ProductCst(start_17023287gd29904300iX_6(0..11000), -1), 0), 20), 0),\n",
              " '17023287gd29907800iX': SumArray(SumArray(SumArray(SumArray(SumArray(SumArray(ProductCst(SumArray(end_17023287gd29907800iX_1(0..11000), ProductCst(start_17023287gd29907800iX_1(0..11000), -1), 0), 20), 0), ProductCst(SumArray(end_17023287gd29907800iX_2(0..11000), ProductCst(start_17023287gd29907800iX_2(0..11000), -1), 0), 20), 0), ProductCst(SumArray(end_17023287gd29907800iX_3(0..11000), ProductCst(start_17023287gd29907800iX_3(0..11000), -1), 0), 20), 0), 0), ProductCst(SumArray(end_17023287gd29907800iX_5(0..11000), ProductCst(start_17023287gd29907800iX_5(0..11000), -1), 0), 20), 0), ProductCst(SumArray(end_17023287gd29907800iX_6(0..11000), ProductCst(start_17023287gd29907800iX_6(0..11000), -1), 0), 20), 0),\n",
              " '17023287gd39000800iX': 0}"
            ]
          },
          "metadata": {
            "tags": []
          },
          "execution_count": 30
        }
      ]
    },
    {
      "cell_type": "code",
      "metadata": {
        "id": "Pk-0lBw-3c3g",
        "colab_type": "code",
        "colab": {
          "base_uri": "https://localhost:8080/",
          "height": 35
        },
        "outputId": "892db7d7-6006-485c-e305-8e9fd5b8a9dd"
      },
      "source": [
        "#Exploring Data\n",
        " \n",
        "from dtale import show\n",
        "import dtale.app as dtale_app\n",
        "dtale_app.USE_COLAB = True\n",
        "show(df)"
      ],
      "execution_count": null,
      "outputs": [
        {
          "output_type": "execute_result",
          "data": {
            "text/plain": [
              "https://n6ekujl3anh-496ff2e9c6d22116-40000-colab.googleusercontent.com/dtale/main/1"
            ]
          },
          "metadata": {
            "tags": []
          },
          "execution_count": 55
        }
      ]
    },
    {
      "cell_type": "code",
      "metadata": {
        "id": "niO4NG7l8_7d",
        "colab_type": "code",
        "colab": {
          "base_uri": "https://localhost:8080/",
          "height": 1000
        },
        "outputId": "fd5e38b2-bb77-4ce5-8083-622fcc684ff5"
      },
      "source": [
        "st={}\n",
        "en={}\n",
        "for m in mc:\n",
        "  for j in jobs:\n",
        "    st[j,m]=solver.Value(all_tasks[j,m].start)\n",
        "    en[j,m]=solver.Value(all_tasks[j,m].end)\n",
        "    #dur[j,m]=solver.Value(all_tasks[j,m].duration)\n",
        "en"
      ],
      "execution_count": 91,
      "outputs": [
        {
          "output_type": "execute_result",
          "data": {
            "text/plain": [
              "{('17023287gd29904300iX', 1): 216,\n",
              " ('17023287gd29904300iX', 2): 243,\n",
              " ('17023287gd29904300iX', 3): 216,\n",
              " ('17023287gd29904300iX', 4): 162,\n",
              " ('17023287gd29904300iX', 5): 243,\n",
              " ('17023287gd29904300iX', 6): 243,\n",
              " ('17023287gd29907800iX', 1): 324,\n",
              " ('17023287gd29907800iX', 2): 351,\n",
              " ('17023287gd29907800iX', 3): 324,\n",
              " ('17023287gd29907800iX', 4): 8802,\n",
              " ('17023287gd29907800iX', 5): 351,\n",
              " ('17023287gd29907800iX', 6): 351,\n",
              " ('17023287gd39000800iX', 1): 100324,\n",
              " ('17023287gd39000800iX', 2): 100351,\n",
              " ('17023287gd39000800iX', 3): 100324,\n",
              " ('17023287gd39000800iX', 4): 108802,\n",
              " ('17023287gd39000800iX', 5): 100351,\n",
              " ('17023287gd39000800iX', 6): 100351,\n",
              " ('17023287gd55102400iX', 1): 100724,\n",
              " ('17023287gd55102400iX', 2): 100801,\n",
              " ('17023287gd55102400iX', 3): 100724,\n",
              " ('17023287gd55102400iX', 4): 109102,\n",
              " ('17023287gd55102400iX', 5): 100801,\n",
              " ('17023287gd55102400iX', 6): 100801,\n",
              " ('17023335gd28001700iX', 1): 103605,\n",
              " ('17023335gd28001700iX', 2): 104296,\n",
              " ('17023335gd28001700iX', 3): 103605,\n",
              " ('17023335gd28001700iX', 4): 138747,\n",
              " ('17023335gd28001700iX', 5): 104296,\n",
              " ('17023335gd28001700iX', 6): 104296,\n",
              " ('17023335gd28013000iX', 1): 102726,\n",
              " ('17023335gd28013000iX', 2): 103109,\n",
              " ('17023335gd28013000iX', 3): 102726,\n",
              " ('17023335gd28013000iX', 4): 130250,\n",
              " ('17023335gd28013000iX', 5): 103109,\n",
              " ('17023335gd28013000iX', 6): 103109,\n",
              " ('17023335gd28018100iX', 1): 102859,\n",
              " ('17023335gd28018100iX', 2): 103242,\n",
              " ('17023335gd28018100iX', 3): 102859,\n",
              " ('17023335gd28018100iX', 4): 138250,\n",
              " ('17023335gd28018100iX', 5): 103242,\n",
              " ('17023335gd28018100iX', 6): 103242,\n",
              " ('17023335gd30212200iX', 1): 103698,\n",
              " ('17023335gd30212200iX', 2): 104389,\n",
              " ('17023335gd30212200iX', 3): 103698,\n",
              " ('17023335gd30212200iX', 4): 144347,\n",
              " ('17023335gd30212200iX', 5): 104389,\n",
              " ('17023335gd30212200iX', 6): 104389,\n",
              " ('17023439gd28311300iX', 1): 105961,\n",
              " ('17023439gd28311300iX', 2): 107398,\n",
              " ('17023439gd28311300iX', 3): 105961,\n",
              " ('17023439gd28311300iX', 4): 181555,\n",
              " ('17023439gd28311300iX', 5): 107398,\n",
              " ('17023439gd28311300iX', 6): 107398,\n",
              " ('17023440gd23010000gR', 1): 106194,\n",
              " ('17023440gd23010000gR', 2): 107631,\n",
              " ('17023440gd23010000gR', 3): 106194,\n",
              " ('17023440gd23010000gR', 4): 195555,\n",
              " ('17023440gd23010000gR', 5): 107631,\n",
              " ('17023440gd23010000gR', 6): 107631,\n",
              " ('17023572gd43208500iX', 1): 100892,\n",
              " ('17023572gd43208500iX', 2): 100990,\n",
              " ('17023572gd43208500iX', 3): 100892,\n",
              " ('17023572gd43208500iX', 4): 124222,\n",
              " ('17023572gd43208500iX', 5): 100990,\n",
              " ('17023572gd43208500iX', 6): 100990,\n",
              " ('17023636gd28001701iX', 1): 102651,\n",
              " ('17023636gd28001701iX', 2): 103034,\n",
              " ('17023636gd28001701iX', 3): 102651,\n",
              " ('17023636gd28001701iX', 4): 125750,\n",
              " ('17023636gd28001701iX', 5): 103034,\n",
              " ('17023636gd28001701iX', 6): 103034,\n",
              " ('17023636gd280043C0iX', 1): 101958,\n",
              " ('17023636gd280043C0iX', 2): 102056,\n",
              " ('17023636gd280043C0iX', 3): 101958,\n",
              " ('17023636gd280043C0iX', 4): 125288,\n",
              " ('17023636gd280043C0iX', 5): 102056,\n",
              " ('17023636gd280043C0iX', 6): 102056,\n",
              " ('17023637gd28001701iX', 1): 105191,\n",
              " ('17023637gd28001701iX', 2): 106497,\n",
              " ('17023637gd28001701iX', 3): 105191,\n",
              " ('17023637gd28001701iX', 4): 145342,\n",
              " ('17023637gd28001701iX', 5): 106497,\n",
              " ('17023637gd28001701iX', 6): 106497,\n",
              " ('17023637gd28002400iX', 1): 105511,\n",
              " ('17023637gd28002400iX', 2): 106948,\n",
              " ('17023637gd28002400iX', 3): 105511,\n",
              " ('17023637gd28002400iX', 4): 145555,\n",
              " ('17023637gd28002400iX', 5): 106948,\n",
              " ('17023637gd28002400iX', 6): 106948,\n",
              " ('4501763335gC25020000UC', 1): 108245,\n",
              " ('4501763335gC25020000UC', 2): 109682,\n",
              " ('4501763335gC25020000UC', 3): 108245,\n",
              " ('4501763335gC25020000UC', 4): 200655,\n",
              " ('4501763335gC25020000UC', 5): 109682,\n",
              " ('4501763335gC25020000UC', 6): 107748,\n",
              " ('4501763335gd23010000Ud', 1): 106209,\n",
              " ('4501763335gd23010000Ud', 2): 107646,\n",
              " ('4501763335gd23010000Ud', 3): 106209,\n",
              " ('4501763335gd23010000Ud', 4): 196495,\n",
              " ('4501763335gd23010000Ud', 5): 107646,\n",
              " ('4501763335gd23010000Ud', 6): 107646,\n",
              " ('4501763335gd251100C0Ud', 1): 106245,\n",
              " ('4501763335gd251100C0Ud', 2): 107682,\n",
              " ('4501763335gd251100C0Ud', 3): 106245,\n",
              " ('4501763335gd251100C0Ud', 4): 198655,\n",
              " ('4501763335gd251100C0Ud', 5): 107682,\n",
              " ('4501763335gd251100C0Ud', 6): 107682}"
            ]
          },
          "metadata": {
            "tags": []
          },
          "execution_count": 91
        }
      ]
    },
    {
      "cell_type": "code",
      "metadata": {
        "id": "UlRbBjJDGyMP",
        "colab_type": "code",
        "colab": {
          "base_uri": "https://localhost:8080/",
          "height": 1000
        },
        "outputId": "b56cd41c-5b68-4a52-d907-c5e7c43379cb"
      },
      "source": [
        "st"
      ],
      "execution_count": 92,
      "outputs": [
        {
          "output_type": "execute_result",
          "data": {
            "text/plain": [
              "{('17023287gd29904300iX', 1): 0,\n",
              " ('17023287gd29904300iX', 2): 0,\n",
              " ('17023287gd29904300iX', 3): 0,\n",
              " ('17023287gd29904300iX', 4): 0,\n",
              " ('17023287gd29904300iX', 5): 0,\n",
              " ('17023287gd29904300iX', 6): 0,\n",
              " ('17023287gd29907800iX', 1): 216,\n",
              " ('17023287gd29907800iX', 2): 243,\n",
              " ('17023287gd29907800iX', 3): 216,\n",
              " ('17023287gd29907800iX', 4): 162,\n",
              " ('17023287gd29907800iX', 5): 243,\n",
              " ('17023287gd29907800iX', 6): 243,\n",
              " ('17023287gd39000800iX', 1): 324,\n",
              " ('17023287gd39000800iX', 2): 351,\n",
              " ('17023287gd39000800iX', 3): 324,\n",
              " ('17023287gd39000800iX', 4): 8802,\n",
              " ('17023287gd39000800iX', 5): 351,\n",
              " ('17023287gd39000800iX', 6): 351,\n",
              " ('17023287gd55102400iX', 1): 100324,\n",
              " ('17023287gd55102400iX', 2): 100351,\n",
              " ('17023287gd55102400iX', 3): 100324,\n",
              " ('17023287gd55102400iX', 4): 108802,\n",
              " ('17023287gd55102400iX', 5): 100351,\n",
              " ('17023287gd55102400iX', 6): 100351,\n",
              " ('17023335gd28001700iX', 1): 102859,\n",
              " ('17023335gd28001700iX', 2): 103242,\n",
              " ('17023335gd28001700iX', 3): 102859,\n",
              " ('17023335gd28001700iX', 4): 138250,\n",
              " ('17023335gd28001700iX', 5): 103242,\n",
              " ('17023335gd28001700iX', 6): 103242,\n",
              " ('17023335gd28013000iX', 1): 102651,\n",
              " ('17023335gd28013000iX', 2): 103034,\n",
              " ('17023335gd28013000iX', 3): 102651,\n",
              " ('17023335gd28013000iX', 4): 125750,\n",
              " ('17023335gd28013000iX', 5): 103034,\n",
              " ('17023335gd28013000iX', 6): 103034,\n",
              " ('17023335gd28018100iX', 1): 102726,\n",
              " ('17023335gd28018100iX', 2): 103109,\n",
              " ('17023335gd28018100iX', 3): 102726,\n",
              " ('17023335gd28018100iX', 4): 130250,\n",
              " ('17023335gd28018100iX', 5): 103109,\n",
              " ('17023335gd28018100iX', 6): 103109,\n",
              " ('17023335gd30212200iX', 1): 103605,\n",
              " ('17023335gd30212200iX', 2): 104296,\n",
              " ('17023335gd30212200iX', 3): 103605,\n",
              " ('17023335gd30212200iX', 4): 138747,\n",
              " ('17023335gd30212200iX', 5): 104296,\n",
              " ('17023335gd30212200iX', 6): 104296,\n",
              " ('17023439gd28311300iX', 1): 105511,\n",
              " ('17023439gd28311300iX', 2): 106948,\n",
              " ('17023439gd28311300iX', 3): 105511,\n",
              " ('17023439gd28311300iX', 4): 145555,\n",
              " ('17023439gd28311300iX', 5): 106948,\n",
              " ('17023439gd28311300iX', 6): 106948,\n",
              " ('17023440gd23010000gR', 1): 105961,\n",
              " ('17023440gd23010000gR', 2): 107398,\n",
              " ('17023440gd23010000gR', 3): 105961,\n",
              " ('17023440gd23010000gR', 4): 181555,\n",
              " ('17023440gd23010000gR', 5): 107398,\n",
              " ('17023440gd23010000gR', 6): 107398,\n",
              " ('17023572gd43208500iX', 1): 100724,\n",
              " ('17023572gd43208500iX', 2): 100801,\n",
              " ('17023572gd43208500iX', 3): 100724,\n",
              " ('17023572gd43208500iX', 4): 109102,\n",
              " ('17023572gd43208500iX', 5): 100801,\n",
              " ('17023572gd43208500iX', 6): 100801,\n",
              " ('17023636gd28001701iX', 1): 101958,\n",
              " ('17023636gd28001701iX', 2): 102056,\n",
              " ('17023636gd28001701iX', 3): 101958,\n",
              " ('17023636gd28001701iX', 4): 125288,\n",
              " ('17023636gd28001701iX', 5): 102056,\n",
              " ('17023636gd28001701iX', 6): 102056,\n",
              " ('17023636gd280043C0iX', 1): 100892,\n",
              " ('17023636gd280043C0iX', 2): 100990,\n",
              " ('17023636gd280043C0iX', 3): 100892,\n",
              " ('17023636gd280043C0iX', 4): 124222,\n",
              " ('17023636gd280043C0iX', 5): 100990,\n",
              " ('17023636gd280043C0iX', 6): 100990,\n",
              " ('17023637gd28001701iX', 1): 103698,\n",
              " ('17023637gd28001701iX', 2): 104389,\n",
              " ('17023637gd28001701iX', 3): 103698,\n",
              " ('17023637gd28001701iX', 4): 144347,\n",
              " ('17023637gd28001701iX', 5): 104389,\n",
              " ('17023637gd28001701iX', 6): 104389,\n",
              " ('17023637gd28002400iX', 1): 105191,\n",
              " ('17023637gd28002400iX', 2): 106497,\n",
              " ('17023637gd28002400iX', 3): 105191,\n",
              " ('17023637gd28002400iX', 4): 145342,\n",
              " ('17023637gd28002400iX', 5): 106497,\n",
              " ('17023637gd28002400iX', 6): 106497,\n",
              " ('4501763335gC25020000UC', 1): 106245,\n",
              " ('4501763335gC25020000UC', 2): 107682,\n",
              " ('4501763335gC25020000UC', 3): 106245,\n",
              " ('4501763335gC25020000UC', 4): 198655,\n",
              " ('4501763335gC25020000UC', 5): 107682,\n",
              " ('4501763335gC25020000UC', 6): 107682,\n",
              " ('4501763335gd23010000Ud', 1): 106194,\n",
              " ('4501763335gd23010000Ud', 2): 107631,\n",
              " ('4501763335gd23010000Ud', 3): 106194,\n",
              " ('4501763335gd23010000Ud', 4): 195555,\n",
              " ('4501763335gd23010000Ud', 5): 107631,\n",
              " ('4501763335gd23010000Ud', 6): 107631,\n",
              " ('4501763335gd251100C0Ud', 1): 106209,\n",
              " ('4501763335gd251100C0Ud', 2): 107646,\n",
              " ('4501763335gd251100C0Ud', 3): 106209,\n",
              " ('4501763335gd251100C0Ud', 4): 196495,\n",
              " ('4501763335gd251100C0Ud', 5): 107646,\n",
              " ('4501763335gd251100C0Ud', 6): 107646}"
            ]
          },
          "metadata": {
            "tags": []
          },
          "execution_count": 92
        }
      ]
    },
    {
      "cell_type": "code",
      "metadata": {
        "id": "H-_Bgd_qIJIc",
        "colab_type": "code",
        "colab": {
          "base_uri": "https://localhost:8080/",
          "height": 34
        },
        "outputId": "953ad537-193c-4cc9-aaf6-fad727176db2"
      },
      "source": [
        "model = cp_model.CpModel()\n",
        "task_type = collections.namedtuple('task_type', 'start end duration')\n",
        "mtj = collections.defaultdict(list)\n",
        "all_tasks = {}\n",
        "for m in mc:\n",
        "  for j in jobs:  \n",
        "      suffix = '_%s_%i' % (j,m)\n",
        "      start = model.NewIntVar(0, horizon, \"start\"+suffix)\n",
        "      end = model.NewIntVar(0, horizon, \"end\"+suffix)\n",
        "      duration = model.NewIntervalVar(start, dur['duration'].loc[(j,m)], end, \"duration\"+suffix)\n",
        "      all_tasks[(j, m)] = task_type(start=start, end=end, duration=duration)\n",
        "      mtj[m].append(duration)\n",
        "\n",
        "for m in mc:\n",
        "    #mjob=[]\n",
        "    #mtj[m] = mjob\n",
        "    model.AddNoOverlap(mtj[m])\n",
        "\n",
        "com = {}\n",
        "for j in df['Key']:\n",
        "  tt= 0\n",
        "  for m in mc:\n",
        "    #model.Add((all_tasks[(j, m)].end-all_tasks[(j, m)].start)*dur['Output'].loc[(j,m)] >= df[df[\"Key\"]==j]['Order Qty'].values[0])\n",
        "    comp = (all_tasks[(j,m)].end - all_tasks[(j,m)].start)*dur[\"Output\"].loc[(j,m)]\n",
        "    tt = tt + comp\n",
        "  com[j] = tt\n",
        "  model.Add(com[j] >= df[df[\"Key\"]==j]['Order Qty'].values[0])\n",
        "    # Remove 0 from packing output, it is causing error\n",
        "\n",
        "com1 = {}\n",
        "for j in df['Key']:\n",
        "  tt= 0\n",
        "  for m in mc:\n",
        "    #model.Add((all_tasks[(j, m)].end-all_tasks[(j, m)].start)*dur['Output'].loc[(j,m)] >= df[df[\"Key\"]==j]['Order Qty'].values[0])\n",
        "    comp1 = (all_tasks[(j,m)].end - all_tasks[(j,m)].start)*dur[\"Output\"].loc[(j,m)]\n",
        "    tt = tt + comp1\n",
        "  com1[j] = tt\n",
        "  model.Add(com1[j] <= df[df[\"Key\"]==j]['Order Qty'].values[0]+300)\n",
        "\n",
        "delay = 0\n",
        "for j in df['Key']:\n",
        "  dd=[]\n",
        "  for m in mc:\n",
        "    dd.append(due['due'].loc[j]-all_tasks[(j, m)].end)\n",
        "  delay += max(dd)\n",
        "\n",
        "dummy = model.NewIntVar(-horizon, horizon, 'dummy')\n",
        "#dummy=0\n",
        "model.Add(delay<=dummy)\n",
        "model.Add(-delay<=dummy)"
      ],
      "execution_count": null,
      "outputs": [
        {
          "output_type": "execute_result",
          "data": {
            "text/plain": [
              "<ortools.sat.python.cp_model.Constraint at 0x7fb1631f7a58>"
            ]
          },
          "metadata": {
            "tags": []
          },
          "execution_count": 18
        }
      ]
    },
    {
      "cell_type": "code",
      "metadata": {
        "id": "D8MChwDryyRL",
        "colab_type": "code",
        "colab": {
          "base_uri": "https://localhost:8080/",
          "height": 35
        },
        "outputId": "95b91688-16f1-4923-afbc-7dcc74f13e07"
      },
      "source": [
        "model.Minimize(dummy)\n",
        "solver = cp_model.CpSolver()\n",
        "solver.Solve(model)\n",
        "solver.StatusName()"
      ],
      "execution_count": null,
      "outputs": [
        {
          "output_type": "execute_result",
          "data": {
            "application/vnd.google.colaboratory.intrinsic+json": {
              "type": "string"
            },
            "text/plain": [
              "'INFEASIBLE'"
            ]
          },
          "metadata": {
            "tags": []
          },
          "execution_count": 19
        }
      ]
    },
    {
      "cell_type": "code",
      "metadata": {
        "id": "O0RuA86tb26o",
        "colab_type": "code",
        "colab": {
          "base_uri": "https://localhost:8080/",
          "height": 54
        },
        "outputId": "dc27fd3f-4a05-4cf1-865b-092a60c461de"
      },
      "source": [
        "delay"
      ],
      "execution_count": null,
      "outputs": [
        {
          "output_type": "execute_result",
          "data": {
            "text/plain": [
              "SumArray(SumArray(SumArray(SumArray(SumArray(SumArray(SumArray(SumArray(SumArray(SumArray(SumArray(SumArray(SumArray(SumArray(SumArray(SumArray(SumArray(SumArray(SumArray(SumArray(SumArray(SumArray(SumArray(SumArray(SumArray(SumArray(SumArray(SumArray(SumArray(SumArray(SumArray(SumArray(SumArray(SumArray(SumArray(SumArray(SumArray(SumArray(SumArray(SumArray(SumArray(SumArray(SumArray(SumArray(SumArray(SumArray(SumArray(SumArray(SumArray(SumArray(SumArray(SumArray(SumArray(SumArray(SumArray(SumArray(SumArray(SumArray(SumArray(SumArray(SumArray(SumArray(SumArray(SumArray(SumArray(SumArray(SumArray(SumArray(SumArray(SumArray(SumArray(SumArray(SumArray(SumArray(SumArray(SumArray(SumArray(SumArray(SumArray(SumArray(SumArray(SumArray(SumArray(SumArray(SumArray(SumArray(SumArray(SumArray(SumArray(SumArray(SumArray(SumArray(SumArray(SumArray(SumArray(SumArray(SumArray(SumArray(SumArray(SumArray(SumArray(SumArray(SumArray(SumArray(SumArray(SumArray(SumArray(SumArray(SumArray(SumArray(SumArray(SumArray(SumArray(SumArray(SumArray(SumArray(SumArray(SumArray(SumArray(SumArray(SumArray(SumArray(SumArray(SumArray(SumArray(SumArray(SumArray(SumArray(SumArray(SumArray(SumArray(SumArray(SumArray(SumArray(SumArray(SumArray(SumArray(SumArray(SumArray(SumArray(SumArray(SumArray(SumArray(SumArray(SumArray(SumArray(SumArray(SumArray(SumArray(SumArray(SumArray(SumArray(SumArray(SumArray(SumArray(SumArray(SumArray(SumArray(SumArray(SumArray(SumArray(SumArray(SumArray(SumArray(SumArray(SumArray(SumArray(SumArray(SumArray(SumArray(SumArray(SumArray(SumArray(SumArray(SumArray(SumArray(SumArray(SumArray(SumArray(SumArray(SumArray(SumArray(SumArray(SumArray(SumArray(ProductCst(end_17023287gd29904300iX_6(0..1207), -1), 223), 0), SumArray(ProductCst(end_17023287gd29907800iX_6(0..1207), -1), 223), 0), SumArray(ProductCst(end_17023287gd39000800iX_6(0..1207), -1), 223), 0), SumArray(ProductCst(end_17023287gd55102400iX_6(0..1207), -1), 223), 0), SumArray(ProductCst(end_17023572gd43208500iX_6(0..1207), -1), 225), 0), SumArray(ProductCst(end_17023636gd280043C0iX_6(0..1207), -1), 225), 0), SumArray(ProductCst(end_17023636gd28001701iX_6(0..1207), -1), 225), 0), SumArray(ProductCst(end_17023335gd28013000iX_6(0..1207), -1), 230), 0), SumArray(ProductCst(end_17023335gd28018100iX_6(0..1207), -1), 230), 0), SumArray(ProductCst(end_17023335gd28001700iX_6(0..1207), -1), 230), 0), SumArray(ProductCst(end_17023335gd30212200iX_6(0..1207), -1), 230), 0), SumArray(ProductCst(end_17023637gd28001701iX_6(0..1207), -1), 230), 0), SumArray(ProductCst(end_17023637gd28002400iX_6(0..1207), -1), 230), 0), SumArray(ProductCst(end_17023439gd28311300iX_6(0..1207), -1), 231), 0), SumArray(ProductCst(end_17023440gd23010000gR_6(0..1207), -1), 231), 0), SumArray(ProductCst(end_4501763335gd23010000Ud_6(0..1207), -1), 236), 0), SumArray(ProductCst(end_4501763335gd251100C0Ud_6(0..1207), -1), 236), 0), SumArray(ProductCst(end_4501763335gC25020000UC_6(0..1207), -1), 236), 0), SumArray(ProductCst(end_4501729973L4gd24312000iX_6(0..1207), -1), 236), 0), SumArray(ProductCst(end_4501729973L5gd24312000iX_6(0..1207), -1), 236), 0), SumArray(ProductCst(end_17023433gd280078C0iX_6(0..1207), -1), 237), 0), SumArray(ProductCst(end_17023433gd28001701iX_6(0..1207), -1), 237), 0), SumArray(ProductCst(end_17023446gd35312500iX_6(0..1207), -1), 237), 0), SumArray(ProductCst(end_17023083gd58609000iX_6(0..1207), -1), 238), 0), SumArray(ProductCst(end_17023083gd58616000iX_6(0..1207), -1), 238), 0), SumArray(ProductCst(end_17023083gd58816000iX_6(0..1207), -1), 238), 0), SumArray(ProductCst(end_17023083gd58802500iX_6(0..1207), -1), 238), 0), SumArray(ProductCst(end_17023083gd58602500iX_6(0..1207), -1), 238), 0), SumArray(ProductCst(end_17023083gd58809000iX_6(0..1207), -1), 238), 0), SumArray(ProductCst(end_17023083gd59017000iX_6(0..1207), -1), 238), 0), SumArray(ProductCst(end_17023083gd59002500iX_6(0..1207), -1), 238), 0), SumArray(ProductCst(end_17023083gd59413000iX_6(0..1207), -1), 238), 0), SumArray(ProductCst(end_17023083gd59402500iX_6(0..1207), -1), 238), 0), SumArray(ProductCst(end_17023083gd59202500iX_6(0..1207), -1), 238), 0), SumArray(ProductCst(end_17023083gd59216000iX_6(0..1207), -1), 238), 0), SumArray(ProductCst(end_17023340gd43208500iX_6(0..1207), -1), 238), 0), SumArray(ProductCst(end_17023340gd43002400iX_6(0..1207), -1), 238), 0), SumArray(ProductCst(end_17023340gd28002400iX_6(0..1207), -1), 238), 0), SumArray(ProductCst(end_17023340gd280043C0iX_6(0..1207), -1), 238), 0), SumArray(ProductCst(end_17023340gd30212200iX_6(0..1207), -1), 238), 0), SumArray(ProductCst(end_17023438gd84107500iX_6(0..1207), -1), 238), 0), SumArray(ProductCst(end_17023623gd27305000iX_6(0..1207), -1), 238), 0), SumArray(ProductCst(end_17023434gd55102400iX_6(0..1207), -1), 239), 0), SumArray(ProductCst(end_17023434gd29907800iX_6(0..1207), -1), 239), 0), SumArray(ProductCst(end_17023434gd29913000iX_6(0..1207), -1), 239), 0), SumArray(ProductCst(end_17023434gd29901700iX_6(0..1207), -1), 239), 0), SumArray(ProductCst(end_4501763908gC22110000UC_6(0..1207), -1), 242), 0), SumArray(ProductCst(end_kprplkmgd23010001dm_6(0..1207), -1), 242), 0), SumArray(ProductCst(end_kprplkmgd23020000iX_6(0..1207), -1), 242), 0), SumArray(ProductCst(end_kprplkmgC25010000dm_6(0..1207), -1), 242), 0), SumArray(ProductCst(end_kprplkmgC25015000dm_6(0..1207), -1), 242), 0), SumArray(ProductCst(end_kprplkmgC25020000dm_6(0..1207), -1), 242), 0), SumArray(ProductCst(end_17021922gd30518101iX_6(0..1207), -1), 244), 0), SumArray(ProductCst(end_17023435gd30212200iX_6(0..1207), -1), 244), 0), SumArray(ProductCst(end_17023435gd30004300iX_6(0..1207), -1), 244), 0), SumArray(ProductCst(end_17023435gd28018100iX_6(0..1207), -1), 244), 0), SumArray(ProductCst(end_17023435gd28004300iX_6(0..1207), -1), 244), 0), SumArray(ProductCst(end_17023634gd28002400iX_6(0..1207), -1), 245), 0), SumArray(ProductCst(end_17023634gd28001700iX_6(0..1207), -1), 245), 0), SumArray(ProductCst(end_17023634gd28007800iX_6(0..1207), -1), 245), 0), SumArray(ProductCst(end_17023635gd28001701iX_6(0..1207), -1), 245), 0), SumArray(ProductCst(end_17023635gd28004300iX_6(0..1207), -1), 245), 0), SumArray(ProductCst(end_17023635gd280043C0iX_6(0..1207), -1), 245), 0), SumArray(ProductCst(end_17023503gd30212200iX_6(0..1207), -1), 246), 0), SumArray(ProductCst(end_17023124gC22215001QT_6(0..1207), -1), 247), 0), SumArray(ProductCst(end_17023124gC22315001QT_6(0..1207), -1), 247), 0), SumArray(ProductCst(end_17023124gC22115001QT_6(0..1207), -1), 247), 0), SumArray(ProductCst(end_17023124gC22415001QT_6(0..1207), -1), 247), 0), SumArray(ProductCst(end_17023124gC22515001QT_6(0..1207), -1), 247), 0), SumArray(ProductCst(end_17022242gd83413100iXdC_6(0..1207), -1), 250), 0), SumArray(ProductCst(end_17023647L1gd28001701iX_6(0..1207), -1), 251), 0), SumArray(ProductCst(end_17023647L2gd28001701iX_6(0..1207), -1), 251), 0), SumArray(ProductCst(end_4501770199gC25010000Ud_6(0..1207), -1), 252), 0), SumArray(ProductCst(end_4501770199gC25020000UC_6(0..1207), -1), 252), 0), SumArray(ProductCst(end_17023678gd29907800iX_6(0..1207), -1), 253), 0), SumArray(ProductCst(end_17023678gd29902400iX_6(0..1207), -1), 253), 0), SumArray(ProductCst(end_17023678gd32702400iX_6(0..1207), -1), 253), 0), SumArray(ProductCst(end_17023678gd29913000iX_6(0..1207), -1), 253), 0), SumArray(ProductCst(end_17023678gd29901700iX_6(0..1207), -1), 253), 0), SumArray(ProductCst(end_17023633gd30212200iX_6(0..1207), -1), 254), 0), SumArray(ProductCst(end_17023633gd43208500iX_6(0..1207), -1), 254), 0), SumArray(ProductCst(end_17023641gd55001700iX_6(0..1207), -1), 254), 0), SumArray(ProductCst(end_17023641gd55102400iX_6(0..1207), -1), 254), 0), SumArray(ProductCst(end_17023641gd43208500iX_6(0..1207), -1), 254), 0), SumArray(ProductCst(end_17023641gd43213000iX_6(0..1207), -1), 254), 0), SumArray(ProductCst(end_17023643gd263100H0iX_6(0..1207), -1), 258), 0), SumArray(ProductCst(end_17023643gd261100I0CZ_6(0..1207), -1), 258), 0), SumArray(ProductCst(end_17023644gd34705000CZ_6(0..1207), -1), 258), 0), SumArray(ProductCst(end_17023648gd28001701iX_6(0..1207), -1), 258), 0), SumArray(ProductCst(end_17023679gd30212200iX_6(0..1207), -1), 258), 0), SumArray(ProductCst(end_17023679gd28001701iX_6(0..1207), -1), 258), 0), SumArray(ProductCst(end_17023679gd28013000iX_6(0..1207), -1), 258), 0), SumArray(ProductCst(end_4501729973L7gd24312000iX_6(0..1207), -1), 259), 0), SumArray(ProductCst(end_17023649gd280078C0iX_6(0..1207), -1), 261), 0), SumArray(ProductCst(end_17023651gd28018100iX_6(0..1207), -1), 265), 0), SumArray(ProductCst(end_17023652gd28007800iX_6(0..1207), -1), 265), 0), SumArray(ProductCst(end_17023652gd28001700iX_6(0..1207), -1), 265), 0), SumArray(ProductCst(end_17023652gd55001700iX_6(0..1207), -1), 265), 0), SumArray(ProductCst(end_17023652gd55102400iX_6(0..1207), -1), 265), 0), SumArray(ProductCst(end_17023652gd43202400iX_6(0..1207), -1), 265), 0), SumArray(ProductCst(end_17023646gd280043C0iX_6(0..1207), -1), 266), 0), SumArray(ProductCst(end_17023646gd28002400iX_6(0..1207), -1), 266), 0), SumArray(ProductCst(end_17023656gd58609000iX_6(0..1207), -1), 266), 0), SumArray(ProductCst(end_17023656gd58616000iX_6(0..1207), -1), 266), 0), SumArray(ProductCst(end_17023656gd58816000iX_6(0..1207), -1), 266), 0), SumArray(ProductCst(end_17023656gd58809000iX_6(0..1207), -1), 266), 0), SumArray(ProductCst(end_17023656gd59017000iX_6(0..1207), -1), 266), 0), SumArray(ProductCst(end_17023656gd59413000iX_6(0..1207), -1), 266), 0), SumArray(ProductCst(end_17023656gd59216000iX_6(0..1207), -1), 266), 0), SumArray(ProductCst(end_4501729973L8gd24312000iX_6(0..1207), -1), 266), 0), SumArray(ProductCst(end_17023504gd30212200iX_6(0..1207), -1), 272), 0), SumArray(ProductCst(end_17023505gd28004300iX_6(0..1207), -1), 272), 0), SumArray(ProductCst(end_17023505gd28001701iX_6(0..1207), -1), 272), 0), SumArray(ProductCst(end_17023506gd28002400iX_6(0..1207), -1), 272), 0), SumArray(ProductCst(end_17023506gd28001701iX_6(0..1207), -1), 272), 0), SumArray(ProductCst(end_17023508gd26802400iX_6(0..1207), -1), 272), 0), SumArray(ProductCst(end_dky19plkmgd23010001dm_6(0..1207), -1), 272), 0), SumArray(ProductCst(end_dky19plkmgd23020000iX_6(0..1207), -1), 272), 0), SumArray(ProductCst(end_dky19plkmgC25010000dm_6(0..1207), -1), 272), 0), SumArray(ProductCst(end_dky19plkmgC25015000dm_6(0..1207), -1), 272), 0), SumArray(ProductCst(end_dky19plkmgC25020000dm_6(0..1207), -1), 272), 0), SumArray(ProductCst(end_17023507gd29904300iX_6(0..1207), -1), 273), 0), SumArray(ProductCst(end_17023507gd39000800iX_6(0..1207), -1), 273), 0), SumArray(ProductCst(end_17023507gd29907800iX_6(0..1207), -1), 273), 0), SumArray(ProductCst(end_4501729973L10gd24312000iX_6(0..1207), -1), 273), 0), SumArray(ProductCst(end_17023772gd33147300iX_6(0..1207), -1), 274), 0), SumArray(ProductCst(end_4501717192gC22310000UC_6(0..1207), -1), 277), 0), SumArray(ProductCst(end_17023457gd28004300iX_6(0..1207), -1), 279), 0), SumArray(ProductCst(end_17023457gd280078C0iX_6(0..1207), -1), 279), 0), SumArray(ProductCst(end_17023457gd28001700iX_6(0..1207), -1), 279), 0), SumArray(ProductCst(end_17023515gd60118101iX_6(0..1207), -1), 280), 0), SumArray(ProductCst(end_17023515gd60218101iX_6(0..1207), -1), 280), 0), SumArray(ProductCst(end_17023515gd60312200iX_6(0..1207), -1), 280), 0), SumArray(ProductCst(end_4501780248gd23010000Ud_6(0..1207), -1), 280), 0), SumArray(ProductCst(end_4501780248gd251100C0Ud_6(0..1207), -1), 280), 0), SumArray(ProductCst(end_4501780248gC25010000Ud_6(0..1207), -1), 280), 0), SumArray(ProductCst(end_4501780248gC25020000UC_6(0..1207), -1), 280), 0), SumArray(ProductCst(end_17023516gd53013300iX_6(0..1207), -1), 286), 0), SumArray(ProductCst(end_17023645gd51704000iX_6(0..1207), -1), 286), 0), SumArray(ProductCst(end_17023645gd51904000iX_6(0..1207), -1), 286), 0), SumArray(ProductCst(end_17023645gd51804000iX_6(0..1207), -1), 286), 0), SumArray(ProductCst(end_17023658gd58616000iX_6(0..1207), -1), 286), 0), SumArray(ProductCst(end_17023658gd58816000iX_6(0..1207), -1), 286), 0), SumArray(ProductCst(end_17023658gd58809000iX_6(0..1207), -1), 286), 0), SumArray(ProductCst(end_17023658gd59017000iX_6(0..1207), -1), 286), 0), SumArray(ProductCst(end_17023658gd59413000iX_6(0..1207), -1), 286), 0), SumArray(ProductCst(end_17023658gd59216000iX_6(0..1207), -1), 286), 0), SumArray(ProductCst(end_17023668gd280043C0iX_6(0..1207), -1), 286), 0), SumArray(ProductCst(end_17023668gd28013000iX_6(0..1207), -1), 286), 0), SumArray(ProductCst(end_17023668gd43213000iX_6(0..1207), -1), 286), 0), SumArray(ProductCst(end_17023668gd28001700iX_6(0..1207), -1), 286), 0), SumArray(ProductCst(end_17023669gd55001700iX_6(0..1207), -1), 289), 0), SumArray(ProductCst(end_17023669gd55102400iX_6(0..1207), -1), 289), 0), SumArray(ProductCst(end_17023669gd30212200iX_6(0..1207), -1), 289), 0), SumArray(ProductCst(end_17023466gd246100g0gJ_6(0..1207), -1), 290), 0), SumArray(ProductCst(end_17023466gd34110000gJ_6(0..1207), -1), 290), 0), SumArray(ProductCst(end_17023466gd34310000gJ_6(0..1207), -1), 290), 0), SumArray(ProductCst(end_17023466gd34210000gJ_6(0..1207), -1), 290), 0), SumArray(ProductCst(end_4501729973L9gd24312000iX_6(0..1207), -1), 290), 0), SumArray(ProductCst(end_17023535gd262100W0iX_6(0..1207), -1), 293), 0), SumArray(ProductCst(end_17023535gd263100H0iX_6(0..1207), -1), 293), 0), SumArray(ProductCst(end_17023881gd50012500iX_6(0..1207), -1), 293), 0), SumArray(ProductCst(end_17023825gd29904300iX_6(0..1207), -1), 294), 0), SumArray(ProductCst(end_17023825gd29902400iX_6(0..1207), -1), 294), 0), SumArray(ProductCst(end_17023825gd39000800iX_6(0..1207), -1), 294), 0), SumArray(ProductCst(end_17023923gd28004300iX_6(0..1207), -1), 294), 0), SumArray(ProductCst(end_17023923gd30212200iX_6(0..1207), -1), 294), 0), SumArray(ProductCst(end_17023975gd35112500iX_6(0..1207), -1), 294), 0), SumArray(ProductCst(end_17023975gd57812500iX_6(0..1207), -1), 294), 0), SumArray(ProductCst(end_17023534gd28001701iX_6(0..1207), -1), 301), 0), SumArray(ProductCst(end_Jum19plkmgd23005001dm_6(0..1207), -1), 303), 0), SumArray(ProductCst(end_Jum19plkmgd23010001dm_6(0..1207), -1), 303), 0), SumArray(ProductCst(end_Jum19plkmgd23020000iX_6(0..1207), -1), 303), 0), SumArray(ProductCst(end_Jum19plkmgC25005000dm_6(0..1207), -1), 303), 0), SumArray(ProductCst(end_Jum19plkmgC25010000dm_6(0..1207), -1), 303), 0), SumArray(ProductCst(end_Jum19plkmgC25015000dm_6(0..1207), -1), 303), 0), SumArray(ProductCst(end_Jum19plkmgC25020000dm_6(0..1207), -1), 303), 0), SumArray(ProductCst(end_4501729973L12gd24312000iX_6(0..1207), -1), 304), 0), SumArray(ProductCst(end_17023468gd280078C0iX_6(0..1207), -1), 307), 0), SumArray(ProductCst(end_17023468gd28007800iX_6(0..1207), -1), 307), 0), SumArray(ProductCst(end_17023468gd28001700iX_6(0..1207), -1), 307), 0), SumArray(ProductCst(end_17023833gd55001700iX_6(0..1207), -1), 307), 0), SumArray(ProductCst(end_17023833gd55102400iX_6(0..1207), -1), 307), 0), SumArray(ProductCst(end_17023833gd30212200iX_6(0..1207), -1), 307), 0)"
            ]
          },
          "metadata": {
            "tags": []
          },
          "execution_count": 21
        }
      ]
    },
    {
      "cell_type": "markdown",
      "metadata": {
        "id": "EcrQOnfJgYxd",
        "colab_type": "text"
      },
      "source": [
        "**Indices**  \n",
        "j - job  \n",
        "m - machine  \n",
        "\n",
        "**Decision Variable**  \n",
        "$s_{j,m}$ - start time of job j at machine m  \n",
        "$e_{j,m}$ - end time of job j at machine m  \n",
        "$d_{j,m}$ - duration of job j at machine m  \n",
        "\n",
        "**Parameters**  \n",
        "H - Horizon  \n",
        "$d_j$ - delivery date of job j  \n",
        "$q_j$ - order qty of job j  \n",
        "$o_{j,m}$ - output per hour of job j at machine m  \n",
        "\n",
        "**Objective**  \n",
        "$ \\sum_{j} d_j - max(e_{j,m})  \\qquad \\forall m \\in mc$  \n",
        "\n",
        "**Constraints**  \n",
        "$ \\sum_m e_{j,m} < s_{i,m} or s_{j,m} > e_{i,m} \\qquad \\forall j,i \\in jobs$  \n",
        "$ \\sum_j o_{j,m} \\times d_{j,m} >= q_j \\qquad \\forall m \\in ma $\n"
      ]
    }
  ]
}
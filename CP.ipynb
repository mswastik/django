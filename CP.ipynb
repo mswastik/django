{
  "nbformat": 4,
  "nbformat_minor": 0,
  "metadata": {
    "kernelspec": {
      "display_name": "Python 3",
      "language": "python",
      "name": "python3"
    },
    "language_info": {
      "codemirror_mode": {
        "name": "ipython",
        "version": 3
      },
      "file_extension": ".py",
      "mimetype": "text/x-python",
      "name": "python",
      "nbconvert_exporter": "python",
      "pygments_lexer": "ipython3",
      "version": "3.8.2"
    },
    "colab": {
      "name": "CP.ipynb",
      "provenance": []
    }
  },
  "cells": [
    {
      "cell_type": "code",
      "metadata": {
        "id": "ZAegf4MTD07x",
        "colab_type": "code",
        "colab": {
          "base_uri": "https://localhost:8080/",
          "height": 181
        },
        "outputId": "42c163b4-ffc4-4391-8887-294de32dce54"
      },
      "source": [
        "!pip install ortools\n",
        "#!pip install dtale"
      ],
      "execution_count": 1,
      "outputs": [
        {
          "output_type": "stream",
          "text": [
            "Collecting ortools\n",
            "\u001b[?25l  Downloading https://files.pythonhosted.org/packages/6c/e9/57ee68e41e02b00836dbe61a4f9679c953623168dcca3a84e2cd16a3e9b2/ortools-7.8.7959-cp36-cp36m-manylinux1_x86_64.whl (32.7MB)\n",
            "\u001b[K     |████████████████████████████████| 32.7MB 117kB/s \n",
            "\u001b[?25hRequirement already satisfied: six>=1.10 in /usr/local/lib/python3.6/dist-packages (from ortools) (1.15.0)\n",
            "Requirement already satisfied: protobuf>=3.12.2 in /usr/local/lib/python3.6/dist-packages (from ortools) (3.12.4)\n",
            "Requirement already satisfied: setuptools in /usr/local/lib/python3.6/dist-packages (from protobuf>=3.12.2->ortools) (49.6.0)\n",
            "Installing collected packages: ortools\n",
            "Successfully installed ortools-7.8.7959\n"
          ],
          "name": "stdout"
        }
      ]
    },
    {
      "cell_type": "code",
      "metadata": {
        "id": "sG_LW15bCHKH",
        "colab_type": "code",
        "colab": {
          "base_uri": "https://localhost:8080/",
          "height": 179
        },
        "outputId": "12eacd4e-3515-439b-eea6-368966a345cf"
      },
      "source": [
        "import pandas as pd\n",
        "import numpy as np\n",
        "import collections\n",
        "from ortools.sat.python import cp_model\n",
        "# Clone the entire repo.\n",
        "!git clone -l -s https://github.com/mswastik/optimization.git cloned-repo\n",
        "%cd cloned-repo"
      ],
      "execution_count": 2,
      "outputs": [
        {
          "output_type": "stream",
          "text": [
            "Cloning into 'cloned-repo'...\n",
            "warning: --local is ignored\n",
            "remote: Enumerating objects: 137, done.\u001b[K\n",
            "remote: Counting objects: 100% (137/137), done.\u001b[K\n",
            "remote: Compressing objects: 100% (133/133), done.\u001b[K\n",
            "remote: Total 137 (delta 49), reused 0 (delta 0), pack-reused 0\u001b[K\n",
            "Receiving objects: 100% (137/137), 2.13 MiB | 13.05 MiB/s, done.\n",
            "Resolving deltas: 100% (49/49), done.\n",
            "/content/cloned-repo\n"
          ],
          "name": "stdout"
        }
      ]
    },
    {
      "cell_type": "code",
      "metadata": {
        "id": "nUhA6-OCCHKV",
        "colab_type": "code",
        "colab": {}
      },
      "source": [
        "#Importing Data\n",
        "df=pd.read_excel('orders1.xlsx')\n",
        "ma=pd.read_excel('item master.xlsx')\n",
        "bu=pd.read_excel('item master.xlsx',sheet_name='bulk')\n",
        "pa=pd.read_excel('item master.xlsx',sheet_name='packing')\n",
        "\n",
        "# Formating Data\n",
        "df = df[df['Line']=='Tmmthpkhti Limi']\n",
        "df = df[df['Plant']==1024]\n",
        "del df['Line']\n",
        "df['due'] = df['Dispatch Date'] - df['SO Date'].min()\n",
        "df['due'] = df['due'].dt.days\n",
        "df['sodate'] = df['SO Date'] - df['SO Date'].min()\n",
        "df['sodate'] = df['sodate'].dt.days\n",
        "df.reset_index(inplace=True,drop=True)\n",
        "df['Key']=df['SO'].astype('str')+df['FG Code']\n",
        "del df['Dispatch Date']\n",
        "del df['SO Date']\n",
        "del df['Description']\n",
        "del df['Customer']\n",
        "df['Order Qty'] = df[df['Order Qty']!=0]['Order Qty']\n",
        "df['Order Qty'] = df['Order Qty']*1000\n",
        "df=df[df['Key']!='17023287gd39000800iX']\n",
        "\n",
        "\n",
        "# Creating Parameter Data\n",
        "jobs =df['Key']\n",
        "op =[1,2,3,4]  # Ignore as of now\n",
        "mc = [1,2,3,4,5,6]\n",
        "#horizon = max(df[\"due\"])+900\n",
        "due = df.set_index('Key')\n",
        "dur=df[['Key','FG Code','Order Qty']]\n",
        "dur=dur.merge(pa[[\"FG Code\",\"Line\",\"Output\"]], on=\"FG Code\")\n",
        "dur['Output']=dur['Output']*100\n",
        "dur['duration']=dur['Order Qty']/dur['Output']\n",
        "dur['duration'] = dur['duration'].astype('float64').round(decimals = 2)\n",
        "dur.set_index(['Key','Line'],inplace=True)\n",
        "del dur['FG Code']\n",
        "dur['Output'].replace(0,1,inplace=True)\n",
        "df['Order Qty']=df['Order Qty'].fillna(0).astype('int')\n",
        "dur['duration']=dur['duration'].fillna(0).astype('int')\n",
        "dur['Output']=dur['Output'].fillna(0).astype('int')\n",
        "horizon = max(dur['duration']*100)"
      ],
      "execution_count": 3,
      "outputs": []
    },
    {
      "cell_type": "code",
      "metadata": {
        "id": "nYDxWHnS6Z7Z",
        "colab_type": "code",
        "colab": {}
      },
      "source": [
        "#Testing\n",
        "#dur['duration'].loc[('17023287gd29904300iX',1)]\n",
        "#dur\n",
        "setup = pd.DataFrame(columns=('Key1','Key2','setup'))\n",
        "for i in df['Key']:\n",
        "  for k in df['Key']:\n",
        "    if df[df['Key']==i][\"FG Code\"].values[0]==df[df['Key']==k][\"FG Code\"].values[0]:\n",
        "      f = {'Key1':[i],\"Key2\":[k],\"setup\":[0]}\n",
        "    else:\n",
        "      f = {'Key1':[i],\"Key2\":[k],\"setup\":[40]}\n",
        "    f = pd.DataFrame(data=f)\n",
        "    setup = pd.concat([setup,f])\n",
        "setup.set_index(['Key1','Key2'],inplace=True)"
      ],
      "execution_count": 4,
      "outputs": []
    },
    {
      "cell_type": "code",
      "metadata": {
        "id": "jdPaFS7LENV-",
        "colab_type": "code",
        "colab": {
          "base_uri": "https://localhost:8080/",
          "height": 35
        },
        "outputId": "2cd9c55d-7555-415a-b73b-5d6b4f18b2cc"
      },
      "source": [
        "setup.loc[('17023287gd29904300iX','17023287gd29907800iX')].values[0]"
      ],
      "execution_count": null,
      "outputs": [
        {
          "output_type": "execute_result",
          "data": {
            "text/plain": [
              "40"
            ]
          },
          "metadata": {
            "tags": []
          },
          "execution_count": 5
        }
      ]
    },
    {
      "cell_type": "code",
      "metadata": {
        "id": "2kluFz3V77yw",
        "colab_type": "code",
        "colab": {}
      },
      "source": [
        "model = cp_model.CpModel()\n",
        "task_type = collections.namedtuple('task_type', 'start end duration run1')\n",
        "mtj = collections.defaultdict(list)\n",
        "all_tasks = {}\n",
        "\n",
        "for j in jobs:\n",
        "  for m in mc:\n",
        "      suffix = '_%s_%i' % (j,m)\n",
        "      start = model.NewIntVar(0, horizon, \"start\"+suffix)\n",
        "      end = model.NewIntVar(0, horizon, \"end\"+suffix)\n",
        "      run1 = model.NewIntVar(0, dur['duration'].loc[(j,m)].item(), \"run\"+suffix)\n",
        "      duration = model.NewIntervalVar(start, run1, end, \"duration\"+suffix)\n",
        "      all_tasks[j, m] = task_type(start=start, end=end, duration=duration, run1=run1)\n",
        "      mtj[m].append(duration)\n",
        " \n",
        "for m in mc:\n",
        "  model.AddNoOverlap(mtj[m])\n",
        "\n",
        "com = {}\n",
        "for j in jobs:\n",
        "  tt= 0\n",
        "  for m in mc:\n",
        "    comp = all_tasks[j,m].run1*dur[\"Output\"].loc[(j,m)]\n",
        "    tt = tt + comp\n",
        "  com[j] = tt\n",
        "  model.Add(com[j]*10 >= df[df[\"Key\"]==j]['Order Qty'].values[0])\n",
        "\n",
        "\n",
        "a={}\n",
        "for i in jobs:\n",
        "  for k in jobs:\n",
        "    for m in mc:\n",
        "      a[i,k,m] = model.NewBoolVar('previous')\n",
        "      \n",
        "for i in jobs:\n",
        "  for k in jobs:\n",
        "    for m in mc:\n",
        "      model.AddBoolOr([a[i,k,m],a[k,i,m]])\n",
        "      model.Add(all_tasks[k, m].start - all_tasks[i, m].end >= setup.loc[(i,k)].values[0]).OnlyEnforceIf(a[i,k,m])\n",
        "      model.Add(all_tasks[i, m].start - all_tasks[k, m].end >= setup.loc[(i,k)].values[0]).OnlyEnforceIf(a[i,k,m].Not())\n",
        "\n",
        "'''\n",
        "#com1 = {}\n",
        "#for j in df['Key']:\n",
        "#  tt= 0\n",
        "#  for m in mc:\n",
        "#    comp1 = (all_tasks[j,m].end - all_tasks[j,m].start)*dur[\"Output\"].loc[(j,m)]\n",
        "#    tt = tt + comp1\n",
        "#  com1[j] = tt\n",
        "#  model.Add(com1[j]*10 <= df[df[\"Key\"]==j]['Order Qty'].values[0]+500)\n",
        "'''\n",
        "\n",
        "ck = model.NewIntVar(-horizon, horizon, 'dummy')\n",
        "model.AddMaxEquality(ck,[all_tasks[j,m].end for j in jobs for m in mc])\n",
        "\n",
        "model.Minimize(ck)\n",
        "solver = cp_model.CpSolver()\n",
        "solver.Solve(model)\n",
        "solver.StatusName()\n",
        "#solver.ObjectiveValue()"
      ],
      "execution_count": null,
      "outputs": []
    },
    {
      "cell_type": "code",
      "metadata": {
        "id": "r5RELoZFn13v",
        "colab_type": "code",
        "colab": {
          "base_uri": "https://localhost:8080/",
          "height": 35
        },
        "outputId": "82aff5ec-a0b3-4f23-c59e-f4b1811cf10a"
      },
      "source": [
        "a"
      ],
      "execution_count": 13,
      "outputs": [
        {
          "output_type": "execute_result",
          "data": {
            "text/plain": [
              "{('17023287gd29904300iX', '17023287gd29904300iX', 1): previous(0..1)}"
            ]
          },
          "metadata": {
            "tags": []
          },
          "execution_count": 13
        }
      ]
    },
    {
      "cell_type": "code",
      "metadata": {
        "id": "niO4NG7l8_7d",
        "colab_type": "code",
        "colab": {
          "base_uri": "https://localhost:8080/",
          "height": 391
        },
        "outputId": "16425ede-e252-4620-8a64-9ced3b38f31e"
      },
      "source": [
        "st={}\n",
        "en={}\n",
        "for m in mc:\n",
        "  for j in jobs:\n",
        "    st[j,m]=solver.Value(all_tasks[j,m].start)\n",
        "    en[j,m]=solver.Value(all_tasks[j,m].end)\n",
        "    #dur[j,m]=solver.Value(all_tasks[j,m].duration)\n",
        "en"
      ],
      "execution_count": null,
      "outputs": [
        {
          "output_type": "error",
          "ename": "IndexError",
          "evalue": "ignored",
          "traceback": [
            "\u001b[0;31m---------------------------------------------------------------------------\u001b[0m",
            "\u001b[0;31mIndexError\u001b[0m                                Traceback (most recent call last)",
            "\u001b[0;32m<ipython-input-18-612122f884bb>\u001b[0m in \u001b[0;36m<module>\u001b[0;34m()\u001b[0m\n\u001b[1;32m      3\u001b[0m \u001b[0;32mfor\u001b[0m \u001b[0mm\u001b[0m \u001b[0;32min\u001b[0m \u001b[0mmc\u001b[0m\u001b[0;34m:\u001b[0m\u001b[0;34m\u001b[0m\u001b[0;34m\u001b[0m\u001b[0m\n\u001b[1;32m      4\u001b[0m   \u001b[0;32mfor\u001b[0m \u001b[0mj\u001b[0m \u001b[0;32min\u001b[0m \u001b[0mjobs\u001b[0m\u001b[0;34m:\u001b[0m\u001b[0;34m\u001b[0m\u001b[0;34m\u001b[0m\u001b[0m\n\u001b[0;32m----> 5\u001b[0;31m     \u001b[0mst\u001b[0m\u001b[0;34m[\u001b[0m\u001b[0mj\u001b[0m\u001b[0;34m,\u001b[0m\u001b[0mm\u001b[0m\u001b[0;34m]\u001b[0m\u001b[0;34m=\u001b[0m\u001b[0msolver\u001b[0m\u001b[0;34m.\u001b[0m\u001b[0mValue\u001b[0m\u001b[0;34m(\u001b[0m\u001b[0mall_tasks\u001b[0m\u001b[0;34m[\u001b[0m\u001b[0mj\u001b[0m\u001b[0;34m,\u001b[0m\u001b[0mm\u001b[0m\u001b[0;34m]\u001b[0m\u001b[0;34m.\u001b[0m\u001b[0mstart\u001b[0m\u001b[0;34m)\u001b[0m\u001b[0;34m\u001b[0m\u001b[0;34m\u001b[0m\u001b[0m\n\u001b[0m\u001b[1;32m      6\u001b[0m     \u001b[0men\u001b[0m\u001b[0;34m[\u001b[0m\u001b[0mj\u001b[0m\u001b[0;34m,\u001b[0m\u001b[0mm\u001b[0m\u001b[0;34m]\u001b[0m\u001b[0;34m=\u001b[0m\u001b[0msolver\u001b[0m\u001b[0;34m.\u001b[0m\u001b[0mValue\u001b[0m\u001b[0;34m(\u001b[0m\u001b[0mall_tasks\u001b[0m\u001b[0;34m[\u001b[0m\u001b[0mj\u001b[0m\u001b[0;34m,\u001b[0m\u001b[0mm\u001b[0m\u001b[0;34m]\u001b[0m\u001b[0;34m.\u001b[0m\u001b[0mend\u001b[0m\u001b[0;34m)\u001b[0m\u001b[0;34m\u001b[0m\u001b[0;34m\u001b[0m\u001b[0m\n\u001b[1;32m      7\u001b[0m     \u001b[0;31m#dur[j,m]=solver.Value(all_tasks[j,m].duration)\u001b[0m\u001b[0;34m\u001b[0m\u001b[0;34m\u001b[0m\u001b[0;34m\u001b[0m\u001b[0m\n",
            "\u001b[0;32m/usr/local/lib/python3.6/dist-packages/ortools/sat/python/cp_model.py\u001b[0m in \u001b[0;36mValue\u001b[0;34m(self, expression)\u001b[0m\n\u001b[1;32m   1631\u001b[0m         \u001b[0;32mif\u001b[0m \u001b[0;32mnot\u001b[0m \u001b[0mself\u001b[0m\u001b[0;34m.\u001b[0m\u001b[0m__solution\u001b[0m\u001b[0;34m:\u001b[0m\u001b[0;34m\u001b[0m\u001b[0;34m\u001b[0m\u001b[0m\n\u001b[1;32m   1632\u001b[0m             \u001b[0;32mraise\u001b[0m \u001b[0mRuntimeError\u001b[0m\u001b[0;34m(\u001b[0m\u001b[0;34m'Solve() has not be called.'\u001b[0m\u001b[0;34m)\u001b[0m\u001b[0;34m\u001b[0m\u001b[0;34m\u001b[0m\u001b[0m\n\u001b[0;32m-> 1633\u001b[0;31m         \u001b[0;32mreturn\u001b[0m \u001b[0mEvaluateLinearExpr\u001b[0m\u001b[0;34m(\u001b[0m\u001b[0mexpression\u001b[0m\u001b[0;34m,\u001b[0m \u001b[0mself\u001b[0m\u001b[0;34m.\u001b[0m\u001b[0m__solution\u001b[0m\u001b[0;34m)\u001b[0m\u001b[0;34m\u001b[0m\u001b[0;34m\u001b[0m\u001b[0m\n\u001b[0m\u001b[1;32m   1634\u001b[0m \u001b[0;34m\u001b[0m\u001b[0m\n\u001b[1;32m   1635\u001b[0m     \u001b[0;32mdef\u001b[0m \u001b[0mBooleanValue\u001b[0m\u001b[0;34m(\u001b[0m\u001b[0mself\u001b[0m\u001b[0;34m,\u001b[0m \u001b[0mliteral\u001b[0m\u001b[0;34m)\u001b[0m\u001b[0;34m:\u001b[0m\u001b[0;34m\u001b[0m\u001b[0;34m\u001b[0m\u001b[0m\n",
            "\u001b[0;32m/usr/local/lib/python3.6/dist-packages/ortools/sat/python/cp_model.py\u001b[0m in \u001b[0;36mEvaluateLinearExpr\u001b[0;34m(expression, solution)\u001b[0m\n\u001b[1;32m   1544\u001b[0m             \u001b[0mvalue\u001b[0m \u001b[0;34m+=\u001b[0m \u001b[0mexpr\u001b[0m\u001b[0;34m.\u001b[0m\u001b[0mConstant\u001b[0m\u001b[0;34m(\u001b[0m\u001b[0;34m)\u001b[0m \u001b[0;34m*\u001b[0m \u001b[0mcoef\u001b[0m\u001b[0;34m\u001b[0m\u001b[0;34m\u001b[0m\u001b[0m\n\u001b[1;32m   1545\u001b[0m         \u001b[0;32melif\u001b[0m \u001b[0misinstance\u001b[0m\u001b[0;34m(\u001b[0m\u001b[0mexpr\u001b[0m\u001b[0;34m,\u001b[0m \u001b[0mIntVar\u001b[0m\u001b[0;34m)\u001b[0m\u001b[0;34m:\u001b[0m\u001b[0;34m\u001b[0m\u001b[0;34m\u001b[0m\u001b[0m\n\u001b[0;32m-> 1546\u001b[0;31m             \u001b[0mvalue\u001b[0m \u001b[0;34m+=\u001b[0m \u001b[0mcoef\u001b[0m \u001b[0;34m*\u001b[0m \u001b[0msolution\u001b[0m\u001b[0;34m.\u001b[0m\u001b[0msolution\u001b[0m\u001b[0;34m[\u001b[0m\u001b[0mexpr\u001b[0m\u001b[0;34m.\u001b[0m\u001b[0mIndex\u001b[0m\u001b[0;34m(\u001b[0m\u001b[0;34m)\u001b[0m\u001b[0;34m]\u001b[0m\u001b[0;34m\u001b[0m\u001b[0;34m\u001b[0m\u001b[0m\n\u001b[0m\u001b[1;32m   1547\u001b[0m         \u001b[0;32melif\u001b[0m \u001b[0misinstance\u001b[0m\u001b[0;34m(\u001b[0m\u001b[0mexpr\u001b[0m\u001b[0;34m,\u001b[0m \u001b[0m_NotBooleanVariable\u001b[0m\u001b[0;34m)\u001b[0m\u001b[0;34m:\u001b[0m\u001b[0;34m\u001b[0m\u001b[0;34m\u001b[0m\u001b[0m\n\u001b[1;32m   1548\u001b[0m             \u001b[0mvalue\u001b[0m \u001b[0;34m+=\u001b[0m \u001b[0mcoef\u001b[0m \u001b[0;34m*\u001b[0m \u001b[0;34m(\u001b[0m\u001b[0;36m1\u001b[0m \u001b[0;34m-\u001b[0m \u001b[0msolution\u001b[0m\u001b[0;34m.\u001b[0m\u001b[0msolution\u001b[0m\u001b[0;34m[\u001b[0m\u001b[0mexpr\u001b[0m\u001b[0;34m.\u001b[0m\u001b[0mNot\u001b[0m\u001b[0;34m(\u001b[0m\u001b[0;34m)\u001b[0m\u001b[0;34m.\u001b[0m\u001b[0mIndex\u001b[0m\u001b[0;34m(\u001b[0m\u001b[0;34m)\u001b[0m\u001b[0;34m]\u001b[0m\u001b[0;34m)\u001b[0m\u001b[0;34m\u001b[0m\u001b[0;34m\u001b[0m\u001b[0m\n",
            "\u001b[0;31mIndexError\u001b[0m: list index (0) out of range"
          ]
        }
      ]
    },
    {
      "cell_type": "code",
      "metadata": {
        "id": "UlRbBjJDGyMP",
        "colab_type": "code",
        "colab": {
          "base_uri": "https://localhost:8080/",
          "height": 1000
        },
        "outputId": "63b88780-5638-432c-ad06-21bc335f6103"
      },
      "source": [
        "st"
      ],
      "execution_count": null,
      "outputs": [
        {
          "output_type": "execute_result",
          "data": {
            "text/plain": [
              "{('17023287gd29904300iX', 1): 0,\n",
              " ('17023287gd29904300iX', 2): 71,\n",
              " ('17023287gd29904300iX', 3): 102,\n",
              " ('17023287gd29904300iX', 4): 17,\n",
              " ('17023287gd29904300iX', 5): 18,\n",
              " ('17023287gd29904300iX', 6): 0,\n",
              " ('17023287gd29907800iX', 1): 5,\n",
              " ('17023287gd29907800iX', 2): 26,\n",
              " ('17023287gd29907800iX', 3): 102,\n",
              " ('17023287gd29907800iX', 4): 41,\n",
              " ('17023287gd29907800iX', 5): 9,\n",
              " ('17023287gd29907800iX', 6): 74,\n",
              " ('17023287gd55102400iX', 1): 12,\n",
              " ('17023287gd55102400iX', 2): 25,\n",
              " ('17023287gd55102400iX', 3): 2,\n",
              " ('17023287gd55102400iX', 4): 0,\n",
              " ('17023287gd55102400iX', 5): 0,\n",
              " ('17023287gd55102400iX', 6): 0,\n",
              " ('17023335gd28001700iX', 1): 22,\n",
              " ('17023335gd28001700iX', 2): 6,\n",
              " ('17023335gd28001700iX', 3): 3,\n",
              " ('17023335gd28001700iX', 4): 69,\n",
              " ('17023335gd28001700iX', 5): 18,\n",
              " ('17023335gd28001700iX', 6): 0,\n",
              " ('17023335gd28013000iX', 1): 0,\n",
              " ('17023335gd28013000iX', 2): 17,\n",
              " ('17023335gd28013000iX', 3): 2,\n",
              " ('17023335gd28013000iX', 4): 102,\n",
              " ('17023335gd28013000iX', 5): 47,\n",
              " ('17023335gd28013000iX', 6): 0,\n",
              " ('17023335gd28018100iX', 1): 22,\n",
              " ('17023335gd28018100iX', 2): 51,\n",
              " ('17023335gd28018100iX', 3): 102,\n",
              " ('17023335gd28018100iX', 4): 41,\n",
              " ('17023335gd28018100iX', 5): 13,\n",
              " ('17023335gd28018100iX', 6): 102,\n",
              " ('17023335gd30212200iX', 1): 92,\n",
              " ('17023335gd30212200iX', 2): 98,\n",
              " ('17023335gd30212200iX', 3): 102,\n",
              " ('17023335gd30212200iX', 4): 0,\n",
              " ('17023335gd30212200iX', 5): 13,\n",
              " ('17023335gd30212200iX', 6): 74,\n",
              " ('17023439gd28311300iX', 1): 101,\n",
              " ('17023439gd28311300iX', 2): 26,\n",
              " ('17023439gd28311300iX', 3): 0,\n",
              " ('17023439gd28311300iX', 4): 102,\n",
              " ('17023439gd28311300iX', 5): 73,\n",
              " ('17023439gd28311300iX', 6): 0,\n",
              " ('17023440gd23010000gR', 1): 4,\n",
              " ('17023440gd23010000gR', 2): 49,\n",
              " ('17023440gd23010000gR', 3): 2,\n",
              " ('17023440gd23010000gR', 4): 17,\n",
              " ('17023440gd23010000gR', 5): 47,\n",
              " ('17023440gd23010000gR', 6): 74,\n",
              " ('17023572gd43208500iX', 1): 93,\n",
              " ('17023572gd43208500iX', 2): 66,\n",
              " ('17023572gd43208500iX', 3): 102,\n",
              " ('17023572gd43208500iX', 4): 102,\n",
              " ('17023572gd43208500iX', 5): 94,\n",
              " ('17023572gd43208500iX', 6): 74,\n",
              " ('17023636gd28001701iX', 1): 40,\n",
              " ('17023636gd28001701iX', 2): 1,\n",
              " ('17023636gd28001701iX', 3): 2,\n",
              " ('17023636gd28001701iX', 4): 41,\n",
              " ('17023636gd28001701iX', 5): 33,\n",
              " ('17023636gd28001701iX', 6): 0,\n",
              " ('17023636gd280043C0iX', 1): 0,\n",
              " ('17023636gd280043C0iX', 2): 65,\n",
              " ('17023636gd280043C0iX', 3): 0,\n",
              " ('17023636gd280043C0iX', 4): 19,\n",
              " ('17023636gd280043C0iX', 5): 47,\n",
              " ('17023636gd280043C0iX', 6): 0,\n",
              " ('17023637gd28001701iX', 1): 0,\n",
              " ('17023637gd28001701iX', 2): 78,\n",
              " ('17023637gd28001701iX', 3): 3,\n",
              " ('17023637gd28001701iX', 4): 43,\n",
              " ('17023637gd28001701iX', 5): 0,\n",
              " ('17023637gd28001701iX', 6): 0,\n",
              " ('17023637gd28002400iX', 1): 0,\n",
              " ('17023637gd28002400iX', 2): 51,\n",
              " ('17023637gd28002400iX', 3): 0,\n",
              " ('17023637gd28002400iX', 4): 20,\n",
              " ('17023637gd28002400iX', 5): 0,\n",
              " ('17023637gd28002400iX', 6): 73,\n",
              " ('4501763335gC25020000UC', 1): 92,\n",
              " ('4501763335gC25020000UC', 2): 0,\n",
              " ('4501763335gC25020000UC', 3): 3,\n",
              " ('4501763335gC25020000UC', 4): 102,\n",
              " ('4501763335gC25020000UC', 5): 102,\n",
              " ('4501763335gC25020000UC', 6): 95,\n",
              " ('4501763335gd23010000Ud', 1): 4,\n",
              " ('4501763335gd23010000Ud', 2): 94,\n",
              " ('4501763335gd23010000Ud', 3): 3,\n",
              " ('4501763335gd23010000Ud', 4): 102,\n",
              " ('4501763335gd23010000Ud', 5): 102,\n",
              " ('4501763335gd23010000Ud', 6): 73,\n",
              " ('4501763335gd251100C0Ud', 1): 101,\n",
              " ('4501763335gd251100C0Ud', 2): 0,\n",
              " ('4501763335gd251100C0Ud', 3): 102,\n",
              " ('4501763335gd251100C0Ud', 4): 0,\n",
              " ('4501763335gd251100C0Ud', 5): 99,\n",
              " ('4501763335gd251100C0Ud', 6): 0}"
            ]
          },
          "metadata": {
            "tags": []
          },
          "execution_count": 21
        }
      ]
    },
    {
      "cell_type": "code",
      "metadata": {
        "id": "Pk-0lBw-3c3g",
        "colab_type": "code",
        "colab": {
          "base_uri": "https://localhost:8080/",
          "height": 35
        },
        "outputId": "892db7d7-6006-485c-e305-8e9fd5b8a9dd"
      },
      "source": [
        "#Exploring Data\n",
        " \n",
        "from dtale import show\n",
        "import dtale.app as dtale_app\n",
        "dtale_app.USE_COLAB = True\n",
        "show(df)"
      ],
      "execution_count": null,
      "outputs": [
        {
          "output_type": "execute_result",
          "data": {
            "text/plain": [
              "https://n6ekujl3anh-496ff2e9c6d22116-40000-colab.googleusercontent.com/dtale/main/1"
            ]
          },
          "metadata": {
            "tags": []
          },
          "execution_count": 55
        }
      ]
    },
    {
      "cell_type": "code",
      "metadata": {
        "id": "H-_Bgd_qIJIc",
        "colab_type": "code",
        "colab": {
          "base_uri": "https://localhost:8080/",
          "height": 34
        },
        "outputId": "953ad537-193c-4cc9-aaf6-fad727176db2"
      },
      "source": [
        "model = cp_model.CpModel()\n",
        "task_type = collections.namedtuple('task_type', 'start end duration')\n",
        "mtj = collections.defaultdict(list)\n",
        "all_tasks = {}\n",
        "for m in mc:\n",
        "  for j in jobs:  \n",
        "      suffix = '_%s_%i' % (j,m)\n",
        "      start = model.NewIntVar(0, horizon, \"start\"+suffix)\n",
        "      end = model.NewIntVar(0, horizon, \"end\"+suffix)\n",
        "      duration = model.NewIntervalVar(start, dur['duration'].loc[(j,m)], end, \"duration\"+suffix)\n",
        "      all_tasks[(j, m)] = task_type(start=start, end=end, duration=duration)\n",
        "      mtj[m].append(duration)\n",
        "\n",
        "for m in mc:\n",
        "    #mjob=[]\n",
        "    #mtj[m] = mjob\n",
        "    model.AddNoOverlap(mtj[m])\n",
        "\n",
        "com = {}\n",
        "for j in df['Key']:\n",
        "  tt= 0\n",
        "  for m in mc:\n",
        "    #model.Add((all_tasks[(j, m)].end-all_tasks[(j, m)].start)*dur['Output'].loc[(j,m)] >= df[df[\"Key\"]==j]['Order Qty'].values[0])\n",
        "    comp = (all_tasks[(j,m)].end - all_tasks[(j,m)].start)*dur[\"Output\"].loc[(j,m)]\n",
        "    tt = tt + comp\n",
        "  com[j] = tt\n",
        "  model.Add(com[j] >= df[df[\"Key\"]==j]['Order Qty'].values[0])\n",
        "    # Remove 0 from packing output, it is causing error\n",
        "\n",
        "com1 = {}\n",
        "for j in df['Key']:\n",
        "  tt= 0\n",
        "  for m in mc:\n",
        "    #model.Add((all_tasks[(j, m)].end-all_tasks[(j, m)].start)*dur['Output'].loc[(j,m)] >= df[df[\"Key\"]==j]['Order Qty'].values[0])\n",
        "    comp1 = (all_tasks[(j,m)].end - all_tasks[(j,m)].start)*dur[\"Output\"].loc[(j,m)]\n",
        "    tt = tt + comp1\n",
        "  com1[j] = tt\n",
        "  model.Add(com1[j] <= df[df[\"Key\"]==j]['Order Qty'].values[0]+300)\n",
        "\n",
        "delay = 0\n",
        "for j in df['Key']:\n",
        "  dd=[]\n",
        "  for m in mc:\n",
        "    dd.append(due['due'].loc[j]-all_tasks[(j, m)].end)\n",
        "  delay += max(dd)\n",
        "\n",
        "dummy = model.NewIntVar(-horizon, horizon, 'dummy')\n",
        "#dummy=0\n",
        "model.Add(delay<=dummy)\n",
        "model.Add(-delay<=dummy)"
      ],
      "execution_count": null,
      "outputs": [
        {
          "output_type": "execute_result",
          "data": {
            "text/plain": [
              "<ortools.sat.python.cp_model.Constraint at 0x7fb1631f7a58>"
            ]
          },
          "metadata": {
            "tags": []
          },
          "execution_count": 18
        }
      ]
    },
    {
      "cell_type": "code",
      "metadata": {
        "id": "D8MChwDryyRL",
        "colab_type": "code",
        "colab": {
          "base_uri": "https://localhost:8080/",
          "height": 35
        },
        "outputId": "95b91688-16f1-4923-afbc-7dcc74f13e07"
      },
      "source": [
        "model.Minimize(dummy)\n",
        "solver = cp_model.CpSolver()\n",
        "solver.Solve(model)\n",
        "solver.StatusName()"
      ],
      "execution_count": null,
      "outputs": [
        {
          "output_type": "execute_result",
          "data": {
            "application/vnd.google.colaboratory.intrinsic+json": {
              "type": "string"
            },
            "text/plain": [
              "'INFEASIBLE'"
            ]
          },
          "metadata": {
            "tags": []
          },
          "execution_count": 19
        }
      ]
    },
    {
      "cell_type": "code",
      "metadata": {
        "id": "O0RuA86tb26o",
        "colab_type": "code",
        "colab": {
          "base_uri": "https://localhost:8080/",
          "height": 54
        },
        "outputId": "dc27fd3f-4a05-4cf1-865b-092a60c461de"
      },
      "source": [
        "delay"
      ],
      "execution_count": null,
      "outputs": [
        {
          "output_type": "execute_result",
          "data": {
            "text/plain": [
              "SumArray(SumArray(SumArray(SumArray(SumArray(SumArray(SumArray(SumArray(SumArray(SumArray(SumArray(SumArray(SumArray(SumArray(SumArray(SumArray(SumArray(SumArray(SumArray(SumArray(SumArray(SumArray(SumArray(SumArray(SumArray(SumArray(SumArray(SumArray(SumArray(SumArray(SumArray(SumArray(SumArray(SumArray(SumArray(SumArray(SumArray(SumArray(SumArray(SumArray(SumArray(SumArray(SumArray(SumArray(SumArray(SumArray(SumArray(SumArray(SumArray(SumArray(SumArray(SumArray(SumArray(SumArray(SumArray(SumArray(SumArray(SumArray(SumArray(SumArray(SumArray(SumArray(SumArray(SumArray(SumArray(SumArray(SumArray(SumArray(SumArray(SumArray(SumArray(SumArray(SumArray(SumArray(SumArray(SumArray(SumArray(SumArray(SumArray(SumArray(SumArray(SumArray(SumArray(SumArray(SumArray(SumArray(SumArray(SumArray(SumArray(SumArray(SumArray(SumArray(SumArray(SumArray(SumArray(SumArray(SumArray(SumArray(SumArray(SumArray(SumArray(SumArray(SumArray(SumArray(SumArray(SumArray(SumArray(SumArray(SumArray(SumArray(SumArray(SumArray(SumArray(SumArray(SumArray(SumArray(SumArray(SumArray(SumArray(SumArray(SumArray(SumArray(SumArray(SumArray(SumArray(SumArray(SumArray(SumArray(SumArray(SumArray(SumArray(SumArray(SumArray(SumArray(SumArray(SumArray(SumArray(SumArray(SumArray(SumArray(SumArray(SumArray(SumArray(SumArray(SumArray(SumArray(SumArray(SumArray(SumArray(SumArray(SumArray(SumArray(SumArray(SumArray(SumArray(SumArray(SumArray(SumArray(SumArray(SumArray(SumArray(SumArray(SumArray(SumArray(SumArray(SumArray(SumArray(SumArray(SumArray(SumArray(SumArray(SumArray(SumArray(SumArray(SumArray(SumArray(SumArray(SumArray(SumArray(SumArray(SumArray(SumArray(SumArray(SumArray(SumArray(ProductCst(end_17023287gd29904300iX_6(0..1207), -1), 223), 0), SumArray(ProductCst(end_17023287gd29907800iX_6(0..1207), -1), 223), 0), SumArray(ProductCst(end_17023287gd39000800iX_6(0..1207), -1), 223), 0), SumArray(ProductCst(end_17023287gd55102400iX_6(0..1207), -1), 223), 0), SumArray(ProductCst(end_17023572gd43208500iX_6(0..1207), -1), 225), 0), SumArray(ProductCst(end_17023636gd280043C0iX_6(0..1207), -1), 225), 0), SumArray(ProductCst(end_17023636gd28001701iX_6(0..1207), -1), 225), 0), SumArray(ProductCst(end_17023335gd28013000iX_6(0..1207), -1), 230), 0), SumArray(ProductCst(end_17023335gd28018100iX_6(0..1207), -1), 230), 0), SumArray(ProductCst(end_17023335gd28001700iX_6(0..1207), -1), 230), 0), SumArray(ProductCst(end_17023335gd30212200iX_6(0..1207), -1), 230), 0), SumArray(ProductCst(end_17023637gd28001701iX_6(0..1207), -1), 230), 0), SumArray(ProductCst(end_17023637gd28002400iX_6(0..1207), -1), 230), 0), SumArray(ProductCst(end_17023439gd28311300iX_6(0..1207), -1), 231), 0), SumArray(ProductCst(end_17023440gd23010000gR_6(0..1207), -1), 231), 0), SumArray(ProductCst(end_4501763335gd23010000Ud_6(0..1207), -1), 236), 0), SumArray(ProductCst(end_4501763335gd251100C0Ud_6(0..1207), -1), 236), 0), SumArray(ProductCst(end_4501763335gC25020000UC_6(0..1207), -1), 236), 0), SumArray(ProductCst(end_4501729973L4gd24312000iX_6(0..1207), -1), 236), 0), SumArray(ProductCst(end_4501729973L5gd24312000iX_6(0..1207), -1), 236), 0), SumArray(ProductCst(end_17023433gd280078C0iX_6(0..1207), -1), 237), 0), SumArray(ProductCst(end_17023433gd28001701iX_6(0..1207), -1), 237), 0), SumArray(ProductCst(end_17023446gd35312500iX_6(0..1207), -1), 237), 0), SumArray(ProductCst(end_17023083gd58609000iX_6(0..1207), -1), 238), 0), SumArray(ProductCst(end_17023083gd58616000iX_6(0..1207), -1), 238), 0), SumArray(ProductCst(end_17023083gd58816000iX_6(0..1207), -1), 238), 0), SumArray(ProductCst(end_17023083gd58802500iX_6(0..1207), -1), 238), 0), SumArray(ProductCst(end_17023083gd58602500iX_6(0..1207), -1), 238), 0), SumArray(ProductCst(end_17023083gd58809000iX_6(0..1207), -1), 238), 0), SumArray(ProductCst(end_17023083gd59017000iX_6(0..1207), -1), 238), 0), SumArray(ProductCst(end_17023083gd59002500iX_6(0..1207), -1), 238), 0), SumArray(ProductCst(end_17023083gd59413000iX_6(0..1207), -1), 238), 0), SumArray(ProductCst(end_17023083gd59402500iX_6(0..1207), -1), 238), 0), SumArray(ProductCst(end_17023083gd59202500iX_6(0..1207), -1), 238), 0), SumArray(ProductCst(end_17023083gd59216000iX_6(0..1207), -1), 238), 0), SumArray(ProductCst(end_17023340gd43208500iX_6(0..1207), -1), 238), 0), SumArray(ProductCst(end_17023340gd43002400iX_6(0..1207), -1), 238), 0), SumArray(ProductCst(end_17023340gd28002400iX_6(0..1207), -1), 238), 0), SumArray(ProductCst(end_17023340gd280043C0iX_6(0..1207), -1), 238), 0), SumArray(ProductCst(end_17023340gd30212200iX_6(0..1207), -1), 238), 0), SumArray(ProductCst(end_17023438gd84107500iX_6(0..1207), -1), 238), 0), SumArray(ProductCst(end_17023623gd27305000iX_6(0..1207), -1), 238), 0), SumArray(ProductCst(end_17023434gd55102400iX_6(0..1207), -1), 239), 0), SumArray(ProductCst(end_17023434gd29907800iX_6(0..1207), -1), 239), 0), SumArray(ProductCst(end_17023434gd29913000iX_6(0..1207), -1), 239), 0), SumArray(ProductCst(end_17023434gd29901700iX_6(0..1207), -1), 239), 0), SumArray(ProductCst(end_4501763908gC22110000UC_6(0..1207), -1), 242), 0), SumArray(ProductCst(end_kprplkmgd23010001dm_6(0..1207), -1), 242), 0), SumArray(ProductCst(end_kprplkmgd23020000iX_6(0..1207), -1), 242), 0), SumArray(ProductCst(end_kprplkmgC25010000dm_6(0..1207), -1), 242), 0), SumArray(ProductCst(end_kprplkmgC25015000dm_6(0..1207), -1), 242), 0), SumArray(ProductCst(end_kprplkmgC25020000dm_6(0..1207), -1), 242), 0), SumArray(ProductCst(end_17021922gd30518101iX_6(0..1207), -1), 244), 0), SumArray(ProductCst(end_17023435gd30212200iX_6(0..1207), -1), 244), 0), SumArray(ProductCst(end_17023435gd30004300iX_6(0..1207), -1), 244), 0), SumArray(ProductCst(end_17023435gd28018100iX_6(0..1207), -1), 244), 0), SumArray(ProductCst(end_17023435gd28004300iX_6(0..1207), -1), 244), 0), SumArray(ProductCst(end_17023634gd28002400iX_6(0..1207), -1), 245), 0), SumArray(ProductCst(end_17023634gd28001700iX_6(0..1207), -1), 245), 0), SumArray(ProductCst(end_17023634gd28007800iX_6(0..1207), -1), 245), 0), SumArray(ProductCst(end_17023635gd28001701iX_6(0..1207), -1), 245), 0), SumArray(ProductCst(end_17023635gd28004300iX_6(0..1207), -1), 245), 0), SumArray(ProductCst(end_17023635gd280043C0iX_6(0..1207), -1), 245), 0), SumArray(ProductCst(end_17023503gd30212200iX_6(0..1207), -1), 246), 0), SumArray(ProductCst(end_17023124gC22215001QT_6(0..1207), -1), 247), 0), SumArray(ProductCst(end_17023124gC22315001QT_6(0..1207), -1), 247), 0), SumArray(ProductCst(end_17023124gC22115001QT_6(0..1207), -1), 247), 0), SumArray(ProductCst(end_17023124gC22415001QT_6(0..1207), -1), 247), 0), SumArray(ProductCst(end_17023124gC22515001QT_6(0..1207), -1), 247), 0), SumArray(ProductCst(end_17022242gd83413100iXdC_6(0..1207), -1), 250), 0), SumArray(ProductCst(end_17023647L1gd28001701iX_6(0..1207), -1), 251), 0), SumArray(ProductCst(end_17023647L2gd28001701iX_6(0..1207), -1), 251), 0), SumArray(ProductCst(end_4501770199gC25010000Ud_6(0..1207), -1), 252), 0), SumArray(ProductCst(end_4501770199gC25020000UC_6(0..1207), -1), 252), 0), SumArray(ProductCst(end_17023678gd29907800iX_6(0..1207), -1), 253), 0), SumArray(ProductCst(end_17023678gd29902400iX_6(0..1207), -1), 253), 0), SumArray(ProductCst(end_17023678gd32702400iX_6(0..1207), -1), 253), 0), SumArray(ProductCst(end_17023678gd29913000iX_6(0..1207), -1), 253), 0), SumArray(ProductCst(end_17023678gd29901700iX_6(0..1207), -1), 253), 0), SumArray(ProductCst(end_17023633gd30212200iX_6(0..1207), -1), 254), 0), SumArray(ProductCst(end_17023633gd43208500iX_6(0..1207), -1), 254), 0), SumArray(ProductCst(end_17023641gd55001700iX_6(0..1207), -1), 254), 0), SumArray(ProductCst(end_17023641gd55102400iX_6(0..1207), -1), 254), 0), SumArray(ProductCst(end_17023641gd43208500iX_6(0..1207), -1), 254), 0), SumArray(ProductCst(end_17023641gd43213000iX_6(0..1207), -1), 254), 0), SumArray(ProductCst(end_17023643gd263100H0iX_6(0..1207), -1), 258), 0), SumArray(ProductCst(end_17023643gd261100I0CZ_6(0..1207), -1), 258), 0), SumArray(ProductCst(end_17023644gd34705000CZ_6(0..1207), -1), 258), 0), SumArray(ProductCst(end_17023648gd28001701iX_6(0..1207), -1), 258), 0), SumArray(ProductCst(end_17023679gd30212200iX_6(0..1207), -1), 258), 0), SumArray(ProductCst(end_17023679gd28001701iX_6(0..1207), -1), 258), 0), SumArray(ProductCst(end_17023679gd28013000iX_6(0..1207), -1), 258), 0), SumArray(ProductCst(end_4501729973L7gd24312000iX_6(0..1207), -1), 259), 0), SumArray(ProductCst(end_17023649gd280078C0iX_6(0..1207), -1), 261), 0), SumArray(ProductCst(end_17023651gd28018100iX_6(0..1207), -1), 265), 0), SumArray(ProductCst(end_17023652gd28007800iX_6(0..1207), -1), 265), 0), SumArray(ProductCst(end_17023652gd28001700iX_6(0..1207), -1), 265), 0), SumArray(ProductCst(end_17023652gd55001700iX_6(0..1207), -1), 265), 0), SumArray(ProductCst(end_17023652gd55102400iX_6(0..1207), -1), 265), 0), SumArray(ProductCst(end_17023652gd43202400iX_6(0..1207), -1), 265), 0), SumArray(ProductCst(end_17023646gd280043C0iX_6(0..1207), -1), 266), 0), SumArray(ProductCst(end_17023646gd28002400iX_6(0..1207), -1), 266), 0), SumArray(ProductCst(end_17023656gd58609000iX_6(0..1207), -1), 266), 0), SumArray(ProductCst(end_17023656gd58616000iX_6(0..1207), -1), 266), 0), SumArray(ProductCst(end_17023656gd58816000iX_6(0..1207), -1), 266), 0), SumArray(ProductCst(end_17023656gd58809000iX_6(0..1207), -1), 266), 0), SumArray(ProductCst(end_17023656gd59017000iX_6(0..1207), -1), 266), 0), SumArray(ProductCst(end_17023656gd59413000iX_6(0..1207), -1), 266), 0), SumArray(ProductCst(end_17023656gd59216000iX_6(0..1207), -1), 266), 0), SumArray(ProductCst(end_4501729973L8gd24312000iX_6(0..1207), -1), 266), 0), SumArray(ProductCst(end_17023504gd30212200iX_6(0..1207), -1), 272), 0), SumArray(ProductCst(end_17023505gd28004300iX_6(0..1207), -1), 272), 0), SumArray(ProductCst(end_17023505gd28001701iX_6(0..1207), -1), 272), 0), SumArray(ProductCst(end_17023506gd28002400iX_6(0..1207), -1), 272), 0), SumArray(ProductCst(end_17023506gd28001701iX_6(0..1207), -1), 272), 0), SumArray(ProductCst(end_17023508gd26802400iX_6(0..1207), -1), 272), 0), SumArray(ProductCst(end_dky19plkmgd23010001dm_6(0..1207), -1), 272), 0), SumArray(ProductCst(end_dky19plkmgd23020000iX_6(0..1207), -1), 272), 0), SumArray(ProductCst(end_dky19plkmgC25010000dm_6(0..1207), -1), 272), 0), SumArray(ProductCst(end_dky19plkmgC25015000dm_6(0..1207), -1), 272), 0), SumArray(ProductCst(end_dky19plkmgC25020000dm_6(0..1207), -1), 272), 0), SumArray(ProductCst(end_17023507gd29904300iX_6(0..1207), -1), 273), 0), SumArray(ProductCst(end_17023507gd39000800iX_6(0..1207), -1), 273), 0), SumArray(ProductCst(end_17023507gd29907800iX_6(0..1207), -1), 273), 0), SumArray(ProductCst(end_4501729973L10gd24312000iX_6(0..1207), -1), 273), 0), SumArray(ProductCst(end_17023772gd33147300iX_6(0..1207), -1), 274), 0), SumArray(ProductCst(end_4501717192gC22310000UC_6(0..1207), -1), 277), 0), SumArray(ProductCst(end_17023457gd28004300iX_6(0..1207), -1), 279), 0), SumArray(ProductCst(end_17023457gd280078C0iX_6(0..1207), -1), 279), 0), SumArray(ProductCst(end_17023457gd28001700iX_6(0..1207), -1), 279), 0), SumArray(ProductCst(end_17023515gd60118101iX_6(0..1207), -1), 280), 0), SumArray(ProductCst(end_17023515gd60218101iX_6(0..1207), -1), 280), 0), SumArray(ProductCst(end_17023515gd60312200iX_6(0..1207), -1), 280), 0), SumArray(ProductCst(end_4501780248gd23010000Ud_6(0..1207), -1), 280), 0), SumArray(ProductCst(end_4501780248gd251100C0Ud_6(0..1207), -1), 280), 0), SumArray(ProductCst(end_4501780248gC25010000Ud_6(0..1207), -1), 280), 0), SumArray(ProductCst(end_4501780248gC25020000UC_6(0..1207), -1), 280), 0), SumArray(ProductCst(end_17023516gd53013300iX_6(0..1207), -1), 286), 0), SumArray(ProductCst(end_17023645gd51704000iX_6(0..1207), -1), 286), 0), SumArray(ProductCst(end_17023645gd51904000iX_6(0..1207), -1), 286), 0), SumArray(ProductCst(end_17023645gd51804000iX_6(0..1207), -1), 286), 0), SumArray(ProductCst(end_17023658gd58616000iX_6(0..1207), -1), 286), 0), SumArray(ProductCst(end_17023658gd58816000iX_6(0..1207), -1), 286), 0), SumArray(ProductCst(end_17023658gd58809000iX_6(0..1207), -1), 286), 0), SumArray(ProductCst(end_17023658gd59017000iX_6(0..1207), -1), 286), 0), SumArray(ProductCst(end_17023658gd59413000iX_6(0..1207), -1), 286), 0), SumArray(ProductCst(end_17023658gd59216000iX_6(0..1207), -1), 286), 0), SumArray(ProductCst(end_17023668gd280043C0iX_6(0..1207), -1), 286), 0), SumArray(ProductCst(end_17023668gd28013000iX_6(0..1207), -1), 286), 0), SumArray(ProductCst(end_17023668gd43213000iX_6(0..1207), -1), 286), 0), SumArray(ProductCst(end_17023668gd28001700iX_6(0..1207), -1), 286), 0), SumArray(ProductCst(end_17023669gd55001700iX_6(0..1207), -1), 289), 0), SumArray(ProductCst(end_17023669gd55102400iX_6(0..1207), -1), 289), 0), SumArray(ProductCst(end_17023669gd30212200iX_6(0..1207), -1), 289), 0), SumArray(ProductCst(end_17023466gd246100g0gJ_6(0..1207), -1), 290), 0), SumArray(ProductCst(end_17023466gd34110000gJ_6(0..1207), -1), 290), 0), SumArray(ProductCst(end_17023466gd34310000gJ_6(0..1207), -1), 290), 0), SumArray(ProductCst(end_17023466gd34210000gJ_6(0..1207), -1), 290), 0), SumArray(ProductCst(end_4501729973L9gd24312000iX_6(0..1207), -1), 290), 0), SumArray(ProductCst(end_17023535gd262100W0iX_6(0..1207), -1), 293), 0), SumArray(ProductCst(end_17023535gd263100H0iX_6(0..1207), -1), 293), 0), SumArray(ProductCst(end_17023881gd50012500iX_6(0..1207), -1), 293), 0), SumArray(ProductCst(end_17023825gd29904300iX_6(0..1207), -1), 294), 0), SumArray(ProductCst(end_17023825gd29902400iX_6(0..1207), -1), 294), 0), SumArray(ProductCst(end_17023825gd39000800iX_6(0..1207), -1), 294), 0), SumArray(ProductCst(end_17023923gd28004300iX_6(0..1207), -1), 294), 0), SumArray(ProductCst(end_17023923gd30212200iX_6(0..1207), -1), 294), 0), SumArray(ProductCst(end_17023975gd35112500iX_6(0..1207), -1), 294), 0), SumArray(ProductCst(end_17023975gd57812500iX_6(0..1207), -1), 294), 0), SumArray(ProductCst(end_17023534gd28001701iX_6(0..1207), -1), 301), 0), SumArray(ProductCst(end_Jum19plkmgd23005001dm_6(0..1207), -1), 303), 0), SumArray(ProductCst(end_Jum19plkmgd23010001dm_6(0..1207), -1), 303), 0), SumArray(ProductCst(end_Jum19plkmgd23020000iX_6(0..1207), -1), 303), 0), SumArray(ProductCst(end_Jum19plkmgC25005000dm_6(0..1207), -1), 303), 0), SumArray(ProductCst(end_Jum19plkmgC25010000dm_6(0..1207), -1), 303), 0), SumArray(ProductCst(end_Jum19plkmgC25015000dm_6(0..1207), -1), 303), 0), SumArray(ProductCst(end_Jum19plkmgC25020000dm_6(0..1207), -1), 303), 0), SumArray(ProductCst(end_4501729973L12gd24312000iX_6(0..1207), -1), 304), 0), SumArray(ProductCst(end_17023468gd280078C0iX_6(0..1207), -1), 307), 0), SumArray(ProductCst(end_17023468gd28007800iX_6(0..1207), -1), 307), 0), SumArray(ProductCst(end_17023468gd28001700iX_6(0..1207), -1), 307), 0), SumArray(ProductCst(end_17023833gd55001700iX_6(0..1207), -1), 307), 0), SumArray(ProductCst(end_17023833gd55102400iX_6(0..1207), -1), 307), 0), SumArray(ProductCst(end_17023833gd30212200iX_6(0..1207), -1), 307), 0)"
            ]
          },
          "metadata": {
            "tags": []
          },
          "execution_count": 21
        }
      ]
    },
    {
      "cell_type": "markdown",
      "metadata": {
        "id": "EcrQOnfJgYxd",
        "colab_type": "text"
      },
      "source": [
        "**Indices**  \n",
        "j - job  \n",
        "m - machine  \n",
        "\n",
        "**Decision Variable**  \n",
        "$s_{j,m}$ - start time of job j at machine m  \n",
        "$e_{j,m}$ - end time of job j at machine m  \n",
        "$d_{j,m}$ - duration of job j at machine m  \n",
        "\n",
        "**Parameters**  \n",
        "H - Horizon  \n",
        "$d_j$ - delivery date of job j  \n",
        "$q_j$ - order qty of job j  \n",
        "$o_{j,m}$ - output per hour of job j at machine m  \n",
        "\n",
        "**Objective**  \n",
        "$ \\sum_{j} d_j - max(e_{j,m})  \\qquad \\forall m \\in mc$  \n",
        "\n",
        "**Constraints**  \n",
        "$ \\sum_m e_{j,m} < s_{i,m} or s_{j,m} > e_{i,m} \\qquad \\forall j,i \\in jobs$  \n",
        "$ \\sum_j o_{j,m} \\times d_{j,m} >= q_j \\qquad \\forall m \\in ma $\n"
      ]
    }
  ]
}
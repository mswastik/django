{
  "nbformat": 4,
  "nbformat_minor": 0,
  "metadata": {
    "kernelspec": {
      "display_name": "Python 3",
      "language": "python",
      "name": "python3"
    },
    "language_info": {
      "codemirror_mode": {
        "name": "ipython",
        "version": 3
      },
      "file_extension": ".py",
      "mimetype": "text/x-python",
      "name": "python",
      "nbconvert_exporter": "python",
      "pygments_lexer": "ipython3",
      "version": "3.8.2"
    },
    "colab": {
      "name": "CP.ipynb",
      "provenance": []
    }
  },
  "cells": [
    {
      "cell_type": "code",
      "metadata": {
        "id": "ZAegf4MTD07x",
        "colab_type": "code",
        "colab": {}
      },
      "source": [
        "!pip install ortools\n",
        "!pip install dtale"
      ],
      "execution_count": null,
      "outputs": []
    },
    {
      "cell_type": "code",
      "metadata": {
        "id": "sG_LW15bCHKH",
        "colab_type": "code",
        "colab": {}
      },
      "source": [
        "import pandas as pd\n",
        "import numpy as np\n",
        "#from ortools.sat.python import cp_model\n",
        "#from dtale import show\n",
        "#import dtale.app as dtale_app\n",
        "#dtale_app.USE_COLAB = True"
      ],
      "execution_count": 1,
      "outputs": []
    },
    {
      "cell_type": "code",
      "metadata": {
        "id": "lKtWkvxcHkmA",
        "colab_type": "code",
        "colab": {
          "base_uri": "https://localhost:8080/",
          "height": 179
        },
        "outputId": "73314bc4-7e6b-4c80-8576-b1cf4954dccb"
      },
      "source": [
        "# Clone the entire repo.\n",
        "!git clone -l -s https://github.com/mswastik/optimization.git cloned-repo\n",
        "%cd cloned-repo\n",
        "!ls"
      ],
      "execution_count": 2,
      "outputs": [
        {
          "output_type": "stream",
          "text": [
            "Cloning into 'cloned-repo'...\n",
            "warning: --local is ignored\n",
            "remote: Enumerating objects: 38, done.\u001b[K\n",
            "remote: Counting objects:   2% (1/38)\u001b[K\rremote: Counting objects:   5% (2/38)\u001b[K\rremote: Counting objects:   7% (3/38)\u001b[K\rremote: Counting objects:  10% (4/38)\u001b[K\rremote: Counting objects:  13% (5/38)\u001b[K\rremote: Counting objects:  15% (6/38)\u001b[K\rremote: Counting objects:  18% (7/38)\u001b[K\rremote: Counting objects:  21% (8/38)\u001b[K\rremote: Counting objects:  23% (9/38)\u001b[K\rremote: Counting objects:  26% (10/38)\u001b[K\rremote: Counting objects:  28% (11/38)\u001b[K\rremote: Counting objects:  31% (12/38)\u001b[K\rremote: Counting objects:  34% (13/38)\u001b[K\rremote: Counting objects:  36% (14/38)\u001b[K\rremote: Counting objects:  39% (15/38)\u001b[K\rremote: Counting objects:  42% (16/38)\u001b[K\rremote: Counting objects:  44% (17/38)\u001b[K\rremote: Counting objects:  47% (18/38)\u001b[K\rremote: Counting objects:  50% (19/38)\u001b[K\rremote: Counting objects:  52% (20/38)\u001b[K\rremote: Counting objects:  55% (21/38)\u001b[K\rremote: Counting objects:  57% (22/38)\u001b[K\rremote: Counting objects:  60% (23/38)\u001b[K\rremote: Counting objects:  63% (24/38)\u001b[K\rremote: Counting objects:  65% (25/38)\u001b[K\rremote: Counting objects:  68% (26/38)\u001b[K\rremote: Counting objects:  71% (27/38)\u001b[K\rremote: Counting objects:  73% (28/38)\u001b[K\rremote: Counting objects:  76% (29/38)\u001b[K\rremote: Counting objects:  78% (30/38)\u001b[K\rremote: Counting objects:  81% (31/38)\u001b[K\rremote: Counting objects:  84% (32/38)\u001b[K\rremote: Counting objects:  86% (33/38)\u001b[K\rremote: Counting objects:  89% (34/38)\u001b[K\rremote: Counting objects:  92% (35/38)\u001b[K\rremote: Counting objects:  94% (36/38)\u001b[K\rremote: Counting objects:  97% (37/38)\u001b[K\rremote: Counting objects: 100% (38/38)\u001b[K\rremote: Counting objects: 100% (38/38), done.\u001b[K\n",
            "remote: Compressing objects: 100% (34/34), done.\u001b[K\n",
            "remote: Total 38 (delta 6), reused 0 (delta 0), pack-reused 0\u001b[K\n",
            "Unpacking objects: 100% (38/38), done.\n",
            "/content/cloned-repo\n",
            " CP.ipynb  'item master.xlsx'   orders.xlsx   README.md\n"
          ],
          "name": "stdout"
        }
      ]
    },
    {
      "cell_type": "code",
      "metadata": {
        "id": "6kU6ehn9IbPk",
        "colab_type": "code",
        "colab": {}
      },
      "source": [
        "df=pd.read_excel('orders.xlsx')"
      ],
      "execution_count": 3,
      "outputs": []
    },
    {
      "cell_type": "code",
      "metadata": {
        "id": "nUhA6-OCCHKV",
        "colab_type": "code",
        "colab": {}
      },
      "source": [
        "df = df[df['Line']=='Tmmthpkhti Limi']\n",
        "del df['Line']\n",
        "df['due'] = df['Dispatch Date'] - df['So Date'].min()\n",
        "df['due'] = df['due'].dt.days\n",
        "df.reset_index(inplace=True,drop=True)\n",
        "df['Key']=df['SO'].astype('str')+df['FG Code']"
      ],
      "execution_count": 4,
      "outputs": []
    },
    {
      "cell_type": "code",
      "metadata": {
        "id": "2cwIiuCSCHKk",
        "colab_type": "code",
        "colab": {
          "base_uri": "https://localhost:8080/",
          "height": 35
        },
        "outputId": "ddcde5e2-7df1-4cf4-b7d6-09c566fd2d70"
      },
      "source": [
        "show(df,ignore_duplicate=True)"
      ],
      "execution_count": null,
      "outputs": [
        {
          "output_type": "execute_result",
          "data": {
            "text/plain": [
              "https://pi6pg94wws-496ff2e9c6d22116-40000-colab.googleusercontent.com/dtale/main/3"
            ]
          },
          "metadata": {
            "tags": []
          },
          "execution_count": 16
        }
      ]
    },
    {
      "cell_type": "code",
      "metadata": {
        "id": "OuVWzgmiAHVF",
        "colab_type": "code",
        "colab": {}
      },
      "source": [
        "df.pop?"
      ],
      "execution_count": 14,
      "outputs": []
    },
    {
      "cell_type": "code",
      "metadata": {
        "id": "e9P2C7qiDgjO",
        "colab_type": "code",
        "colab": {}
      },
      "source": [
        "ma=pd.read_excel('item master.xlsx')\n",
        "bu=pd.read_excel('item master.xlsx',sheet_name='bulk')\n",
        "pa=pd.read_excel('item master.xlsx',sheet_name='packing')"
      ],
      "execution_count": 6,
      "outputs": []
    },
    {
      "cell_type": "code",
      "metadata": {
        "id": "wnTRb6CnJgka",
        "colab_type": "code",
        "colab": {}
      },
      "source": [
        "jobs =df['Key']\n",
        "op =[1,2,3,4]\n",
        "mc = [1,2,3,4,5,6]\n",
        "sodate = df['SO Date'] - df['SO Date'].min()\n",
        "sodate = sodate.dt.days\n",
        "deldate = df['due']"
      ],
      "execution_count": 5,
      "outputs": []
    },
    {
      "cell_type": "code",
      "metadata": {
        "id": "OlCBJi7oYhWk",
        "colab_type": "code",
        "colab": {
          "base_uri": "https://localhost:8080/",
          "height": 251
        },
        "outputId": "0930bd41-670b-442a-a329-fc52a0f6a852"
      },
      "source": [
        "df.to_numpy()"
      ],
      "execution_count": 12,
      "outputs": [
        {
          "output_type": "execute_result",
          "data": {
            "text/plain": [
              "array([[17023287, 'mWI', Timestamp('2019-01-14 00:00:00'), ..., 1024, 0,\n",
              "        '17023287gd29904300iX'],\n",
              "       [17023287, 'mWI', Timestamp('2019-01-14 00:00:00'), ..., 1024, 0,\n",
              "        '17023287gd29907800iX'],\n",
              "       [17023287, 'mWI', Timestamp('2019-01-14 00:00:00'), ..., 1024, 0,\n",
              "        '17023287gd39000800iX'],\n",
              "       ...,\n",
              "       [17023833, 'mWI', Timestamp('2019-04-23 00:00:00'), ..., 1024, 84,\n",
              "        '17023833gd55102400iX'],\n",
              "       [17023833, 'mWI', Timestamp('2019-04-23 00:00:00'), ..., 1024, 84,\n",
              "        '17023833gd30212200iX'],\n",
              "       ['RdPJumw4', 'dmdihtic', Timestamp('2019-04-15 00:00:00'), ...,\n",
              "        1025, 90, 'RdPJumw4gd05010k']], dtype=object)"
            ]
          },
          "metadata": {
            "tags": []
          },
          "execution_count": 12
        }
      ]
    },
    {
      "cell_type": "code",
      "metadata": {
        "id": "CYDmquJqPLRZ",
        "colab_type": "code",
        "colab": {
          "base_uri": "https://localhost:8080/",
          "height": 419
        },
        "outputId": "a83ae155-3e81-49f3-8f87-b13e263a6013"
      },
      "source": [
        "pa"
      ],
      "execution_count": 7,
      "outputs": [
        {
          "output_type": "execute_result",
          "data": {
            "text/html": [
              "<div>\n",
              "<style scoped>\n",
              "    .dataframe tbody tr th:only-of-type {\n",
              "        vertical-align: middle;\n",
              "    }\n",
              "\n",
              "    .dataframe tbody tr th {\n",
              "        vertical-align: top;\n",
              "    }\n",
              "\n",
              "    .dataframe thead th {\n",
              "        text-align: right;\n",
              "    }\n",
              "</style>\n",
              "<table border=\"1\" class=\"dataframe\">\n",
              "  <thead>\n",
              "    <tr style=\"text-align: right;\">\n",
              "      <th></th>\n",
              "      <th>FG Code</th>\n",
              "      <th>Product</th>\n",
              "      <th>Line</th>\n",
              "      <th>Speed</th>\n",
              "      <th>Cs size</th>\n",
              "      <th>Output</th>\n",
              "      <th>Manpower/hr</th>\n",
              "    </tr>\n",
              "  </thead>\n",
              "  <tbody>\n",
              "    <tr>\n",
              "      <th>0</th>\n",
              "      <td>gd28001700iX</td>\n",
              "      <td>grishdimt glumridi TPST 17g (0.6) mZ</td>\n",
              "      <td>1</td>\n",
              "      <td>120.0</td>\n",
              "      <td>720</td>\n",
              "      <td>6</td>\n",
              "      <td>1.5</td>\n",
              "    </tr>\n",
              "    <tr>\n",
              "      <th>1</th>\n",
              "      <td>gd28002400iX</td>\n",
              "      <td>grishdimt glumridi TPST 24g(0.85) mZ</td>\n",
              "      <td>1</td>\n",
              "      <td>120.0</td>\n",
              "      <td>720</td>\n",
              "      <td>6</td>\n",
              "      <td>1.5</td>\n",
              "    </tr>\n",
              "    <tr>\n",
              "      <th>2</th>\n",
              "      <td>gd24312000iX</td>\n",
              "      <td>Prmdisi cavity prmtictimm Tpst 125+20g</td>\n",
              "      <td>1</td>\n",
              "      <td>60.0</td>\n",
              "      <td>72</td>\n",
              "      <td>30</td>\n",
              "      <td>2.75</td>\n",
              "    </tr>\n",
              "    <tr>\n",
              "      <th>3</th>\n",
              "      <td>gd246100W0iX</td>\n",
              "      <td>PRmdISi TmmTHPASTi (WHITmG) 100 G -</td>\n",
              "      <td>1</td>\n",
              "      <td>60.0</td>\n",
              "      <td>72</td>\n",
              "      <td>30</td>\n",
              "      <td>3.125</td>\n",
              "    </tr>\n",
              "    <tr>\n",
              "      <th>4</th>\n",
              "      <td>gd247100d0iX</td>\n",
              "      <td>PRmdISi TmmTHPASTi (d.SmdA ) 100G -</td>\n",
              "      <td>1</td>\n",
              "      <td>60.0</td>\n",
              "      <td>72</td>\n",
              "      <td>30</td>\n",
              "      <td>3.125</td>\n",
              "    </tr>\n",
              "    <tr>\n",
              "      <th>...</th>\n",
              "      <td>...</td>\n",
              "      <td>...</td>\n",
              "      <td>...</td>\n",
              "      <td>...</td>\n",
              "      <td>...</td>\n",
              "      <td>...</td>\n",
              "      <td>...</td>\n",
              "    </tr>\n",
              "    <tr>\n",
              "      <th>1698</th>\n",
              "      <td>gd29900401iX</td>\n",
              "      <td>daxidud Sicurity GiL TPST 4.25 G-0.15mZ</td>\n",
              "      <td>6</td>\n",
              "      <td>1.0</td>\n",
              "      <td>1000</td>\n",
              "      <td>0.036</td>\n",
              "      <td>1.5</td>\n",
              "    </tr>\n",
              "    <tr>\n",
              "      <th>1699</th>\n",
              "      <td>gd30100800iX</td>\n",
              "      <td>maturidimt Amticavity gLd. TPST 0.28 mZ</td>\n",
              "      <td>6</td>\n",
              "      <td>1.0</td>\n",
              "      <td>1000</td>\n",
              "      <td>0.036</td>\n",
              "      <td>0.5</td>\n",
              "    </tr>\n",
              "    <tr>\n",
              "      <th>1700</th>\n",
              "      <td>gd39000800iX</td>\n",
              "      <td>grishdimt Amticavity gLd GiL TPST 0.28mZ</td>\n",
              "      <td>6</td>\n",
              "      <td>1.0</td>\n",
              "      <td>1000</td>\n",
              "      <td>0.036</td>\n",
              "      <td>0.5</td>\n",
              "    </tr>\n",
              "    <tr>\n",
              "      <th>1701</th>\n",
              "      <td>gd43200800iX</td>\n",
              "      <td>grishdimt Pridiud AC TPST 8G-0.28mZ-AdA</td>\n",
              "      <td>6</td>\n",
              "      <td>1.0</td>\n",
              "      <td>1000</td>\n",
              "      <td>0.036</td>\n",
              "      <td>0.625</td>\n",
              "    </tr>\n",
              "    <tr>\n",
              "      <th>1702</th>\n",
              "      <td>gd39000801iX</td>\n",
              "      <td>grishdimt AC gLd Gil Sachit 0.28mZ (08G)</td>\n",
              "      <td>6</td>\n",
              "      <td>1.0</td>\n",
              "      <td>1000</td>\n",
              "      <td>0.036</td>\n",
              "      <td>0.5</td>\n",
              "    </tr>\n",
              "  </tbody>\n",
              "</table>\n",
              "<p>1703 rows × 7 columns</p>\n",
              "</div>"
            ],
            "text/plain": [
              "           FG Code                                   Product  ...  Output  Manpower/hr\n",
              "0     gd28001700iX      grishdimt glumridi TPST 17g (0.6) mZ  ...       6          1.5\n",
              "1     gd28002400iX      grishdimt glumridi TPST 24g(0.85) mZ  ...       6          1.5\n",
              "2     gd24312000iX    Prmdisi cavity prmtictimm Tpst 125+20g  ...      30         2.75\n",
              "3     gd246100W0iX       PRmdISi TmmTHPASTi (WHITmG) 100 G -  ...      30        3.125\n",
              "4     gd247100d0iX       PRmdISi TmmTHPASTi (d.SmdA ) 100G -  ...      30        3.125\n",
              "...            ...                                       ...  ...     ...          ...\n",
              "1698  gd29900401iX   daxidud Sicurity GiL TPST 4.25 G-0.15mZ  ...   0.036          1.5\n",
              "1699  gd30100800iX   maturidimt Amticavity gLd. TPST 0.28 mZ  ...   0.036          0.5\n",
              "1700  gd39000800iX  grishdimt Amticavity gLd GiL TPST 0.28mZ  ...   0.036          0.5\n",
              "1701  gd43200800iX   grishdimt Pridiud AC TPST 8G-0.28mZ-AdA  ...   0.036        0.625\n",
              "1702  gd39000801iX  grishdimt AC gLd Gil Sachit 0.28mZ (08G)  ...   0.036          0.5\n",
              "\n",
              "[1703 rows x 7 columns]"
            ]
          },
          "metadata": {
            "tags": []
          },
          "execution_count": 7
        }
      ]
    },
    {
      "cell_type": "code",
      "metadata": {
        "id": "0vjdRQg3NvPS",
        "colab_type": "code",
        "colab": {}
      },
      "source": [
        "df1"
      ],
      "execution_count": null,
      "outputs": []
    }
  ]
}
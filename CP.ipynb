{
  "nbformat": 4,
  "nbformat_minor": 0,
  "metadata": {
    "kernelspec": {
      "display_name": "Python 3",
      "language": "python",
      "name": "python3"
    },
    "language_info": {
      "codemirror_mode": {
        "name": "ipython",
        "version": 3
      },
      "file_extension": ".py",
      "mimetype": "text/x-python",
      "name": "python",
      "nbconvert_exporter": "python",
      "pygments_lexer": "ipython3",
      "version": "3.8.2"
    },
    "colab": {
      "name": "CP.ipynb",
      "provenance": []
    }
  },
  "cells": [
    {
      "cell_type": "code",
      "metadata": {
        "id": "ZAegf4MTD07x",
        "colab_type": "code",
        "colab": {}
      },
      "source": [
        "!pip install ortools\n",
        "#!pip install dtale"
      ],
      "execution_count": null,
      "outputs": []
    },
    {
      "cell_type": "code",
      "metadata": {
        "id": "sG_LW15bCHKH",
        "colab_type": "code",
        "colab": {}
      },
      "source": [
        "import pandas as pd\n",
        "import numpy as np\n",
        "import collections\n",
        "#from ortools.sat.python import cp_model\n",
        "#from dtale import show\n",
        "#import dtale.app as dtale_app\n",
        "#dtale_app.USE_COLAB = True"
      ],
      "execution_count": 1,
      "outputs": []
    },
    {
      "cell_type": "code",
      "metadata": {
        "id": "lKtWkvxcHkmA",
        "colab_type": "code",
        "colab": {
          "base_uri": "https://localhost:8080/",
          "height": 179
        },
        "outputId": "136827a4-6d95-40aa-e21e-6dba2824fc69"
      },
      "source": [
        "# Clone the entire repo.\n",
        "!git clone -l -s https://github.com/mswastik/optimization.git cloned-repo\n",
        "%cd cloned-repo\n",
        "!ls"
      ],
      "execution_count": 2,
      "outputs": [
        {
          "output_type": "stream",
          "text": [
            "Cloning into 'cloned-repo'...\n",
            "warning: --local is ignored\n",
            "remote: Enumerating objects: 59, done.\u001b[K\n",
            "remote: Counting objects:   1% (1/59)\u001b[K\rremote: Counting objects:   3% (2/59)\u001b[K\rremote: Counting objects:   5% (3/59)\u001b[K\rremote: Counting objects:   6% (4/59)\u001b[K\rremote: Counting objects:   8% (5/59)\u001b[K\rremote: Counting objects:  10% (6/59)\u001b[K\rremote: Counting objects:  11% (7/59)\u001b[K\rremote: Counting objects:  13% (8/59)\u001b[K\rremote: Counting objects:  15% (9/59)\u001b[K\rremote: Counting objects:  16% (10/59)\u001b[K\rremote: Counting objects:  18% (11/59)\u001b[K\rremote: Counting objects:  20% (12/59)\u001b[K\rremote: Counting objects:  22% (13/59)\u001b[K\rremote: Counting objects:  23% (14/59)\u001b[K\rremote: Counting objects:  25% (15/59)\u001b[K\rremote: Counting objects:  27% (16/59)\u001b[K\rremote: Counting objects:  28% (17/59)\u001b[K\rremote: Counting objects:  30% (18/59)\u001b[K\rremote: Counting objects:  32% (19/59)\u001b[K\rremote: Counting objects:  33% (20/59)\u001b[K\rremote: Counting objects:  35% (21/59)\u001b[K\rremote: Counting objects:  37% (22/59)\u001b[K\rremote: Counting objects:  38% (23/59)\u001b[K\rremote: Counting objects:  40% (24/59)\u001b[K\rremote: Counting objects:  42% (25/59)\u001b[K\rremote: Counting objects:  44% (26/59)\u001b[K\rremote: Counting objects:  45% (27/59)\u001b[K\rremote: Counting objects:  47% (28/59)\u001b[K\rremote: Counting objects:  49% (29/59)\u001b[K\rremote: Counting objects:  50% (30/59)\u001b[K\rremote: Counting objects:  52% (31/59)\u001b[K\rremote: Counting objects:  54% (32/59)\u001b[K\rremote: Counting objects:  55% (33/59)\u001b[K\rremote: Counting objects:  57% (34/59)\u001b[K\rremote: Counting objects:  59% (35/59)\u001b[K\rremote: Counting objects:  61% (36/59)\u001b[K\rremote: Counting objects:  62% (37/59)\u001b[K\rremote: Counting objects:  64% (38/59)\u001b[K\rremote: Counting objects:  66% (39/59)\u001b[K\rremote: Counting objects:  67% (40/59)\u001b[K\rremote: Counting objects:  69% (41/59)\u001b[K\rremote: Counting objects:  71% (42/59)\u001b[K\rremote: Counting objects:  72% (43/59)\u001b[K\rremote: Counting objects:  74% (44/59)\u001b[K\rremote: Counting objects:  76% (45/59)\u001b[K\rremote: Counting objects:  77% (46/59)\u001b[K\rremote: Counting objects:  79% (47/59)\u001b[K\rremote: Counting objects:  81% (48/59)\u001b[K\rremote: Counting objects:  83% (49/59)\u001b[K\rremote: Counting objects:  84% (50/59)\u001b[K\rremote: Counting objects:  86% (51/59)\u001b[K\rremote: Counting objects:  88% (52/59)\u001b[K\rremote: Counting objects:  89% (53/59)\u001b[K\rremote: Counting objects:  91% (54/59)\u001b[K\rremote: Counting objects:  93% (55/59)\u001b[K\rremote: Counting objects:  94% (56/59)\u001b[K\rremote: Counting objects:  96% (57/59)\u001b[K\rremote: Counting objects:  98% (58/59)\u001b[K\rremote: Counting objects: 100% (59/59)\u001b[K\rremote: Counting objects: 100% (59/59), done.\u001b[K\n",
            "remote: Compressing objects: 100% (55/55), done.\u001b[K\n",
            "remote: Total 59 (delta 13), reused 0 (delta 0), pack-reused 0\u001b[K\n",
            "Unpacking objects: 100% (59/59), done.\n",
            "/content/cloned-repo\n",
            " CP.ipynb  'item master.xlsx'   orders.xlsx   README.md\n"
          ],
          "name": "stdout"
        }
      ]
    },
    {
      "cell_type": "code",
      "metadata": {
        "id": "6kU6ehn9IbPk",
        "colab_type": "code",
        "colab": {}
      },
      "source": [
        "df=pd.read_excel('orders.xlsx')"
      ],
      "execution_count": 23,
      "outputs": []
    },
    {
      "cell_type": "code",
      "metadata": {
        "id": "nUhA6-OCCHKV",
        "colab_type": "code",
        "colab": {
          "base_uri": "https://localhost:8080/",
          "height": 419
        },
        "outputId": "9d7aebc7-e004-405a-827d-af4da29d619c"
      },
      "source": [
        "df = df[df['Line']=='Tmmthpkhti Limi']\n",
        "df = df[df['Plant']==1024]\n",
        "del df['Line']\n",
        "df['due'] = df['Dispatch Date'] - df['SO Date'].min()\n",
        "df['due'] = df['due'].dt.days\n",
        "df['sodate'] = df['SO Date'] - df['SO Date'].min()\n",
        "df['sodate'] = df['sodate'].dt.days\n",
        "df.reset_index(inplace=True,drop=True)\n",
        "df['Key']=df['SO'].astype('str')+df['FG Code']\n",
        "del df['Dispatch Date']\n",
        "del df['SO Date']\n",
        "del df['Description']\n",
        "del df['Customer']\n",
        "df"
      ],
      "execution_count": 24,
      "outputs": [
        {
          "output_type": "execute_result",
          "data": {
            "text/html": [
              "<div>\n",
              "<style scoped>\n",
              "    .dataframe tbody tr th:only-of-type {\n",
              "        vertical-align: middle;\n",
              "    }\n",
              "\n",
              "    .dataframe tbody tr th {\n",
              "        vertical-align: top;\n",
              "    }\n",
              "\n",
              "    .dataframe thead th {\n",
              "        text-align: right;\n",
              "    }\n",
              "</style>\n",
              "<table border=\"1\" class=\"dataframe\">\n",
              "  <thead>\n",
              "    <tr style=\"text-align: right;\">\n",
              "      <th></th>\n",
              "      <th>SO</th>\n",
              "      <th>FG Code</th>\n",
              "      <th>Order Qty</th>\n",
              "      <th>Plant</th>\n",
              "      <th>due</th>\n",
              "      <th>sodate</th>\n",
              "      <th>Key</th>\n",
              "    </tr>\n",
              "  </thead>\n",
              "  <tbody>\n",
              "    <tr>\n",
              "      <th>0</th>\n",
              "      <td>17023287</td>\n",
              "      <td>gd29904300iX</td>\n",
              "      <td>486.0</td>\n",
              "      <td>1024</td>\n",
              "      <td>223</td>\n",
              "      <td>146</td>\n",
              "      <td>17023287gd29904300iX</td>\n",
              "    </tr>\n",
              "    <tr>\n",
              "      <th>1</th>\n",
              "      <td>17023287</td>\n",
              "      <td>gd29907800iX</td>\n",
              "      <td>216.0</td>\n",
              "      <td>1024</td>\n",
              "      <td>223</td>\n",
              "      <td>146</td>\n",
              "      <td>17023287gd29907800iX</td>\n",
              "    </tr>\n",
              "    <tr>\n",
              "      <th>2</th>\n",
              "      <td>17023287</td>\n",
              "      <td>gd39000800iX</td>\n",
              "      <td>360.0</td>\n",
              "      <td>1024</td>\n",
              "      <td>223</td>\n",
              "      <td>146</td>\n",
              "      <td>17023287gd39000800iX</td>\n",
              "    </tr>\n",
              "    <tr>\n",
              "      <th>3</th>\n",
              "      <td>17023287</td>\n",
              "      <td>gd55102400iX</td>\n",
              "      <td>180.0</td>\n",
              "      <td>1024</td>\n",
              "      <td>223</td>\n",
              "      <td>146</td>\n",
              "      <td>17023287gd55102400iX</td>\n",
              "    </tr>\n",
              "    <tr>\n",
              "      <th>4</th>\n",
              "      <td>17023572</td>\n",
              "      <td>gd43208500iX</td>\n",
              "      <td>756.0</td>\n",
              "      <td>1024</td>\n",
              "      <td>225</td>\n",
              "      <td>170</td>\n",
              "      <td>17023572gd43208500iX</td>\n",
              "    </tr>\n",
              "    <tr>\n",
              "      <th>...</th>\n",
              "      <td>...</td>\n",
              "      <td>...</td>\n",
              "      <td>...</td>\n",
              "      <td>...</td>\n",
              "      <td>...</td>\n",
              "      <td>...</td>\n",
              "      <td>...</td>\n",
              "    </tr>\n",
              "    <tr>\n",
              "      <th>191</th>\n",
              "      <td>17023468</td>\n",
              "      <td>gd28007800iX</td>\n",
              "      <td>336.0</td>\n",
              "      <td>1024</td>\n",
              "      <td>307</td>\n",
              "      <td>246</td>\n",
              "      <td>17023468gd28007800iX</td>\n",
              "    </tr>\n",
              "    <tr>\n",
              "      <th>192</th>\n",
              "      <td>17023468</td>\n",
              "      <td>gd28001700iX</td>\n",
              "      <td>640.0</td>\n",
              "      <td>1024</td>\n",
              "      <td>307</td>\n",
              "      <td>246</td>\n",
              "      <td>17023468gd28001700iX</td>\n",
              "    </tr>\n",
              "    <tr>\n",
              "      <th>193</th>\n",
              "      <td>17023833</td>\n",
              "      <td>gd55001700iX</td>\n",
              "      <td>320.0</td>\n",
              "      <td>1024</td>\n",
              "      <td>307</td>\n",
              "      <td>245</td>\n",
              "      <td>17023833gd55001700iX</td>\n",
              "    </tr>\n",
              "    <tr>\n",
              "      <th>194</th>\n",
              "      <td>17023833</td>\n",
              "      <td>gd55102400iX</td>\n",
              "      <td>360.0</td>\n",
              "      <td>1024</td>\n",
              "      <td>307</td>\n",
              "      <td>245</td>\n",
              "      <td>17023833gd55102400iX</td>\n",
              "    </tr>\n",
              "    <tr>\n",
              "      <th>195</th>\n",
              "      <td>17023833</td>\n",
              "      <td>gd30212200iX</td>\n",
              "      <td>720.0</td>\n",
              "      <td>1024</td>\n",
              "      <td>307</td>\n",
              "      <td>245</td>\n",
              "      <td>17023833gd30212200iX</td>\n",
              "    </tr>\n",
              "  </tbody>\n",
              "</table>\n",
              "<p>196 rows × 7 columns</p>\n",
              "</div>"
            ],
            "text/plain": [
              "           SO       FG Code  Order Qty  ...  due  sodate                   Key\n",
              "0    17023287  gd29904300iX      486.0  ...  223     146  17023287gd29904300iX\n",
              "1    17023287  gd29907800iX      216.0  ...  223     146  17023287gd29907800iX\n",
              "2    17023287  gd39000800iX      360.0  ...  223     146  17023287gd39000800iX\n",
              "3    17023287  gd55102400iX      180.0  ...  223     146  17023287gd55102400iX\n",
              "4    17023572  gd43208500iX      756.0  ...  225     170  17023572gd43208500iX\n",
              "..        ...           ...        ...  ...  ...     ...                   ...\n",
              "191  17023468  gd28007800iX      336.0  ...  307     246  17023468gd28007800iX\n",
              "192  17023468  gd28001700iX      640.0  ...  307     246  17023468gd28001700iX\n",
              "193  17023833  gd55001700iX      320.0  ...  307     245  17023833gd55001700iX\n",
              "194  17023833  gd55102400iX      360.0  ...  307     245  17023833gd55102400iX\n",
              "195  17023833  gd30212200iX      720.0  ...  307     245  17023833gd30212200iX\n",
              "\n",
              "[196 rows x 7 columns]"
            ]
          },
          "metadata": {
            "tags": []
          },
          "execution_count": 24
        }
      ]
    },
    {
      "cell_type": "code",
      "metadata": {
        "id": "e9P2C7qiDgjO",
        "colab_type": "code",
        "colab": {}
      },
      "source": [
        "ma=pd.read_excel('item master.xlsx')\n",
        "bu=pd.read_excel('item master.xlsx',sheet_name='bulk')\n",
        "pa=pd.read_excel('item master.xlsx',sheet_name='packing')"
      ],
      "execution_count": 7,
      "outputs": []
    },
    {
      "cell_type": "code",
      "metadata": {
        "id": "wnTRb6CnJgka",
        "colab_type": "code",
        "colab": {}
      },
      "source": [
        "jobs =df['Key']\n",
        "op =[1,2,3,4]\n",
        "mc = [1,2,3,4,5,6]\n",
        "horizon = max(df[\"due\"])"
      ],
      "execution_count": 25,
      "outputs": []
    },
    {
      "cell_type": "code",
      "metadata": {
        "id": "CYDmquJqPLRZ",
        "colab_type": "code",
        "colab": {}
      },
      "source": [
        "df2=df[['Key','FG Code','Order Qty']]\n",
        "df2=df2.merge(pa[[\"FG Code\",\"Line\",\"Output\"]], on=\"FG Code\")\n",
        "df2[\"duration\"]=df2[\"Order Qty\"]/df2[\"Output\"]\n",
        "del df2[\"Order Qty\"]"
      ],
      "execution_count": 26,
      "outputs": []
    },
    {
      "cell_type": "code",
      "metadata": {
        "id": "xvXO_VaUjCur",
        "colab_type": "code",
        "colab": {}
      },
      "source": [
        "df.set_index(\"Key\",inplace=True,drop=True)\n",
        "due=df[[\"due\"]]"
      ],
      "execution_count": 27,
      "outputs": []
    },
    {
      "cell_type": "code",
      "metadata": {
        "id": "NeIUw4eBkeTT",
        "colab_type": "code",
        "colab": {
          "base_uri": "https://localhost:8080/",
          "height": 35
        },
        "outputId": "bf69df76-ab5b-4330-d8a3-22e6ea909aca"
      },
      "source": [
        "due.loc['17023287gd29904300iX'].values"
      ],
      "execution_count": 40,
      "outputs": [
        {
          "output_type": "execute_result",
          "data": {
            "text/plain": [
              "array([200])"
            ]
          },
          "metadata": {
            "tags": []
          },
          "execution_count": 40
        }
      ]
    },
    {
      "cell_type": "code",
      "metadata": {
        "id": "0vjdRQg3NvPS",
        "colab_type": "code",
        "colab": {}
      },
      "source": [
        "model = cp_model.CpModel()\n",
        "model.Minimize(delay)"
      ],
      "execution_count": null,
      "outputs": []
    },
    {
      "cell_type": "code",
      "metadata": {
        "id": "H-_Bgd_qIJIc",
        "colab_type": "code",
        "colab": {}
      },
      "source": [
        "delay = {}\n",
        "for j in jobs:\n",
        "    for m in mc:\n",
        "        suffix = '_%s_%i' % (j,m)\n",
        "        start = model.NewIntVar(0, horizon, \"start\"+suffix)\n",
        "        end = model.NewIntVar(0, horizon, \"end\"+suffix)\n",
        "        duration = model.newIntervalVar(start, duration[j,m], end, \"duration\"+suffix)\n",
        "        delay.append(abs(due.loc[j].values-end))"
      ],
      "execution_count": null,
      "outputs": []
    },
    {
      "cell_type": "code",
      "metadata": {
        "id": "3FjhcqtdbTud",
        "colab_type": "code",
        "colab": {}
      },
      "source": [
        "model.Minimize(delay)"
      ],
      "execution_count": null,
      "outputs": []
    },
    {
      "cell_type": "code",
      "metadata": {
        "id": "D8MChwDryyRL",
        "colab_type": "code",
        "colab": {}
      },
      "source": [
        "solver = cp_model.CpSolver()\n",
        "status = solver.Solve(model)"
      ],
      "execution_count": null,
      "outputs": []
    }
  ]
}
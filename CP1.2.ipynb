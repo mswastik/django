{
  "nbformat": 4,
  "nbformat_minor": 0,
  "metadata": {
    "kernelspec": {
      "display_name": "Python 3",
      "language": "python",
      "name": "python3"
    },
    "language_info": {
      "codemirror_mode": {
        "name": "ipython",
        "version": 3
      },
      "file_extension": ".py",
      "mimetype": "text/x-python",
      "name": "python",
      "nbconvert_exporter": "python",
      "pygments_lexer": "ipython3",
      "version": "3.8.2"
    },
    "colab": {
      "name": "CP.ipynb",
      "provenance": [],
      "include_colab_link": true
    }
  },
  "cells": [
    {
      "cell_type": "markdown",
      "metadata": {
        "id": "view-in-github",
        "colab_type": "text"
      },
      "source": [
        "<a href=\"https://colab.research.google.com/github/mswastik/optimization/blob/master/CP1.2.ipynb\" target=\"_parent\"><img src=\"https://colab.research.google.com/assets/colab-badge.svg\" alt=\"Open In Colab\"/></a>"
      ]
    },
    {
      "cell_type": "markdown",
      "metadata": {
        "id": "EcrQOnfJgYxd"
      },
      "source": [
        "**Indices**  \n",
        "j - job  \n",
        "m - machine \n",
        "\n",
        "**Decision Variable**  \n",
        "$s_{j,m}$ - start time of job j at machine m  \n",
        "$e_{j,m}$ - end time of job j at machine m  \n",
        "$d_{j,m}$ - duration of job j at machine m  \n",
        "$b_{j,m}$ - machine m is selected for job j     \n",
        "$a_{j,i,m}$ - job i precedes job j at machine m \n",
        "\n",
        "**Parameters**  \n",
        "H - Horizon  \n",
        "$d_j$ - delivery date of job j  \n",
        "$q_j$ - order qty of job j  \n",
        "$o_{j,m}$ - output per hour of job j at machine m  \n",
        "$set_{i,j}$ - setup time between job i & j   \n",
        "\n",
        "\n",
        "**Objective** (Not implemented right now)  \n",
        "$ \\sum_{j} d_j - max(e_{j,m})  \\qquad \\forall m \\in mc$    \n",
        "\n",
        "\n",
        "**Constraints**  \n",
        "$ \\sum_m e_{j,m} < s_{i,m} or s_{j,m} > e_{i,m} \\qquad \\forall j,i \\in jobs$  \n",
        "$ \\sum_j o_{j,m} \\times d_{j,m} >= q_j \\qquad \\forall m \\in ma $    \n",
        "$ \\sum_m s_{i,m} >= e_{j,m} + set_{i,j} \\qquad if \\quad b_{j,m}=1, b_{i,m}=1, a_{j,i,m}=1 $  "
      ]
    },
    {
      "cell_type": "code",
      "metadata": {
        "id": "ZAegf4MTD07x",
        "outputId": "1b2753e0-029b-4d1f-9431-c1c8c2096794",
        "colab": {
          "base_uri": "https://localhost:8080/",
          "height": 513
        }
      },
      "source": [
        "!pip install ortools\n",
        "#!pip install dtale\n",
        "!pip install -U plotly"
      ],
      "execution_count": 1,
      "outputs": [
        {
          "output_type": "stream",
          "text": [
            "Collecting ortools\n",
            "\u001b[?25l  Downloading https://files.pythonhosted.org/packages/be/06/70475cc058328217739dff257a85fe2e90ecdbc1068d8fe52ad6f30fc53b/ortools-8.0.8283-cp36-cp36m-manylinux1_x86_64.whl (13.7MB)\n",
            "\u001b[K     |████████████████████████████████| 13.7MB 312kB/s \n",
            "\u001b[?25hRequirement already satisfied: six>=1.10 in /usr/local/lib/python3.6/dist-packages (from ortools) (1.15.0)\n",
            "Collecting protobuf>=3.13.0\n",
            "\u001b[?25l  Downloading https://files.pythonhosted.org/packages/30/79/510974552cebff2ba04038544799450defe75e96ea5f1675dbf72cc8744f/protobuf-3.13.0-cp36-cp36m-manylinux1_x86_64.whl (1.3MB)\n",
            "\u001b[K     |████████████████████████████████| 1.3MB 44.3MB/s \n",
            "\u001b[?25hRequirement already satisfied: setuptools in /usr/local/lib/python3.6/dist-packages (from protobuf>=3.13.0->ortools) (50.3.2)\n",
            "Installing collected packages: protobuf, ortools\n",
            "  Found existing installation: protobuf 3.12.4\n",
            "    Uninstalling protobuf-3.12.4:\n",
            "      Successfully uninstalled protobuf-3.12.4\n",
            "Successfully installed ortools-8.0.8283 protobuf-3.13.0\n"
          ],
          "name": "stdout"
        },
        {
          "output_type": "display_data",
          "data": {
            "application/vnd.colab-display-data+json": {
              "pip_warning": {
                "packages": [
                  "google"
                ]
              }
            }
          },
          "metadata": {
            "tags": []
          }
        },
        {
          "output_type": "stream",
          "text": [
            "Collecting plotly\n",
            "\u001b[?25l  Downloading https://files.pythonhosted.org/packages/a6/66/af86e9d9bf1a3e4f2dabebeabd02a32e8ddf671a5d072b3af2b011efea99/plotly-4.12.0-py2.py3-none-any.whl (13.1MB)\n",
            "\u001b[K     |████████████████████████████████| 13.1MB 194kB/s \n",
            "\u001b[?25hRequirement already satisfied, skipping upgrade: six in /usr/local/lib/python3.6/dist-packages (from plotly) (1.15.0)\n",
            "Requirement already satisfied, skipping upgrade: retrying>=1.3.3 in /usr/local/lib/python3.6/dist-packages (from plotly) (1.3.3)\n",
            "Installing collected packages: plotly\n",
            "  Found existing installation: plotly 4.4.1\n",
            "    Uninstalling plotly-4.4.1:\n",
            "      Successfully uninstalled plotly-4.4.1\n",
            "Successfully installed plotly-4.12.0\n"
          ],
          "name": "stdout"
        }
      ]
    },
    {
      "cell_type": "code",
      "metadata": {
        "id": "sG_LW15bCHKH",
        "outputId": "ded8a343-25fc-485c-a760-4745e594dbdd",
        "colab": {
          "base_uri": "https://localhost:8080/"
        }
      },
      "source": [
        "import pandas as pd\n",
        "import numpy as np\n",
        "import collections\n",
        "from ortools.sat.python import cp_model\n",
        "# Clone the entire repo.\n",
        "!git clone -l -s https://github.com/mswastik/optimization.git cloned-repo\n",
        "%cd cloned-repo"
      ],
      "execution_count": 2,
      "outputs": [
        {
          "output_type": "stream",
          "text": [
            "Cloning into 'cloned-repo'...\n",
            "warning: --local is ignored\n",
            "remote: Enumerating objects: 119, done.\u001b[K\n",
            "remote: Counting objects: 100% (119/119), done.\u001b[K\n",
            "remote: Compressing objects: 100% (119/119), done.\u001b[K\n",
            "remote: Total 304 (delta 77), reused 0 (delta 0), pack-reused 185\u001b[K\n",
            "Receiving objects: 100% (304/304), 2.80 MiB | 2.63 MiB/s, done.\n",
            "Resolving deltas: 100% (159/159), done.\n",
            "/content/cloned-repo\n"
          ],
          "name": "stdout"
        }
      ]
    },
    {
      "cell_type": "code",
      "metadata": {
        "id": "nUhA6-OCCHKV"
      },
      "source": [
        "#Importing Data\n",
        "df=pd.read_excel('orders1.xlsx')\n",
        "ma=pd.read_excel('item master.xlsx')\n",
        "bu=pd.read_excel('item master.xlsx',sheet_name='Sheet2')\n",
        "pa=pd.read_excel('item master.xlsx',sheet_name='packing')\n",
        " \n",
        "# Formating Data\n",
        "df = df[df['Line']=='Tmmthpkhti Limi']\n",
        "df = df[df['Plant']==1024]\n",
        "del df['Line']\n",
        "df['due'] = df['Dispatch Date'] - df['SO Date'].min()\n",
        "df['due'] = df['due'].dt.days\n",
        "df['sodate'] = df['SO Date'] - df['SO Date'].min()\n",
        "df['sodate'] = df['sodate'].dt.days\n",
        "df.reset_index(inplace=True,drop=True)\n",
        "df['Key']=df['SO'].astype('str')+df['FG Code']\n",
        "df.drop(['Dispatch Date','SO Date','Description','Customer'],axis=1,inplace=True)\n",
        "df['Order Qty'] = df[df['Order Qty']!=0]['Order Qty']\n",
        "df['Order Qty'] = df['Order Qty']*1000\n",
        "df=df[df['Key']!='17023287gd39000800iX']\n",
        " \n",
        " \n",
        "# Creating Parameter Data\n",
        "jobs =df['Key']\n",
        "op =[1,2]  # Ignore as of now\n",
        "mc = [1,2,3,4,5,6]\n",
        "#horizon = max(df[\"due\"])+900\n",
        "due = df.set_index('Key')\n",
        "dur=df[['Key','FG Code','Order Qty']]\n",
        "dur=dur.merge(pa[[\"FG Code\",\"Line\",\"Output\"]], on=\"FG Code\")\n",
        "dur['Output']=dur['Output']*100\n",
        "dur['duration']=dur['Order Qty']/dur['Output']\n",
        "dur['duration'] = dur['duration'].astype('float64').round(decimals = 2)\n",
        "dur['operation'] = 2\n",
        "budf=df.merge(ma[[\"FG Code\",\"Bulk Code\",\"Case Size\",\"Pack Wt(g)\"]],on='FG Code',how='left')\n",
        "budf['Qty']=budf['Order Qty']*budf['Case Size']*budf['Pack Wt(g)']/1000000\n",
        "\n",
        "pasp= pa.groupby('FG Code').mean()\n",
        "budf=budf.merge(pasp,on='FG Code')\n",
        "budf['cons'] = budf['Speed']*budf['Pack Wt(g)']*60/1000\n",
        "#budf.drop(['Speed','Line'],axis=1,inplace=True)\n",
        "\n",
        "bdur=budf.merge(bu[[\"Bulk Code\", \"Line\",\"Output\"]],on=\"Bulk Code\",how=\"left\")\n",
        "bdur['Output'] = bdur['Output'].replace(0,1)\n",
        "bdur['duration'] = bdur['Qty']/bdur['Output']*10\n",
        "bdur['duration'] = bdur['duration'].fillna(0).astype('int')\n",
        "bdur['operation'] = 1\n",
        "bdur['Order Qty'] = bdur['Qty']\n",
        "#bdur.drop(['Plant','due','sodate','Case Size','Pack Wt(g)','SO','Qty','Bulk Code'],axis=1,inplace=True)\n",
        "dur=dur.append(bdur)\n",
        "dur.set_index(['Key','Line','operation'],inplace=True)\n",
        "del dur['FG Code']\n",
        "dur['Output'].replace(0,1,inplace=True)\n",
        "dur['Order Qty']=dur['Order Qty'].fillna(0).astype('int')\n",
        "dur['duration']=dur['duration'].fillna(0).astype('int')\n",
        "dur['Output']=dur['Output'].fillna(0).astype('int')\n",
        "horizon = sum(dur['duration'])\n",
        " \n",
        "#Setup\n",
        "setup = pd.DataFrame(columns=('Key1','Key2','setup'))\n",
        "for i in df['Key']:\n",
        "  for k in df['Key']:\n",
        "    if df[df['Key']==i][\"FG Code\"].values[0]==df[df['Key']==k][\"FG Code\"].values[0]:\n",
        "      f = {'Key1':[i],\"Key2\":[k],\"setup\":[0]}\n",
        "    else:\n",
        "      f = {'Key1':[i],\"Key2\":[k],\"setup\":[4]}\n",
        "    f = pd.DataFrame(data=f)\n",
        "    setup = pd.concat([setup,f])\n",
        "setup.set_index(['Key1','Key2'],inplace=True)\n",
        "\n",
        "#pasp= pa.groupby('FG Code').mean()\n",
        "#budf=budf.merge(pasp,on='FG Code')\n",
        "#budf['cons'] = budf['Speed']*budf['Pack Wt(g)']*60/1000"
      ],
      "execution_count": 15,
      "outputs": []
    },
    {
      "cell_type": "code",
      "metadata": {
        "id": "FVlOlJ-5Z200",
        "outputId": "63b51559-0ed7-465c-f71c-b5e57de0172f",
        "colab": {
          "base_uri": "https://localhost:8080/",
          "height": 34
        }
      },
      "source": [
        "show(bdur)"
      ],
      "execution_count": 16,
      "outputs": [
        {
          "output_type": "execute_result",
          "data": {
            "text/plain": [
              "https://toi3k07s9do-496ff2e9c6d22116-40000-colab.googleusercontent.com/dtale/main/1"
            ]
          },
          "metadata": {
            "tags": []
          },
          "execution_count": 16
        }
      ]
    },
    {
      "cell_type": "code",
      "metadata": {
        "id": "moZgDcX1apWh",
        "outputId": "0f47a8a9-14c9-4c37-e431-60153a186b08",
        "colab": {
          "base_uri": "https://localhost:8080/",
          "height": 34
        }
      },
      "source": [
        "show(dur)"
      ],
      "execution_count": 17,
      "outputs": [
        {
          "output_type": "execute_result",
          "data": {
            "text/plain": [
              "https://toi3k07s9do-496ff2e9c6d22116-40000-colab.googleusercontent.com/dtale/main/2"
            ]
          },
          "metadata": {
            "tags": []
          },
          "execution_count": 17
        }
      ]
    },
    {
      "cell_type": "code",
      "metadata": {
        "id": "fLcj1F28birj",
        "outputId": "01e38949-b927-45cf-c70f-7d753085f29a",
        "colab": {
          "base_uri": "https://localhost:8080/",
          "height": 34
        }
      },
      "source": [
        "show(df)"
      ],
      "execution_count": 18,
      "outputs": [
        {
          "output_type": "execute_result",
          "data": {
            "text/plain": [
              "https://toi3k07s9do-496ff2e9c6d22116-40000-colab.googleusercontent.com/dtale/main/3"
            ]
          },
          "metadata": {
            "tags": []
          },
          "execution_count": 18
        }
      ]
    },
    {
      "cell_type": "code",
      "metadata": {
        "id": "2kluFz3V77yw",
        "outputId": "57c2d514-99c1-4ee1-a717-2f8a1ba6d236",
        "colab": {
          "base_uri": "https://localhost:8080/"
        }
      },
      "source": [
        "# Initialise model\n",
        "model = cp_model.CpModel()\n",
        "\n",
        "# Creating variables to store data\n",
        "task_type = collections.namedtuple('task_type', 'start end dur run1')\n",
        "mtj = collections.defaultdict(list)\n",
        "all_tasks = {}\n",
        " \n",
        "for j in jobs:\n",
        "  for o in op:\n",
        "    for m in mc:\n",
        "      suffix = '_%s_%i_%i' % (j,m,o)\n",
        "      start = model.NewIntVar(0, horizon, \"start\"+suffix)\n",
        "      end = model.NewIntVar(0, horizon, \"end\"+suffix)\n",
        "      run1 = model.NewIntVar(0, dur['duration'].loc[(j,m,o)].item(), \"run\"+suffix)\n",
        "      duration = model.NewIntervalVar(start, run1, end, \"duration\"+suffix)\n",
        "      all_tasks[j, m,o] = task_type(start=start, end=end, dur= duration, run1=run1)\n",
        "      mtj[o,m].append(duration)\n",
        "\n",
        "# Selection variable to store whether machine is selected to process job\n",
        "b={}\n",
        "for o in op:\n",
        "  for j in jobs:\n",
        "    for m in mc:\n",
        "      b[j,m,o] = model.NewBoolVar('selection')\n",
        "      model.Add(all_tasks[j, m,o].run1>0).OnlyEnforceIf(b[j,m,o])\n",
        "      model.Add(all_tasks[j, m,o].run1==0).OnlyEnforceIf(b[j,m,o].Not())\n",
        "\n",
        "# Variable to store sequence of jobs\n",
        "a={}\n",
        "for o in op:\n",
        "  for j in jobs:\n",
        "    for m in mc:\n",
        "      for i in jobs:\n",
        "        if j != i:\n",
        "          a[j,i,m,o] = model.NewBoolVar('sequence')\n",
        "          model.Add(all_tasks[i, m,o].start>all_tasks[j, m,o].start).OnlyEnforceIf(a[j,i,m,o])\n",
        "          model.Add(all_tasks[i, m,o].start<all_tasks[j, m,o].start).OnlyEnforceIf(a[j,i,m,o].Not())\n",
        "\n",
        "# Constraint: A machine can process only 1 job at a time \n",
        "for o in op:\n",
        "  for m in mc:\n",
        "    model.AddNoOverlap(mtj[o,m])\n",
        "\n",
        "# Constraint: Complete production of full order quantity\n",
        "com = {}\n",
        "for o in op:\n",
        "  for j in jobs:\n",
        "    tt= 0\n",
        "    for m in mc:\n",
        "      comp = all_tasks[j,m,o].run1*dur[\"Output\"].loc[(j,m,o)]\n",
        "      tt = tt + comp\n",
        "    com[j] = tt\n",
        "    #Change ORDER QTY FOR BULK\n",
        "    model.Add(com[j]*10 >= dur.loc[(j,slice(None),o)]['Order Qty'].values[0])\n",
        "  \n",
        "# Constraint of Setup Time\n",
        "for o in op:     \n",
        "  for j in jobs:\n",
        "    for m in mc:\n",
        "      for i in jobs:\n",
        "        if j != i:\n",
        "          #model.AddBoolOr([a[j,i,m],a[i,j,m]])\n",
        "          model.Add(all_tasks[i, m,o].start >= all_tasks[j, m,o].end + setup.loc[(j,i)].values[0]).OnlyEnforceIf(a[j,i,m,o]).OnlyEnforceIf(b[j,m,o]).OnlyEnforceIf(b[i,m,o])\n",
        "          #model.Add(all_tasks[j, m].start >= all_tasks[i, m].end + setup.loc[(j,i)].values[0]).OnlyEnforceIf(a[,i,m].Not()).OnlyEnforceIf(b[j,m]).OnlyEnforceIf(b[i,m])\n",
        "\n",
        "# Delay between jobs due to storage tank full\n",
        "for j in jobs:\n",
        "  for m in mc:\n",
        "    for i in jobs:\n",
        "      if dur.loc[(j,m,1)]['Order Qty']>=3000 and j != i:\n",
        "        model.Add(all_tasks[i, m,1].start >= all_tasks[j, m,1].end+int((dur.loc[(j,m,1)]['Order Qty']-3000)/dur.loc[(j,m,1)]['cons'])).OnlyEnforceIf(a[j,i,m,o])\n",
        "\n",
        "for j in jobs:\n",
        "  for m in mc:\n",
        "    minst=model.NewIntVar(0, horizon, \"minst\"+j)\n",
        "    model.AddMinEquality(minst,[all_tasks[j,k,1].start for k in mc])\n",
        "    model.Add(all_tasks[j, m,2].start >= minst+4).OnlyEnforceIf(b[j,m,2])\n",
        "#   model.Add(all_tasks[j, m,2].start <= minst+8).OnlyEnforceIf(b[j,m,2])\n",
        "\n",
        "gg={}\n",
        "for j in jobs:\n",
        "  aa=model.NewIntVar(0, horizon, \"endrun\"+j)\n",
        "  #aa[m]=all_tasks[j,m].end\n",
        "  model.AddMaxEquality(aa,[all_tasks[j,m,2].end for m in mc])\n",
        "  gg[j] = due['due'].loc[j]- aa\n",
        "\n",
        "#Dummy variable for minimizing absolute value in objective function\n",
        "mm={}\n",
        "for j in jobs:\n",
        "  kk = model.NewIntVar(0, horizon, 'dummy'+j)\n",
        "  mm[j] = kk\n",
        "  model.Add(gg[j]<=mm[j])\n",
        "  model.Add(-gg[j]<=mm[j])\n",
        " \n",
        "model.Minimize(sum([mm[j] for j in jobs]))\n",
        "solver = cp_model.CpSolver()\n",
        "solver.parameters.num_search_workers = 16\n",
        "solver.Solve(model)\n",
        "print(solver.StatusName(),solver.ObjectiveValue())"
      ],
      "execution_count": 13,
      "outputs": [
        {
          "output_type": "stream",
          "text": [
            "FEASIBLE 810.0\n"
          ],
          "name": "stdout"
        }
      ]
    },
    {
      "cell_type": "code",
      "metadata": {
        "id": "niO4NG7l8_7d",
        "outputId": "9bad7f2d-b269-4666-af8e-4b309d1db647",
        "colab": {
          "base_uri": "https://localhost:8080/",
          "height": 1000
        }
      },
      "source": [
        "ff=pd.DataFrame()\n",
        "for o in op:\n",
        "  for m in mc:\n",
        "    for j in jobs:\n",
        "      if solver.Value(all_tasks[j,m,o].run1)>0:\n",
        "        kk={'Job':j,'line':m,'operation':o,'start':solver.Value(all_tasks[j,m,o].start),\n",
        "            'run':solver.Value(all_tasks[j,m,o].run1),'end':solver.Value(all_tasks[j,m,o].end),'due':due['due'].loc[j],'delay':solver.Value(gg[j])}\n",
        "        ff=ff.append(kk,ignore_index=True)\n",
        "\n",
        "#!pip install -U plotly\n",
        "import plotly.express as px\n",
        "import datetime\n",
        "fig=px.timeline(data_frame=ff, x_start=ff['start'].astype('datetime64[h]'),x_end=ff['end'].astype('datetime64[h]'),\n",
        "                facet_row='line',facet_col='operation',y='Job',height=1200,width=1500,color='Job')\n",
        "fig.update_xaxes(dtick=14400000,tickformat=\"%d-%H\")\n",
        "fig.update_yaxes(autorange=\"reversed\")\n"
      ],
      "execution_count": 14,
      "outputs": [
        {
          "output_type": "display_data",
          "data": {
            "text/html": [
              "<html>\n",
              "<head><meta charset=\"utf-8\" /></head>\n",
              "<body>\n",
              "    <div>            <script src=\"https://cdnjs.cloudflare.com/ajax/libs/mathjax/2.7.5/MathJax.js?config=TeX-AMS-MML_SVG\"></script><script type=\"text/javascript\">if (window.MathJax) {MathJax.Hub.Config({SVG: {font: \"STIX-Web\"}});}</script>                <script type=\"text/javascript\">window.PlotlyConfig = {MathJaxConfig: 'local'};</script>\n",
              "        <script src=\"https://cdn.plot.ly/plotly-latest.min.js\"></script>                <div id=\"11d4586d-8b23-47ad-8b4d-8003cc289d95\" class=\"plotly-graph-div\" style=\"height:1200px; width:1500px;\"></div>            <script type=\"text/javascript\">                                    window.PLOTLYENV=window.PLOTLYENV || {};                                    if (document.getElementById(\"11d4586d-8b23-47ad-8b4d-8003cc289d95\")) {                    Plotly.newPlot(                        \"11d4586d-8b23-47ad-8b4d-8003cc289d95\",                        [{\"alignmentgroup\": \"True\", \"base\": [\"1970-01-03T03:00:00\"], \"hovertemplate\": \"Job=%{y}<br>line=1.0<br>operation=1.0<br>x_start=%{base}<br>x_end=%{x}<extra></extra>\", \"legendgroup\": \"17023287gd29904300iX\", \"marker\": {\"color\": \"#636efa\"}, \"name\": \"17023287gd29904300iX\", \"offsetgroup\": \"17023287gd29904300iX\", \"orientation\": \"h\", \"showlegend\": true, \"textposition\": \"auto\", \"type\": \"bar\", \"x\": [3600000.0], \"xaxis\": \"x11\", \"y\": [\"17023287gd29904300iX\"], \"yaxis\": \"y11\"}, {\"alignmentgroup\": \"True\", \"base\": [\"1970-01-01T19:00:00\"], \"hovertemplate\": \"Job=%{y}<br>line=1.0<br>operation=2.0<br>x_start=%{base}<br>x_end=%{x}<extra></extra>\", \"legendgroup\": \"17023287gd29904300iX\", \"marker\": {\"color\": \"#636efa\"}, \"name\": \"17023287gd29904300iX\", \"offsetgroup\": \"17023287gd29904300iX\", \"orientation\": \"h\", \"showlegend\": false, \"textposition\": \"auto\", \"type\": \"bar\", \"x\": [25200000.0], \"xaxis\": \"x12\", \"y\": [\"17023287gd29904300iX\"], \"yaxis\": \"y12\"}, {\"alignmentgroup\": \"True\", \"base\": [\"1970-01-01T04:00:00\"], \"hovertemplate\": \"Job=%{y}<br>line=2.0<br>operation=2.0<br>x_start=%{base}<br>x_end=%{x}<extra></extra>\", \"legendgroup\": \"17023287gd29904300iX\", \"marker\": {\"color\": \"#636efa\"}, \"name\": \"17023287gd29904300iX\", \"offsetgroup\": \"17023287gd29904300iX\", \"orientation\": \"h\", \"showlegend\": false, \"textposition\": \"auto\", \"type\": \"bar\", \"x\": [46800000.0], \"xaxis\": \"x10\", \"y\": [\"17023287gd29904300iX\"], \"yaxis\": \"y10\"}, {\"alignmentgroup\": \"True\", \"base\": [\"1970-01-02T01:00:00\"], \"hovertemplate\": \"Job=%{y}<br>line=6.0<br>operation=2.0<br>x_start=%{base}<br>x_end=%{x}<extra></extra>\", \"legendgroup\": \"17023287gd29904300iX\", \"marker\": {\"color\": \"#636efa\"}, \"name\": \"17023287gd29904300iX\", \"offsetgroup\": \"17023287gd29904300iX\", \"orientation\": \"h\", \"showlegend\": false, \"textposition\": \"auto\", \"type\": \"bar\", \"x\": [183600000.0], \"xaxis\": \"x2\", \"y\": [\"17023287gd29904300iX\"], \"yaxis\": \"y2\"}, {\"alignmentgroup\": \"True\", \"base\": [\"1970-01-06T19:00:00\"], \"hovertemplate\": \"Job=%{y}<br>line=1.0<br>operation=1.0<br>x_start=%{base}<br>x_end=%{x}<extra></extra>\", \"legendgroup\": \"17023335gd28001700iX\", \"marker\": {\"color\": \"#EF553B\"}, \"name\": \"17023335gd28001700iX\", \"offsetgroup\": \"17023335gd28001700iX\", \"orientation\": \"h\", \"showlegend\": true, \"textposition\": \"auto\", \"type\": \"bar\", \"x\": [3600000.0], \"xaxis\": \"x11\", \"y\": [\"17023335gd28001700iX\"], \"yaxis\": \"y11\"}, {\"alignmentgroup\": \"True\", \"base\": [\"1970-01-01T19:00:00\"], \"hovertemplate\": \"Job=%{y}<br>line=4.0<br>operation=2.0<br>x_start=%{base}<br>x_end=%{x}<extra></extra>\", \"legendgroup\": \"17023335gd28001700iX\", \"marker\": {\"color\": \"#EF553B\"}, \"name\": \"17023335gd28001700iX\", \"offsetgroup\": \"17023335gd28001700iX\", \"orientation\": \"h\", \"showlegend\": false, \"textposition\": \"auto\", \"type\": \"bar\", \"x\": [244800000.0], \"xaxis\": \"x6\", \"y\": [\"17023335gd28001700iX\"], \"yaxis\": \"y6\"}, {\"alignmentgroup\": \"True\", \"base\": [\"1970-01-08T23:00:00\"], \"hovertemplate\": \"Job=%{y}<br>line=1.0<br>operation=1.0<br>x_start=%{base}<br>x_end=%{x}<extra></extra>\", \"legendgroup\": \"17023335gd30212200iX\", \"marker\": {\"color\": \"#00cc96\"}, \"name\": \"17023335gd30212200iX\", \"offsetgroup\": \"17023335gd30212200iX\", \"orientation\": \"h\", \"showlegend\": true, \"textposition\": \"auto\", \"type\": \"bar\", \"x\": [3600000.0], \"xaxis\": \"x11\", \"y\": [\"17023335gd30212200iX\"], \"yaxis\": \"y11\"}, {\"alignmentgroup\": \"True\", \"base\": [\"1970-01-04T08:00:00\"], \"hovertemplate\": \"Job=%{y}<br>line=1.0<br>operation=2.0<br>x_start=%{base}<br>x_end=%{x}<extra></extra>\", \"legendgroup\": \"17023335gd30212200iX\", \"marker\": {\"color\": \"#00cc96\"}, \"name\": \"17023335gd30212200iX\", \"offsetgroup\": \"17023335gd30212200iX\", \"orientation\": \"h\", \"showlegend\": false, \"textposition\": \"auto\", \"type\": \"bar\", \"x\": [21600000.0], \"xaxis\": \"x12\", \"y\": [\"17023335gd30212200iX\"], \"yaxis\": \"y12\"}, {\"alignmentgroup\": \"True\", \"base\": [\"1970-01-04T13:00:00\"], \"hovertemplate\": \"Job=%{y}<br>line=2.0<br>operation=2.0<br>x_start=%{base}<br>x_end=%{x}<extra></extra>\", \"legendgroup\": \"17023335gd30212200iX\", \"marker\": {\"color\": \"#00cc96\"}, \"name\": \"17023335gd30212200iX\", \"offsetgroup\": \"17023335gd30212200iX\", \"orientation\": \"h\", \"showlegend\": false, \"textposition\": \"auto\", \"type\": \"bar\", \"x\": [7200000.0], \"xaxis\": \"x10\", \"y\": [\"17023335gd30212200iX\"], \"yaxis\": \"y10\"}, {\"alignmentgroup\": \"True\", \"base\": [\"1970-01-04T08:00:00\"], \"hovertemplate\": \"Job=%{y}<br>line=3.0<br>operation=2.0<br>x_start=%{base}<br>x_end=%{x}<extra></extra>\", \"legendgroup\": \"17023335gd30212200iX\", \"marker\": {\"color\": \"#00cc96\"}, \"name\": \"17023335gd30212200iX\", \"offsetgroup\": \"17023335gd30212200iX\", \"orientation\": \"h\", \"showlegend\": false, \"textposition\": \"auto\", \"type\": \"bar\", \"x\": [7200000.0], \"xaxis\": \"x8\", \"y\": [\"17023335gd30212200iX\"], \"yaxis\": \"y8\"}, {\"alignmentgroup\": \"True\", \"base\": [\"1970-01-04T06:00:00\"], \"hovertemplate\": \"Job=%{y}<br>line=6.0<br>operation=1.0<br>x_start=%{base}<br>x_end=%{x}<extra></extra>\", \"legendgroup\": \"17023335gd30212200iX\", \"marker\": {\"color\": \"#00cc96\"}, \"name\": \"17023335gd30212200iX\", \"offsetgroup\": \"17023335gd30212200iX\", \"orientation\": \"h\", \"showlegend\": false, \"textposition\": \"auto\", \"type\": \"bar\", \"x\": [3600000.0], \"xaxis\": \"x\", \"y\": [\"17023335gd30212200iX\"], \"yaxis\": \"y\"}, {\"alignmentgroup\": \"True\", \"base\": [\"1970-01-07T23:00:00\"], \"hovertemplate\": \"Job=%{y}<br>line=1.0<br>operation=1.0<br>x_start=%{base}<br>x_end=%{x}<extra></extra>\", \"legendgroup\": \"4501763335gd23010000Ud\", \"marker\": {\"color\": \"#ab63fa\"}, \"name\": \"4501763335gd23010000Ud\", \"offsetgroup\": \"4501763335gd23010000Ud\", \"orientation\": \"h\", \"showlegend\": true, \"textposition\": \"auto\", \"type\": \"bar\", \"x\": [3600000.0], \"xaxis\": \"x11\", \"y\": [\"4501763335gd23010000Ud\"], \"yaxis\": \"y11\"}, {\"alignmentgroup\": \"True\", \"base\": [\"1970-01-02T23:00:00\"], \"hovertemplate\": \"Job=%{y}<br>line=1.0<br>operation=2.0<br>x_start=%{base}<br>x_end=%{x}<extra></extra>\", \"legendgroup\": \"4501763335gd23010000Ud\", \"marker\": {\"color\": \"#ab63fa\"}, \"name\": \"4501763335gd23010000Ud\", \"offsetgroup\": \"4501763335gd23010000Ud\", \"orientation\": \"h\", \"showlegend\": false, \"textposition\": \"auto\", \"type\": \"bar\", \"x\": [7200000.0], \"xaxis\": \"x12\", \"y\": [\"4501763335gd23010000Ud\"], \"yaxis\": \"y12\"}, {\"alignmentgroup\": \"True\", \"base\": [\"1970-01-06T11:00:00\"], \"hovertemplate\": \"Job=%{y}<br>line=2.0<br>operation=1.0<br>x_start=%{base}<br>x_end=%{x}<extra></extra>\", \"legendgroup\": \"17023636gd280043C0iX\", \"marker\": {\"color\": \"#FFA15A\"}, \"name\": \"17023636gd280043C0iX\", \"offsetgroup\": \"17023636gd280043C0iX\", \"orientation\": \"h\", \"showlegend\": true, \"textposition\": \"auto\", \"type\": \"bar\", \"x\": [14400000.0], \"xaxis\": \"x9\", \"y\": [\"17023636gd280043C0iX\"], \"yaxis\": \"y9\"}, {\"alignmentgroup\": \"True\", \"base\": [\"1970-01-05T08:00:00\"], \"hovertemplate\": \"Job=%{y}<br>line=2.0<br>operation=2.0<br>x_start=%{base}<br>x_end=%{x}<extra></extra>\", \"legendgroup\": \"17023636gd280043C0iX\", \"marker\": {\"color\": \"#FFA15A\"}, \"name\": \"17023636gd280043C0iX\", \"offsetgroup\": \"17023636gd280043C0iX\", \"orientation\": \"h\", \"showlegend\": false, \"textposition\": \"auto\", \"type\": \"bar\", \"x\": [118800000.0], \"xaxis\": \"x10\", \"y\": [\"17023636gd280043C0iX\"], \"yaxis\": \"y10\"}, {\"alignmentgroup\": \"True\", \"base\": [\"1970-01-04T18:00:00\"], \"hovertemplate\": \"Job=%{y}<br>line=6.0<br>operation=2.0<br>x_start=%{base}<br>x_end=%{x}<extra></extra>\", \"legendgroup\": \"17023636gd280043C0iX\", \"marker\": {\"color\": \"#FFA15A\"}, \"name\": \"17023636gd280043C0iX\", \"offsetgroup\": \"17023636gd280043C0iX\", \"orientation\": \"h\", \"showlegend\": false, \"textposition\": \"auto\", \"type\": \"bar\", \"x\": [266400000.0], \"xaxis\": \"x2\", \"y\": [\"17023636gd280043C0iX\"], \"yaxis\": \"y2\"}, {\"alignmentgroup\": \"True\", \"base\": [\"1970-01-08T17:00:00\"], \"hovertemplate\": \"Job=%{y}<br>line=2.0<br>operation=1.0<br>x_start=%{base}<br>x_end=%{x}<extra></extra>\", \"legendgroup\": \"17023636gd28001701iX\", \"marker\": {\"color\": \"#19d3f3\"}, \"name\": \"17023636gd28001701iX\", \"offsetgroup\": \"17023636gd28001701iX\", \"orientation\": \"h\", \"showlegend\": true, \"textposition\": \"auto\", \"type\": \"bar\", \"x\": [7200000.0], \"xaxis\": \"x9\", \"y\": [\"17023636gd28001701iX\"], \"yaxis\": \"y9\"}, {\"alignmentgroup\": \"True\", \"base\": [\"1970-01-06T21:00:00\"], \"hovertemplate\": \"Job=%{y}<br>line=2.0<br>operation=2.0<br>x_start=%{base}<br>x_end=%{x}<extra></extra>\", \"legendgroup\": \"17023636gd28001701iX\", \"marker\": {\"color\": \"#19d3f3\"}, \"name\": \"17023636gd28001701iX\", \"offsetgroup\": \"17023636gd28001701iX\", \"orientation\": \"h\", \"showlegend\": false, \"textposition\": \"auto\", \"type\": \"bar\", \"x\": [248400000.0], \"xaxis\": \"x10\", \"y\": [\"17023636gd28001701iX\"], \"yaxis\": \"y10\"}, {\"alignmentgroup\": \"True\", \"base\": [\"1970-01-03T22:00:00\"], \"hovertemplate\": \"Job=%{y}<br>line=3.0<br>operation=2.0<br>x_start=%{base}<br>x_end=%{x}<extra></extra>\", \"legendgroup\": \"17023636gd28001701iX\", \"marker\": {\"color\": \"#19d3f3\"}, \"name\": \"17023636gd28001701iX\", \"offsetgroup\": \"17023636gd28001701iX\", \"orientation\": \"h\", \"showlegend\": false, \"textposition\": \"auto\", \"type\": \"bar\", \"x\": [21600000.0], \"xaxis\": \"x8\", \"y\": [\"17023636gd28001701iX\"], \"yaxis\": \"y8\"}, {\"alignmentgroup\": \"True\", \"base\": [\"1970-01-08T03:00:00\"], \"hovertemplate\": \"Job=%{y}<br>line=5.0<br>operation=2.0<br>x_start=%{base}<br>x_end=%{x}<extra></extra>\", \"legendgroup\": \"17023636gd28001701iX\", \"marker\": {\"color\": \"#19d3f3\"}, \"name\": \"17023636gd28001701iX\", \"offsetgroup\": \"17023636gd28001701iX\", \"orientation\": \"h\", \"showlegend\": false, \"textposition\": \"auto\", \"type\": \"bar\", \"x\": [50400000.0], \"xaxis\": \"x4\", \"y\": [\"17023636gd28001701iX\"], \"yaxis\": \"y4\"}, {\"alignmentgroup\": \"True\", \"base\": [\"1970-01-08T03:00:00\"], \"hovertemplate\": \"Job=%{y}<br>line=6.0<br>operation=2.0<br>x_start=%{base}<br>x_end=%{x}<extra></extra>\", \"legendgroup\": \"17023636gd28001701iX\", \"marker\": {\"color\": \"#19d3f3\"}, \"name\": \"17023636gd28001701iX\", \"offsetgroup\": \"17023636gd28001701iX\", \"orientation\": \"h\", \"showlegend\": false, \"textposition\": \"auto\", \"type\": \"bar\", \"x\": [25200000.0], \"xaxis\": \"x2\", \"y\": [\"17023636gd28001701iX\"], \"yaxis\": \"y2\"}, {\"alignmentgroup\": \"True\", \"base\": [\"1970-01-01T10:00:00\"], \"hovertemplate\": \"Job=%{y}<br>line=1.0<br>operation=2.0<br>x_start=%{base}<br>x_end=%{x}<extra></extra>\", \"legendgroup\": \"17023287gd29907800iX\", \"marker\": {\"color\": \"#FF6692\"}, \"name\": \"17023287gd29907800iX\", \"offsetgroup\": \"17023287gd29907800iX\", \"orientation\": \"h\", \"showlegend\": true, \"textposition\": \"auto\", \"type\": \"bar\", \"x\": [18000000.0], \"xaxis\": \"x12\", \"y\": [\"17023287gd29907800iX\"], \"yaxis\": \"y12\"}, {\"alignmentgroup\": \"True\", \"base\": [\"1970-01-04T22:00:00\"], \"hovertemplate\": \"Job=%{y}<br>line=2.0<br>operation=2.0<br>x_start=%{base}<br>x_end=%{x}<extra></extra>\", \"legendgroup\": \"17023287gd29907800iX\", \"marker\": {\"color\": \"#FF6692\"}, \"name\": \"17023287gd29907800iX\", \"offsetgroup\": \"17023287gd29907800iX\", \"orientation\": \"h\", \"showlegend\": false, \"textposition\": \"auto\", \"type\": \"bar\", \"x\": [21600000.0], \"xaxis\": \"x10\", \"y\": [\"17023287gd29907800iX\"], \"yaxis\": \"y10\"}, {\"alignmentgroup\": \"True\", \"base\": [\"1970-01-01T06:00:00\"], \"hovertemplate\": \"Job=%{y}<br>line=3.0<br>operation=1.0<br>x_start=%{base}<br>x_end=%{x}<extra></extra>\", \"legendgroup\": \"17023287gd29907800iX\", \"marker\": {\"color\": \"#FF6692\"}, \"name\": \"17023287gd29907800iX\", \"offsetgroup\": \"17023287gd29907800iX\", \"orientation\": \"h\", \"showlegend\": false, \"textposition\": \"auto\", \"type\": \"bar\", \"x\": [3600000.0], \"xaxis\": \"x7\", \"y\": [\"17023287gd29907800iX\"], \"yaxis\": \"y7\"}, {\"alignmentgroup\": \"True\", \"base\": [\"1970-01-08T09:00:00\"], \"hovertemplate\": \"Job=%{y}<br>line=6.0<br>operation=1.0<br>x_start=%{base}<br>x_end=%{x}<extra></extra>\", \"legendgroup\": \"17023287gd29907800iX\", \"marker\": {\"color\": \"#FF6692\"}, \"name\": \"17023287gd29907800iX\", \"offsetgroup\": \"17023287gd29907800iX\", \"orientation\": \"h\", \"showlegend\": false, \"textposition\": \"auto\", \"type\": \"bar\", \"x\": [8553600000.0], \"xaxis\": \"x\", \"y\": [\"17023287gd29907800iX\"], \"yaxis\": \"y\"}, {\"alignmentgroup\": \"True\", \"base\": [\"1970-01-02T06:00:00\"], \"hovertemplate\": \"Job=%{y}<br>line=1.0<br>operation=2.0<br>x_start=%{base}<br>x_end=%{x}<extra></extra>\", \"legendgroup\": \"17023335gd28018100iX\", \"marker\": {\"color\": \"#B6E880\"}, \"name\": \"17023335gd28018100iX\", \"offsetgroup\": \"17023335gd28018100iX\", \"orientation\": \"h\", \"showlegend\": true, \"textposition\": \"auto\", \"type\": \"bar\", \"x\": [46800000.0], \"xaxis\": \"x12\", \"y\": [\"17023335gd28018100iX\"], \"yaxis\": \"y12\"}, {\"alignmentgroup\": \"True\", \"base\": [\"1970-01-03T06:00:00\"], \"hovertemplate\": \"Job=%{y}<br>line=2.0<br>operation=2.0<br>x_start=%{base}<br>x_end=%{x}<extra></extra>\", \"legendgroup\": \"17023335gd28018100iX\", \"marker\": {\"color\": \"#B6E880\"}, \"name\": \"17023335gd28018100iX\", \"offsetgroup\": \"17023335gd28018100iX\", \"orientation\": \"h\", \"showlegend\": false, \"textposition\": \"auto\", \"type\": \"bar\", \"x\": [3600000.0], \"xaxis\": \"x10\", \"y\": [\"17023335gd28018100iX\"], \"yaxis\": \"y10\"}, {\"alignmentgroup\": \"True\", \"base\": [\"1970-01-06T04:00:00\"], \"hovertemplate\": \"Job=%{y}<br>line=3.0<br>operation=1.0<br>x_start=%{base}<br>x_end=%{x}<extra></extra>\", \"legendgroup\": \"17023335gd28018100iX\", \"marker\": {\"color\": \"#B6E880\"}, \"name\": \"17023335gd28018100iX\", \"offsetgroup\": \"17023335gd28018100iX\", \"orientation\": \"h\", \"showlegend\": false, \"textposition\": \"auto\", \"type\": \"bar\", \"x\": [7200000.0], \"xaxis\": \"x7\", \"y\": [\"17023335gd28018100iX\"], \"yaxis\": \"y7\"}, {\"alignmentgroup\": \"True\", \"base\": [\"1970-01-06T10:00:00\"], \"hovertemplate\": \"Job=%{y}<br>line=3.0<br>operation=1.0<br>x_start=%{base}<br>x_end=%{x}<extra></extra>\", \"legendgroup\": \"17023637gd28001701iX\", \"marker\": {\"color\": \"#FF97FF\"}, \"name\": \"17023637gd28001701iX\", \"offsetgroup\": \"17023637gd28001701iX\", \"orientation\": \"h\", \"showlegend\": true, \"textposition\": \"auto\", \"type\": \"bar\", \"x\": [14400000.0], \"xaxis\": \"x7\", \"y\": [\"17023637gd28001701iX\"], \"yaxis\": \"y7\"}, {\"alignmentgroup\": \"True\", \"base\": [\"1970-01-04T14:00:00\"], \"hovertemplate\": \"Job=%{y}<br>line=3.0<br>operation=2.0<br>x_start=%{base}<br>x_end=%{x}<extra></extra>\", \"legendgroup\": \"17023637gd28001701iX\", \"marker\": {\"color\": \"#FF97FF\"}, \"name\": \"17023637gd28001701iX\", \"offsetgroup\": \"17023637gd28001701iX\", \"orientation\": \"h\", \"showlegend\": false, \"textposition\": \"auto\", \"type\": \"bar\", \"x\": [136800000.0], \"xaxis\": \"x8\", \"y\": [\"17023637gd28001701iX\"], \"yaxis\": \"y8\"}, {\"alignmentgroup\": \"True\", \"base\": [\"1970-01-01T10:00:00\"], \"hovertemplate\": \"Job=%{y}<br>line=4.0<br>operation=2.0<br>x_start=%{base}<br>x_end=%{x}<extra></extra>\", \"legendgroup\": \"17023637gd28001701iX\", \"marker\": {\"color\": \"#FF97FF\"}, \"name\": \"17023637gd28001701iX\", \"offsetgroup\": \"17023637gd28001701iX\", \"orientation\": \"h\", \"showlegend\": false, \"textposition\": \"auto\", \"type\": \"bar\", \"x\": [3600000.0], \"xaxis\": \"x6\", \"y\": [\"17023637gd28001701iX\"], \"yaxis\": \"y6\"}, {\"alignmentgroup\": \"True\", \"base\": [\"1970-01-01T09:00:00\"], \"hovertemplate\": \"Job=%{y}<br>line=5.0<br>operation=2.0<br>x_start=%{base}<br>x_end=%{x}<extra></extra>\", \"legendgroup\": \"17023637gd28001701iX\", \"marker\": {\"color\": \"#FF97FF\"}, \"name\": \"17023637gd28001701iX\", \"offsetgroup\": \"17023637gd28001701iX\", \"orientation\": \"h\", \"showlegend\": false, \"textposition\": \"auto\", \"type\": \"bar\", \"x\": [565200000.0], \"xaxis\": \"x4\", \"y\": [\"17023637gd28001701iX\"], \"yaxis\": \"y4\"}, {\"alignmentgroup\": \"True\", \"base\": [\"1970-01-04T02:00:00\"], \"hovertemplate\": \"Job=%{y}<br>line=3.0<br>operation=1.0<br>x_start=%{base}<br>x_end=%{x}<extra></extra>\", \"legendgroup\": \"4501763335gC25020000UC\", \"marker\": {\"color\": \"#FECB52\"}, \"name\": \"4501763335gC25020000UC\", \"offsetgroup\": \"4501763335gC25020000UC\", \"orientation\": \"h\", \"showlegend\": true, \"textposition\": \"auto\", \"type\": \"bar\", \"x\": [3600000.0], \"xaxis\": \"x7\", \"y\": [\"4501763335gC25020000UC\"], \"yaxis\": \"y7\"}, {\"alignmentgroup\": \"True\", \"base\": [\"1970-01-02T00:00:00\"], \"hovertemplate\": \"Job=%{y}<br>line=3.0<br>operation=2.0<br>x_start=%{base}<br>x_end=%{x}<extra></extra>\", \"legendgroup\": \"4501763335gC25020000UC\", \"marker\": {\"color\": \"#FECB52\"}, \"name\": \"4501763335gC25020000UC\", \"offsetgroup\": \"4501763335gC25020000UC\", \"orientation\": \"h\", \"showlegend\": false, \"textposition\": \"auto\", \"type\": \"bar\", \"x\": [68400000.0], \"xaxis\": \"x8\", \"y\": [\"4501763335gC25020000UC\"], \"yaxis\": \"y8\"}, {\"alignmentgroup\": \"True\", \"base\": [\"1970-01-01T05:00:00\"], \"hovertemplate\": \"Job=%{y}<br>line=4.0<br>operation=2.0<br>x_start=%{base}<br>x_end=%{x}<extra></extra>\", \"legendgroup\": \"4501763335gC25020000UC\", \"marker\": {\"color\": \"#FECB52\"}, \"name\": \"4501763335gC25020000UC\", \"offsetgroup\": \"4501763335gC25020000UC\", \"orientation\": \"h\", \"showlegend\": false, \"textposition\": \"auto\", \"type\": \"bar\", \"x\": [3600000.0], \"xaxis\": \"x6\", \"y\": [\"4501763335gC25020000UC\"], \"yaxis\": \"y6\"}, {\"alignmentgroup\": \"True\", \"base\": [\"1970-01-01T15:00:00\"], \"hovertemplate\": \"Job=%{y}<br>line=6.0<br>operation=2.0<br>x_start=%{base}<br>x_end=%{x}<extra></extra>\", \"legendgroup\": \"4501763335gC25020000UC\", \"marker\": {\"color\": \"#FECB52\"}, \"name\": \"4501763335gC25020000UC\", \"offsetgroup\": \"4501763335gC25020000UC\", \"orientation\": \"h\", \"showlegend\": false, \"textposition\": \"auto\", \"type\": \"bar\", \"x\": [21600000.0], \"xaxis\": \"x2\", \"y\": [\"4501763335gC25020000UC\"], \"yaxis\": \"y2\"}, {\"alignmentgroup\": \"True\", \"base\": [\"1970-01-01T21:00:00\"], \"hovertemplate\": \"Job=%{y}<br>line=2.0<br>operation=2.0<br>x_start=%{base}<br>x_end=%{x}<extra></extra>\", \"legendgroup\": \"17023287gd55102400iX\", \"marker\": {\"color\": \"#636efa\"}, \"name\": \"17023287gd55102400iX\", \"offsetgroup\": \"17023287gd55102400iX\", \"orientation\": \"h\", \"showlegend\": true, \"textposition\": \"auto\", \"type\": \"bar\", \"x\": [104400000.0], \"xaxis\": \"x10\", \"y\": [\"17023287gd55102400iX\"], \"yaxis\": \"y10\"}, {\"alignmentgroup\": \"True\", \"base\": [\"1970-01-01T05:00:00\"], \"hovertemplate\": \"Job=%{y}<br>line=3.0<br>operation=2.0<br>x_start=%{base}<br>x_end=%{x}<extra></extra>\", \"legendgroup\": \"17023287gd55102400iX\", \"marker\": {\"color\": \"#636efa\"}, \"name\": \"17023287gd55102400iX\", \"offsetgroup\": \"17023287gd55102400iX\", \"orientation\": \"h\", \"showlegend\": false, \"textposition\": \"auto\", \"type\": \"bar\", \"x\": [54000000.0], \"xaxis\": \"x8\", \"y\": [\"17023287gd55102400iX\"], \"yaxis\": \"y8\"}, {\"alignmentgroup\": \"True\", \"base\": [\"1970-01-01T01:00:00\"], \"hovertemplate\": \"Job=%{y}<br>line=4.0<br>operation=1.0<br>x_start=%{base}<br>x_end=%{x}<extra></extra>\", \"legendgroup\": \"17023287gd55102400iX\", \"marker\": {\"color\": \"#636efa\"}, \"name\": \"17023287gd55102400iX\", \"offsetgroup\": \"17023287gd55102400iX\", \"orientation\": \"h\", \"showlegend\": false, \"textposition\": \"auto\", \"type\": \"bar\", \"x\": [3600000.0], \"xaxis\": \"x5\", \"y\": [\"17023287gd55102400iX\"], \"yaxis\": \"y5\"}, {\"alignmentgroup\": \"True\", \"base\": [\"1970-01-03T11:00:00\"], \"hovertemplate\": \"Job=%{y}<br>line=2.0<br>operation=2.0<br>x_start=%{base}<br>x_end=%{x}<extra></extra>\", \"legendgroup\": \"17023572gd43208500iX\", \"marker\": {\"color\": \"#EF553B\"}, \"name\": \"17023572gd43208500iX\", \"offsetgroup\": \"17023572gd43208500iX\", \"orientation\": \"h\", \"showlegend\": true, \"textposition\": \"auto\", \"type\": \"bar\", \"x\": [79200000.0], \"xaxis\": \"x10\", \"y\": [\"17023572gd43208500iX\"], \"yaxis\": \"y10\"}, {\"alignmentgroup\": \"True\", \"base\": [\"1970-01-01T06:00:00\"], \"hovertemplate\": \"Job=%{y}<br>line=4.0<br>operation=1.0<br>x_start=%{base}<br>x_end=%{x}<extra></extra>\", \"legendgroup\": \"17023572gd43208500iX\", \"marker\": {\"color\": \"#EF553B\"}, \"name\": \"17023572gd43208500iX\", \"offsetgroup\": \"17023572gd43208500iX\", \"orientation\": \"h\", \"showlegend\": false, \"textposition\": \"auto\", \"type\": \"bar\", \"x\": [7200000.0], \"xaxis\": \"x5\", \"y\": [\"17023572gd43208500iX\"], \"yaxis\": \"y5\"}, {\"alignmentgroup\": \"True\", \"base\": [\"1970-01-05T04:00:00\"], \"hovertemplate\": \"Job=%{y}<br>line=4.0<br>operation=1.0<br>x_start=%{base}<br>x_end=%{x}<extra></extra>\", \"legendgroup\": \"17023335gd28013000iX\", \"marker\": {\"color\": \"#00cc96\"}, \"name\": \"17023335gd28013000iX\", \"offsetgroup\": \"17023335gd28013000iX\", \"orientation\": \"h\", \"showlegend\": true, \"textposition\": \"auto\", \"type\": \"bar\", \"x\": [79200000.0], \"xaxis\": \"x5\", \"y\": [\"17023335gd28013000iX\"], \"yaxis\": \"y5\"}, {\"alignmentgroup\": \"True\", \"base\": [\"1970-01-01T17:00:00\"], \"hovertemplate\": \"Job=%{y}<br>line=5.0<br>operation=1.0<br>x_start=%{base}<br>x_end=%{x}<extra></extra>\", \"legendgroup\": \"17023335gd28013000iX\", \"marker\": {\"color\": \"#00cc96\"}, \"name\": \"17023335gd28013000iX\", \"offsetgroup\": \"17023335gd28013000iX\", \"orientation\": \"h\", \"showlegend\": false, \"textposition\": \"auto\", \"type\": \"bar\", \"x\": [3600000.0], \"xaxis\": \"x3\", \"y\": [\"17023335gd28013000iX\"], \"yaxis\": \"y3\"}, {\"alignmentgroup\": \"True\", \"base\": [\"1970-01-01T04:00:00\"], \"hovertemplate\": \"Job=%{y}<br>line=5.0<br>operation=2.0<br>x_start=%{base}<br>x_end=%{x}<extra></extra>\", \"legendgroup\": \"17023335gd28013000iX\", \"marker\": {\"color\": \"#00cc96\"}, \"name\": \"17023335gd28013000iX\", \"offsetgroup\": \"17023335gd28013000iX\", \"orientation\": \"h\", \"showlegend\": false, \"textposition\": \"auto\", \"type\": \"bar\", \"x\": [3600000.0], \"xaxis\": \"x4\", \"y\": [\"17023335gd28013000iX\"], \"yaxis\": \"y4\"}, {\"alignmentgroup\": \"True\", \"base\": [\"1970-01-01T04:00:00\"], \"hovertemplate\": \"Job=%{y}<br>line=6.0<br>operation=2.0<br>x_start=%{base}<br>x_end=%{x}<extra></extra>\", \"legendgroup\": \"17023335gd28013000iX\", \"marker\": {\"color\": \"#00cc96\"}, \"name\": \"17023335gd28013000iX\", \"offsetgroup\": \"17023335gd28013000iX\", \"orientation\": \"h\", \"showlegend\": false, \"textposition\": \"auto\", \"type\": \"bar\", \"x\": [25200000.0], \"xaxis\": \"x2\", \"y\": [\"17023335gd28013000iX\"], \"yaxis\": \"y2\"}, {\"alignmentgroup\": \"True\", \"base\": [\"1970-01-04T18:00:00\"], \"hovertemplate\": \"Job=%{y}<br>line=1.0<br>operation=2.0<br>x_start=%{base}<br>x_end=%{x}<extra></extra>\", \"legendgroup\": \"17023637gd28002400iX\", \"marker\": {\"color\": \"#ab63fa\"}, \"name\": \"17023637gd28002400iX\", \"offsetgroup\": \"17023637gd28002400iX\", \"orientation\": \"h\", \"showlegend\": true, \"textposition\": \"auto\", \"type\": \"bar\", \"x\": [115200000.0], \"xaxis\": \"x12\", \"y\": [\"17023637gd28002400iX\"], \"yaxis\": \"y12\"}, {\"alignmentgroup\": \"True\", \"base\": [\"1970-01-03T05:00:00\"], \"hovertemplate\": \"Job=%{y}<br>line=4.0<br>operation=1.0<br>x_start=%{base}<br>x_end=%{x}<extra></extra>\", \"legendgroup\": \"17023637gd28002400iX\", \"marker\": {\"color\": \"#ab63fa\"}, \"name\": \"17023637gd28002400iX\", \"offsetgroup\": \"17023637gd28002400iX\", \"orientation\": \"h\", \"showlegend\": false, \"textposition\": \"auto\", \"type\": \"bar\", \"x\": [3600000.0], \"xaxis\": \"x5\", \"y\": [\"17023637gd28002400iX\"], \"yaxis\": \"y5\"}, {\"alignmentgroup\": \"True\", \"base\": [\"1970-01-06T22:00:00\"], \"hovertemplate\": \"Job=%{y}<br>line=1.0<br>operation=2.0<br>x_start=%{base}<br>x_end=%{x}<extra></extra>\", \"legendgroup\": \"17023440gd23010000gR\", \"marker\": {\"color\": \"#FFA15A\"}, \"name\": \"17023440gd23010000gR\", \"offsetgroup\": \"17023440gd23010000gR\", \"orientation\": \"h\", \"showlegend\": true, \"textposition\": \"auto\", \"type\": \"bar\", \"x\": [86400000.0], \"xaxis\": \"x12\", \"y\": [\"17023440gd23010000gR\"], \"yaxis\": \"y12\"}, {\"alignmentgroup\": \"True\", \"base\": [\"1970-01-09T01:00:00\"], \"hovertemplate\": \"Job=%{y}<br>line=4.0<br>operation=1.0<br>x_start=%{base}<br>x_end=%{x}<extra></extra>\", \"legendgroup\": \"17023440gd23010000gR\", \"marker\": {\"color\": \"#FFA15A\"}, \"name\": \"17023440gd23010000gR\", \"offsetgroup\": \"17023440gd23010000gR\", \"orientation\": \"h\", \"showlegend\": false, \"textposition\": \"auto\", \"type\": \"bar\", \"x\": [7200000.0], \"xaxis\": \"x5\", \"y\": [\"17023440gd23010000gR\"], \"yaxis\": \"y5\"}, {\"alignmentgroup\": \"True\", \"base\": [\"1970-02-02T08:00:00\"], \"hovertemplate\": \"Job=%{y}<br>line=5.0<br>operation=1.0<br>x_start=%{base}<br>x_end=%{x}<extra></extra>\", \"legendgroup\": \"17023439gd28311300iX\", \"marker\": {\"color\": \"#19d3f3\"}, \"name\": \"17023439gd28311300iX\", \"offsetgroup\": \"17023439gd28311300iX\", \"orientation\": \"h\", \"showlegend\": true, \"textposition\": \"auto\", \"type\": \"bar\", \"x\": [5274000000.0], \"xaxis\": \"x3\", \"y\": [\"17023439gd28311300iX\"], \"yaxis\": \"y3\"}, {\"alignmentgroup\": \"True\", \"base\": [\"1970-01-08T21:00:00\"], \"hovertemplate\": \"Job=%{y}<br>line=5.0<br>operation=2.0<br>x_start=%{base}<br>x_end=%{x}<extra></extra>\", \"legendgroup\": \"17023439gd28311300iX\", \"marker\": {\"color\": \"#19d3f3\"}, \"name\": \"17023439gd28311300iX\", \"offsetgroup\": \"17023439gd28311300iX\", \"orientation\": \"h\", \"showlegend\": false, \"textposition\": \"auto\", \"type\": \"bar\", \"x\": [144000000.0], \"xaxis\": \"x4\", \"y\": [\"17023439gd28311300iX\"], \"yaxis\": \"y4\"}, {\"alignmentgroup\": \"True\", \"base\": [\"1970-01-04T09:00:00\"], \"hovertemplate\": \"Job=%{y}<br>line=6.0<br>operation=2.0<br>x_start=%{base}<br>x_end=%{x}<extra></extra>\", \"legendgroup\": \"17023439gd28311300iX\", \"marker\": {\"color\": \"#19d3f3\"}, \"name\": \"17023439gd28311300iX\", \"offsetgroup\": \"17023439gd28311300iX\", \"orientation\": \"h\", \"showlegend\": false, \"textposition\": \"auto\", \"type\": \"bar\", \"x\": [18000000.0], \"xaxis\": \"x2\", \"y\": [\"17023439gd28311300iX\"], \"yaxis\": \"y2\"}, {\"alignmentgroup\": \"True\", \"base\": [\"1970-01-02T23:00:00\"], \"hovertemplate\": \"Job=%{y}<br>line=3.0<br>operation=2.0<br>x_start=%{base}<br>x_end=%{x}<extra></extra>\", \"legendgroup\": \"4501763335gd251100C0Ud\", \"marker\": {\"color\": \"#FF6692\"}, \"name\": \"4501763335gd251100C0Ud\", \"offsetgroup\": \"4501763335gd251100C0Ud\", \"orientation\": \"h\", \"showlegend\": true, \"textposition\": \"auto\", \"type\": \"bar\", \"x\": [32400000.0], \"xaxis\": \"x8\", \"y\": [\"4501763335gd251100C0Ud\"], \"yaxis\": \"y8\"}, {\"alignmentgroup\": \"True\", \"base\": [\"1970-01-08T07:00:00\"], \"hovertemplate\": \"Job=%{y}<br>line=5.0<br>operation=1.0<br>x_start=%{base}<br>x_end=%{x}<extra></extra>\", \"legendgroup\": \"4501763335gd251100C0Ud\", \"marker\": {\"color\": \"#FF6692\"}, \"name\": \"4501763335gd251100C0Ud\", \"offsetgroup\": \"4501763335gd251100C0Ud\", \"orientation\": \"h\", \"showlegend\": false, \"textposition\": \"auto\", \"type\": \"bar\", \"x\": [442800000.0], \"xaxis\": \"x3\", \"y\": [\"4501763335gd251100C0Ud\"], \"yaxis\": \"y3\"}],                        {\"annotations\": [{\"font\": {}, \"showarrow\": false, \"text\": \"operation=1.0\", \"x\": 0.24, \"xanchor\": \"center\", \"xref\": \"paper\", \"y\": 1.0, \"yanchor\": \"bottom\", \"yref\": \"paper\"}, {\"font\": {}, \"showarrow\": false, \"text\": \"operation=2.0\", \"x\": 0.74, \"xanchor\": \"center\", \"xref\": \"paper\", \"y\": 1.0, \"yanchor\": \"bottom\", \"yref\": \"paper\"}, {\"font\": {}, \"showarrow\": false, \"text\": \"line=6.0\", \"textangle\": 90, \"x\": 0.98, \"xanchor\": \"left\", \"xref\": \"paper\", \"y\": 0.07083333333333333, \"yanchor\": \"middle\", \"yref\": \"paper\"}, {\"font\": {}, \"showarrow\": false, \"text\": \"line=5.0\", \"textangle\": 90, \"x\": 0.98, \"xanchor\": \"left\", \"xref\": \"paper\", \"y\": 0.2425, \"yanchor\": \"middle\", \"yref\": \"paper\"}, {\"font\": {}, \"showarrow\": false, \"text\": \"line=4.0\", \"textangle\": 90, \"x\": 0.98, \"xanchor\": \"left\", \"xref\": \"paper\", \"y\": 0.4141666666666667, \"yanchor\": \"middle\", \"yref\": \"paper\"}, {\"font\": {}, \"showarrow\": false, \"text\": \"line=3.0\", \"textangle\": 90, \"x\": 0.98, \"xanchor\": \"left\", \"xref\": \"paper\", \"y\": 0.5858333333333334, \"yanchor\": \"middle\", \"yref\": \"paper\"}, {\"font\": {}, \"showarrow\": false, \"text\": \"line=2.0\", \"textangle\": 90, \"x\": 0.98, \"xanchor\": \"left\", \"xref\": \"paper\", \"y\": 0.7575000000000001, \"yanchor\": \"middle\", \"yref\": \"paper\"}, {\"font\": {}, \"showarrow\": false, \"text\": \"line=1.0\", \"textangle\": 90, \"x\": 0.98, \"xanchor\": \"left\", \"xref\": \"paper\", \"y\": 0.9291666666666667, \"yanchor\": \"middle\", \"yref\": \"paper\"}], \"barmode\": \"overlay\", \"height\": 1200, \"legend\": {\"title\": {\"text\": \"Job\"}, \"tracegroupgap\": 0}, \"margin\": {\"t\": 60}, \"template\": {\"data\": {\"bar\": [{\"error_x\": {\"color\": \"#2a3f5f\"}, \"error_y\": {\"color\": \"#2a3f5f\"}, \"marker\": {\"line\": {\"color\": \"#E5ECF6\", \"width\": 0.5}}, \"type\": \"bar\"}], \"barpolar\": [{\"marker\": {\"line\": {\"color\": \"#E5ECF6\", \"width\": 0.5}}, \"type\": \"barpolar\"}], \"carpet\": [{\"aaxis\": {\"endlinecolor\": \"#2a3f5f\", \"gridcolor\": \"white\", \"linecolor\": \"white\", \"minorgridcolor\": \"white\", \"startlinecolor\": \"#2a3f5f\"}, \"baxis\": {\"endlinecolor\": \"#2a3f5f\", \"gridcolor\": \"white\", \"linecolor\": \"white\", \"minorgridcolor\": \"white\", \"startlinecolor\": \"#2a3f5f\"}, \"type\": \"carpet\"}], \"choropleth\": [{\"colorbar\": {\"outlinewidth\": 0, \"ticks\": \"\"}, \"type\": \"choropleth\"}], \"contour\": [{\"colorbar\": {\"outlinewidth\": 0, \"ticks\": \"\"}, \"colorscale\": [[0.0, \"#0d0887\"], [0.1111111111111111, \"#46039f\"], [0.2222222222222222, \"#7201a8\"], [0.3333333333333333, \"#9c179e\"], [0.4444444444444444, \"#bd3786\"], [0.5555555555555556, \"#d8576b\"], [0.6666666666666666, \"#ed7953\"], [0.7777777777777778, \"#fb9f3a\"], [0.8888888888888888, \"#fdca26\"], [1.0, \"#f0f921\"]], \"type\": \"contour\"}], \"contourcarpet\": [{\"colorbar\": {\"outlinewidth\": 0, \"ticks\": \"\"}, \"type\": \"contourcarpet\"}], \"heatmap\": [{\"colorbar\": {\"outlinewidth\": 0, \"ticks\": \"\"}, \"colorscale\": [[0.0, \"#0d0887\"], [0.1111111111111111, \"#46039f\"], [0.2222222222222222, \"#7201a8\"], [0.3333333333333333, \"#9c179e\"], [0.4444444444444444, \"#bd3786\"], [0.5555555555555556, \"#d8576b\"], [0.6666666666666666, \"#ed7953\"], [0.7777777777777778, \"#fb9f3a\"], [0.8888888888888888, \"#fdca26\"], [1.0, \"#f0f921\"]], \"type\": \"heatmap\"}], \"heatmapgl\": [{\"colorbar\": {\"outlinewidth\": 0, \"ticks\": \"\"}, \"colorscale\": [[0.0, \"#0d0887\"], [0.1111111111111111, \"#46039f\"], [0.2222222222222222, \"#7201a8\"], [0.3333333333333333, \"#9c179e\"], [0.4444444444444444, \"#bd3786\"], [0.5555555555555556, \"#d8576b\"], [0.6666666666666666, \"#ed7953\"], [0.7777777777777778, \"#fb9f3a\"], [0.8888888888888888, \"#fdca26\"], [1.0, \"#f0f921\"]], \"type\": \"heatmapgl\"}], \"histogram\": [{\"marker\": {\"colorbar\": {\"outlinewidth\": 0, \"ticks\": \"\"}}, \"type\": \"histogram\"}], \"histogram2d\": [{\"colorbar\": {\"outlinewidth\": 0, \"ticks\": \"\"}, \"colorscale\": [[0.0, \"#0d0887\"], [0.1111111111111111, \"#46039f\"], [0.2222222222222222, \"#7201a8\"], [0.3333333333333333, \"#9c179e\"], [0.4444444444444444, \"#bd3786\"], [0.5555555555555556, \"#d8576b\"], [0.6666666666666666, \"#ed7953\"], [0.7777777777777778, \"#fb9f3a\"], [0.8888888888888888, \"#fdca26\"], [1.0, \"#f0f921\"]], \"type\": \"histogram2d\"}], \"histogram2dcontour\": [{\"colorbar\": {\"outlinewidth\": 0, \"ticks\": \"\"}, \"colorscale\": [[0.0, \"#0d0887\"], [0.1111111111111111, \"#46039f\"], [0.2222222222222222, \"#7201a8\"], [0.3333333333333333, \"#9c179e\"], [0.4444444444444444, \"#bd3786\"], [0.5555555555555556, \"#d8576b\"], [0.6666666666666666, \"#ed7953\"], [0.7777777777777778, \"#fb9f3a\"], [0.8888888888888888, \"#fdca26\"], [1.0, \"#f0f921\"]], \"type\": \"histogram2dcontour\"}], \"mesh3d\": [{\"colorbar\": {\"outlinewidth\": 0, \"ticks\": \"\"}, \"type\": \"mesh3d\"}], \"parcoords\": [{\"line\": {\"colorbar\": {\"outlinewidth\": 0, \"ticks\": \"\"}}, \"type\": \"parcoords\"}], \"pie\": [{\"automargin\": true, \"type\": \"pie\"}], \"scatter\": [{\"marker\": {\"colorbar\": {\"outlinewidth\": 0, \"ticks\": \"\"}}, \"type\": \"scatter\"}], \"scatter3d\": [{\"line\": {\"colorbar\": {\"outlinewidth\": 0, \"ticks\": \"\"}}, \"marker\": {\"colorbar\": {\"outlinewidth\": 0, \"ticks\": \"\"}}, \"type\": \"scatter3d\"}], \"scattercarpet\": [{\"marker\": {\"colorbar\": {\"outlinewidth\": 0, \"ticks\": \"\"}}, \"type\": \"scattercarpet\"}], \"scattergeo\": [{\"marker\": {\"colorbar\": {\"outlinewidth\": 0, \"ticks\": \"\"}}, \"type\": \"scattergeo\"}], \"scattergl\": [{\"marker\": {\"colorbar\": {\"outlinewidth\": 0, \"ticks\": \"\"}}, \"type\": \"scattergl\"}], \"scattermapbox\": [{\"marker\": {\"colorbar\": {\"outlinewidth\": 0, \"ticks\": \"\"}}, \"type\": \"scattermapbox\"}], \"scatterpolar\": [{\"marker\": {\"colorbar\": {\"outlinewidth\": 0, \"ticks\": \"\"}}, \"type\": \"scatterpolar\"}], \"scatterpolargl\": [{\"marker\": {\"colorbar\": {\"outlinewidth\": 0, \"ticks\": \"\"}}, \"type\": \"scatterpolargl\"}], \"scatterternary\": [{\"marker\": {\"colorbar\": {\"outlinewidth\": 0, \"ticks\": \"\"}}, \"type\": \"scatterternary\"}], \"surface\": [{\"colorbar\": {\"outlinewidth\": 0, \"ticks\": \"\"}, \"colorscale\": [[0.0, \"#0d0887\"], [0.1111111111111111, \"#46039f\"], [0.2222222222222222, \"#7201a8\"], [0.3333333333333333, \"#9c179e\"], [0.4444444444444444, \"#bd3786\"], [0.5555555555555556, \"#d8576b\"], [0.6666666666666666, \"#ed7953\"], [0.7777777777777778, \"#fb9f3a\"], [0.8888888888888888, \"#fdca26\"], [1.0, \"#f0f921\"]], \"type\": \"surface\"}], \"table\": [{\"cells\": {\"fill\": {\"color\": \"#EBF0F8\"}, \"line\": {\"color\": \"white\"}}, \"header\": {\"fill\": {\"color\": \"#C8D4E3\"}, \"line\": {\"color\": \"white\"}}, \"type\": \"table\"}]}, \"layout\": {\"annotationdefaults\": {\"arrowcolor\": \"#2a3f5f\", \"arrowhead\": 0, \"arrowwidth\": 1}, \"coloraxis\": {\"colorbar\": {\"outlinewidth\": 0, \"ticks\": \"\"}}, \"colorscale\": {\"diverging\": [[0, \"#8e0152\"], [0.1, \"#c51b7d\"], [0.2, \"#de77ae\"], [0.3, \"#f1b6da\"], [0.4, \"#fde0ef\"], [0.5, \"#f7f7f7\"], [0.6, \"#e6f5d0\"], [0.7, \"#b8e186\"], [0.8, \"#7fbc41\"], [0.9, \"#4d9221\"], [1, \"#276419\"]], \"sequential\": [[0.0, \"#0d0887\"], [0.1111111111111111, \"#46039f\"], [0.2222222222222222, \"#7201a8\"], [0.3333333333333333, \"#9c179e\"], [0.4444444444444444, \"#bd3786\"], [0.5555555555555556, \"#d8576b\"], [0.6666666666666666, \"#ed7953\"], [0.7777777777777778, \"#fb9f3a\"], [0.8888888888888888, \"#fdca26\"], [1.0, \"#f0f921\"]], \"sequentialminus\": [[0.0, \"#0d0887\"], [0.1111111111111111, \"#46039f\"], [0.2222222222222222, \"#7201a8\"], [0.3333333333333333, \"#9c179e\"], [0.4444444444444444, \"#bd3786\"], [0.5555555555555556, \"#d8576b\"], [0.6666666666666666, \"#ed7953\"], [0.7777777777777778, \"#fb9f3a\"], [0.8888888888888888, \"#fdca26\"], [1.0, \"#f0f921\"]]}, \"colorway\": [\"#636efa\", \"#EF553B\", \"#00cc96\", \"#ab63fa\", \"#FFA15A\", \"#19d3f3\", \"#FF6692\", \"#B6E880\", \"#FF97FF\", \"#FECB52\"], \"font\": {\"color\": \"#2a3f5f\"}, \"geo\": {\"bgcolor\": \"white\", \"lakecolor\": \"white\", \"landcolor\": \"#E5ECF6\", \"showlakes\": true, \"showland\": true, \"subunitcolor\": \"white\"}, \"hoverlabel\": {\"align\": \"left\"}, \"hovermode\": \"closest\", \"mapbox\": {\"style\": \"light\"}, \"paper_bgcolor\": \"white\", \"plot_bgcolor\": \"#E5ECF6\", \"polar\": {\"angularaxis\": {\"gridcolor\": \"white\", \"linecolor\": \"white\", \"ticks\": \"\"}, \"bgcolor\": \"#E5ECF6\", \"radialaxis\": {\"gridcolor\": \"white\", \"linecolor\": \"white\", \"ticks\": \"\"}}, \"scene\": {\"xaxis\": {\"backgroundcolor\": \"#E5ECF6\", \"gridcolor\": \"white\", \"gridwidth\": 2, \"linecolor\": \"white\", \"showbackground\": true, \"ticks\": \"\", \"zerolinecolor\": \"white\"}, \"yaxis\": {\"backgroundcolor\": \"#E5ECF6\", \"gridcolor\": \"white\", \"gridwidth\": 2, \"linecolor\": \"white\", \"showbackground\": true, \"ticks\": \"\", \"zerolinecolor\": \"white\"}, \"zaxis\": {\"backgroundcolor\": \"#E5ECF6\", \"gridcolor\": \"white\", \"gridwidth\": 2, \"linecolor\": \"white\", \"showbackground\": true, \"ticks\": \"\", \"zerolinecolor\": \"white\"}}, \"shapedefaults\": {\"line\": {\"color\": \"#2a3f5f\"}}, \"ternary\": {\"aaxis\": {\"gridcolor\": \"white\", \"linecolor\": \"white\", \"ticks\": \"\"}, \"baxis\": {\"gridcolor\": \"white\", \"linecolor\": \"white\", \"ticks\": \"\"}, \"bgcolor\": \"#E5ECF6\", \"caxis\": {\"gridcolor\": \"white\", \"linecolor\": \"white\", \"ticks\": \"\"}}, \"title\": {\"x\": 0.05}, \"xaxis\": {\"automargin\": true, \"gridcolor\": \"white\", \"linecolor\": \"white\", \"ticks\": \"\", \"title\": {\"standoff\": 15}, \"zerolinecolor\": \"white\", \"zerolinewidth\": 2}, \"yaxis\": {\"automargin\": true, \"gridcolor\": \"white\", \"linecolor\": \"white\", \"ticks\": \"\", \"title\": {\"standoff\": 15}, \"zerolinecolor\": \"white\", \"zerolinewidth\": 2}}}, \"width\": 1500, \"xaxis\": {\"anchor\": \"y\", \"domain\": [0.0, 0.48], \"dtick\": 14400000, \"tickformat\": \"%d-%H\", \"type\": \"date\"}, \"xaxis10\": {\"anchor\": \"y10\", \"domain\": [0.5, 0.98], \"dtick\": 14400000, \"matches\": \"x\", \"showticklabels\": false, \"tickformat\": \"%d-%H\", \"type\": \"date\"}, \"xaxis11\": {\"anchor\": \"y11\", \"domain\": [0.0, 0.48], \"dtick\": 14400000, \"matches\": \"x\", \"showticklabels\": false, \"tickformat\": \"%d-%H\", \"type\": \"date\"}, \"xaxis12\": {\"anchor\": \"y12\", \"domain\": [0.5, 0.98], \"dtick\": 14400000, \"matches\": \"x\", \"showticklabels\": false, \"tickformat\": \"%d-%H\", \"type\": \"date\"}, \"xaxis2\": {\"anchor\": \"y2\", \"domain\": [0.5, 0.98], \"dtick\": 14400000, \"matches\": \"x\", \"tickformat\": \"%d-%H\", \"type\": \"date\"}, \"xaxis3\": {\"anchor\": \"y3\", \"domain\": [0.0, 0.48], \"dtick\": 14400000, \"matches\": \"x\", \"showticklabels\": false, \"tickformat\": \"%d-%H\", \"type\": \"date\"}, \"xaxis4\": {\"anchor\": \"y4\", \"domain\": [0.5, 0.98], \"dtick\": 14400000, \"matches\": \"x\", \"showticklabels\": false, \"tickformat\": \"%d-%H\", \"type\": \"date\"}, \"xaxis5\": {\"anchor\": \"y5\", \"domain\": [0.0, 0.48], \"dtick\": 14400000, \"matches\": \"x\", \"showticklabels\": false, \"tickformat\": \"%d-%H\", \"type\": \"date\"}, \"xaxis6\": {\"anchor\": \"y6\", \"domain\": [0.5, 0.98], \"dtick\": 14400000, \"matches\": \"x\", \"showticklabels\": false, \"tickformat\": \"%d-%H\", \"type\": \"date\"}, \"xaxis7\": {\"anchor\": \"y7\", \"domain\": [0.0, 0.48], \"dtick\": 14400000, \"matches\": \"x\", \"showticklabels\": false, \"tickformat\": \"%d-%H\", \"type\": \"date\"}, \"xaxis8\": {\"anchor\": \"y8\", \"domain\": [0.5, 0.98], \"dtick\": 14400000, \"matches\": \"x\", \"showticklabels\": false, \"tickformat\": \"%d-%H\", \"type\": \"date\"}, \"xaxis9\": {\"anchor\": \"y9\", \"domain\": [0.0, 0.48], \"dtick\": 14400000, \"matches\": \"x\", \"showticklabels\": false, \"tickformat\": \"%d-%H\", \"type\": \"date\"}, \"yaxis\": {\"anchor\": \"x\", \"autorange\": \"reversed\", \"categoryarray\": [\"4501763335gd251100C0Ud\", \"17023439gd28311300iX\", \"17023440gd23010000gR\", \"17023637gd28002400iX\", \"17023335gd28013000iX\", \"17023572gd43208500iX\", \"17023287gd55102400iX\", \"4501763335gC25020000UC\", \"17023637gd28001701iX\", \"17023335gd28018100iX\", \"17023287gd29907800iX\", \"17023636gd28001701iX\", \"17023636gd280043C0iX\", \"4501763335gd23010000Ud\", \"17023335gd30212200iX\", \"17023335gd28001700iX\", \"17023287gd29904300iX\"], \"categoryorder\": \"array\", \"domain\": [0.0, 0.14166666666666666], \"title\": {\"text\": \"Job\"}}, \"yaxis10\": {\"anchor\": \"x10\", \"autorange\": \"reversed\", \"domain\": [0.6866666666666666, 0.8283333333333334], \"matches\": \"y\", \"showticklabels\": false}, \"yaxis11\": {\"anchor\": \"x11\", \"autorange\": \"reversed\", \"categoryarray\": [\"4501763335gd251100C0Ud\", \"17023439gd28311300iX\", \"17023440gd23010000gR\", \"17023637gd28002400iX\", \"17023335gd28013000iX\", \"17023572gd43208500iX\", \"17023287gd55102400iX\", \"4501763335gC25020000UC\", \"17023637gd28001701iX\", \"17023335gd28018100iX\", \"17023287gd29907800iX\", \"17023636gd28001701iX\", \"17023636gd280043C0iX\", \"4501763335gd23010000Ud\", \"17023335gd30212200iX\", \"17023335gd28001700iX\", \"17023287gd29904300iX\"], \"categoryorder\": \"array\", \"domain\": [0.8583333333333333, 1.0], \"matches\": \"y\", \"title\": {\"text\": \"Job\"}}, \"yaxis12\": {\"anchor\": \"x12\", \"autorange\": \"reversed\", \"domain\": [0.8583333333333333, 1.0], \"matches\": \"y\", \"showticklabels\": false}, \"yaxis2\": {\"anchor\": \"x2\", \"autorange\": \"reversed\", \"domain\": [0.0, 0.14166666666666666], \"matches\": \"y\", \"showticklabels\": false}, \"yaxis3\": {\"anchor\": \"x3\", \"autorange\": \"reversed\", \"categoryarray\": [\"4501763335gd251100C0Ud\", \"17023439gd28311300iX\", \"17023440gd23010000gR\", \"17023637gd28002400iX\", \"17023335gd28013000iX\", \"17023572gd43208500iX\", \"17023287gd55102400iX\", \"4501763335gC25020000UC\", \"17023637gd28001701iX\", \"17023335gd28018100iX\", \"17023287gd29907800iX\", \"17023636gd28001701iX\", \"17023636gd280043C0iX\", \"4501763335gd23010000Ud\", \"17023335gd30212200iX\", \"17023335gd28001700iX\", \"17023287gd29904300iX\"], \"categoryorder\": \"array\", \"domain\": [0.17166666666666666, 0.31333333333333335], \"matches\": \"y\", \"title\": {\"text\": \"Job\"}}, \"yaxis4\": {\"anchor\": \"x4\", \"autorange\": \"reversed\", \"domain\": [0.17166666666666666, 0.31333333333333335], \"matches\": \"y\", \"showticklabels\": false}, \"yaxis5\": {\"anchor\": \"x5\", \"autorange\": \"reversed\", \"categoryarray\": [\"4501763335gd251100C0Ud\", \"17023439gd28311300iX\", \"17023440gd23010000gR\", \"17023637gd28002400iX\", \"17023335gd28013000iX\", \"17023572gd43208500iX\", \"17023287gd55102400iX\", \"4501763335gC25020000UC\", \"17023637gd28001701iX\", \"17023335gd28018100iX\", \"17023287gd29907800iX\", \"17023636gd28001701iX\", \"17023636gd280043C0iX\", \"4501763335gd23010000Ud\", \"17023335gd30212200iX\", \"17023335gd28001700iX\", \"17023287gd29904300iX\"], \"categoryorder\": \"array\", \"domain\": [0.3433333333333333, 0.485], \"matches\": \"y\", \"title\": {\"text\": \"Job\"}}, \"yaxis6\": {\"anchor\": \"x6\", \"autorange\": \"reversed\", \"domain\": [0.3433333333333333, 0.485], \"matches\": \"y\", \"showticklabels\": false}, \"yaxis7\": {\"anchor\": \"x7\", \"autorange\": \"reversed\", \"categoryarray\": [\"4501763335gd251100C0Ud\", \"17023439gd28311300iX\", \"17023440gd23010000gR\", \"17023637gd28002400iX\", \"17023335gd28013000iX\", \"17023572gd43208500iX\", \"17023287gd55102400iX\", \"4501763335gC25020000UC\", \"17023637gd28001701iX\", \"17023335gd28018100iX\", \"17023287gd29907800iX\", \"17023636gd28001701iX\", \"17023636gd280043C0iX\", \"4501763335gd23010000Ud\", \"17023335gd30212200iX\", \"17023335gd28001700iX\", \"17023287gd29904300iX\"], \"categoryorder\": \"array\", \"domain\": [0.515, 0.6566666666666667], \"matches\": \"y\", \"title\": {\"text\": \"Job\"}}, \"yaxis8\": {\"anchor\": \"x8\", \"autorange\": \"reversed\", \"domain\": [0.515, 0.6566666666666667], \"matches\": \"y\", \"showticklabels\": false}, \"yaxis9\": {\"anchor\": \"x9\", \"autorange\": \"reversed\", \"categoryarray\": [\"4501763335gd251100C0Ud\", \"17023439gd28311300iX\", \"17023440gd23010000gR\", \"17023637gd28002400iX\", \"17023335gd28013000iX\", \"17023572gd43208500iX\", \"17023287gd55102400iX\", \"4501763335gC25020000UC\", \"17023637gd28001701iX\", \"17023335gd28018100iX\", \"17023287gd29907800iX\", \"17023636gd28001701iX\", \"17023636gd280043C0iX\", \"4501763335gd23010000Ud\", \"17023335gd30212200iX\", \"17023335gd28001700iX\", \"17023287gd29904300iX\"], \"categoryorder\": \"array\", \"domain\": [0.6866666666666666, 0.8283333333333334], \"matches\": \"y\", \"title\": {\"text\": \"Job\"}}},                        {\"responsive\": true}                    ).then(function(){\n",
              "                            \n",
              "var gd = document.getElementById('11d4586d-8b23-47ad-8b4d-8003cc289d95');\n",
              "var x = new MutationObserver(function (mutations, observer) {{\n",
              "        var display = window.getComputedStyle(gd).display;\n",
              "        if (!display || display === 'none') {{\n",
              "            console.log([gd, 'removed!']);\n",
              "            Plotly.purge(gd);\n",
              "            observer.disconnect();\n",
              "        }}\n",
              "}});\n",
              "\n",
              "// Listen for the removal of the full notebook cells\n",
              "var notebookContainer = gd.closest('#notebook-container');\n",
              "if (notebookContainer) {{\n",
              "    x.observe(notebookContainer, {childList: true});\n",
              "}}\n",
              "\n",
              "// Listen for the clearing of the current output cell\n",
              "var outputEl = gd.closest('.output');\n",
              "if (outputEl) {{\n",
              "    x.observe(outputEl, {childList: true});\n",
              "}}\n",
              "\n",
              "                        })                };                            </script>        </div>\n",
              "</body>\n",
              "</html>"
            ]
          },
          "metadata": {
            "tags": []
          }
        }
      ]
    },
    {
      "cell_type": "code",
      "metadata": {
        "id": "iTrYTZe2u6FW",
        "outputId": "74c77f58-a889-4b74-8709-15f60c8e8233",
        "colab": {
          "base_uri": "https://localhost:8080/",
          "height": 1000
        }
      },
      "source": [
        "#Exploring Result (click on last link to view result)\n",
        "!pip install dtale\n",
        "from dtale import show\n",
        "import dtale.app as dtale_app\n",
        "dtale_app.USE_COLAB = True\n",
        "show(dur,ignore_duplicate=True)"
      ],
      "execution_count": 8,
      "outputs": [
        {
          "output_type": "stream",
          "text": [
            "Collecting dtale\n",
            "\u001b[?25l  Downloading https://files.pythonhosted.org/packages/7f/29/935672771acf5a161c60b9eef9fe0129a90c48b4d2ca31380724c09a8226/dtale-1.19.2-py2.py3-none-any.whl (7.7MB)\n",
            "\u001b[K     |████████████████████████████████| 7.7MB 2.6MB/s \n",
            "\u001b[?25hRequirement already satisfied: future>=0.14.0 in /usr/local/lib/python3.6/dist-packages (from dtale) (0.16.0)\n",
            "Requirement already satisfied: scikit-learn>='0.21.0 in /usr/local/lib/python3.6/dist-packages (from dtale) (0.22.2.post1)\n",
            "Collecting squarify\n",
            "  Downloading https://files.pythonhosted.org/packages/0b/2b/2e77c35326efec19819cd1d729540d4d235e6c2a3f37658288a363a67da5/squarify-0.4.3-py3-none-any.whl\n",
            "Requirement already satisfied: xarray in /usr/local/lib/python3.6/dist-packages (from dtale) (0.15.1)\n",
            "Collecting dash-daq\n",
            "\u001b[?25l  Downloading https://files.pythonhosted.org/packages/16/c1/9c6adfc3646990965a5b2ca073f579cc9c09d15553fcfcd83aefd1255494/dash_daq-0.5.0.tar.gz (642kB)\n",
            "\u001b[K     |████████████████████████████████| 645kB 42.3MB/s \n",
            "\u001b[?25hRequirement already satisfied: requests in /usr/local/lib/python3.6/dist-packages (from dtale) (2.23.0)\n",
            "Requirement already satisfied: itsdangerous in /usr/local/lib/python3.6/dist-packages (from dtale) (1.1.0)\n",
            "Collecting flask-ngrok; python_version > \"3.0\"\n",
            "  Downloading https://files.pythonhosted.org/packages/af/6c/f54cb686ad1129e27d125d182f90f52b32f284e6c8df58c1bae54fa1adbc/flask_ngrok-0.0.25-py3-none-any.whl\n",
            "Requirement already satisfied: scipy in /usr/local/lib/python3.6/dist-packages (from dtale) (1.4.1)\n",
            "Collecting dash-bootstrap-components; python_version > \"3.0\"\n",
            "\u001b[?25l  Downloading https://files.pythonhosted.org/packages/97/23/fc5bcf440d26725b809daf61e5e919a9e63f0aa993d0a5c0d54920705b75/dash_bootstrap_components-0.10.7-py2.py3-none-any.whl (185kB)\n",
            "\u001b[K     |████████████████████████████████| 194kB 39.8MB/s \n",
            "\u001b[?25hCollecting dash-colorscales\n",
            "\u001b[?25l  Downloading https://files.pythonhosted.org/packages/d5/24/de9318acd52989d77135a8497c8be536442b725473684ed4e1ab999b2051/dash_colorscales-0.0.4.tar.gz (62kB)\n",
            "\u001b[K     |████████████████████████████████| 71kB 9.0MB/s \n",
            "\u001b[?25hRequirement already satisfied: statsmodels in /usr/local/lib/python3.6/dist-packages (from dtale) (0.10.2)\n",
            "Collecting lz4; python_version > \"3.0\"\n",
            "\u001b[?25l  Downloading https://files.pythonhosted.org/packages/15/6a/ea95dd9a9957143636cfad5037637abec91016b9bde519d3edf4708e3d83/lz4-3.1.0-cp36-cp36m-manylinux2010_x86_64.whl (1.8MB)\n",
            "\u001b[K     |████████████████████████████████| 1.8MB 43.9MB/s \n",
            "\u001b[?25hCollecting strsimpy\n",
            "\u001b[?25l  Downloading https://files.pythonhosted.org/packages/1e/c7/a957569f1ccfdff4e1886d571369318f1656e1372e287e880be1f495de04/strsimpy-0.1.9-py3-none-any.whl (45kB)\n",
            "\u001b[K     |████████████████████████████████| 51kB 6.1MB/s \n",
            "\u001b[?25hCollecting Flask-Compress\n",
            "  Downloading https://files.pythonhosted.org/packages/de/eb/6bb0f8cb872167752eab8b06b67724566342de873dcfd85faaf7761944d9/Flask-Compress-1.7.0.tar.gz\n",
            "Requirement already satisfied: pandas in /usr/local/lib/python3.6/dist-packages (from dtale) (1.1.3)\n",
            "Requirement already satisfied: Flask>=1.0 in /usr/local/lib/python3.6/dist-packages (from dtale) (1.1.2)\n",
            "Requirement already satisfied: six in /usr/local/lib/python3.6/dist-packages (from dtale) (1.15.0)\n",
            "Collecting dash>=1.5.0\n",
            "\u001b[?25l  Downloading https://files.pythonhosted.org/packages/69/91/ae029886dda55b93b60ac04377bcb2ab9209dd73244e3b5e513124cc6778/dash-1.17.0.tar.gz (75kB)\n",
            "\u001b[K     |████████████████████████████████| 81kB 9.7MB/s \n",
            "\u001b[?25hRequirement already satisfied: joblib>=0.11 in /usr/local/lib/python3.6/dist-packages (from scikit-learn>='0.21.0->dtale) (0.17.0)\n",
            "Requirement already satisfied: numpy>=1.11.0 in /usr/local/lib/python3.6/dist-packages (from scikit-learn>='0.21.0->dtale) (1.18.5)\n",
            "Requirement already satisfied: setuptools>=41.2 in /usr/local/lib/python3.6/dist-packages (from xarray->dtale) (50.3.2)\n",
            "Requirement already satisfied: certifi>=2017.4.17 in /usr/local/lib/python3.6/dist-packages (from requests->dtale) (2020.6.20)\n",
            "Requirement already satisfied: chardet<4,>=3.0.2 in /usr/local/lib/python3.6/dist-packages (from requests->dtale) (3.0.4)\n",
            "Requirement already satisfied: urllib3!=1.25.0,!=1.25.1,<1.26,>=1.21.1 in /usr/local/lib/python3.6/dist-packages (from requests->dtale) (1.24.3)\n",
            "Requirement already satisfied: idna<3,>=2.5 in /usr/local/lib/python3.6/dist-packages (from requests->dtale) (2.10)\n",
            "Requirement already satisfied: patsy>=0.4.0 in /usr/local/lib/python3.6/dist-packages (from statsmodels->dtale) (0.5.1)\n",
            "Collecting brotli\n",
            "\u001b[?25l  Downloading https://files.pythonhosted.org/packages/b4/d3/7c98f05b7b9103e2f3a112ba42f269c798155b3e5404fb80bb8f823aaebe/Brotli-1.0.9-cp36-cp36m-manylinux1_x86_64.whl (357kB)\n",
            "\u001b[K     |████████████████████████████████| 358kB 43.0MB/s \n",
            "\u001b[?25hRequirement already satisfied: python-dateutil>=2.7.3 in /usr/local/lib/python3.6/dist-packages (from pandas->dtale) (2.8.1)\n",
            "Requirement already satisfied: pytz>=2017.2 in /usr/local/lib/python3.6/dist-packages (from pandas->dtale) (2018.9)\n",
            "Requirement already satisfied: Werkzeug>=0.15 in /usr/local/lib/python3.6/dist-packages (from Flask>=1.0->dtale) (1.0.1)\n",
            "Requirement already satisfied: click>=5.1 in /usr/local/lib/python3.6/dist-packages (from Flask>=1.0->dtale) (7.1.2)\n",
            "Requirement already satisfied: Jinja2>=2.10.1 in /usr/local/lib/python3.6/dist-packages (from Flask>=1.0->dtale) (2.11.2)\n",
            "Requirement already satisfied: plotly in /usr/local/lib/python3.6/dist-packages (from dash>=1.5.0->dtale) (4.12.0)\n",
            "Collecting dash_renderer==1.8.3\n",
            "\u001b[?25l  Downloading https://files.pythonhosted.org/packages/72/fe/59a322edb128ad15205002c7b81e3f5e580f6791c4a100183289e05dbfcb/dash_renderer-1.8.3.tar.gz (1.0MB)\n",
            "\u001b[K     |████████████████████████████████| 1.0MB 46.1MB/s \n",
            "\u001b[?25hCollecting dash-core-components==1.13.0\n",
            "\u001b[?25l  Downloading https://files.pythonhosted.org/packages/52/48/3dd8c7bf93cff3a9dd9d360bc25c4ec0cb191acdce13375c3ff85f98e992/dash_core_components-1.13.0.tar.gz (3.5MB)\n",
            "\u001b[K     |████████████████████████████████| 3.5MB 43.2MB/s \n",
            "\u001b[?25hCollecting dash-html-components==1.1.1\n",
            "\u001b[?25l  Downloading https://files.pythonhosted.org/packages/02/ba/bb9427c62feb25bfbaf243894eeeb4e7c67a92b426ed0575a167100e436e/dash_html_components-1.1.1.tar.gz (188kB)\n",
            "\u001b[K     |████████████████████████████████| 194kB 44.3MB/s \n",
            "\u001b[?25hCollecting dash-table==4.11.0\n",
            "\u001b[?25l  Downloading https://files.pythonhosted.org/packages/bb/46/cc839f897cabea3f584cf59ce9d86a5ea3828e54eefe2537ba8b640a9707/dash_table-4.11.0.tar.gz (1.8MB)\n",
            "\u001b[K     |████████████████████████████████| 1.8MB 36.0MB/s \n",
            "\u001b[?25hRequirement already satisfied: MarkupSafe>=0.23 in /usr/local/lib/python3.6/dist-packages (from Jinja2>=2.10.1->Flask>=1.0->dtale) (1.1.1)\n",
            "Requirement already satisfied: retrying>=1.3.3 in /usr/local/lib/python3.6/dist-packages (from plotly->dash>=1.5.0->dtale) (1.3.3)\n",
            "Building wheels for collected packages: dash-daq, dash-colorscales, Flask-Compress, dash, dash-renderer, dash-core-components, dash-html-components, dash-table\n",
            "  Building wheel for dash-daq (setup.py) ... \u001b[?25l\u001b[?25hdone\n",
            "  Created wheel for dash-daq: filename=dash_daq-0.5.0-cp36-none-any.whl size=669704 sha256=d0613d11daf412081ee4636b0c23f40985eddfaf8d9e2e86f70990deb4af313c\n",
            "  Stored in directory: /root/.cache/pip/wheels/1c/9c/f7/84731716eaa9fc952cdbdd1f87df3ca9b8805c317c609efcd6\n",
            "  Building wheel for dash-colorscales (setup.py) ... \u001b[?25l\u001b[?25hdone\n",
            "  Created wheel for dash-colorscales: filename=dash_colorscales-0.0.4-cp36-none-any.whl size=62599 sha256=6ca1bb3e04e23d3c3bce5bb4e7ec4801c285545259b7a78908a8600328b1327e\n",
            "  Stored in directory: /root/.cache/pip/wheels/0e/4a/1c/3490cfe6a59299b06917af6626a969c8fb7caead39b2d74cf2\n",
            "  Building wheel for Flask-Compress (setup.py) ... \u001b[?25l\u001b[?25hdone\n",
            "  Created wheel for Flask-Compress: filename=Flask_Compress-1.7.0-cp36-none-any.whl size=6833 sha256=99ca8cfa810ba72905d249df7ad339ed8f5d9a13b409aedbdbfad9660121ea19\n",
            "  Stored in directory: /root/.cache/pip/wheels/1d/b7/18/2b88ed33c5ef53868d1bfb0d3f2f351ae0143414734415bd06\n",
            "  Building wheel for dash (setup.py) ... \u001b[?25l\u001b[?25hdone\n",
            "  Created wheel for dash: filename=dash-1.17.0-cp36-none-any.whl size=83728 sha256=259954f00bba6bd806a9c8716bf29e1a6a6044bd4357a9d0a17bf804effd4664\n",
            "  Stored in directory: /root/.cache/pip/wheels/e0/32/13/8a569b638a79cf80a4a721f56040d91198adec28e3bc8123fc\n",
            "  Building wheel for dash-renderer (setup.py) ... \u001b[?25l\u001b[?25hdone\n",
            "  Created wheel for dash-renderer: filename=dash_renderer-1.8.3-cp36-none-any.whl size=1013944 sha256=a419cda82c9777514a6bb834f259f90995d774c9e0c424ed182a55e068bdf7d8\n",
            "  Stored in directory: /root/.cache/pip/wheels/cf/2b/5f/0928a6d1b7ebf280f21a2e925f36d662e6ba83e00b82c6b6bf\n",
            "  Building wheel for dash-core-components (setup.py) ... \u001b[?25l\u001b[?25hdone\n",
            "  Created wheel for dash-core-components: filename=dash_core_components-1.13.0-cp36-none-any.whl size=3513142 sha256=a99482144c9a96272673e6431717ae2da21260534c8766c9bef09d9c91d75c9b\n",
            "  Stored in directory: /root/.cache/pip/wheels/44/d9/90/177214625a5b5f6440b24ea807550e07fbf439a495eee4dd36\n",
            "  Building wheel for dash-html-components (setup.py) ... \u001b[?25l\u001b[?25hdone\n",
            "  Created wheel for dash-html-components: filename=dash_html_components-1.1.1-cp36-none-any.whl size=427894 sha256=8419f2c1a559144f93a6793ad4b2f877b8be0d5707946b7a38d94478084fc024\n",
            "  Stored in directory: /root/.cache/pip/wheels/8d/01/46/78e4de185a8a4a2da8ba31da16c52170f036d4cebeeb6e07a2\n",
            "  Building wheel for dash-table (setup.py) ... \u001b[?25l\u001b[?25hdone\n",
            "  Created wheel for dash-table: filename=dash_table-4.11.0-cp36-none-any.whl size=1839767 sha256=a0883da9f979cc459c2d16d3a548694cf2b9e4d959ec31ceeac9910c9f770d04\n",
            "  Stored in directory: /root/.cache/pip/wheels/ca/37/90/bd45dcc5d6acbe6ac53f753a8f1732ecf5270017372e389cd8\n",
            "Successfully built dash-daq dash-colorscales Flask-Compress dash dash-renderer dash-core-components dash-html-components dash-table\n",
            "Installing collected packages: squarify, brotli, Flask-Compress, dash-renderer, dash-core-components, dash-html-components, dash-table, dash, dash-daq, flask-ngrok, dash-bootstrap-components, dash-colorscales, lz4, strsimpy, dtale\n",
            "Successfully installed Flask-Compress-1.7.0 brotli-1.0.9 dash-1.17.0 dash-bootstrap-components-0.10.7 dash-colorscales-0.0.4 dash-core-components-1.13.0 dash-daq-0.5.0 dash-html-components-1.1.1 dash-renderer-1.8.3 dash-table-4.11.0 dtale-1.19.2 flask-ngrok-0.0.25 lz4-3.1.0 squarify-0.4.3 strsimpy-0.1.9\n"
          ],
          "name": "stdout"
        },
        {
          "output_type": "execute_result",
          "data": {
            "text/plain": [
              "https://toi3k07s9do-496ff2e9c6d22116-40000-colab.googleusercontent.com/dtale/main/1"
            ]
          },
          "metadata": {
            "tags": []
          },
          "execution_count": 8
        }
      ]
    },
    {
      "cell_type": "code",
      "metadata": {
        "id": "mOCR23A5N-l1",
        "outputId": "5adf6f06-0d03-4731-85ec-8169230026d4",
        "colab": {
          "base_uri": "https://localhost:8080/",
          "height": 34
        }
      },
      "source": [
        "show(df,ignore_duplicate=True)"
      ],
      "execution_count": 9,
      "outputs": [
        {
          "output_type": "execute_result",
          "data": {
            "text/plain": [
              "https://toi3k07s9do-496ff2e9c6d22116-40000-colab.googleusercontent.com/dtale/main/2"
            ]
          },
          "metadata": {
            "tags": []
          },
          "execution_count": 9
        }
      ]
    },
    {
      "cell_type": "code",
      "metadata": {
        "id": "D2dwvTF7GebQ",
        "outputId": "7d1bfcaf-de05-4de6-dc98-31ae3c306e7b",
        "colab": {
          "base_uri": "https://localhost:8080/",
          "height": 881
        }
      },
      "source": [
        "print(model.ModelStats())"
      ],
      "execution_count": null,
      "outputs": [
        {
          "output_type": "stream",
          "text": [
            "Optimization model '':\n",
            "#Variables: 2040 (17 in objective)\n",
            " - 1734 in [0,1]\n",
            " - 5 in [0,15]\n",
            " - 5 in [0,36]\n",
            " - 1 in [0,66]\n",
            " - 5 in [0,75]\n",
            " - 5 in [0,93]\n",
            " - 5 in [0,108]\n",
            " - 5 in [0,133]\n",
            " - 1 in [0,162]\n",
            " - 2 in [0,168]\n",
            " - 3 in [0,189]\n",
            " - 1 in [0,213]\n",
            " - 2 in [0,216]\n",
            " - 5 in [0,233]\n",
            " - 3 in [0,243]\n",
            " - 1 in [0,300]\n",
            " - 2 in [0,320]\n",
            " - 2 in [0,400]\n",
            " - 8 in [0,450]\n",
            " - 3 in [0,451]\n",
            " - 1 in [0,462]\n",
            " - 1 in [0,497]\n",
            " - 2 in [0,693]\n",
            " - 2 in [0,746]\n",
            " - 1 in [0,940]\n",
            " - 3 in [0,978]\n",
            " - 1 in [0,995]\n",
            " - 3 in [0,1054]\n",
            " - 6 in [0,1066]\n",
            " - 2 in [0,1493]\n",
            " - 5 in [0,2000]\n",
            " - 3 in [0,2108]\n",
            " - 1 in [0,2160]\n",
            " - 1 in [0,4500]\n",
            " - 1 in [0,5600]\n",
            " - 1 in [0,8000]\n",
            " - 1 in [0,8640]\n",
            " - 1 in [0,14000]\n",
            " - 1 in [0,15120]\n",
            " - 1 in [0,36000]\n",
            " - 204 in [0,1442570]\n",
            "#kInterval: 102\n",
            "#kLinear1: 204 (#enforced: 204)\n",
            "#kLinear2: 4896 (#enforced: 4896)\n",
            "#kLinearN: 17\n",
            "#kNoOverlap: 6\n"
          ],
          "name": "stdout"
        }
      ]
    }
  ]
}
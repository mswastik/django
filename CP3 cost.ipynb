{
  "nbformat": 4,
  "nbformat_minor": 0,
  "metadata": {
    "kernelspec": {
      "display_name": "Python 3",
      "language": "python",
      "name": "python3"
    },
    "language_info": {
      "codemirror_mode": {
        "name": "ipython",
        "version": 3
      },
      "file_extension": ".py",
      "mimetype": "text/x-python",
      "name": "python",
      "nbconvert_exporter": "python",
      "pygments_lexer": "ipython3",
      "version": "3.8.2"
    },
    "colab": {
      "name": "CP.ipynb",
      "provenance": [],
      "include_colab_link": true
    }
  },
  "cells": [
    {
      "cell_type": "markdown",
      "metadata": {
        "id": "view-in-github",
        "colab_type": "text"
      },
      "source": [
        "<a href=\"https://colab.research.google.com/github/mswastik/optimization/blob/master/CP3%20cost.ipynb\" target=\"_parent\"><img src=\"https://colab.research.google.com/assets/colab-badge.svg\" alt=\"Open In Colab\"/></a>"
      ]
    },
    {
      "cell_type": "markdown",
      "metadata": {
        "id": "EcrQOnfJgYxd"
      },
      "source": [
        "**Indices**  \n",
        "j - job  \n",
        "m - machine \n",
        "\n",
        "**Decision Variable**  \n",
        "$s_{j,m}$ - start time of job j at machine m  \n",
        "$e_{j,m}$ - end time of job j at machine m  \n",
        "$d_{j,m}$ - duration of job j at machine m  \n",
        "$b_{j,m}$ - machine m is selected for job j     \n",
        "$a_{j,i,m}$ - job i precedes job j at machine m \n",
        "\n",
        "**Parameters**  \n",
        "H - Horizon  \n",
        "$d_j$ - delivery date of job j  \n",
        "$q_j$ - order qty of job j  \n",
        "$o_{j,m}$ - output per hour of job j at machine m  \n",
        "$set_{i,j}$ - setup time between job i & j   \n",
        "$C_d $ - Order delay cost    \n",
        "$C_i$ - Inventory holding cost    \n",
        "$C_o$ - Changeover cost    \n",
        "\n",
        "\n",
        "\n",
        "**Objective** (Not implemented right now)  \n",
        "$ \\sum_{j} d_j - max(e_{j,m})  \\qquad \\forall m \\in mc$    \n",
        "\n",
        "\n",
        "**Constraints**  \n",
        "$ \\sum_m e_{j,m} < s_{i,m} or s_{j,m} > e_{i,m} \\qquad \\forall j,i \\in jobs$  \n",
        "$ \\sum_j o_{j,m} \\times d_{j,m} >= q_j \\qquad \\forall m \\in ma $    \n",
        "$ \\sum_m s_{i,m} >= e_{j,m} + set_{i,j} \\qquad if \\quad b_{j,m}=1, b_{i,m}=1, a_{j,i,m}=1 $  "
      ]
    },
    {
      "cell_type": "code",
      "metadata": {
        "id": "ZAegf4MTD07x",
        "outputId": "e570804a-dcb2-451a-a58e-a7d2a5ebae3e",
        "colab": {
          "base_uri": "https://localhost:8080/",
          "height": 513
        }
      },
      "source": [
        "!pip install ortools\n",
        "#!pip install dtale\n",
        "#!pip install -U plotly"
      ],
      "execution_count": 1,
      "outputs": [
        {
          "output_type": "stream",
          "text": [
            "Collecting ortools\n",
            "\u001b[?25l  Downloading https://files.pythonhosted.org/packages/be/06/70475cc058328217739dff257a85fe2e90ecdbc1068d8fe52ad6f30fc53b/ortools-8.0.8283-cp36-cp36m-manylinux1_x86_64.whl (13.7MB)\n",
            "\u001b[K     |████████████████████████████████| 13.7MB 316kB/s \n",
            "\u001b[?25hCollecting protobuf>=3.13.0\n",
            "\u001b[?25l  Downloading https://files.pythonhosted.org/packages/30/79/510974552cebff2ba04038544799450defe75e96ea5f1675dbf72cc8744f/protobuf-3.13.0-cp36-cp36m-manylinux1_x86_64.whl (1.3MB)\n",
            "\u001b[K     |████████████████████████████████| 1.3MB 38.2MB/s \n",
            "\u001b[?25hRequirement already satisfied: six>=1.10 in /usr/local/lib/python3.6/dist-packages (from ortools) (1.15.0)\n",
            "Requirement already satisfied: setuptools in /usr/local/lib/python3.6/dist-packages (from protobuf>=3.13.0->ortools) (50.3.2)\n",
            "Installing collected packages: protobuf, ortools\n",
            "  Found existing installation: protobuf 3.12.4\n",
            "    Uninstalling protobuf-3.12.4:\n",
            "      Successfully uninstalled protobuf-3.12.4\n",
            "Successfully installed ortools-8.0.8283 protobuf-3.13.0\n"
          ],
          "name": "stdout"
        },
        {
          "output_type": "display_data",
          "data": {
            "application/vnd.colab-display-data+json": {
              "pip_warning": {
                "packages": [
                  "google"
                ]
              }
            }
          },
          "metadata": {
            "tags": []
          }
        },
        {
          "output_type": "stream",
          "text": [
            "Collecting plotly\n",
            "\u001b[?25l  Downloading https://files.pythonhosted.org/packages/a6/66/af86e9d9bf1a3e4f2dabebeabd02a32e8ddf671a5d072b3af2b011efea99/plotly-4.12.0-py2.py3-none-any.whl (13.1MB)\n",
            "\u001b[K     |████████████████████████████████| 13.1MB 334kB/s \n",
            "\u001b[?25hRequirement already satisfied, skipping upgrade: six in /usr/local/lib/python3.6/dist-packages (from plotly) (1.15.0)\n",
            "Requirement already satisfied, skipping upgrade: retrying>=1.3.3 in /usr/local/lib/python3.6/dist-packages (from plotly) (1.3.3)\n",
            "Installing collected packages: plotly\n",
            "  Found existing installation: plotly 4.4.1\n",
            "    Uninstalling plotly-4.4.1:\n",
            "      Successfully uninstalled plotly-4.4.1\n",
            "Successfully installed plotly-4.12.0\n"
          ],
          "name": "stdout"
        }
      ]
    },
    {
      "cell_type": "code",
      "metadata": {
        "id": "sG_LW15bCHKH",
        "outputId": "37ac15a7-db9c-49c7-b5fe-29656ac9dff7",
        "colab": {
          "base_uri": "https://localhost:8080/"
        }
      },
      "source": [
        "import pandas as pd\n",
        "import numpy as np\n",
        "import collections\n",
        "from ortools.sat.python import cp_model\n",
        "# Clone the entire repo.\n",
        "!git clone -l -s https://github.com/mswastik/optimization.git cloned-repo\n",
        "%cd cloned-repo"
      ],
      "execution_count": 2,
      "outputs": [
        {
          "output_type": "stream",
          "text": [
            "Cloning into 'cloned-repo'...\n",
            "warning: --local is ignored\n",
            "remote: Enumerating objects: 152, done.\u001b[K\n",
            "remote: Counting objects: 100% (152/152), done.\u001b[K\n",
            "remote: Compressing objects: 100% (152/152), done.\u001b[K\n",
            "remote: Total 337 (delta 98), reused 0 (delta 0), pack-reused 185\u001b[K\n",
            "Receiving objects: 100% (337/337), 2.82 MiB | 6.45 MiB/s, done.\n",
            "Resolving deltas: 100% (180/180), done.\n",
            "/content/cloned-repo\n"
          ],
          "name": "stdout"
        }
      ]
    },
    {
      "cell_type": "code",
      "metadata": {
        "id": "nUhA6-OCCHKV"
      },
      "source": [
        "#Importing Data\n",
        "df=pd.read_excel('orders1.xlsx')\n",
        "ma=pd.read_excel('item master.xlsx')\n",
        "bu=pd.read_excel('item master.xlsx',sheet_name='Sheet2')\n",
        "pa=pd.read_excel('item master.xlsx',sheet_name='packing')\n",
        " \n",
        "# Formating Data\n",
        "df = df[df['Line']=='Tmmthpkhti Limi']\n",
        "df = df[df['Plant']==1024]\n",
        "del df['Line']\n",
        "df['due'] = df['Dispatch Date'] - df['SO Date'].min()\n",
        "df['due'] = df['due'].dt.days\n",
        "df['sodate'] = df['SO Date'] - df['SO Date'].min()\n",
        "df['sodate'] = df['sodate'].dt.days\n",
        "df.reset_index(inplace=True,drop=True)\n",
        "df['Key']=df['SO'].astype('str')+df['FG Code']\n",
        "df.drop(['Dispatch Date','SO Date','Description','Customer'],axis=1,inplace=True)\n",
        "df['Order Qty'] = df[df['Order Qty']!=0]['Order Qty']\n",
        "df['Order Qty'] = df['Order Qty']*1000\n",
        "df=df[df['Key']!='17023287gd39000800iX']\n",
        " \n",
        " \n",
        "# Creating Parameter Data\n",
        "jobs =df['Key'].copy()\n",
        "op =[1,2]  # Ignore as of now\n",
        "mc = [1,2,3,4,5,6]\n",
        "#due = df.set_index('Key')\n",
        "df1=df.copy()\n",
        "#df1 = df1.set_index('Key')\n",
        "#dur=df[['Key','FG Code','Order Qty']]\n",
        "df1=df1.merge(pa[[\"FG Code\",\"Line\",\"Output\"]], on=\"FG Code\")\n",
        "df1['Output']=df1['Output']*100\n",
        "df1['duration']=df1['Order Qty']/df1['Output']\n",
        "df1['duration'] = df1['duration'].astype('float64').round(decimals = 2)\n",
        "df1['operation'] = 2\n",
        "budf=df.merge(ma[[\"FG Code\",\"Bulk Code\",\"Case Size\",\"Pack Wt(g)\"]],on='FG Code',how='left')\n",
        "budf['Qty']=budf['Order Qty']*budf['Case Size']*budf['Pack Wt(g)']/1000\n",
        "\n",
        "pasp= pa.groupby('FG Code').mean()\n",
        "budf=budf.merge(pasp,on='FG Code')\n",
        "budf['cons'] = budf['Speed']*budf['Pack Wt(g)']*60/1000\n",
        "budf.drop(['Speed','Line'],axis=1,inplace=True)\n",
        "budf=budf.merge(bu[[\"Bulk Code\", \"Line\",\"Output\"]],on=\"Bulk Code\",how=\"left\")\n",
        "\n",
        "budf['Output'] = budf['Output']*100\n",
        "\n",
        "budf['Output'] = budf['Output'].replace(0,1)\n",
        "budf['duration'] = budf['Qty']/budf['Output']\n",
        "budf['duration'] = budf['duration'].fillna(0).astype('int')\n",
        "budf['operation'] = 1\n",
        "budf['Order Qty'] = budf['Qty']\n",
        "#budf.drop(['Plant','due','sodate','Case Size','Pack Wt(g)','SO','Qty','Bulk Code'],axis=1,inplace=True)\n",
        "budf.drop('Qty',axis=1,inplace=True)\n",
        "\n",
        "df1=df1.append(budf)\n",
        "df1.set_index(['Key','Line','operation'],inplace=True)\n",
        "#del df1['FG Code']\n",
        "df1['Output'].replace(0,1,inplace=True)\n",
        "df1['Order Qty']=df1['Order Qty'].fillna(0).astype('int')\n",
        "df1['duration']=df1['duration'].fillna(0).astype('int')\n",
        "df1['Output']=df1['Output'].fillna(0).astype('int')\n",
        "horizon = sum(df1['duration'])\n",
        " \n",
        "#Setup\n",
        "setup = pd.DataFrame(columns=('Key1','Key2','setup'))\n",
        "for i in df['Key']:\n",
        "  for k in df['Key']:\n",
        "    if df[df['Key']==i][\"FG Code\"].values[0]==df[df['Key']==k][\"FG Code\"].values[0]:\n",
        "      f = {'Key1':[i],\"Key2\":[k],\"setup\":[0]}\n",
        "    else:\n",
        "      f = {'Key1':[i],\"Key2\":[k],\"setup\":[40]}\n",
        "    f = pd.DataFrame(data=f)\n",
        "    setup = pd.concat([setup,f])\n",
        "setup.set_index(['Key1','Key2'],inplace=True)\n",
        "\n",
        "Cd = 125\n",
        "Ci = 110\n",
        "Cc = 12000\n"
      ],
      "execution_count": 3,
      "outputs": []
    },
    {
      "cell_type": "code",
      "metadata": {
        "id": "moZgDcX1apWh"
      },
      "source": [
        "!pip install dtale\n",
        "from dtale import show\n",
        "show(df1,ignore_duplicate=True)"
      ],
      "execution_count": null,
      "outputs": []
    },
    {
      "cell_type": "code",
      "metadata": {
        "id": "2kluFz3V77yw",
        "outputId": "1baff936-eb38-4d8d-fd55-d727141da379",
        "colab": {
          "base_uri": "https://localhost:8080/",
          "height": 367
        }
      },
      "source": [
        "# Initialise model\n",
        "model = cp_model.CpModel()\n",
        "\n",
        "# Creating variables to store data\n",
        "task_type = collections.namedtuple('task_type', 'start end dur run1')\n",
        "mtj = collections.defaultdict(list)\n",
        "all_tasks = {}\n",
        " \n",
        "for j in jobs:\n",
        "  for o in op:\n",
        "    for m in mc:\n",
        "      suffix = '_%s_%i_%i' % (j,m,o)\n",
        "      start = model.NewIntVar(0, horizon, \"start\"+suffix)\n",
        "      end = model.NewIntVar(0, horizon, \"end\"+suffix)\n",
        "      run1 = model.NewIntVar(0, df1['duration'].loc[(j,m,o)].item(), \"run\"+suffix)\n",
        "      duration = model.NewIntervalVar(start, run1, end, \"duration\"+suffix)\n",
        "      all_tasks[j, m,o] = task_type(start=start, end=end, dur= duration, run1=run1)\n",
        "      mtj[o,m].append(duration)\n",
        "\n",
        "# Selection variable to store whether machine is selected to process job\n",
        "b={}\n",
        "for o in op:\n",
        "  for j in jobs:\n",
        "    for m in mc:\n",
        "      b[j,m,o] = model.NewBoolVar('selection')\n",
        "      model.Add(all_tasks[j, m,o].run1>0).OnlyEnforceIf(b[j,m,o])\n",
        "      model.Add(all_tasks[j, m,o].run1==0).OnlyEnforceIf(b[j,m,o].Not())\n",
        "\n",
        "# Variable to store sequence of jobs\n",
        "a={}\n",
        "for o in op:\n",
        "  for j in jobs:\n",
        "    for m in mc:\n",
        "      for i in jobs:\n",
        "        if j != i and b[j,m,o] and b[i,m,o]:\n",
        "          a[j,i,m,o] = model.NewBoolVar('sequence')\n",
        "          model.Add(all_tasks[i, m,o].start>all_tasks[j, m,o].start).OnlyEnforceIf(a[j,i,m,o])\n",
        "          model.Add(all_tasks[i, m,o].start<all_tasks[j, m,o].start).OnlyEnforceIf(a[j,i,m,o].Not())\n",
        "\n",
        "# Constraint: A machine can process only 1 job at a time \n",
        "for o in op:\n",
        "  for m in mc:\n",
        "    model.AddNoOverlap(mtj[o,m])\n",
        "\n",
        "# Constraint: Complete production of full order quantity\n",
        "com = {}\n",
        "for o in op:\n",
        "  for j in jobs:\n",
        "    tt= 0\n",
        "    for m in mc:\n",
        "      comp = all_tasks[j,m,o].run1*df1[\"Output\"].loc[(j,m,o)]\n",
        "      tt = tt + comp\n",
        "    com[j] = tt\n",
        "    #Change ORDER QTY FOR BULK\n",
        "    model.Add(com[j]*10 >= df1.loc[(j,slice(None),o)]['Order Qty'].values[0])\n",
        "  \n",
        "# Constraint of Setup Time\n",
        "for o in op:     \n",
        "  for j in jobs:\n",
        "    for m in mc:\n",
        "      for i in jobs:\n",
        "        if j != i:\n",
        "          #model.AddBoolOr([a[j,i,m],a[i,j,m]])\n",
        "          model.Add(all_tasks[i, m,o].start >= all_tasks[j, m,o].end + setup.loc[(j,i)].values[0]).OnlyEnforceIf(a[j,i,m,o]).OnlyEnforceIf(b[j,m,o]).OnlyEnforceIf(b[i,m,o])\n",
        "          #model.Add(all_tasks[j, m].start >= all_tasks[i, m].end + setup.loc[(j,i)].values[0]).OnlyEnforceIf(a[,i,m].Not()).OnlyEnforceIf(b[j,m]).OnlyEnforceIf(b[i,m])\n",
        "\n",
        "# Delay between jobs due to storage tank full\n",
        "for j in jobs:\n",
        "  for m in mc:\n",
        "    for i in jobs:\n",
        "      if df1.loc[(j,m,1)]['Order Qty']>=3000 and j != i:\n",
        "        model.Add(all_tasks[i, m,1].start >= all_tasks[j, m,1].end+int((df1.loc[(j,m,1)]['Order Qty']-3000)/df1.loc[(j,m,1)]['cons'])).OnlyEnforceIf(a[j,i,m,o])\n",
        "\n",
        "for j in jobs:\n",
        "  for m in mc:\n",
        "    minst=model.NewIntVar(0, horizon, \"minst\"+j)\n",
        "    model.AddMinEquality(minst,[all_tasks[j,k,1].start for k in mc])\n",
        "    model.Add(all_tasks[j, m,2].start >= minst+4).OnlyEnforceIf(b[j,m,2])\n",
        "#   model.Add(all_tasks[j, m,2].start <= minst+8).OnlyEnforceIf(b[j,m,2])\n",
        "'''\n",
        "gg={}\n",
        "for j in jobs:\n",
        "  aa=model.NewIntVar(0, horizon, \"endrun\"+j)\n",
        "  #aa[m]=all_tasks[j,m].end\n",
        "  model.AddMaxEquality(aa,[all_tasks[j,m,2].end for m in mc])\n",
        "  gg[j] = df1['due'].loc[j].values[0]- aa\n",
        "\n",
        "#Dummy variable for minimizing absolute value in objective function\n",
        "mm={}\n",
        "for j in jobs:\n",
        "  kk = model.NewIntVar(0, horizon, 'dummy'+j)\n",
        "  mm[j] = kk\n",
        "  model.Add(gg[j]<=mm[j])\n",
        "  model.Add(-gg[j]<=mm[j])\n",
        "'''\n",
        "d={}\n",
        "for o in op:\n",
        "  for j in jobs:\n",
        "    for m in mc:\n",
        "      d[j,m,o] = model.NewBoolVar('delay')\n",
        "      model.Add(all_tasks[j,m,o].end <= df1['due'].loc[j].values[0]).OnlyEnforceIf(dd[j,m,o])\n",
        "      model.Add(all_tasks[j,m,o].end > df1['due'].loc[j].values[0]).OnlyEnforceIf(dd[j,m,o].Not())\n",
        "\n",
        "tc=0\n",
        "for o in op:\n",
        "  for j in jobs:\n",
        "    for m in mc:\n",
        "      for i in jobs:\n",
        "        if j!=i:\n",
        "          tc += Cd*(all_tasks[j,m,o].end - df1['due'].loc[j].values[0])*(d[j,m,o]) + Ci*(df1['due'].loc[j].values[0] - all_tasks[j,m,o].end)*(d[j,m,o].Not()) + Cc*a[j,i,m,o]*(int(setup.loc[(j,i)].values[0]/40))\n",
        "\n",
        "#model.Minimize(sum([mm[j] for j in jobs]))\n",
        "model.Minimize(tc)\n",
        "solver = cp_model.CpSolver()\n",
        "solver.parameters.num_search_workers = 16\n",
        "solver.Solve(model)\n",
        "print(solver.StatusName(),solver.ObjectiveValue())"
      ],
      "execution_count": 12,
      "outputs": [
        {
          "output_type": "error",
          "ename": "TypeError",
          "evalue": "ignored",
          "traceback": [
            "\u001b[0;31m---------------------------------------------------------------------------\u001b[0m",
            "\u001b[0;31mTypeError\u001b[0m                                 Traceback (most recent call last)",
            "\u001b[0;32m<ipython-input-12-ca0ad4d0da48>\u001b[0m in \u001b[0;36m<module>\u001b[0;34m()\u001b[0m\n\u001b[1;32m    108\u001b[0m       \u001b[0;32mfor\u001b[0m \u001b[0mi\u001b[0m \u001b[0;32min\u001b[0m \u001b[0mjobs\u001b[0m\u001b[0;34m:\u001b[0m\u001b[0;34m\u001b[0m\u001b[0;34m\u001b[0m\u001b[0m\n\u001b[1;32m    109\u001b[0m         \u001b[0;32mif\u001b[0m \u001b[0mj\u001b[0m\u001b[0;34m!=\u001b[0m\u001b[0mi\u001b[0m\u001b[0;34m:\u001b[0m\u001b[0;34m\u001b[0m\u001b[0;34m\u001b[0m\u001b[0m\n\u001b[0;32m--> 110\u001b[0;31m           \u001b[0mtc\u001b[0m \u001b[0;34m+=\u001b[0m \u001b[0mCd\u001b[0m\u001b[0;34m*\u001b[0m\u001b[0;34m(\u001b[0m\u001b[0mall_tasks\u001b[0m\u001b[0;34m[\u001b[0m\u001b[0mj\u001b[0m\u001b[0;34m,\u001b[0m\u001b[0mm\u001b[0m\u001b[0;34m,\u001b[0m\u001b[0mo\u001b[0m\u001b[0;34m]\u001b[0m\u001b[0;34m.\u001b[0m\u001b[0mend\u001b[0m \u001b[0;34m-\u001b[0m \u001b[0mdf1\u001b[0m\u001b[0;34m[\u001b[0m\u001b[0;34m'due'\u001b[0m\u001b[0;34m]\u001b[0m\u001b[0;34m.\u001b[0m\u001b[0mloc\u001b[0m\u001b[0;34m[\u001b[0m\u001b[0mj\u001b[0m\u001b[0;34m]\u001b[0m\u001b[0;34m.\u001b[0m\u001b[0mvalues\u001b[0m\u001b[0;34m[\u001b[0m\u001b[0;36m0\u001b[0m\u001b[0;34m]\u001b[0m\u001b[0;34m)\u001b[0m\u001b[0;34m*\u001b[0m\u001b[0;34m(\u001b[0m\u001b[0md\u001b[0m\u001b[0;34m[\u001b[0m\u001b[0mj\u001b[0m\u001b[0;34m,\u001b[0m\u001b[0mm\u001b[0m\u001b[0;34m,\u001b[0m\u001b[0mo\u001b[0m\u001b[0;34m]\u001b[0m\u001b[0;34m)\u001b[0m \u001b[0;34m+\u001b[0m \u001b[0mCi\u001b[0m\u001b[0;34m*\u001b[0m\u001b[0;34m(\u001b[0m\u001b[0mdf1\u001b[0m\u001b[0;34m[\u001b[0m\u001b[0;34m'due'\u001b[0m\u001b[0;34m]\u001b[0m\u001b[0;34m.\u001b[0m\u001b[0mloc\u001b[0m\u001b[0;34m[\u001b[0m\u001b[0mj\u001b[0m\u001b[0;34m]\u001b[0m\u001b[0;34m.\u001b[0m\u001b[0mvalues\u001b[0m\u001b[0;34m[\u001b[0m\u001b[0;36m0\u001b[0m\u001b[0;34m]\u001b[0m \u001b[0;34m-\u001b[0m \u001b[0mall_tasks\u001b[0m\u001b[0;34m[\u001b[0m\u001b[0mj\u001b[0m\u001b[0;34m,\u001b[0m\u001b[0mm\u001b[0m\u001b[0;34m,\u001b[0m\u001b[0mo\u001b[0m\u001b[0;34m]\u001b[0m\u001b[0;34m.\u001b[0m\u001b[0mend\u001b[0m\u001b[0;34m)\u001b[0m\u001b[0;34m*\u001b[0m\u001b[0;34m(\u001b[0m\u001b[0md\u001b[0m\u001b[0;34m[\u001b[0m\u001b[0mj\u001b[0m\u001b[0;34m,\u001b[0m\u001b[0mm\u001b[0m\u001b[0;34m,\u001b[0m\u001b[0mo\u001b[0m\u001b[0;34m]\u001b[0m\u001b[0;34m.\u001b[0m\u001b[0mNot\u001b[0m\u001b[0;34m(\u001b[0m\u001b[0;34m)\u001b[0m\u001b[0;34m)\u001b[0m \u001b[0;34m+\u001b[0m \u001b[0mCc\u001b[0m\u001b[0;34m*\u001b[0m\u001b[0ma\u001b[0m\u001b[0;34m[\u001b[0m\u001b[0mj\u001b[0m\u001b[0;34m,\u001b[0m\u001b[0mi\u001b[0m\u001b[0;34m,\u001b[0m\u001b[0mm\u001b[0m\u001b[0;34m,\u001b[0m\u001b[0mo\u001b[0m\u001b[0;34m]\u001b[0m\u001b[0;34m*\u001b[0m\u001b[0;34m(\u001b[0m\u001b[0mint\u001b[0m\u001b[0;34m(\u001b[0m\u001b[0msetup\u001b[0m\u001b[0;34m.\u001b[0m\u001b[0mloc\u001b[0m\u001b[0;34m[\u001b[0m\u001b[0;34m(\u001b[0m\u001b[0mj\u001b[0m\u001b[0;34m,\u001b[0m\u001b[0mi\u001b[0m\u001b[0;34m)\u001b[0m\u001b[0;34m]\u001b[0m\u001b[0;34m.\u001b[0m\u001b[0mvalues\u001b[0m\u001b[0;34m[\u001b[0m\u001b[0;36m0\u001b[0m\u001b[0;34m]\u001b[0m\u001b[0;34m/\u001b[0m\u001b[0;36m40\u001b[0m\u001b[0;34m)\u001b[0m\u001b[0;34m)\u001b[0m\u001b[0;34m\u001b[0m\u001b[0;34m\u001b[0m\u001b[0m\n\u001b[0m\u001b[1;32m    111\u001b[0m \u001b[0;34m\u001b[0m\u001b[0m\n\u001b[1;32m    112\u001b[0m \u001b[0;31m#model.Minimize(sum([mm[j] for j in jobs]))\u001b[0m\u001b[0;34m\u001b[0m\u001b[0;34m\u001b[0m\u001b[0;34m\u001b[0m\u001b[0m\n",
            "\u001b[0;32m/usr/local/lib/python3.6/dist-packages/ortools/sat/python/cp_model.py\u001b[0m in \u001b[0;36m__mul__\u001b[0;34m(self, arg)\u001b[0m\n\u001b[1;32m    231\u001b[0m             \u001b[0;32mreturn\u001b[0m \u001b[0m_ProductCst\u001b[0m\u001b[0;34m(\u001b[0m\u001b[0mself\u001b[0m\u001b[0;34m,\u001b[0m \u001b[0marg\u001b[0m\u001b[0;34m)\u001b[0m\u001b[0;34m\u001b[0m\u001b[0;34m\u001b[0m\u001b[0m\n\u001b[1;32m    232\u001b[0m         \u001b[0;32melse\u001b[0m\u001b[0;34m:\u001b[0m\u001b[0;34m\u001b[0m\u001b[0;34m\u001b[0m\u001b[0m\n\u001b[0;32m--> 233\u001b[0;31m             \u001b[0;32mraise\u001b[0m \u001b[0mTypeError\u001b[0m\u001b[0;34m(\u001b[0m\u001b[0;34m'Not an integer linear expression: '\u001b[0m \u001b[0;34m+\u001b[0m \u001b[0mstr\u001b[0m\u001b[0;34m(\u001b[0m\u001b[0marg\u001b[0m\u001b[0;34m)\u001b[0m\u001b[0;34m)\u001b[0m\u001b[0;34m\u001b[0m\u001b[0;34m\u001b[0m\u001b[0m\n\u001b[0m\u001b[1;32m    234\u001b[0m \u001b[0;34m\u001b[0m\u001b[0m\n\u001b[1;32m    235\u001b[0m     \u001b[0;32mdef\u001b[0m \u001b[0m__rmul__\u001b[0m\u001b[0;34m(\u001b[0m\u001b[0mself\u001b[0m\u001b[0;34m,\u001b[0m \u001b[0marg\u001b[0m\u001b[0;34m)\u001b[0m\u001b[0;34m:\u001b[0m\u001b[0;34m\u001b[0m\u001b[0;34m\u001b[0m\u001b[0m\n",
            "\u001b[0;31mTypeError\u001b[0m: Not an integer linear expression: delay"
          ]
        }
      ]
    },
    {
      "cell_type": "code",
      "metadata": {
        "id": "niO4NG7l8_7d",
        "outputId": "7f6e1fe7-61fd-440a-9ff7-d8429466258e",
        "colab": {
          "base_uri": "https://localhost:8080/",
          "height": 1000
        }
      },
      "source": [
        "ff=pd.DataFrame()\n",
        "for o in op:\n",
        "  for m in mc:\n",
        "    for j in jobs:\n",
        "      if solver.Value(all_tasks[j,m,o].run1)>0:\n",
        "        kk={'Job':j,'line':m,'operation':o,'start':solver.Value(all_tasks[j,m,o].start),\n",
        "            'run':solver.Value(all_tasks[j,m,o].run1),'end':solver.Value(all_tasks[j,m,o].end),'due':df1['due'].loc[j].values[0],'delay':solver.Value(gg[j])}\n",
        "        ff=ff.append(kk,ignore_index=True)\n",
        "\n",
        "#!pip install -U plotly\n",
        "import plotly.express as px\n",
        "import datetime\n",
        "fig=px.timeline(data_frame=ff, x_start=ff['start'].astype('datetime64[h]'),x_end=ff['end'].astype('datetime64[h]'),\n",
        "                facet_row='line',facet_col='operation',y='Job',height=1200,width=1500,color='Job')\n",
        "fig.update_xaxes(dtick=14400000,tickformat=\"%d-%H\")\n",
        "fig.update_yaxes(autorange=\"reversed\")\n"
      ],
      "execution_count": null,
      "outputs": [
        {
          "output_type": "display_data",
          "data": {
            "text/html": [
              "<html>\n",
              "<head><meta charset=\"utf-8\" /></head>\n",
              "<body>\n",
              "    <div>            <script src=\"https://cdnjs.cloudflare.com/ajax/libs/mathjax/2.7.5/MathJax.js?config=TeX-AMS-MML_SVG\"></script><script type=\"text/javascript\">if (window.MathJax) {MathJax.Hub.Config({SVG: {font: \"STIX-Web\"}});}</script>                <script type=\"text/javascript\">window.PlotlyConfig = {MathJaxConfig: 'local'};</script>\n",
              "        <script src=\"https://cdn.plot.ly/plotly-latest.min.js\"></script>                <div id=\"ec27434a-9772-4e27-bd43-45af75d4ba43\" class=\"plotly-graph-div\" style=\"height:1200px; width:1500px;\"></div>            <script type=\"text/javascript\">                                    window.PLOTLYENV=window.PLOTLYENV || {};                                    if (document.getElementById(\"ec27434a-9772-4e27-bd43-45af75d4ba43\")) {                    Plotly.newPlot(                        \"ec27434a-9772-4e27-bd43-45af75d4ba43\",                        [{\"alignmentgroup\": \"True\", \"base\": [307662.0], \"hovertemplate\": \"Job=%{y}<br>line=1.0<br>operation=1.0<br>start=%{base}<br>end=%{x}<extra></extra>\", \"legendgroup\": \"17023335gd28013000iX\", \"marker\": {\"color\": \"#636efa\"}, \"name\": \"17023335gd28013000iX\", \"offsetgroup\": \"17023335gd28013000iX\", \"orientation\": \"h\", \"showlegend\": true, \"textposition\": \"auto\", \"type\": \"bar\", \"x\": [0.0], \"xaxis\": \"x11\", \"y\": [\"17023335gd28013000iX\"], \"yaxis\": \"y11\"}, {\"alignmentgroup\": \"True\", \"base\": [59.0], \"hovertemplate\": \"Job=%{y}<br>line=1.0<br>operation=2.0<br>start=%{base}<br>end=%{x}<extra></extra>\", \"legendgroup\": \"17023335gd28013000iX\", \"marker\": {\"color\": \"#636efa\"}, \"name\": \"17023335gd28013000iX\", \"offsetgroup\": \"17023335gd28013000iX\", \"orientation\": \"h\", \"showlegend\": false, \"textposition\": \"auto\", \"type\": \"bar\", \"x\": [0.0], \"xaxis\": \"x12\", \"y\": [\"17023335gd28013000iX\"], \"yaxis\": \"y12\"}, {\"alignmentgroup\": \"True\", \"base\": [389940.0], \"hovertemplate\": \"Job=%{y}<br>line=1.0<br>operation=1.0<br>start=%{base}<br>end=%{x}<extra></extra>\", \"legendgroup\": \"17023335gd28001700iX\", \"marker\": {\"color\": \"#EF553B\"}, \"name\": \"17023335gd28001700iX\", \"offsetgroup\": \"17023335gd28001700iX\", \"orientation\": \"h\", \"showlegend\": true, \"textposition\": \"auto\", \"type\": \"bar\", \"x\": [0.0], \"xaxis\": \"x11\", \"y\": [\"17023335gd28001700iX\"], \"yaxis\": \"y11\"}, {\"alignmentgroup\": \"True\", \"base\": [110484.0], \"hovertemplate\": \"Job=%{y}<br>line=1.0<br>operation=2.0<br>start=%{base}<br>end=%{x}<extra></extra>\", \"legendgroup\": \"17023335gd28001700iX\", \"marker\": {\"color\": \"#EF553B\"}, \"name\": \"17023335gd28001700iX\", \"offsetgroup\": \"17023335gd28001700iX\", \"orientation\": \"h\", \"showlegend\": false, \"textposition\": \"auto\", \"type\": \"bar\", \"x\": [0.0], \"xaxis\": \"x12\", \"y\": [\"17023335gd28001700iX\"], \"yaxis\": \"y12\"}, {\"alignmentgroup\": \"True\", \"base\": [41285.0], \"hovertemplate\": \"Job=%{y}<br>line=1.0<br>operation=1.0<br>start=%{base}<br>end=%{x}<extra></extra>\", \"legendgroup\": \"17023335gd30212200iX\", \"marker\": {\"color\": \"#00cc96\"}, \"name\": \"17023335gd30212200iX\", \"offsetgroup\": \"17023335gd30212200iX\", \"orientation\": \"h\", \"showlegend\": true, \"textposition\": \"auto\", \"type\": \"bar\", \"x\": [0.0], \"xaxis\": \"x11\", \"y\": [\"17023335gd30212200iX\"], \"yaxis\": \"y11\"}, {\"alignmentgroup\": \"True\", \"base\": [960069.0], \"hovertemplate\": \"Job=%{y}<br>line=5.0<br>operation=1.0<br>start=%{base}<br>end=%{x}<extra></extra>\", \"legendgroup\": \"17023335gd30212200iX\", \"marker\": {\"color\": \"#00cc96\"}, \"name\": \"17023335gd30212200iX\", \"offsetgroup\": \"17023335gd30212200iX\", \"orientation\": \"h\", \"showlegend\": false, \"textposition\": \"auto\", \"type\": \"bar\", \"x\": [1.0], \"xaxis\": \"x3\", \"y\": [\"17023335gd30212200iX\"], \"yaxis\": \"y3\"}, {\"alignmentgroup\": \"True\", \"base\": [233089.0], \"hovertemplate\": \"Job=%{y}<br>line=5.0<br>operation=2.0<br>start=%{base}<br>end=%{x}<extra></extra>\", \"legendgroup\": \"17023335gd30212200iX\", \"marker\": {\"color\": \"#00cc96\"}, \"name\": \"17023335gd30212200iX\", \"offsetgroup\": \"17023335gd30212200iX\", \"orientation\": \"h\", \"showlegend\": false, \"textposition\": \"auto\", \"type\": \"bar\", \"x\": [0.0], \"xaxis\": \"x4\", \"y\": [\"17023335gd30212200iX\"], \"yaxis\": \"y4\"}, {\"alignmentgroup\": \"True\", \"base\": [114284.0], \"hovertemplate\": \"Job=%{y}<br>line=1.0<br>operation=1.0<br>start=%{base}<br>end=%{x}<extra></extra>\", \"legendgroup\": \"17023637gd28001701iX\", \"marker\": {\"color\": \"#ab63fa\"}, \"name\": \"17023637gd28001701iX\", \"offsetgroup\": \"17023637gd28001701iX\", \"orientation\": \"h\", \"showlegend\": true, \"textposition\": \"auto\", \"type\": \"bar\", \"x\": [0.0], \"xaxis\": \"x11\", \"y\": [\"17023637gd28001701iX\"], \"yaxis\": \"y11\"}, {\"alignmentgroup\": \"True\", \"base\": [82282.0], \"hovertemplate\": \"Job=%{y}<br>line=5.0<br>operation=2.0<br>start=%{base}<br>end=%{x}<extra></extra>\", \"legendgroup\": \"17023637gd28001701iX\", \"marker\": {\"color\": \"#ab63fa\"}, \"name\": \"17023637gd28001701iX\", \"offsetgroup\": \"17023637gd28001701iX\", \"orientation\": \"h\", \"showlegend\": false, \"textposition\": \"auto\", \"type\": \"bar\", \"x\": [0.0], \"xaxis\": \"x4\", \"y\": [\"17023637gd28001701iX\"], \"yaxis\": \"y4\"}, {\"alignmentgroup\": \"True\", \"base\": [298829.0], \"hovertemplate\": \"Job=%{y}<br>line=1.0<br>operation=1.0<br>start=%{base}<br>end=%{x}<extra></extra>\", \"legendgroup\": \"4501763335gd251100C0Ud\", \"marker\": {\"color\": \"#FFA15A\"}, \"name\": \"4501763335gd251100C0Ud\", \"offsetgroup\": \"4501763335gd251100C0Ud\", \"orientation\": \"h\", \"showlegend\": true, \"textposition\": \"auto\", \"type\": \"bar\", \"x\": [0.0], \"xaxis\": \"x11\", \"y\": [\"4501763335gd251100C0Ud\"], \"yaxis\": \"y11\"}, {\"alignmentgroup\": \"True\", \"base\": [77.0], \"hovertemplate\": \"Job=%{y}<br>line=2.0<br>operation=2.0<br>start=%{base}<br>end=%{x}<extra></extra>\", \"legendgroup\": \"4501763335gd251100C0Ud\", \"marker\": {\"color\": \"#FFA15A\"}, \"name\": \"4501763335gd251100C0Ud\", \"offsetgroup\": \"4501763335gd251100C0Ud\", \"orientation\": \"h\", \"showlegend\": false, \"textposition\": \"auto\", \"type\": \"bar\", \"x\": [0.0], \"xaxis\": \"x10\", \"y\": [\"4501763335gd251100C0Ud\"], \"yaxis\": \"y10\"}, {\"alignmentgroup\": \"True\", \"base\": [414286.0], \"hovertemplate\": \"Job=%{y}<br>line=3.0<br>operation=1.0<br>start=%{base}<br>end=%{x}<extra></extra>\", \"legendgroup\": \"4501763335gd251100C0Ud\", \"marker\": {\"color\": \"#FFA15A\"}, \"name\": \"4501763335gd251100C0Ud\", \"offsetgroup\": \"4501763335gd251100C0Ud\", \"orientation\": \"h\", \"showlegend\": false, \"textposition\": \"auto\", \"type\": \"bar\", \"x\": [0.0], \"xaxis\": \"x7\", \"y\": [\"4501763335gd251100C0Ud\"], \"yaxis\": \"y7\"}, {\"alignmentgroup\": \"True\", \"base\": [278298.0], \"hovertemplate\": \"Job=%{y}<br>line=1.0<br>operation=1.0<br>start=%{base}<br>end=%{x}<extra></extra>\", \"legendgroup\": \"4501763335gC25020000UC\", \"marker\": {\"color\": \"#19d3f3\"}, \"name\": \"4501763335gC25020000UC\", \"offsetgroup\": \"4501763335gC25020000UC\", \"orientation\": \"h\", \"showlegend\": true, \"textposition\": \"auto\", \"type\": \"bar\", \"x\": [0.0], \"xaxis\": \"x11\", \"y\": [\"4501763335gC25020000UC\"], \"yaxis\": \"y11\"}, {\"alignmentgroup\": \"True\", \"base\": [16.0], \"hovertemplate\": \"Job=%{y}<br>line=3.0<br>operation=2.0<br>start=%{base}<br>end=%{x}<extra></extra>\", \"legendgroup\": \"4501763335gC25020000UC\", \"marker\": {\"color\": \"#19d3f3\"}, \"name\": \"4501763335gC25020000UC\", \"offsetgroup\": \"4501763335gC25020000UC\", \"orientation\": \"h\", \"showlegend\": false, \"textposition\": \"auto\", \"type\": \"bar\", \"x\": [0.0], \"xaxis\": \"x8\", \"y\": [\"4501763335gC25020000UC\"], \"yaxis\": \"y8\"}, {\"alignmentgroup\": \"True\", \"base\": [13.0], \"hovertemplate\": \"Job=%{y}<br>line=4.0<br>operation=2.0<br>start=%{base}<br>end=%{x}<extra></extra>\", \"legendgroup\": \"4501763335gC25020000UC\", \"marker\": {\"color\": \"#19d3f3\"}, \"name\": \"4501763335gC25020000UC\", \"offsetgroup\": \"4501763335gC25020000UC\", \"orientation\": \"h\", \"showlegend\": false, \"textposition\": \"auto\", \"type\": \"bar\", \"x\": [0.0], \"xaxis\": \"x6\", \"y\": [\"4501763335gC25020000UC\"], \"yaxis\": \"y6\"}, {\"alignmentgroup\": \"True\", \"base\": [84.0], \"hovertemplate\": \"Job=%{y}<br>line=6.0<br>operation=2.0<br>start=%{base}<br>end=%{x}<extra></extra>\", \"legendgroup\": \"4501763335gC25020000UC\", \"marker\": {\"color\": \"#19d3f3\"}, \"name\": \"4501763335gC25020000UC\", \"offsetgroup\": \"4501763335gC25020000UC\", \"orientation\": \"h\", \"showlegend\": false, \"textposition\": \"auto\", \"type\": \"bar\", \"x\": [0.0], \"xaxis\": \"x2\", \"y\": [\"4501763335gC25020000UC\"], \"yaxis\": \"y2\"}, {\"alignmentgroup\": \"True\", \"base\": [34302.0], \"hovertemplate\": \"Job=%{y}<br>line=1.0<br>operation=2.0<br>start=%{base}<br>end=%{x}<extra></extra>\", \"legendgroup\": \"17023572gd43208500iX\", \"marker\": {\"color\": \"#FF6692\"}, \"name\": \"17023572gd43208500iX\", \"offsetgroup\": \"17023572gd43208500iX\", \"orientation\": \"h\", \"showlegend\": true, \"textposition\": \"auto\", \"type\": \"bar\", \"x\": [0.0], \"xaxis\": \"x12\", \"y\": [\"17023572gd43208500iX\"], \"yaxis\": \"y12\"}, {\"alignmentgroup\": \"True\", \"base\": [411492.0], \"hovertemplate\": \"Job=%{y}<br>line=2.0<br>operation=1.0<br>start=%{base}<br>end=%{x}<extra></extra>\", \"legendgroup\": \"17023572gd43208500iX\", \"marker\": {\"color\": \"#FF6692\"}, \"name\": \"17023572gd43208500iX\", \"offsetgroup\": \"17023572gd43208500iX\", \"orientation\": \"h\", \"showlegend\": false, \"textposition\": \"auto\", \"type\": \"bar\", \"x\": [0.0], \"xaxis\": \"x9\", \"y\": [\"17023572gd43208500iX\"], \"yaxis\": \"y9\"}, {\"alignmentgroup\": \"True\", \"base\": [293953.0], \"hovertemplate\": \"Job=%{y}<br>line=2.0<br>operation=1.0<br>start=%{base}<br>end=%{x}<extra></extra>\", \"legendgroup\": \"17023637gd28002400iX\", \"marker\": {\"color\": \"#B6E880\"}, \"name\": \"17023637gd28002400iX\", \"offsetgroup\": \"17023637gd28002400iX\", \"orientation\": \"h\", \"showlegend\": true, \"textposition\": \"auto\", \"type\": \"bar\", \"x\": [0.0], \"xaxis\": \"x9\", \"y\": [\"17023637gd28002400iX\"], \"yaxis\": \"y9\"}, {\"alignmentgroup\": \"True\", \"base\": [622669.0], \"hovertemplate\": \"Job=%{y}<br>line=5.0<br>operation=1.0<br>start=%{base}<br>end=%{x}<extra></extra>\", \"legendgroup\": \"17023637gd28002400iX\", \"marker\": {\"color\": \"#B6E880\"}, \"name\": \"17023637gd28002400iX\", \"offsetgroup\": \"17023637gd28002400iX\", \"orientation\": \"h\", \"showlegend\": false, \"textposition\": \"auto\", \"type\": \"bar\", \"x\": [0.0], \"xaxis\": \"x3\", \"y\": [\"17023637gd28002400iX\"], \"yaxis\": \"y3\"}, {\"alignmentgroup\": \"True\", \"base\": [212579.0], \"hovertemplate\": \"Job=%{y}<br>line=6.0<br>operation=2.0<br>start=%{base}<br>end=%{x}<extra></extra>\", \"legendgroup\": \"17023637gd28002400iX\", \"marker\": {\"color\": \"#B6E880\"}, \"name\": \"17023637gd28002400iX\", \"offsetgroup\": \"17023637gd28002400iX\", \"orientation\": \"h\", \"showlegend\": false, \"textposition\": \"auto\", \"type\": \"bar\", \"x\": [0.0], \"xaxis\": \"x2\", \"y\": [\"17023637gd28002400iX\"], \"yaxis\": \"y2\"}, {\"alignmentgroup\": \"True\", \"base\": [314417.0], \"hovertemplate\": \"Job=%{y}<br>line=2.0<br>operation=1.0<br>start=%{base}<br>end=%{x}<extra></extra>\", \"legendgroup\": \"17023439gd28311300iX\", \"marker\": {\"color\": \"#FF97FF\"}, \"name\": \"17023439gd28311300iX\", \"offsetgroup\": \"17023439gd28311300iX\", \"orientation\": \"h\", \"showlegend\": true, \"textposition\": \"auto\", \"type\": \"bar\", \"x\": [0.0], \"xaxis\": \"x9\", \"y\": [\"17023439gd28311300iX\"], \"yaxis\": \"y9\"}, {\"alignmentgroup\": \"True\", \"base\": [174981.0], \"hovertemplate\": \"Job=%{y}<br>line=5.0<br>operation=2.0<br>start=%{base}<br>end=%{x}<extra></extra>\", \"legendgroup\": \"17023439gd28311300iX\", \"marker\": {\"color\": \"#FF97FF\"}, \"name\": \"17023439gd28311300iX\", \"offsetgroup\": \"17023439gd28311300iX\", \"orientation\": \"h\", \"showlegend\": false, \"textposition\": \"auto\", \"type\": \"bar\", \"x\": [0.0], \"xaxis\": \"x4\", \"y\": [\"17023439gd28311300iX\"], \"yaxis\": \"y4\"}, {\"alignmentgroup\": \"True\", \"base\": [174977.0], \"hovertemplate\": \"Job=%{y}<br>line=6.0<br>operation=1.0<br>start=%{base}<br>end=%{x}<extra></extra>\", \"legendgroup\": \"17023439gd28311300iX\", \"marker\": {\"color\": \"#FF97FF\"}, \"name\": \"17023439gd28311300iX\", \"offsetgroup\": \"17023439gd28311300iX\", \"orientation\": \"h\", \"showlegend\": false, \"textposition\": \"auto\", \"type\": \"bar\", \"x\": [0.0], \"xaxis\": \"x\", \"y\": [\"17023439gd28311300iX\"], \"yaxis\": \"y\"}, {\"alignmentgroup\": \"True\", \"base\": [445108.0], \"hovertemplate\": \"Job=%{y}<br>line=2.0<br>operation=1.0<br>start=%{base}<br>end=%{x}<extra></extra>\", \"legendgroup\": \"17023440gd23010000gR\", \"marker\": {\"color\": \"#FECB52\"}, \"name\": \"17023440gd23010000gR\", \"offsetgroup\": \"17023440gd23010000gR\", \"orientation\": \"h\", \"showlegend\": true, \"textposition\": \"auto\", \"type\": \"bar\", \"x\": [0.0], \"xaxis\": \"x9\", \"y\": [\"17023440gd23010000gR\"], \"yaxis\": \"y9\"}, {\"alignmentgroup\": \"True\", \"base\": [397551.0], \"hovertemplate\": \"Job=%{y}<br>line=3.0<br>operation=1.0<br>start=%{base}<br>end=%{x}<extra></extra>\", \"legendgroup\": \"17023440gd23010000gR\", \"marker\": {\"color\": \"#FECB52\"}, \"name\": \"17023440gd23010000gR\", \"offsetgroup\": \"17023440gd23010000gR\", \"orientation\": \"h\", \"showlegend\": false, \"textposition\": \"auto\", \"type\": \"bar\", \"x\": [0.0], \"xaxis\": \"x7\", \"y\": [\"17023440gd23010000gR\"], \"yaxis\": \"y7\"}, {\"alignmentgroup\": \"True\", \"base\": [395752.0], \"hovertemplate\": \"Job=%{y}<br>line=4.0<br>operation=1.0<br>start=%{base}<br>end=%{x}<extra></extra>\", \"legendgroup\": \"17023440gd23010000gR\", \"marker\": {\"color\": \"#FECB52\"}, \"name\": \"17023440gd23010000gR\", \"offsetgroup\": \"17023440gd23010000gR\", \"orientation\": \"h\", \"showlegend\": false, \"textposition\": \"auto\", \"type\": \"bar\", \"x\": [0.0], \"xaxis\": \"x5\", \"y\": [\"17023440gd23010000gR\"], \"yaxis\": \"y5\"}, {\"alignmentgroup\": \"True\", \"base\": [92326.0], \"hovertemplate\": \"Job=%{y}<br>line=5.0<br>operation=2.0<br>start=%{base}<br>end=%{x}<extra></extra>\", \"legendgroup\": \"17023440gd23010000gR\", \"marker\": {\"color\": \"#FECB52\"}, \"name\": \"17023440gd23010000gR\", \"offsetgroup\": \"17023440gd23010000gR\", \"orientation\": \"h\", \"showlegend\": false, \"textposition\": \"auto\", \"type\": \"bar\", \"x\": [0.0], \"xaxis\": \"x4\", \"y\": [\"17023440gd23010000gR\"], \"yaxis\": \"y4\"}, {\"alignmentgroup\": \"True\", \"base\": [416864.0], \"hovertemplate\": \"Job=%{y}<br>line=3.0<br>operation=1.0<br>start=%{base}<br>end=%{x}<extra></extra>\", \"legendgroup\": \"17023287gd29907800iX\", \"marker\": {\"color\": \"#636efa\"}, \"name\": \"17023287gd29907800iX\", \"offsetgroup\": \"17023287gd29907800iX\", \"orientation\": \"h\", \"showlegend\": true, \"textposition\": \"auto\", \"type\": \"bar\", \"x\": [0.0], \"xaxis\": \"x7\", \"y\": [\"17023287gd29907800iX\"], \"yaxis\": \"y7\"}, {\"alignmentgroup\": \"True\", \"base\": [5378.0], \"hovertemplate\": \"Job=%{y}<br>line=3.0<br>operation=2.0<br>start=%{base}<br>end=%{x}<extra></extra>\", \"legendgroup\": \"17023287gd29907800iX\", \"marker\": {\"color\": \"#636efa\"}, \"name\": \"17023287gd29907800iX\", \"offsetgroup\": \"17023287gd29907800iX\", \"orientation\": \"h\", \"showlegend\": false, \"textposition\": \"auto\", \"type\": \"bar\", \"x\": [0.0], \"xaxis\": \"x8\", \"y\": [\"17023287gd29907800iX\"], \"yaxis\": \"y8\"}, {\"alignmentgroup\": \"True\", \"base\": [346499.0], \"hovertemplate\": \"Job=%{y}<br>line=3.0<br>operation=1.0<br>start=%{base}<br>end=%{x}<extra></extra>\", \"legendgroup\": \"17023636gd28001701iX\", \"marker\": {\"color\": \"#EF553B\"}, \"name\": \"17023636gd28001701iX\", \"offsetgroup\": \"17023636gd28001701iX\", \"orientation\": \"h\", \"showlegend\": true, \"textposition\": \"auto\", \"type\": \"bar\", \"x\": [0.0], \"xaxis\": \"x7\", \"y\": [\"17023636gd28001701iX\"], \"yaxis\": \"y7\"}, {\"alignmentgroup\": \"True\", \"base\": [425392.0], \"hovertemplate\": \"Job=%{y}<br>line=6.0<br>operation=1.0<br>start=%{base}<br>end=%{x}<extra></extra>\", \"legendgroup\": \"17023636gd28001701iX\", \"marker\": {\"color\": \"#EF553B\"}, \"name\": \"17023636gd28001701iX\", \"offsetgroup\": \"17023636gd28001701iX\", \"orientation\": \"h\", \"showlegend\": false, \"textposition\": \"auto\", \"type\": \"bar\", \"x\": [0.0], \"xaxis\": \"x\", \"y\": [\"17023636gd28001701iX\"], \"yaxis\": \"y\"}, {\"alignmentgroup\": \"True\", \"base\": [31246.0], \"hovertemplate\": \"Job=%{y}<br>line=6.0<br>operation=2.0<br>start=%{base}<br>end=%{x}<extra></extra>\", \"legendgroup\": \"17023636gd28001701iX\", \"marker\": {\"color\": \"#EF553B\"}, \"name\": \"17023636gd28001701iX\", \"offsetgroup\": \"17023636gd28001701iX\", \"orientation\": \"h\", \"showlegend\": false, \"textposition\": \"auto\", \"type\": \"bar\", \"x\": [0.0], \"xaxis\": \"x2\", \"y\": [\"17023636gd28001701iX\"], \"yaxis\": \"y2\"}, {\"alignmentgroup\": \"True\", \"base\": [4.0], \"hovertemplate\": \"Job=%{y}<br>line=1.0<br>operation=2.0<br>start=%{base}<br>end=%{x}<extra></extra>\", \"legendgroup\": \"17023335gd28018100iX\", \"marker\": {\"color\": \"#00cc96\"}, \"name\": \"17023335gd28018100iX\", \"offsetgroup\": \"17023335gd28018100iX\", \"orientation\": \"h\", \"showlegend\": true, \"textposition\": \"auto\", \"type\": \"bar\", \"x\": [0.0], \"xaxis\": \"x12\", \"y\": [\"17023335gd28018100iX\"], \"yaxis\": \"y12\"}, {\"alignmentgroup\": \"True\", \"base\": [100903.0], \"hovertemplate\": \"Job=%{y}<br>line=3.0<br>operation=1.0<br>start=%{base}<br>end=%{x}<extra></extra>\", \"legendgroup\": \"17023335gd28018100iX\", \"marker\": {\"color\": \"#00cc96\"}, \"name\": \"17023335gd28018100iX\", \"offsetgroup\": \"17023335gd28018100iX\", \"orientation\": \"h\", \"showlegend\": false, \"textposition\": \"auto\", \"type\": \"bar\", \"x\": [0.0], \"xaxis\": \"x7\", \"y\": [\"17023335gd28018100iX\"], \"yaxis\": \"y7\"}, {\"alignmentgroup\": \"True\", \"base\": [412489.0], \"hovertemplate\": \"Job=%{y}<br>line=4.0<br>operation=1.0<br>start=%{base}<br>end=%{x}<extra></extra>\", \"legendgroup\": \"17023335gd28018100iX\", \"marker\": {\"color\": \"#00cc96\"}, \"name\": \"17023335gd28018100iX\", \"offsetgroup\": \"17023335gd28018100iX\", \"orientation\": \"h\", \"showlegend\": false, \"textposition\": \"auto\", \"type\": \"bar\", \"x\": [0.0], \"xaxis\": \"x5\", \"y\": [\"17023335gd28018100iX\"], \"yaxis\": \"y5\"}, {\"alignmentgroup\": \"True\", \"base\": [4.0], \"hovertemplate\": \"Job=%{y}<br>line=6.0<br>operation=2.0<br>start=%{base}<br>end=%{x}<extra></extra>\", \"legendgroup\": \"17023335gd28018100iX\", \"marker\": {\"color\": \"#00cc96\"}, \"name\": \"17023335gd28018100iX\", \"offsetgroup\": \"17023335gd28018100iX\", \"orientation\": \"h\", \"showlegend\": false, \"textposition\": \"auto\", \"type\": \"bar\", \"x\": [0.0], \"xaxis\": \"x2\", \"y\": [\"17023335gd28018100iX\"], \"yaxis\": \"y2\"}, {\"alignmentgroup\": \"True\", \"base\": [4.0], \"hovertemplate\": \"Job=%{y}<br>line=2.0<br>operation=2.0<br>start=%{base}<br>end=%{x}<extra></extra>\", \"legendgroup\": \"17023287gd29904300iX\", \"marker\": {\"color\": \"#ab63fa\"}, \"name\": \"17023287gd29904300iX\", \"offsetgroup\": \"17023287gd29904300iX\", \"orientation\": \"h\", \"showlegend\": true, \"textposition\": \"auto\", \"type\": \"bar\", \"x\": [0.0], \"xaxis\": \"x10\", \"y\": [\"17023287gd29904300iX\"], \"yaxis\": \"y10\"}, {\"alignmentgroup\": \"True\", \"base\": [0.0], \"hovertemplate\": \"Job=%{y}<br>line=4.0<br>operation=1.0<br>start=%{base}<br>end=%{x}<extra></extra>\", \"legendgroup\": \"17023287gd29904300iX\", \"marker\": {\"color\": \"#ab63fa\"}, \"name\": \"17023287gd29904300iX\", \"offsetgroup\": \"17023287gd29904300iX\", \"orientation\": \"h\", \"showlegend\": false, \"textposition\": \"auto\", \"type\": \"bar\", \"x\": [0.0], \"xaxis\": \"x5\", \"y\": [\"17023287gd29904300iX\"], \"yaxis\": \"y5\"}, {\"alignmentgroup\": \"True\", \"base\": [180309.0], \"hovertemplate\": \"Job=%{y}<br>line=5.0<br>operation=1.0<br>start=%{base}<br>end=%{x}<extra></extra>\", \"legendgroup\": \"17023287gd29904300iX\", \"marker\": {\"color\": \"#ab63fa\"}, \"name\": \"17023287gd29904300iX\", \"offsetgroup\": \"17023287gd29904300iX\", \"orientation\": \"h\", \"showlegend\": false, \"textposition\": \"auto\", \"type\": \"bar\", \"x\": [0.0], \"xaxis\": \"x3\", \"y\": [\"17023287gd29904300iX\"], \"yaxis\": \"y3\"}, {\"alignmentgroup\": \"True\", \"base\": [64527.0], \"hovertemplate\": \"Job=%{y}<br>line=6.0<br>operation=1.0<br>start=%{base}<br>end=%{x}<extra></extra>\", \"legendgroup\": \"17023287gd29904300iX\", \"marker\": {\"color\": \"#ab63fa\"}, \"name\": \"17023287gd29904300iX\", \"offsetgroup\": \"17023287gd29904300iX\", \"orientation\": \"h\", \"showlegend\": false, \"textposition\": \"auto\", \"type\": \"bar\", \"x\": [0.0], \"xaxis\": \"x\", \"y\": [\"17023287gd29904300iX\"], \"yaxis\": \"y\"}, {\"alignmentgroup\": \"True\", \"base\": [2581.0], \"hovertemplate\": \"Job=%{y}<br>line=2.0<br>operation=2.0<br>start=%{base}<br>end=%{x}<extra></extra>\", \"legendgroup\": \"17023287gd55102400iX\", \"marker\": {\"color\": \"#FFA15A\"}, \"name\": \"17023287gd55102400iX\", \"offsetgroup\": \"17023287gd55102400iX\", \"orientation\": \"h\", \"showlegend\": true, \"textposition\": \"auto\", \"type\": \"bar\", \"x\": [0.0], \"xaxis\": \"x10\", \"y\": [\"17023287gd55102400iX\"], \"yaxis\": \"y10\"}, {\"alignmentgroup\": \"True\", \"base\": [342375.0], \"hovertemplate\": \"Job=%{y}<br>line=4.0<br>operation=1.0<br>start=%{base}<br>end=%{x}<extra></extra>\", \"legendgroup\": \"17023287gd55102400iX\", \"marker\": {\"color\": \"#FFA15A\"}, \"name\": \"17023287gd55102400iX\", \"offsetgroup\": \"17023287gd55102400iX\", \"orientation\": \"h\", \"showlegend\": false, \"textposition\": \"auto\", \"type\": \"bar\", \"x\": [0.0], \"xaxis\": \"x5\", \"y\": [\"17023287gd55102400iX\"], \"yaxis\": \"y5\"}, {\"alignmentgroup\": \"True\", \"base\": [107.0], \"hovertemplate\": \"Job=%{y}<br>line=1.0<br>operation=2.0<br>start=%{base}<br>end=%{x}<extra></extra>\", \"legendgroup\": \"17023636gd280043C0iX\", \"marker\": {\"color\": \"#19d3f3\"}, \"name\": \"17023636gd280043C0iX\", \"offsetgroup\": \"17023636gd280043C0iX\", \"orientation\": \"h\", \"showlegend\": true, \"textposition\": \"auto\", \"type\": \"bar\", \"x\": [0.0], \"xaxis\": \"x12\", \"y\": [\"17023636gd280043C0iX\"], \"yaxis\": \"y12\"}, {\"alignmentgroup\": \"True\", \"base\": [177825.0], \"hovertemplate\": \"Job=%{y}<br>line=4.0<br>operation=1.0<br>start=%{base}<br>end=%{x}<extra></extra>\", \"legendgroup\": \"17023636gd280043C0iX\", \"marker\": {\"color\": \"#19d3f3\"}, \"name\": \"17023636gd280043C0iX\", \"offsetgroup\": \"17023636gd280043C0iX\", \"orientation\": \"h\", \"showlegend\": false, \"textposition\": \"auto\", \"type\": \"bar\", \"x\": [0.0], \"xaxis\": \"x5\", \"y\": [\"17023636gd280043C0iX\"], \"yaxis\": \"y5\"}, {\"alignmentgroup\": \"True\", \"base\": [7.0], \"hovertemplate\": \"Job=%{y}<br>line=5.0<br>operation=2.0<br>start=%{base}<br>end=%{x}<extra></extra>\", \"legendgroup\": \"17023636gd280043C0iX\", \"marker\": {\"color\": \"#19d3f3\"}, \"name\": \"17023636gd280043C0iX\", \"offsetgroup\": \"17023636gd280043C0iX\", \"orientation\": \"h\", \"showlegend\": false, \"textposition\": \"auto\", \"type\": \"bar\", \"x\": [0.0], \"xaxis\": \"x4\", \"y\": [\"17023636gd280043C0iX\"], \"yaxis\": \"y4\"}, {\"alignmentgroup\": \"True\", \"base\": [490201.0], \"hovertemplate\": \"Job=%{y}<br>line=6.0<br>operation=1.0<br>start=%{base}<br>end=%{x}<extra></extra>\", \"legendgroup\": \"4501763335gd23010000Ud\", \"marker\": {\"color\": \"#FF6692\"}, \"name\": \"4501763335gd23010000Ud\", \"offsetgroup\": \"4501763335gd23010000Ud\", \"orientation\": \"h\", \"showlegend\": true, \"textposition\": \"auto\", \"type\": \"bar\", \"x\": [0.0], \"xaxis\": \"x\", \"y\": [\"4501763335gd23010000Ud\"], \"yaxis\": \"y\"}, {\"alignmentgroup\": \"True\", \"base\": [306549.0], \"hovertemplate\": \"Job=%{y}<br>line=6.0<br>operation=2.0<br>start=%{base}<br>end=%{x}<extra></extra>\", \"legendgroup\": \"4501763335gd23010000Ud\", \"marker\": {\"color\": \"#FF6692\"}, \"name\": \"4501763335gd23010000Ud\", \"offsetgroup\": \"4501763335gd23010000Ud\", \"orientation\": \"h\", \"showlegend\": false, \"textposition\": \"auto\", \"type\": \"bar\", \"x\": [0.0], \"xaxis\": \"x2\", \"y\": [\"4501763335gd23010000Ud\"], \"yaxis\": \"y2\"}],                        {\"annotations\": [{\"font\": {}, \"showarrow\": false, \"text\": \"operation=1.0\", \"x\": 0.24, \"xanchor\": \"center\", \"xref\": \"paper\", \"y\": 1.0, \"yanchor\": \"bottom\", \"yref\": \"paper\"}, {\"font\": {}, \"showarrow\": false, \"text\": \"operation=2.0\", \"x\": 0.74, \"xanchor\": \"center\", \"xref\": \"paper\", \"y\": 1.0, \"yanchor\": \"bottom\", \"yref\": \"paper\"}, {\"font\": {}, \"showarrow\": false, \"text\": \"line=6.0\", \"textangle\": 90, \"x\": 0.98, \"xanchor\": \"left\", \"xref\": \"paper\", \"y\": 0.07083333333333333, \"yanchor\": \"middle\", \"yref\": \"paper\"}, {\"font\": {}, \"showarrow\": false, \"text\": \"line=5.0\", \"textangle\": 90, \"x\": 0.98, \"xanchor\": \"left\", \"xref\": \"paper\", \"y\": 0.2425, \"yanchor\": \"middle\", \"yref\": \"paper\"}, {\"font\": {}, \"showarrow\": false, \"text\": \"line=4.0\", \"textangle\": 90, \"x\": 0.98, \"xanchor\": \"left\", \"xref\": \"paper\", \"y\": 0.4141666666666667, \"yanchor\": \"middle\", \"yref\": \"paper\"}, {\"font\": {}, \"showarrow\": false, \"text\": \"line=3.0\", \"textangle\": 90, \"x\": 0.98, \"xanchor\": \"left\", \"xref\": \"paper\", \"y\": 0.5858333333333334, \"yanchor\": \"middle\", \"yref\": \"paper\"}, {\"font\": {}, \"showarrow\": false, \"text\": \"line=2.0\", \"textangle\": 90, \"x\": 0.98, \"xanchor\": \"left\", \"xref\": \"paper\", \"y\": 0.7575000000000001, \"yanchor\": \"middle\", \"yref\": \"paper\"}, {\"font\": {}, \"showarrow\": false, \"text\": \"line=1.0\", \"textangle\": 90, \"x\": 0.98, \"xanchor\": \"left\", \"xref\": \"paper\", \"y\": 0.9291666666666667, \"yanchor\": \"middle\", \"yref\": \"paper\"}], \"barmode\": \"overlay\", \"height\": 1200, \"legend\": {\"title\": {\"text\": \"Job\"}, \"tracegroupgap\": 0}, \"margin\": {\"t\": 60}, \"template\": {\"data\": {\"bar\": [{\"error_x\": {\"color\": \"#2a3f5f\"}, \"error_y\": {\"color\": \"#2a3f5f\"}, \"marker\": {\"line\": {\"color\": \"#E5ECF6\", \"width\": 0.5}}, \"type\": \"bar\"}], \"barpolar\": [{\"marker\": {\"line\": {\"color\": \"#E5ECF6\", \"width\": 0.5}}, \"type\": \"barpolar\"}], \"carpet\": [{\"aaxis\": {\"endlinecolor\": \"#2a3f5f\", \"gridcolor\": \"white\", \"linecolor\": \"white\", \"minorgridcolor\": \"white\", \"startlinecolor\": \"#2a3f5f\"}, \"baxis\": {\"endlinecolor\": \"#2a3f5f\", \"gridcolor\": \"white\", \"linecolor\": \"white\", \"minorgridcolor\": \"white\", \"startlinecolor\": \"#2a3f5f\"}, \"type\": \"carpet\"}], \"choropleth\": [{\"colorbar\": {\"outlinewidth\": 0, \"ticks\": \"\"}, \"type\": \"choropleth\"}], \"contour\": [{\"colorbar\": {\"outlinewidth\": 0, \"ticks\": \"\"}, \"colorscale\": [[0.0, \"#0d0887\"], [0.1111111111111111, \"#46039f\"], [0.2222222222222222, \"#7201a8\"], [0.3333333333333333, \"#9c179e\"], [0.4444444444444444, \"#bd3786\"], [0.5555555555555556, \"#d8576b\"], [0.6666666666666666, \"#ed7953\"], [0.7777777777777778, \"#fb9f3a\"], [0.8888888888888888, \"#fdca26\"], [1.0, \"#f0f921\"]], \"type\": \"contour\"}], \"contourcarpet\": [{\"colorbar\": {\"outlinewidth\": 0, \"ticks\": \"\"}, \"type\": \"contourcarpet\"}], \"heatmap\": [{\"colorbar\": {\"outlinewidth\": 0, \"ticks\": \"\"}, \"colorscale\": [[0.0, \"#0d0887\"], [0.1111111111111111, \"#46039f\"], [0.2222222222222222, \"#7201a8\"], [0.3333333333333333, \"#9c179e\"], [0.4444444444444444, \"#bd3786\"], [0.5555555555555556, \"#d8576b\"], [0.6666666666666666, \"#ed7953\"], [0.7777777777777778, \"#fb9f3a\"], [0.8888888888888888, \"#fdca26\"], [1.0, \"#f0f921\"]], \"type\": \"heatmap\"}], \"heatmapgl\": [{\"colorbar\": {\"outlinewidth\": 0, \"ticks\": \"\"}, \"colorscale\": [[0.0, \"#0d0887\"], [0.1111111111111111, \"#46039f\"], [0.2222222222222222, \"#7201a8\"], [0.3333333333333333, \"#9c179e\"], [0.4444444444444444, \"#bd3786\"], [0.5555555555555556, \"#d8576b\"], [0.6666666666666666, \"#ed7953\"], [0.7777777777777778, \"#fb9f3a\"], [0.8888888888888888, \"#fdca26\"], [1.0, \"#f0f921\"]], \"type\": \"heatmapgl\"}], \"histogram\": [{\"marker\": {\"colorbar\": {\"outlinewidth\": 0, \"ticks\": \"\"}}, \"type\": \"histogram\"}], \"histogram2d\": [{\"colorbar\": {\"outlinewidth\": 0, \"ticks\": \"\"}, \"colorscale\": [[0.0, \"#0d0887\"], [0.1111111111111111, \"#46039f\"], [0.2222222222222222, \"#7201a8\"], [0.3333333333333333, \"#9c179e\"], [0.4444444444444444, \"#bd3786\"], [0.5555555555555556, \"#d8576b\"], [0.6666666666666666, \"#ed7953\"], [0.7777777777777778, \"#fb9f3a\"], [0.8888888888888888, \"#fdca26\"], [1.0, \"#f0f921\"]], \"type\": \"histogram2d\"}], \"histogram2dcontour\": [{\"colorbar\": {\"outlinewidth\": 0, \"ticks\": \"\"}, \"colorscale\": [[0.0, \"#0d0887\"], [0.1111111111111111, \"#46039f\"], [0.2222222222222222, \"#7201a8\"], [0.3333333333333333, \"#9c179e\"], [0.4444444444444444, \"#bd3786\"], [0.5555555555555556, \"#d8576b\"], [0.6666666666666666, \"#ed7953\"], [0.7777777777777778, \"#fb9f3a\"], [0.8888888888888888, \"#fdca26\"], [1.0, \"#f0f921\"]], \"type\": \"histogram2dcontour\"}], \"mesh3d\": [{\"colorbar\": {\"outlinewidth\": 0, \"ticks\": \"\"}, \"type\": \"mesh3d\"}], \"parcoords\": [{\"line\": {\"colorbar\": {\"outlinewidth\": 0, \"ticks\": \"\"}}, \"type\": \"parcoords\"}], \"pie\": [{\"automargin\": true, \"type\": \"pie\"}], \"scatter\": [{\"marker\": {\"colorbar\": {\"outlinewidth\": 0, \"ticks\": \"\"}}, \"type\": \"scatter\"}], \"scatter3d\": [{\"line\": {\"colorbar\": {\"outlinewidth\": 0, \"ticks\": \"\"}}, \"marker\": {\"colorbar\": {\"outlinewidth\": 0, \"ticks\": \"\"}}, \"type\": \"scatter3d\"}], \"scattercarpet\": [{\"marker\": {\"colorbar\": {\"outlinewidth\": 0, \"ticks\": \"\"}}, \"type\": \"scattercarpet\"}], \"scattergeo\": [{\"marker\": {\"colorbar\": {\"outlinewidth\": 0, \"ticks\": \"\"}}, \"type\": \"scattergeo\"}], \"scattergl\": [{\"marker\": {\"colorbar\": {\"outlinewidth\": 0, \"ticks\": \"\"}}, \"type\": \"scattergl\"}], \"scattermapbox\": [{\"marker\": {\"colorbar\": {\"outlinewidth\": 0, \"ticks\": \"\"}}, \"type\": \"scattermapbox\"}], \"scatterpolar\": [{\"marker\": {\"colorbar\": {\"outlinewidth\": 0, \"ticks\": \"\"}}, \"type\": \"scatterpolar\"}], \"scatterpolargl\": [{\"marker\": {\"colorbar\": {\"outlinewidth\": 0, \"ticks\": \"\"}}, \"type\": \"scatterpolargl\"}], \"scatterternary\": [{\"marker\": {\"colorbar\": {\"outlinewidth\": 0, \"ticks\": \"\"}}, \"type\": \"scatterternary\"}], \"surface\": [{\"colorbar\": {\"outlinewidth\": 0, \"ticks\": \"\"}, \"colorscale\": [[0.0, \"#0d0887\"], [0.1111111111111111, \"#46039f\"], [0.2222222222222222, \"#7201a8\"], [0.3333333333333333, \"#9c179e\"], [0.4444444444444444, \"#bd3786\"], [0.5555555555555556, \"#d8576b\"], [0.6666666666666666, \"#ed7953\"], [0.7777777777777778, \"#fb9f3a\"], [0.8888888888888888, \"#fdca26\"], [1.0, \"#f0f921\"]], \"type\": \"surface\"}], \"table\": [{\"cells\": {\"fill\": {\"color\": \"#EBF0F8\"}, \"line\": {\"color\": \"white\"}}, \"header\": {\"fill\": {\"color\": \"#C8D4E3\"}, \"line\": {\"color\": \"white\"}}, \"type\": \"table\"}]}, \"layout\": {\"annotationdefaults\": {\"arrowcolor\": \"#2a3f5f\", \"arrowhead\": 0, \"arrowwidth\": 1}, \"coloraxis\": {\"colorbar\": {\"outlinewidth\": 0, \"ticks\": \"\"}}, \"colorscale\": {\"diverging\": [[0, \"#8e0152\"], [0.1, \"#c51b7d\"], [0.2, \"#de77ae\"], [0.3, \"#f1b6da\"], [0.4, \"#fde0ef\"], [0.5, \"#f7f7f7\"], [0.6, \"#e6f5d0\"], [0.7, \"#b8e186\"], [0.8, \"#7fbc41\"], [0.9, \"#4d9221\"], [1, \"#276419\"]], \"sequential\": [[0.0, \"#0d0887\"], [0.1111111111111111, \"#46039f\"], [0.2222222222222222, \"#7201a8\"], [0.3333333333333333, \"#9c179e\"], [0.4444444444444444, \"#bd3786\"], [0.5555555555555556, \"#d8576b\"], [0.6666666666666666, \"#ed7953\"], [0.7777777777777778, \"#fb9f3a\"], [0.8888888888888888, \"#fdca26\"], [1.0, \"#f0f921\"]], \"sequentialminus\": [[0.0, \"#0d0887\"], [0.1111111111111111, \"#46039f\"], [0.2222222222222222, \"#7201a8\"], [0.3333333333333333, \"#9c179e\"], [0.4444444444444444, \"#bd3786\"], [0.5555555555555556, \"#d8576b\"], [0.6666666666666666, \"#ed7953\"], [0.7777777777777778, \"#fb9f3a\"], [0.8888888888888888, \"#fdca26\"], [1.0, \"#f0f921\"]]}, \"colorway\": [\"#636efa\", \"#EF553B\", \"#00cc96\", \"#ab63fa\", \"#FFA15A\", \"#19d3f3\", \"#FF6692\", \"#B6E880\", \"#FF97FF\", \"#FECB52\"], \"font\": {\"color\": \"#2a3f5f\"}, \"geo\": {\"bgcolor\": \"white\", \"lakecolor\": \"white\", \"landcolor\": \"#E5ECF6\", \"showlakes\": true, \"showland\": true, \"subunitcolor\": \"white\"}, \"hoverlabel\": {\"align\": \"left\"}, \"hovermode\": \"closest\", \"mapbox\": {\"style\": \"light\"}, \"paper_bgcolor\": \"white\", \"plot_bgcolor\": \"#E5ECF6\", \"polar\": {\"angularaxis\": {\"gridcolor\": \"white\", \"linecolor\": \"white\", \"ticks\": \"\"}, \"bgcolor\": \"#E5ECF6\", \"radialaxis\": {\"gridcolor\": \"white\", \"linecolor\": \"white\", \"ticks\": \"\"}}, \"scene\": {\"xaxis\": {\"backgroundcolor\": \"#E5ECF6\", \"gridcolor\": \"white\", \"gridwidth\": 2, \"linecolor\": \"white\", \"showbackground\": true, \"ticks\": \"\", \"zerolinecolor\": \"white\"}, \"yaxis\": {\"backgroundcolor\": \"#E5ECF6\", \"gridcolor\": \"white\", \"gridwidth\": 2, \"linecolor\": \"white\", \"showbackground\": true, \"ticks\": \"\", \"zerolinecolor\": \"white\"}, \"zaxis\": {\"backgroundcolor\": \"#E5ECF6\", \"gridcolor\": \"white\", \"gridwidth\": 2, \"linecolor\": \"white\", \"showbackground\": true, \"ticks\": \"\", \"zerolinecolor\": \"white\"}}, \"shapedefaults\": {\"line\": {\"color\": \"#2a3f5f\"}}, \"ternary\": {\"aaxis\": {\"gridcolor\": \"white\", \"linecolor\": \"white\", \"ticks\": \"\"}, \"baxis\": {\"gridcolor\": \"white\", \"linecolor\": \"white\", \"ticks\": \"\"}, \"bgcolor\": \"#E5ECF6\", \"caxis\": {\"gridcolor\": \"white\", \"linecolor\": \"white\", \"ticks\": \"\"}}, \"title\": {\"x\": 0.05}, \"xaxis\": {\"automargin\": true, \"gridcolor\": \"white\", \"linecolor\": \"white\", \"ticks\": \"\", \"title\": {\"standoff\": 15}, \"zerolinecolor\": \"white\", \"zerolinewidth\": 2}, \"yaxis\": {\"automargin\": true, \"gridcolor\": \"white\", \"linecolor\": \"white\", \"ticks\": \"\", \"title\": {\"standoff\": 15}, \"zerolinecolor\": \"white\", \"zerolinewidth\": 2}}}, \"width\": 1500, \"xaxis\": {\"anchor\": \"y\", \"domain\": [0.0, 0.48], \"type\": \"date\"}, \"xaxis10\": {\"anchor\": \"y10\", \"domain\": [0.5, 0.98], \"matches\": \"x\", \"showticklabels\": false, \"type\": \"date\"}, \"xaxis11\": {\"anchor\": \"y11\", \"domain\": [0.0, 0.48], \"matches\": \"x\", \"showticklabels\": false, \"type\": \"date\"}, \"xaxis12\": {\"anchor\": \"y12\", \"domain\": [0.5, 0.98], \"matches\": \"x\", \"showticklabels\": false, \"type\": \"date\"}, \"xaxis2\": {\"anchor\": \"y2\", \"domain\": [0.5, 0.98], \"matches\": \"x\", \"type\": \"date\"}, \"xaxis3\": {\"anchor\": \"y3\", \"domain\": [0.0, 0.48], \"matches\": \"x\", \"showticklabels\": false, \"type\": \"date\"}, \"xaxis4\": {\"anchor\": \"y4\", \"domain\": [0.5, 0.98], \"matches\": \"x\", \"showticklabels\": false, \"type\": \"date\"}, \"xaxis5\": {\"anchor\": \"y5\", \"domain\": [0.0, 0.48], \"matches\": \"x\", \"showticklabels\": false, \"type\": \"date\"}, \"xaxis6\": {\"anchor\": \"y6\", \"domain\": [0.5, 0.98], \"matches\": \"x\", \"showticklabels\": false, \"type\": \"date\"}, \"xaxis7\": {\"anchor\": \"y7\", \"domain\": [0.0, 0.48], \"matches\": \"x\", \"showticklabels\": false, \"type\": \"date\"}, \"xaxis8\": {\"anchor\": \"y8\", \"domain\": [0.5, 0.98], \"matches\": \"x\", \"showticklabels\": false, \"type\": \"date\"}, \"xaxis9\": {\"anchor\": \"y9\", \"domain\": [0.0, 0.48], \"matches\": \"x\", \"showticklabels\": false, \"type\": \"date\"}, \"yaxis\": {\"anchor\": \"x\", \"autorange\": \"reversed\", \"categoryarray\": [\"4501763335gd23010000Ud\", \"17023636gd280043C0iX\", \"17023287gd55102400iX\", \"17023287gd29904300iX\", \"17023335gd28018100iX\", \"17023636gd28001701iX\", \"17023287gd29907800iX\", \"17023440gd23010000gR\", \"17023439gd28311300iX\", \"17023637gd28002400iX\", \"17023572gd43208500iX\", \"4501763335gC25020000UC\", \"4501763335gd251100C0Ud\", \"17023637gd28001701iX\", \"17023335gd30212200iX\", \"17023335gd28001700iX\", \"17023335gd28013000iX\"], \"categoryorder\": \"array\", \"domain\": [0.0, 0.14166666666666666], \"title\": {\"text\": \"Job\"}}, \"yaxis10\": {\"anchor\": \"x10\", \"autorange\": \"reversed\", \"domain\": [0.6866666666666666, 0.8283333333333334], \"matches\": \"y\", \"showticklabels\": false}, \"yaxis11\": {\"anchor\": \"x11\", \"autorange\": \"reversed\", \"categoryarray\": [\"4501763335gd23010000Ud\", \"17023636gd280043C0iX\", \"17023287gd55102400iX\", \"17023287gd29904300iX\", \"17023335gd28018100iX\", \"17023636gd28001701iX\", \"17023287gd29907800iX\", \"17023440gd23010000gR\", \"17023439gd28311300iX\", \"17023637gd28002400iX\", \"17023572gd43208500iX\", \"4501763335gC25020000UC\", \"4501763335gd251100C0Ud\", \"17023637gd28001701iX\", \"17023335gd30212200iX\", \"17023335gd28001700iX\", \"17023335gd28013000iX\"], \"categoryorder\": \"array\", \"domain\": [0.8583333333333333, 1.0], \"matches\": \"y\", \"title\": {\"text\": \"Job\"}}, \"yaxis12\": {\"anchor\": \"x12\", \"autorange\": \"reversed\", \"domain\": [0.8583333333333333, 1.0], \"matches\": \"y\", \"showticklabels\": false}, \"yaxis2\": {\"anchor\": \"x2\", \"autorange\": \"reversed\", \"domain\": [0.0, 0.14166666666666666], \"matches\": \"y\", \"showticklabels\": false}, \"yaxis3\": {\"anchor\": \"x3\", \"autorange\": \"reversed\", \"categoryarray\": [\"4501763335gd23010000Ud\", \"17023636gd280043C0iX\", \"17023287gd55102400iX\", \"17023287gd29904300iX\", \"17023335gd28018100iX\", \"17023636gd28001701iX\", \"17023287gd29907800iX\", \"17023440gd23010000gR\", \"17023439gd28311300iX\", \"17023637gd28002400iX\", \"17023572gd43208500iX\", \"4501763335gC25020000UC\", \"4501763335gd251100C0Ud\", \"17023637gd28001701iX\", \"17023335gd30212200iX\", \"17023335gd28001700iX\", \"17023335gd28013000iX\"], \"categoryorder\": \"array\", \"domain\": [0.17166666666666666, 0.31333333333333335], \"matches\": \"y\", \"title\": {\"text\": \"Job\"}}, \"yaxis4\": {\"anchor\": \"x4\", \"autorange\": \"reversed\", \"domain\": [0.17166666666666666, 0.31333333333333335], \"matches\": \"y\", \"showticklabels\": false}, \"yaxis5\": {\"anchor\": \"x5\", \"autorange\": \"reversed\", \"categoryarray\": [\"4501763335gd23010000Ud\", \"17023636gd280043C0iX\", \"17023287gd55102400iX\", \"17023287gd29904300iX\", \"17023335gd28018100iX\", \"17023636gd28001701iX\", \"17023287gd29907800iX\", \"17023440gd23010000gR\", \"17023439gd28311300iX\", \"17023637gd28002400iX\", \"17023572gd43208500iX\", \"4501763335gC25020000UC\", \"4501763335gd251100C0Ud\", \"17023637gd28001701iX\", \"17023335gd30212200iX\", \"17023335gd28001700iX\", \"17023335gd28013000iX\"], \"categoryorder\": \"array\", \"domain\": [0.3433333333333333, 0.485], \"matches\": \"y\", \"title\": {\"text\": \"Job\"}}, \"yaxis6\": {\"anchor\": \"x6\", \"autorange\": \"reversed\", \"domain\": [0.3433333333333333, 0.485], \"matches\": \"y\", \"showticklabels\": false}, \"yaxis7\": {\"anchor\": \"x7\", \"autorange\": \"reversed\", \"categoryarray\": [\"4501763335gd23010000Ud\", \"17023636gd280043C0iX\", \"17023287gd55102400iX\", \"17023287gd29904300iX\", \"17023335gd28018100iX\", \"17023636gd28001701iX\", \"17023287gd29907800iX\", \"17023440gd23010000gR\", \"17023439gd28311300iX\", \"17023637gd28002400iX\", \"17023572gd43208500iX\", \"4501763335gC25020000UC\", \"4501763335gd251100C0Ud\", \"17023637gd28001701iX\", \"17023335gd30212200iX\", \"17023335gd28001700iX\", \"17023335gd28013000iX\"], \"categoryorder\": \"array\", \"domain\": [0.515, 0.6566666666666667], \"matches\": \"y\", \"title\": {\"text\": \"Job\"}}, \"yaxis8\": {\"anchor\": \"x8\", \"autorange\": \"reversed\", \"domain\": [0.515, 0.6566666666666667], \"matches\": \"y\", \"showticklabels\": false}, \"yaxis9\": {\"anchor\": \"x9\", \"autorange\": \"reversed\", \"categoryarray\": [\"4501763335gd23010000Ud\", \"17023636gd280043C0iX\", \"17023287gd55102400iX\", \"17023287gd29904300iX\", \"17023335gd28018100iX\", \"17023636gd28001701iX\", \"17023287gd29907800iX\", \"17023440gd23010000gR\", \"17023439gd28311300iX\", \"17023637gd28002400iX\", \"17023572gd43208500iX\", \"4501763335gC25020000UC\", \"4501763335gd251100C0Ud\", \"17023637gd28001701iX\", \"17023335gd30212200iX\", \"17023335gd28001700iX\", \"17023335gd28013000iX\"], \"categoryorder\": \"array\", \"domain\": [0.6866666666666666, 0.8283333333333334], \"matches\": \"y\", \"title\": {\"text\": \"Job\"}}},                        {\"responsive\": true}                    ).then(function(){\n",
              "                            \n",
              "var gd = document.getElementById('ec27434a-9772-4e27-bd43-45af75d4ba43');\n",
              "var x = new MutationObserver(function (mutations, observer) {{\n",
              "        var display = window.getComputedStyle(gd).display;\n",
              "        if (!display || display === 'none') {{\n",
              "            console.log([gd, 'removed!']);\n",
              "            Plotly.purge(gd);\n",
              "            observer.disconnect();\n",
              "        }}\n",
              "}});\n",
              "\n",
              "// Listen for the removal of the full notebook cells\n",
              "var notebookContainer = gd.closest('#notebook-container');\n",
              "if (notebookContainer) {{\n",
              "    x.observe(notebookContainer, {childList: true});\n",
              "}}\n",
              "\n",
              "// Listen for the clearing of the current output cell\n",
              "var outputEl = gd.closest('.output');\n",
              "if (outputEl) {{\n",
              "    x.observe(outputEl, {childList: true});\n",
              "}}\n",
              "\n",
              "                        })                };                            </script>        </div>\n",
              "</body>\n",
              "</html>"
            ]
          },
          "metadata": {
            "tags": []
          }
        }
      ]
    },
    {
      "cell_type": "code",
      "metadata": {
        "id": "iTrYTZe2u6FW"
      },
      "source": [
        "#Exploring Result (click on last link to view result)\n",
        "#!pip install dtale\n",
        "from dtale import show\n",
        "import dtale.app as dtale_app\n",
        "dtale_app.USE_COLAB = True\n",
        "#show(dur,ignore_duplicate=True)"
      ],
      "execution_count": null,
      "outputs": []
    },
    {
      "cell_type": "code",
      "metadata": {
        "id": "mOCR23A5N-l1",
        "outputId": "5adf6f06-0d03-4731-85ec-8169230026d4",
        "colab": {
          "base_uri": "https://localhost:8080/",
          "height": 34
        }
      },
      "source": [
        "show(df,ignore_duplicate=True)"
      ],
      "execution_count": null,
      "outputs": [
        {
          "output_type": "execute_result",
          "data": {
            "text/plain": [
              "https://toi3k07s9do-496ff2e9c6d22116-40000-colab.googleusercontent.com/dtale/main/2"
            ]
          },
          "metadata": {
            "tags": []
          },
          "execution_count": 9
        }
      ]
    },
    {
      "cell_type": "code",
      "metadata": {
        "id": "D2dwvTF7GebQ",
        "outputId": "7d1bfcaf-de05-4de6-dc98-31ae3c306e7b",
        "colab": {
          "base_uri": "https://localhost:8080/",
          "height": 881
        }
      },
      "source": [
        "print(model.ModelStats())"
      ],
      "execution_count": null,
      "outputs": [
        {
          "output_type": "stream",
          "text": [
            "Optimization model '':\n",
            "#Variables: 2040 (17 in objective)\n",
            " - 1734 in [0,1]\n",
            " - 5 in [0,15]\n",
            " - 5 in [0,36]\n",
            " - 1 in [0,66]\n",
            " - 5 in [0,75]\n",
            " - 5 in [0,93]\n",
            " - 5 in [0,108]\n",
            " - 5 in [0,133]\n",
            " - 1 in [0,162]\n",
            " - 2 in [0,168]\n",
            " - 3 in [0,189]\n",
            " - 1 in [0,213]\n",
            " - 2 in [0,216]\n",
            " - 5 in [0,233]\n",
            " - 3 in [0,243]\n",
            " - 1 in [0,300]\n",
            " - 2 in [0,320]\n",
            " - 2 in [0,400]\n",
            " - 8 in [0,450]\n",
            " - 3 in [0,451]\n",
            " - 1 in [0,462]\n",
            " - 1 in [0,497]\n",
            " - 2 in [0,693]\n",
            " - 2 in [0,746]\n",
            " - 1 in [0,940]\n",
            " - 3 in [0,978]\n",
            " - 1 in [0,995]\n",
            " - 3 in [0,1054]\n",
            " - 6 in [0,1066]\n",
            " - 2 in [0,1493]\n",
            " - 5 in [0,2000]\n",
            " - 3 in [0,2108]\n",
            " - 1 in [0,2160]\n",
            " - 1 in [0,4500]\n",
            " - 1 in [0,5600]\n",
            " - 1 in [0,8000]\n",
            " - 1 in [0,8640]\n",
            " - 1 in [0,14000]\n",
            " - 1 in [0,15120]\n",
            " - 1 in [0,36000]\n",
            " - 204 in [0,1442570]\n",
            "#kInterval: 102\n",
            "#kLinear1: 204 (#enforced: 204)\n",
            "#kLinear2: 4896 (#enforced: 4896)\n",
            "#kLinearN: 17\n",
            "#kNoOverlap: 6\n"
          ],
          "name": "stdout"
        }
      ]
    }
  ]
}
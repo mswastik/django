{
  "nbformat": 4,
  "nbformat_minor": 0,
  "metadata": {
    "kernelspec": {
      "display_name": "Python 3",
      "language": "python",
      "name": "python3"
    },
    "language_info": {
      "codemirror_mode": {
        "name": "ipython",
        "version": 3
      },
      "file_extension": ".py",
      "mimetype": "text/x-python",
      "name": "python",
      "nbconvert_exporter": "python",
      "pygments_lexer": "ipython3",
      "version": "3.8.2"
    },
    "colab": {
      "name": "CP.ipynb",
      "provenance": [],
      "include_colab_link": true
    }
  },
  "cells": [
    {
      "cell_type": "markdown",
      "metadata": {
        "id": "view-in-github",
        "colab_type": "text"
      },
      "source": [
        "<a href=\"https://colab.research.google.com/github/mswastik/optimization/blob/master/CP4%20cost.ipynb\" target=\"_parent\"><img src=\"https://colab.research.google.com/assets/colab-badge.svg\" alt=\"Open In Colab\"/></a>"
      ]
    },
    {
      "cell_type": "markdown",
      "metadata": {
        "id": "EcrQOnfJgYxd"
      },
      "source": [
        "**Indices**  \n",
        "j - job  \n",
        "m - machine \n",
        "\n",
        "**Decision Variable**  \n",
        "$s_{j,m}$ - start time of job j at machine m  \n",
        "$e_{j,m}$ - end time of job j at machine m  \n",
        "$d_{j,m}$ - duration of job j at machine m  \n",
        "$b_{j,m}$ - machine m is selected for job j     \n",
        "$a_{j,i,m}$ - job i precedes job j at machine m \n",
        "\n",
        "**Parameters**  \n",
        "H - Horizon  \n",
        "$d_j$ - delivery date of job j  \n",
        "$q_j$ - order qty of job j  \n",
        "$o_{j,m}$ - output per hour of job j at machine m  \n",
        "$set_{i,j}$ - setup time between job i & j   \n",
        "$C_d $ - Order delay cost    \n",
        "$C_i$ - Inventory holding cost    \n",
        "$C_o$ - Changeover cost    \n",
        "\n",
        "\n",
        "\n",
        "**Objective** (Not implemented right now)  \n",
        "$ \\sum_{j} d_j - max(e_{j,m})  \\qquad \\forall m \\in mc$    \n",
        "\n",
        "\n",
        "**Constraints**  \n",
        "$ \\sum_m e_{j,m} < s_{i,m} or s_{j,m} > e_{i,m} \\qquad \\forall j,i \\in jobs$  \n",
        "$ \\sum_j o_{j,m} \\times d_{j,m} >= q_j \\qquad \\forall m \\in ma $    \n",
        "$ \\sum_m s_{i,m} >= e_{j,m} + set_{i,j} \\qquad if \\quad b_{j,m}=1, b_{i,m}=1, a_{j,i,m}=1 $  "
      ]
    },
    {
      "cell_type": "code",
      "metadata": {
        "id": "ZAegf4MTD07x",
        "colab": {
          "base_uri": "https://localhost:8080/",
          "height": 326
        },
        "outputId": "f445cab2-6432-495b-c160-8806ba27c215"
      },
      "source": [
        "!pip install ortools\n",
        "#!pip install dtale\n",
        "#!pip install -U plotly"
      ],
      "execution_count": 2,
      "outputs": [
        {
          "output_type": "stream",
          "text": [
            "Collecting ortools\n",
            "\u001b[?25l  Downloading https://files.pythonhosted.org/packages/be/06/70475cc058328217739dff257a85fe2e90ecdbc1068d8fe52ad6f30fc53b/ortools-8.0.8283-cp36-cp36m-manylinux1_x86_64.whl (13.7MB)\n",
            "\u001b[K     |████████████████████████████████| 13.7MB 314kB/s \n",
            "\u001b[?25hCollecting protobuf>=3.13.0\n",
            "\u001b[?25l  Downloading https://files.pythonhosted.org/packages/fe/fd/247ef25f5ec5f9acecfbc98ca3c6aaf66716cf52509aca9a93583d410493/protobuf-3.14.0-cp36-cp36m-manylinux1_x86_64.whl (1.0MB)\n",
            "\u001b[K     |████████████████████████████████| 1.0MB 49.1MB/s \n",
            "\u001b[?25hRequirement already satisfied: six>=1.10 in /usr/local/lib/python3.6/dist-packages (from ortools) (1.15.0)\n",
            "Installing collected packages: protobuf, ortools\n",
            "  Found existing installation: protobuf 3.12.4\n",
            "    Uninstalling protobuf-3.12.4:\n",
            "      Successfully uninstalled protobuf-3.12.4\n",
            "Successfully installed ortools-8.0.8283 protobuf-3.14.0\n"
          ],
          "name": "stdout"
        },
        {
          "output_type": "display_data",
          "data": {
            "application/vnd.colab-display-data+json": {
              "pip_warning": {
                "packages": [
                  "google"
                ]
              }
            }
          },
          "metadata": {
            "tags": []
          }
        }
      ]
    },
    {
      "cell_type": "code",
      "metadata": {
        "id": "sG_LW15bCHKH",
        "colab": {
          "base_uri": "https://localhost:8080/"
        },
        "outputId": "db3ab5ac-0598-4732-df9d-eceefa7810bf"
      },
      "source": [
        "import pandas as pd\n",
        "import numpy as np\n",
        "import collections\n",
        "from ortools.sat.python import cp_model\n",
        "# Clone the entire repo.\n",
        "!git clone -l -s https://github.com/mswastik/optimization.git cloned-repo\n",
        "%cd cloned-repo"
      ],
      "execution_count": 3,
      "outputs": [
        {
          "output_type": "stream",
          "text": [
            "Cloning into 'cloned-repo'...\n",
            "warning: --local is ignored\n",
            "remote: Enumerating objects: 179, done.\u001b[K\n",
            "remote: Counting objects: 100% (179/179), done.\u001b[K\n",
            "remote: Compressing objects: 100% (179/179), done.\u001b[K\n",
            "remote: Total 364 (delta 116), reused 0 (delta 0), pack-reused 185\u001b[K\n",
            "Receiving objects: 100% (364/364), 2.83 MiB | 10.31 MiB/s, done.\n",
            "Resolving deltas: 100% (198/198), done.\n",
            "/content/cloned-repo\n"
          ],
          "name": "stdout"
        }
      ]
    },
    {
      "cell_type": "code",
      "metadata": {
        "id": "nUhA6-OCCHKV"
      },
      "source": [
        "#Importing Data\n",
        "df=pd.read_excel('orders1.xlsx')\n",
        "ma=pd.read_excel('item master.xlsx')\n",
        "bu=pd.read_excel('item master.xlsx',sheet_name='Sheet2')\n",
        "pa=pd.read_excel('item master.xlsx',sheet_name='packing')\n",
        " \n",
        "# Formating Data\n",
        "df = df[df['Line']=='Tmmthpkhti Limi']\n",
        "df = df[df['Plant']==1024]\n",
        "del df['Line']\n",
        "df['due'] = df['Dispatch Date'] - df['SO Date'].min()\n",
        "df['due'] = df['due'].dt.days\n",
        "df['sodate'] = df['SO Date'] - df['SO Date'].min()\n",
        "df['sodate'] = df['sodate'].dt.days\n",
        "df.reset_index(inplace=True,drop=True)\n",
        "df['Key']=df['SO'].astype('str')+df['FG Code']\n",
        "df.drop(['Dispatch Date','SO Date','Description','Customer'],axis=1,inplace=True)\n",
        "df['Order Qty'] = df[df['Order Qty']!=0]['Order Qty']\n",
        "df['Order Qty'] = df['Order Qty']*1000\n",
        "df=df[df['Key']!='17023287gd39000800iX']\n",
        " \n",
        " \n",
        "# Creating Parameter Data\n",
        "jobs =df['Key'].copy()\n",
        "op =[1,2]  # Ignore as of now\n",
        "mc = [1,2,3,4,5,6]\n",
        "#due = df.set_index('Key')\n",
        "df1=df.copy()\n",
        "#df1 = df1.set_index('Key')\n",
        "#dur=df[['Key','FG Code','Order Qty']]\n",
        "df1=df1.merge(pa[[\"FG Code\",\"Line\",\"Output\"]], on=\"FG Code\")\n",
        "df1['Output']=df1['Output']*100\n",
        "df1['duration']=df1['Order Qty']/df1['Output']\n",
        "df1['duration'] = df1['duration'].astype('float64').round(decimals = 2)\n",
        "df1['operation'] = 2\n",
        "budf=df.merge(ma[[\"FG Code\",\"Bulk Code\",\"Case Size\",\"Pack Wt(g)\"]],on='FG Code',how='left')\n",
        "budf['Qty']=budf['Order Qty']*budf['Case Size']*budf['Pack Wt(g)']/1000\n",
        "\n",
        "pasp= pa.groupby('FG Code').mean()\n",
        "budf=budf.merge(pasp,on='FG Code')\n",
        "budf['cons'] = budf['Speed']*budf['Pack Wt(g)']*60/1000\n",
        "budf.drop(['Speed','Line'],axis=1,inplace=True)\n",
        "budf=budf.merge(bu[[\"Bulk Code\", \"Line\",\"Output\"]],on=\"Bulk Code\",how=\"left\")\n",
        "\n",
        "budf['Output'] = budf['Output']*100\n",
        "\n",
        "budf['Output'] = budf['Output'].replace(0,1)\n",
        "budf['duration'] = budf['Qty']/budf['Output']\n",
        "budf['duration'] = budf['duration'].fillna(0).astype('int')\n",
        "budf['operation'] = 1\n",
        "budf['Order Qty'] = budf['Qty']\n",
        "#budf.drop(['Plant','due','sodate','Case Size','Pack Wt(g)','SO','Qty','Bulk Code'],axis=1,inplace=True)\n",
        "budf.drop('Qty',axis=1,inplace=True)\n",
        "\n",
        "df1=df1.append(budf)\n",
        "df1.set_index(['Key','Line','operation'],inplace=True)\n",
        "#del df1['FG Code']\n",
        "df1['Output'].replace(0,1,inplace=True)\n",
        "df1['Order Qty']=df1['Order Qty'].fillna(0).astype('int')\n",
        "df1['duration']=df1['duration'].fillna(0).astype('int')\n",
        "df1['Output']=df1['Output'].fillna(0).astype('int')\n",
        "horizon = sum(df1['duration'])\n",
        " \n",
        "#Setup\n",
        "setup = pd.DataFrame(columns=('Key1','Key2','setup'))\n",
        "for i in df['Key']:\n",
        "  for k in df['Key']:\n",
        "    if df[df['Key']==i][\"FG Code\"].values[0]==df[df['Key']==k][\"FG Code\"].values[0]:\n",
        "      f = {'Key1':[i],\"Key2\":[k],\"setup\":[0]}\n",
        "    else:\n",
        "      f = {'Key1':[i],\"Key2\":[k],\"setup\":[40]}\n",
        "    f = pd.DataFrame(data=f)\n",
        "    setup = pd.concat([setup,f])\n",
        "setup.set_index(['Key1','Key2'],inplace=True)\n",
        "\n",
        "Cd = 125\n",
        "Ci = 110\n",
        "Cc = 12000\n"
      ],
      "execution_count": 4,
      "outputs": []
    },
    {
      "cell_type": "code",
      "metadata": {
        "id": "2kluFz3V77yw",
        "colab": {
          "base_uri": "https://localhost:8080/"
        },
        "outputId": "a486581b-4386-4337-f37a-2b0ceb459a2f"
      },
      "source": [
        "# Initialise model\n",
        "model = cp_model.CpModel()\n",
        "\n",
        "# Creating variables to store data\n",
        "task_type = collections.namedtuple('task_type', 'start end dur run1')\n",
        "mtj = collections.defaultdict(list)\n",
        "all_tasks = {}\n",
        " \n",
        "for j in jobs:\n",
        "  for o in op:\n",
        "    for m in mc:\n",
        "      suffix = '_%s_%i_%i' % (j,m,o)\n",
        "      start = model.NewIntVar(0, horizon, \"start\"+suffix)\n",
        "      end = model.NewIntVar(0, horizon, \"end\"+suffix)\n",
        "      run1 = model.NewIntVar(0, df1['duration'].loc[(j,m,o)].item(), \"run\"+suffix)\n",
        "      duration = model.NewIntervalVar(start, run1, end, \"duration\"+suffix)\n",
        "      all_tasks[j, m,o] = task_type(start=start, end=end, dur= duration, run1=run1)\n",
        "      mtj[o,m].append(duration)\n",
        "\n",
        "# Selection variable to store whether machine is selected to process job\n",
        "b={}\n",
        "for o in op:\n",
        "  for j in jobs:\n",
        "    for m in mc:\n",
        "      b[j,m,o] = model.NewBoolVar('selection')\n",
        "      model.Add(all_tasks[j, m,o].run1>0).OnlyEnforceIf(b[j,m,o])\n",
        "      model.Add(all_tasks[j, m,o].run1==0).OnlyEnforceIf(b[j,m,o].Not())\n",
        "\n",
        "# Variable to store sequence of jobs\n",
        "a={}\n",
        "for o in op:\n",
        "  for j in jobs:\n",
        "    for m in mc:\n",
        "      for i in jobs:\n",
        "        a[j,i,m,o] = model.NewBoolVar('sequence')\n",
        "        if j==i:\n",
        "          model.Add(all_tasks[i, m,o].start==all_tasks[j, m,o].start)\n",
        "        if j != i and b[j,m,o] and b[i,m,o]:\n",
        "          model.Add(all_tasks[i, m,o].start>all_tasks[j, m,o].start).OnlyEnforceIf(a[j,i,m,o])\n",
        "          model.Add(all_tasks[i, m,o].start<all_tasks[j, m,o].start).OnlyEnforceIf(a[j,i,m,o].Not())\n",
        "\n",
        "# Constraint: A machine can process only 1 job at a time \n",
        "for o in op:\n",
        "  for m in mc:\n",
        "    model.AddNoOverlap(mtj[o,m])\n",
        "\n",
        "# Constraint: Complete production of full order quantity\n",
        "com = {}\n",
        "for o in op:\n",
        "  for j in jobs:\n",
        "    tt= 0\n",
        "    for m in mc:\n",
        "      comp = all_tasks[j,m,o].run1*df1[\"Output\"].loc[(j,m,o)]\n",
        "      tt = tt + comp\n",
        "    com[j] = tt\n",
        "    model.Add(com[j]*10 >= df1.loc[(j,slice(None),o)]['Order Qty'].values[0])\n",
        "  \n",
        "# Constraint of Setup Time\n",
        "for o in op:     \n",
        "  for j in jobs:\n",
        "    for m in mc:\n",
        "      for i in jobs:\n",
        "        model.Add(all_tasks[i, m,o].start >= all_tasks[j, m,o].end + setup.loc[(j,i)].values[0]).OnlyEnforceIf(a[j,i,m,o]).OnlyEnforceIf(b[j,m,o]).OnlyEnforceIf(b[i,m,o])\n",
        "        \n",
        "# Delay between jobs due to storage tank full\n",
        "for j in jobs:\n",
        "  for m in mc:\n",
        "    for i in jobs:\n",
        "      if df1.loc[(j,m,1)]['Order Qty']>=3000:\n",
        "        model.Add(all_tasks[i, m,1].start >= all_tasks[j, m,1].end+int((df1.loc[(j,m,1)]['Order Qty']-3000)/df1.loc[(j,m,1)]['cons'])).OnlyEnforceIf(a[j,i,m,o])\n",
        "        #model.AddReservoirConstraint()\n",
        "\n",
        "for j in jobs:\n",
        "  for m in mc:\n",
        "    minst=model.NewIntVar(0, horizon, \"minst\"+j)\n",
        "    model.AddMinEquality(minst,[all_tasks[j,k,1].start for k in mc])\n",
        "    model.Add(all_tasks[j, m,2].start >= minst+4).OnlyEnforceIf(b[j,m,2])\n",
        "\n",
        "\n",
        "d={}\n",
        "for o in op:\n",
        "  for j in jobs:\n",
        "    for m in mc:\n",
        "      d[j,m,o] = model.NewBoolVar('delay')\n",
        "      model.Add(all_tasks[j,m,o].end <= df1['due'].loc[j].values[0]).OnlyEnforceIf(d[j,m,o])\n",
        "      model.Add(all_tasks[j,m,o].end > df1['due'].loc[j].values[0]).OnlyEnforceIf(d[j,m,o].Not())\n",
        "\n",
        "tc=0\n",
        "setcost = 0\n",
        "delcost = 0\n",
        "earcost = 0\n",
        "tt1={}\n",
        "for i in jobs:\n",
        "  for m in mc:\n",
        "    for j in jobs:\n",
        "      setcost += a[j,i,m,o]\n",
        "    if setcost==1:\n",
        "      setcost = Cc\n",
        "    if all_tasks[i,m,2].end > df1['due'].loc[i].values[0]+48:\n",
        "      delcost = Cd\n",
        "    if all_tasks[i,m,2].end < df1['due'].loc[i].values[0]-48:\n",
        "      earcost = Ci\n",
        "    tt1[i,m] = setcost+delcost+earcost\n",
        "\n",
        "tc = sum(tt1.values())\n",
        "\n",
        "model.Minimize(tc)\n",
        "solver = cp_model.CpSolver()\n",
        "solver.parameters.num_search_workers = 16\n",
        "solver.Solve(model)\n",
        "print(solver.StatusName(),solver.ObjectiveValue())"
      ],
      "execution_count": 9,
      "outputs": [
        {
          "output_type": "stream",
          "text": [
            "OPTIMAL 1247970.0\n"
          ],
          "name": "stdout"
        }
      ]
    },
    {
      "cell_type": "code",
      "metadata": {
        "id": "moZgDcX1apWh"
      },
      "source": [
        "!pip install dtale\n",
        "from dtale import show\n",
        "show(df1,ignore_duplicate=True)"
      ],
      "execution_count": null,
      "outputs": []
    },
    {
      "cell_type": "code",
      "metadata": {
        "id": "niO4NG7l8_7d",
        "colab": {
          "base_uri": "https://localhost:8080/",
          "height": 282
        },
        "outputId": "d4c0acb5-5654-4506-f758-b6d11a9ff29f"
      },
      "source": [
        "ff=pd.DataFrame()\n",
        "for o in op:\n",
        "  for m in mc:\n",
        "    for j in jobs:\n",
        "      if solver.Value(all_tasks[j,m,o].run1)>0:\n",
        "        kk={'Job':j,'line':m,'operation':o,'start':solver.Value(all_tasks[j,m,o].start),\n",
        "            'run':solver.Value(all_tasks[j,m,o].run1),'end':solver.Value(all_tasks[j,m,o].end),'due':df1['due'].loc[j].values[0],'cost':tt1[j,m]}\n",
        "        ff=ff.append(kk,ignore_index=True)\n",
        "\n",
        "!pip install -U plotly\n",
        "import plotly.express as px\n",
        "import datetime\n",
        "fig=px.timeline(data_frame=ff, x_start=ff['start'].astype('datetime64[h]'),x_end=ff['end'].astype('datetime64[h]'),\n",
        "                facet_row='line',facet_col='operation',y='Job',height=1200,width=1500,color='Job')\n",
        "fig.update_xaxes(dtick=14400000,tickformat=\"%d-%H\")\n",
        "fig.update_yaxes(autorange=\"reversed\")\n"
      ],
      "execution_count": 20,
      "outputs": [
        {
          "output_type": "stream",
          "text": [
            "Requirement already up-to-date: plotly in /usr/local/lib/python3.6/dist-packages (4.13.0)\n",
            "Requirement already satisfied, skipping upgrade: six in /usr/local/lib/python3.6/dist-packages (from plotly) (1.15.0)\n",
            "Requirement already satisfied, skipping upgrade: retrying>=1.3.3 in /usr/local/lib/python3.6/dist-packages (from plotly) (1.3.3)\n"
          ],
          "name": "stdout"
        },
        {
          "output_type": "error",
          "ename": "AttributeError",
          "evalue": "ignored",
          "traceback": [
            "\u001b[0;31m---------------------------------------------------------------------------\u001b[0m",
            "\u001b[0;31mAttributeError\u001b[0m                            Traceback (most recent call last)",
            "\u001b[0;32m<ipython-input-20-72bf4af39c46>\u001b[0m in \u001b[0;36m<module>\u001b[0;34m()\u001b[0m\n\u001b[1;32m     11\u001b[0m \u001b[0;32mimport\u001b[0m \u001b[0mplotly\u001b[0m\u001b[0;34m.\u001b[0m\u001b[0mexpress\u001b[0m \u001b[0;32mas\u001b[0m \u001b[0mpx\u001b[0m\u001b[0;34m\u001b[0m\u001b[0;34m\u001b[0m\u001b[0m\n\u001b[1;32m     12\u001b[0m \u001b[0;32mimport\u001b[0m \u001b[0mdatetime\u001b[0m\u001b[0;34m\u001b[0m\u001b[0;34m\u001b[0m\u001b[0m\n\u001b[0;32m---> 13\u001b[0;31m fig=px.timeline(data_frame=ff, x_start=ff['start'].astype('datetime64[h]'),x_end=ff['end'].astype('datetime64[h]'),\n\u001b[0m\u001b[1;32m     14\u001b[0m                 facet_row='line',facet_col='operation',y='Job',height=1200,width=1500,color='Job')\n\u001b[1;32m     15\u001b[0m \u001b[0mfig\u001b[0m\u001b[0;34m.\u001b[0m\u001b[0mupdate_xaxes\u001b[0m\u001b[0;34m(\u001b[0m\u001b[0mdtick\u001b[0m\u001b[0;34m=\u001b[0m\u001b[0;36m14400000\u001b[0m\u001b[0;34m,\u001b[0m\u001b[0mtickformat\u001b[0m\u001b[0;34m=\u001b[0m\u001b[0;34m\"%d-%H\"\u001b[0m\u001b[0;34m)\u001b[0m\u001b[0;34m\u001b[0m\u001b[0;34m\u001b[0m\u001b[0m\n",
            "\u001b[0;31mAttributeError\u001b[0m: module 'plotly.express' has no attribute 'timeline'"
          ]
        }
      ]
    },
    {
      "cell_type": "code",
      "metadata": {
        "id": "iTrYTZe2u6FW"
      },
      "source": [
        "#Exploring Result (click on last link to view result)\n",
        "#!pip install dtale\n",
        "from dtale import show\n",
        "import dtale.app as dtale_app\n",
        "dtale_app.USE_COLAB = True\n",
        "#show(dur,ignore_duplicate=True)"
      ],
      "execution_count": null,
      "outputs": []
    },
    {
      "cell_type": "code",
      "metadata": {
        "id": "mOCR23A5N-l1",
        "colab": {
          "base_uri": "https://localhost:8080/",
          "height": 34
        },
        "outputId": "5adf6f06-0d03-4731-85ec-8169230026d4"
      },
      "source": [
        "show(df,ignore_duplicate=True)"
      ],
      "execution_count": null,
      "outputs": [
        {
          "output_type": "execute_result",
          "data": {
            "text/plain": [
              "https://toi3k07s9do-496ff2e9c6d22116-40000-colab.googleusercontent.com/dtale/main/2"
            ]
          },
          "metadata": {
            "tags": []
          },
          "execution_count": 9
        }
      ]
    },
    {
      "cell_type": "code",
      "metadata": {
        "id": "D2dwvTF7GebQ",
        "colab": {
          "base_uri": "https://localhost:8080/",
          "height": 881
        },
        "outputId": "7d1bfcaf-de05-4de6-dc98-31ae3c306e7b"
      },
      "source": [
        "print(model.ModelStats())"
      ],
      "execution_count": null,
      "outputs": [
        {
          "output_type": "stream",
          "text": [
            "Optimization model '':\n",
            "#Variables: 2040 (17 in objective)\n",
            " - 1734 in [0,1]\n",
            " - 5 in [0,15]\n",
            " - 5 in [0,36]\n",
            " - 1 in [0,66]\n",
            " - 5 in [0,75]\n",
            " - 5 in [0,93]\n",
            " - 5 in [0,108]\n",
            " - 5 in [0,133]\n",
            " - 1 in [0,162]\n",
            " - 2 in [0,168]\n",
            " - 3 in [0,189]\n",
            " - 1 in [0,213]\n",
            " - 2 in [0,216]\n",
            " - 5 in [0,233]\n",
            " - 3 in [0,243]\n",
            " - 1 in [0,300]\n",
            " - 2 in [0,320]\n",
            " - 2 in [0,400]\n",
            " - 8 in [0,450]\n",
            " - 3 in [0,451]\n",
            " - 1 in [0,462]\n",
            " - 1 in [0,497]\n",
            " - 2 in [0,693]\n",
            " - 2 in [0,746]\n",
            " - 1 in [0,940]\n",
            " - 3 in [0,978]\n",
            " - 1 in [0,995]\n",
            " - 3 in [0,1054]\n",
            " - 6 in [0,1066]\n",
            " - 2 in [0,1493]\n",
            " - 5 in [0,2000]\n",
            " - 3 in [0,2108]\n",
            " - 1 in [0,2160]\n",
            " - 1 in [0,4500]\n",
            " - 1 in [0,5600]\n",
            " - 1 in [0,8000]\n",
            " - 1 in [0,8640]\n",
            " - 1 in [0,14000]\n",
            " - 1 in [0,15120]\n",
            " - 1 in [0,36000]\n",
            " - 204 in [0,1442570]\n",
            "#kInterval: 102\n",
            "#kLinear1: 204 (#enforced: 204)\n",
            "#kLinear2: 4896 (#enforced: 4896)\n",
            "#kLinearN: 17\n",
            "#kNoOverlap: 6\n"
          ],
          "name": "stdout"
        }
      ]
    }
  ]
}